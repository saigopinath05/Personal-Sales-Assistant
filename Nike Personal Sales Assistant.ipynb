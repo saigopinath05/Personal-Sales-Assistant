{
 "cells": [
  {
   "cell_type": "markdown",
   "id": "510fb221",
   "metadata": {},
   "source": [
    "# Nike Personal Sales Assistant\n",
    "Many websites are now incorporating chatbots to answer user questions about their page and company. However, many ecommerce websites have yet to use chatbots to fulfill a sales representative role. This type of chatbot would be valuable to the company itself, as it would increase sales by persuading the customer to purchase items relevant to their query. Additionally, the chatbot would be useful to customers, who can directly get summarized information about extended product descriptions and reviews without having to individually click through several product pages to find the product(s) they are looking for.\n",
    "\n",
    "To implement this project, we first have to scrape Nike's website to get data about at least a few hundred products. \n",
    "After we get the full contents of the product pages, including long product descriptions and some reviews, we need to embed the contents as vectors and upload them along with some metadata (product title, image, url, etc) to pinecone. Then, once we have a customer query, we can use similarity search to get the product that best matches. \n",
    "\n",
    "Finally, after getting the matching product information and context (description and reviews), we pass this into an LLM to format the result and try to sell the product to the customer in the way a human sales representative might."
   ]
  },
  {
   "cell_type": "markdown",
   "id": "ef6a17e1",
   "metadata": {},
   "source": [
    "## Scraping\n",
    "The first step of implementing the chatbot is to get access to product data. Ideally, this type of chatbot would have direct access to the database in which product information would be stored. However, since I do not have access to the database of any ecommerce website, I implement this project by utilizing the scraping tool undetected-chromedriver. I specifically chose undetected-chromedriver over requests or the default Selenium chromedriver as there is potential with the other methods of being denied or banned from the website due to bot detection."
   ]
  },
  {
   "cell_type": "code",
   "execution_count": null,
   "id": "b7f4e952",
   "metadata": {},
   "outputs": [],
   "source": [
    "%pip install selenium\n",
    "%pip install undetected-chromedriver"
   ]
  },
  {
   "cell_type": "code",
   "execution_count": 4,
   "id": "5b4e4bf1",
   "metadata": {},
   "outputs": [],
   "source": [
    "import os\n",
    "import time\n",
    "from urllib.parse import urlparse\n",
    "from selenium import webdriver\n",
    "from selenium.webdriver.support.ui import WebDriverWait\n",
    "import undetected_chromedriver as uc\n",
    "from selenium.webdriver.remote.webdriver import By\n",
    "from website_vectordb_query.constants import *\n",
    "from selenium.webdriver.support import expected_conditions as EC\n",
    "import pandas as pd"
   ]
  },
  {
   "cell_type": "markdown",
   "id": "b750b634",
   "metadata": {},
   "source": [
    "### Getting all product links\n",
    "The first step in scraping product pages is being able to get the urls from the main page where all the shoes are listed. Below are some helper functions for this task. The driver parameter refers to the undetected chromedriver instance we will define later."
   ]
  },
  {
   "cell_type": "code",
   "execution_count": 13,
   "id": "7cf186db",
   "metadata": {},
   "outputs": [],
   "source": [
    "# Fetch the potential hyperlinks for get_hyperlinks\n",
    "def elements_fetcher(driver, tag_name='a'):\n",
    "    elems = driver.find_elements(By.TAG_NAME, tag_name)\n",
    "    if elems:\n",
    "        return elems\n",
    "    else:\n",
    "        return False\n",
    "\n",
    "# Function to get the hyperlinks from a URL\n",
    "def get_hyperlinks(url, driver):\n",
    "    hyperlinks = []\n",
    "    driver.get(url)\n",
    "    if \"pdf\" in url:\n",
    "        return []\n",
    "    # The url I am using is an infinite scroll page\n",
    "    # - Keep scrolling for a while. Need to wait in between for the page to load. \n",
    "    for i in range(70):\n",
    "        driver.execute_script(\"window.scrollTo(0, document.body.scrollHeight);\")\n",
    "        time.sleep(2)\n",
    "    try:\n",
    "        # Need to have a conditional wait here until the elements are found\n",
    "        elems = WebDriverWait(driver, 60).until(elements_fetcher)\n",
    "    \n",
    "    except:\n",
    "        print(\"timeout exception on url \" + url)\n",
    "        return []\n",
    "\n",
    "    for elem in elems:\n",
    "        try:\n",
    "            href = elem.get_attribute('href')\n",
    "            if href is not None:\n",
    "                # print(href)\n",
    "                hyperlinks.append(href)\n",
    "        except:\n",
    "            continue\n",
    "    return hyperlinks\n",
    "\n",
    "\n",
    "# Parse hyperlinks from get_hyperlinks to get only the links that are for shoe products\n",
    "def get_relevant_hyperlinks(url, driver):\n",
    "    local_domain = urlparse(url).netloc\n",
    "    clean_links = []\n",
    "    for link in set(get_hyperlinks(url, driver)):\n",
    "        clean_link = None\n",
    "\n",
    "        company_name = local_domain[4:-4]\n",
    "        if company_name in url:\n",
    "            clean_link = link\n",
    "            \n",
    "        # If the link is not a URL, check if it is a relative link\n",
    "        else:\n",
    "            if link.startswith(\"/\"):\n",
    "                link = link[1:]\n",
    "            elif link.startswith(\"#\") or link.startswith(\"mailto:\"):\n",
    "                continue\n",
    "            clean_link = \"https://\" + local_domain + \"/\" + link\n",
    "\n",
    "        if clean_link is not None:\n",
    "            if clean_link.endswith(\"/\"):\n",
    "                clean_link = clean_link[:-1]\n",
    "            \n",
    "            #Only append the link if it looks like a shoe product page\n",
    "            if \"nike.com/t/\" not in clean_link or \"shoes\" not in clean_link:\n",
    "                continue\n",
    "            clean_links.append(clean_link)\n",
    "\n",
    "    # Return the list of relevant hyperlinks\n",
    "    return list(set(clean_links))"
   ]
  },
  {
   "cell_type": "markdown",
   "id": "72b92e0e",
   "metadata": {},
   "source": [
    "We have a url that should link to all available shoes that Nike offers. Let's pass this into get_relevant_hyperlinks and see if we were able to get all of the products available (1761). "
   ]
  },
  {
   "cell_type": "code",
   "execution_count": 14,
   "id": "f37d526c",
   "metadata": {},
   "outputs": [
    {
     "name": "stdout",
     "output_type": "stream",
     "text": [
      "1280\n"
     ]
    }
   ],
   "source": [
    "url = \"https://www.nike.com/w/shoes-y7ok\"\n",
    "\n",
    "#Define the driver instance with options\n",
    "options = webdriver.ChromeOptions()\n",
    "options.add_argument(\"start-maximized\")\n",
    "# Add headless argument so we don't see the window actually popping up on our screen\n",
    "options.add_argument('headless')\n",
    "driver = uc.Chrome(options=options)\n",
    "\n",
    "links = get_relevant_hyperlinks(url, driver)\n",
    "print(len(links))"
   ]
  },
  {
   "cell_type": "markdown",
   "id": "1edcae14",
   "metadata": {},
   "source": [
    "Even after increasing the number of scrolls, I was only able to get 1280 product pages, probably because some of the links didn't match the requirements. "
   ]
  },
  {
   "cell_type": "markdown",
   "id": "29c5069d",
   "metadata": {},
   "source": [
    "### Getting the contents\n",
    "Now that we have all our product links, we need to open each one, extend the product description and reviews, and read the full contents of the web pages. Then we write them to local text files for reading and embedding later, as well as a dataframe to keep track of metadata. "
   ]
  },
  {
   "cell_type": "markdown",
   "id": "3dc6a2a0",
   "metadata": {},
   "source": [
    "Below I have defined some helper functions for this task. Some of them click buttons to extend the page to acquire more information, and some just parse the html for metadata we need."
   ]
  },
  {
   "cell_type": "code",
   "execution_count": 16,
   "id": "8fe94463",
   "metadata": {},
   "outputs": [],
   "source": [
    "# Click the \"View Product Details\" to get the extended product description\n",
    "def open_product_details(driver):\n",
    "    buttons = driver.find_elements(By.TAG_NAME, 'button')\n",
    "\n",
    "    for button in buttons:\n",
    "        if \"View Product Details\" in button.text:\n",
    "            button.click()\n",
    "            break\n",
    "\n",
    "#Click the \"More Reviews\" button to get the reviews\n",
    "def get_reviews(driver):\n",
    "    spans = driver.find_elements(By.TAG_NAME, 'span')\n",
    "    for span in spans:\n",
    "        if \"Reviews\" in span.text:\n",
    "            span.click()\n",
    "            driver.implicitly_wait(180)\n",
    "            buttons = driver.find_elements(By.TAG_NAME, 'button')\n",
    "            for button in buttons:\n",
    "                if \"More Reviews\" in button.text:\n",
    "                    button.click()\n",
    "\n",
    "# Get the title from html\n",
    "def get_title(driver):\n",
    "    try:\n",
    "        # I was able to find that the titles use the css-16cqcdq tag by using browser inspect manually\n",
    "        header = driver.find_element(By.CSS_SELECTOR, '.css-16cqcdq')\n",
    "        return header.get_attribute(\"innerHTML\")\n",
    "    except:\n",
    "        # Sometimes the driver isn't able to find by CSS selector so I implemented this backup method\n",
    "        try:\n",
    "            headers = driver.find_elements(By.TAG_NAME, 'h1')\n",
    "            for h in headers:\n",
    "                if \"css-16cqcdq\" in h.get_attribute(\"class\"):\n",
    "                    return h.get_attribute(\"innerHTML\")\n",
    "        except:\n",
    "            # Just return N/A if we can't find the title and remove N/A rows later \n",
    "            return \"N/A\"\n",
    "\n",
    "# Get the images for the product from html\n",
    "def get_product_images(driver, title):\n",
    "    imgs = driver.find_elements(By.TAG_NAME, 'img')\n",
    "    img_urls = []\n",
    "\n",
    "    for img in imgs:\n",
    "        alt_text = img.get_attribute(\"alt\")\n",
    "        if title in alt_text:\n",
    "            img_urls.append(img.get_attribute(\"src\"))\n",
    "\n",
    "    return img_urls\n",
    "\n",
    "# Get the price from html\n",
    "def get_price(driver):\n",
    "    try:\n",
    "        # I was able to find that the price uses the this css tag by using browser inspect manually\n",
    "        price = driver.find_element(By.CSS_SELECTOR, '.product-price.css-11s12ax.is--current-price.css-tpaepq')\n",
    "        return price.get_attribute(\"innerHTML\")\n",
    "    except:\n",
    "        # Sometimes the driver isn't able to find by CSS selector so I implemented this backup method\n",
    "        divs = driver.find_elements(By.TAG_NAME, 'div')\n",
    "        for d in divs:\n",
    "            if \"is--current-price\" in d.get_attribute(\"class\"):\n",
    "                return d.get_attribute(\"innerHTML\")\n",
    "        # Just return N/A if we can't find the title and remove N/A rows later \n",
    "        return \"N/A\""
   ]
  },
  {
   "cell_type": "markdown",
   "id": "e5f19f41",
   "metadata": {},
   "source": [
    "Now that we have the helper functions we need, we can go through each link to read and store its contents."
   ]
  },
  {
   "cell_type": "code",
   "execution_count": 20,
   "id": "e682b305",
   "metadata": {
    "collapsed": true
   },
   "outputs": [
    {
     "name": "stdout",
     "output_type": "stream",
     "text": [
      "https://www.nike.com/t/air-max-90-toggle-baby-toddler-shoes-LVcWx4/CV0065-124\n",
      "{'url': 'https://www.nike.com/t/air-max-90-toggle-baby-toddler-shoes-LVcWx4/CV0065-124', 'writepath': './text/www.nike.com/www.nike.com_t_air-max-90-toggle-baby-toddler-shoes-LVcWx4_CV0065-124.txt', 'title': 'Nike Air Max 90 Toggle', 'price': '$47.97', 'images': 'https://static.nike.com/a/images/t_default/2dfd5830-a6ce-4d13-945d-46edd0fca7ce/air-max-90-toggle-baby-toddler-shoes-LVcWx4.png'}\n",
      "https://www.nike.com/t/lebron-witness-7-team-basketball-shoes-vHcv2n/DZ3299-500\n"
     ]
    },
    {
     "name": "stderr",
     "output_type": "stream",
     "text": [
      "/var/folders/rb/k9pmvtxs1wv4y7fl9s364ybw0000gn/T/ipykernel_35610/878112586.py:75: FutureWarning: The frame.append method is deprecated and will be removed from pandas in a future version. Use pandas.concat instead.\n",
      "  df = df.append(row, ignore_index=True)\n"
     ]
    },
    {
     "name": "stdout",
     "output_type": "stream",
     "text": [
      "{'url': 'https://www.nike.com/t/lebron-witness-7-team-basketball-shoes-vHcv2n/DZ3299-500', 'writepath': './text/www.nike.com/www.nike.com_t_lebron-witness-7-team-basketball-shoes-vHcv2n_DZ3299-500.txt', 'title': 'LeBron Witness 7 (Team)', 'price': '$105', 'images': 'https://static.nike.com/a/images/t_default/a36c0b7a-1de6-4009-94d3-b128b2678061/lebron-witness-7-team-basketball-shoes-vHcv2n.png'}\n",
      "https://www.nike.com/t/air-jordan-1-mid-se-big-kids-shoes-b55t5r/DR6957-100\n"
     ]
    },
    {
     "name": "stderr",
     "output_type": "stream",
     "text": [
      "/var/folders/rb/k9pmvtxs1wv4y7fl9s364ybw0000gn/T/ipykernel_35610/878112586.py:75: FutureWarning: The frame.append method is deprecated and will be removed from pandas in a future version. Use pandas.concat instead.\n",
      "  df = df.append(row, ignore_index=True)\n"
     ]
    },
    {
     "name": "stdout",
     "output_type": "stream",
     "text": [
      "{'url': 'https://www.nike.com/t/air-jordan-1-mid-se-big-kids-shoes-b55t5r/DR6957-100', 'writepath': './text/www.nike.com/www.nike.com_t_air-jordan-1-mid-se-big-kids-shoes-b55t5r_DR6957-100.txt', 'title': 'Air Jordan 1 Mid SE', 'price': '$78.97', 'images': 'https://static.nike.com/a/images/t_default/05768532-01a0-44df-9e00-ad67092487ff/air-jordan-1-mid-se-big-kids-shoes-b55t5r.png'}\n",
      "https://www.nike.com/t/jordan-delta-3-sp-mens-shoes-khfbPj/DD9361-212\n"
     ]
    },
    {
     "name": "stderr",
     "output_type": "stream",
     "text": [
      "/var/folders/rb/k9pmvtxs1wv4y7fl9s364ybw0000gn/T/ipykernel_35610/878112586.py:75: FutureWarning: The frame.append method is deprecated and will be removed from pandas in a future version. Use pandas.concat instead.\n",
      "  df = df.append(row, ignore_index=True)\n"
     ]
    },
    {
     "name": "stdout",
     "output_type": "stream",
     "text": [
      "{'url': 'https://www.nike.com/t/jordan-delta-3-sp-mens-shoes-khfbPj/DD9361-212', 'writepath': './text/www.nike.com/www.nike.com_t_jordan-delta-3-sp-mens-shoes-khfbPj_DD9361-212.txt', 'title': 'Jordan Delta 3 SP', 'price': '$89.97', 'images': 'https://static.nike.com/a/images/t_default/62f6ddfb-db02-47b7-826f-c525c25240d4/jordan-delta-3-sp-mens-shoes-khfbPj.png'}\n",
      "https://www.nike.com/t/court-borough-low-recraft-big-kids-shoes-VFNdnQ/DV5456-400\n"
     ]
    },
    {
     "name": "stderr",
     "output_type": "stream",
     "text": [
      "/var/folders/rb/k9pmvtxs1wv4y7fl9s364ybw0000gn/T/ipykernel_35610/878112586.py:75: FutureWarning: The frame.append method is deprecated and will be removed from pandas in a future version. Use pandas.concat instead.\n",
      "  df = df.append(row, ignore_index=True)\n"
     ]
    },
    {
     "name": "stdout",
     "output_type": "stream",
     "text": [
      "{'url': 'https://www.nike.com/t/court-borough-low-recraft-big-kids-shoes-VFNdnQ/DV5456-400', 'writepath': './text/www.nike.com/www.nike.com_t_court-borough-low-recraft-big-kids-shoes-VFNdnQ_DV5456-400.txt', 'title': 'Nike Court Borough Low Recraft', 'price': '$65', 'images': 'https://static.nike.com/a/images/t_default/8167d262-4105-48e8-84a8-432c0c663416/court-borough-low-recraft-big-kids-shoes-VFNdnQ.png'}\n",
      "https://www.nike.com/t/chuck-taylor-all-star-lift-platform-canvas-womens-shoes-W0j30X/560251F-102\n"
     ]
    },
    {
     "name": "stderr",
     "output_type": "stream",
     "text": [
      "/var/folders/rb/k9pmvtxs1wv4y7fl9s364ybw0000gn/T/ipykernel_35610/878112586.py:75: FutureWarning: The frame.append method is deprecated and will be removed from pandas in a future version. Use pandas.concat instead.\n",
      "  df = df.append(row, ignore_index=True)\n"
     ]
    },
    {
     "name": "stdout",
     "output_type": "stream",
     "text": [
      "{'url': 'https://www.nike.com/t/chuck-taylor-all-star-lift-platform-canvas-womens-shoes-W0j30X/560251F-102', 'writepath': './text/www.nike.com/www.nike.com_t_chuck-taylor-all-star-lift-platform-canvas-womens-shoes-W0j30X_560251F-102.txt', 'title': 'Chuck Taylor All Star Lift Platform Canvas', 'price': '$70', 'images': 'https://static.nike.com/a/images/t_default/971b73ef-565a-44d3-8834-366b0292cef8/chuck-taylor-all-star-lift-platform-canvas-womens-shoes-W0j30X.png'}\n",
      "https://www.nike.com/t/air-max-97-mens-shoes-6mZC1L/DQ7644-100\n"
     ]
    },
    {
     "name": "stderr",
     "output_type": "stream",
     "text": [
      "/var/folders/rb/k9pmvtxs1wv4y7fl9s364ybw0000gn/T/ipykernel_35610/878112586.py:75: FutureWarning: The frame.append method is deprecated and will be removed from pandas in a future version. Use pandas.concat instead.\n",
      "  df = df.append(row, ignore_index=True)\n"
     ]
    },
    {
     "name": "stdout",
     "output_type": "stream",
     "text": [
      "{'url': 'https://www.nike.com/t/air-max-97-mens-shoes-6mZC1L/DQ7644-100', 'writepath': './text/www.nike.com/www.nike.com_t_air-max-97-mens-shoes-6mZC1L_DQ7644-100.txt', 'title': \"Nike Air Max '97\", 'price': '$128.97', 'images': 'https://static.nike.com/a/images/t_default/c6eca792-b562-4051-b41a-48a6917a8d9e/air-max-97-mens-shoes-6mZC1L.png'}\n",
      "https://www.nike.com/t/infinity-pro-2-mens-golf-shoes-wide-GgZxGQ/DM8449-101\n"
     ]
    },
    {
     "name": "stderr",
     "output_type": "stream",
     "text": [
      "/var/folders/rb/k9pmvtxs1wv4y7fl9s364ybw0000gn/T/ipykernel_35610/878112586.py:75: FutureWarning: The frame.append method is deprecated and will be removed from pandas in a future version. Use pandas.concat instead.\n",
      "  df = df.append(row, ignore_index=True)\n"
     ]
    },
    {
     "name": "stdout",
     "output_type": "stream",
     "text": [
      "{'url': 'https://www.nike.com/t/infinity-pro-2-mens-golf-shoes-wide-GgZxGQ/DM8449-101', 'writepath': './text/www.nike.com/www.nike.com_t_infinity-pro-2-mens-golf-shoes-wide-GgZxGQ_DM8449-101.txt', 'title': 'Nike Infinity Pro 2', 'price': '$110', 'images': 'https://static.nike.com/a/images/t_default/04482614-09e1-4c1e-88d8-a7ac50b2fe67/infinity-pro-2-mens-golf-shoes-wide-GgZxGQ.png'}\n",
      "https://www.nike.com/t/air-max-90-futura-womens-shoes-kvRZ4h/DM9922-200\n"
     ]
    },
    {
     "name": "stderr",
     "output_type": "stream",
     "text": [
      "/var/folders/rb/k9pmvtxs1wv4y7fl9s364ybw0000gn/T/ipykernel_35610/878112586.py:75: FutureWarning: The frame.append method is deprecated and will be removed from pandas in a future version. Use pandas.concat instead.\n",
      "  df = df.append(row, ignore_index=True)\n"
     ]
    },
    {
     "name": "stdout",
     "output_type": "stream",
     "text": [
      "{'url': 'https://www.nike.com/t/air-max-90-futura-womens-shoes-kvRZ4h/DM9922-200', 'writepath': './text/www.nike.com/www.nike.com_t_air-max-90-futura-womens-shoes-kvRZ4h_DM9922-200.txt', 'title': 'Nike Air Max 90 Futura', 'price': '$127.97', 'images': 'https://static.nike.com/a/images/t_default/6a4fea21-45ea-4abb-b015-35fe2ddaaece/air-max-90-futura-womens-shoes-kvRZ4h.png'}\n",
      "https://www.nike.com/t/free-run-5-mens-road-running-shoes-Xp40hf/CZ1884-103\n"
     ]
    },
    {
     "name": "stderr",
     "output_type": "stream",
     "text": [
      "/var/folders/rb/k9pmvtxs1wv4y7fl9s364ybw0000gn/T/ipykernel_35610/878112586.py:75: FutureWarning: The frame.append method is deprecated and will be removed from pandas in a future version. Use pandas.concat instead.\n",
      "  df = df.append(row, ignore_index=True)\n"
     ]
    },
    {
     "name": "stdout",
     "output_type": "stream",
     "text": [
      "{'url': 'https://www.nike.com/t/free-run-5-mens-road-running-shoes-Xp40hf/CZ1884-103', 'writepath': './text/www.nike.com/www.nike.com_t_free-run-5-mens-road-running-shoes-Xp40hf_CZ1884-103.txt', 'title': 'Nike Free Run 5.0', 'price': '$69.97', 'images': 'https://static.nike.com/a/images/t_default/05c92ac3-d76d-4223-bce2-1e83ee5ed9f6/free-run-5-mens-road-running-shoes-Xp40hf.png'}\n",
      "https://www.nike.com/t/jordan-delta-3-nitro-low-mens-shoes-Gb5PxP/DX1800-160\n"
     ]
    },
    {
     "name": "stderr",
     "output_type": "stream",
     "text": [
      "/var/folders/rb/k9pmvtxs1wv4y7fl9s364ybw0000gn/T/ipykernel_35610/878112586.py:75: FutureWarning: The frame.append method is deprecated and will be removed from pandas in a future version. Use pandas.concat instead.\n",
      "  df = df.append(row, ignore_index=True)\n"
     ]
    },
    {
     "name": "stdout",
     "output_type": "stream",
     "text": [
      "{'url': 'https://www.nike.com/t/jordan-delta-3-nitro-low-mens-shoes-Gb5PxP/DX1800-160', 'writepath': './text/www.nike.com/www.nike.com_t_jordan-delta-3-nitro-low-mens-shoes-Gb5PxP_DX1800-160.txt', 'title': 'Jordan Delta 3 Nitro Low', 'price': '$90.97', 'images': 'https://static.nike.com/a/images/t_default/2dd9e1e8-4832-44cc-a73d-cafc563e3f67/jordan-delta-3-nitro-low-mens-shoes-Gb5PxP.png'}\n",
      "https://www.nike.com/t/air-max-tw-mens-shoes-rQl8pF/DQ3984-104\n"
     ]
    },
    {
     "name": "stderr",
     "output_type": "stream",
     "text": [
      "/var/folders/rb/k9pmvtxs1wv4y7fl9s364ybw0000gn/T/ipykernel_35610/878112586.py:75: FutureWarning: The frame.append method is deprecated and will be removed from pandas in a future version. Use pandas.concat instead.\n",
      "  df = df.append(row, ignore_index=True)\n"
     ]
    },
    {
     "name": "stdout",
     "output_type": "stream",
     "text": [
      "{'url': 'https://www.nike.com/t/air-max-tw-mens-shoes-rQl8pF/DQ3984-104', 'writepath': './text/www.nike.com/www.nike.com_t_air-max-tw-mens-shoes-rQl8pF_DQ3984-104.txt', 'title': 'Nike Air Max TW', 'price': '$160', 'images': 'https://static.nike.com/a/images/t_default/871b7d6d-a39a-449e-add8-60a0c3bf34e8/air-max-tw-mens-shoes-rQl8pF.png'}\n",
      "https://www.nike.com/t/free-run-2018-mens-road-running-shoes-RRT9elMk/942838-101\n"
     ]
    },
    {
     "name": "stderr",
     "output_type": "stream",
     "text": [
      "/var/folders/rb/k9pmvtxs1wv4y7fl9s364ybw0000gn/T/ipykernel_35610/878112586.py:75: FutureWarning: The frame.append method is deprecated and will be removed from pandas in a future version. Use pandas.concat instead.\n",
      "  df = df.append(row, ignore_index=True)\n"
     ]
    },
    {
     "name": "stdout",
     "output_type": "stream",
     "text": [
      "{'url': 'https://www.nike.com/t/free-run-2018-mens-road-running-shoes-RRT9elMk/942838-101', 'writepath': './text/www.nike.com/www.nike.com_t_free-run-2018-mens-road-running-shoes-RRT9elMk_942838-101.txt', 'title': 'Nike Free Run 2018', 'price': '$79.97', 'images': 'https://static.nike.com/a/images/t_default/lstznmmah3ytjqo8ddgd/free-run-2018-mens-road-running-shoes-RRT9elMk.png'}\n",
      "https://www.nike.com/t/air-max-95-qs-mens-shoes-xdg8nq/DV2593-100\n"
     ]
    },
    {
     "name": "stderr",
     "output_type": "stream",
     "text": [
      "/var/folders/rb/k9pmvtxs1wv4y7fl9s364ybw0000gn/T/ipykernel_35610/878112586.py:75: FutureWarning: The frame.append method is deprecated and will be removed from pandas in a future version. Use pandas.concat instead.\n",
      "  df = df.append(row, ignore_index=True)\n"
     ]
    },
    {
     "name": "stdout",
     "output_type": "stream",
     "text": [
      "{'url': 'https://www.nike.com/t/air-max-95-qs-mens-shoes-xdg8nq/DV2593-100', 'writepath': './text/www.nike.com/www.nike.com_t_air-max-95-qs-mens-shoes-xdg8nq_DV2593-100.txt', 'title': 'Nike Air Max 95 QS', 'price': '$90.97', 'images': 'https://static.nike.com/a/images/t_default/879fc70e-1f32-4925-a892-3dfacf038de2/air-max-95-qs-mens-shoes-xdg8nq.png'}\n",
      "https://www.nike.com/t/air-jordan-1-elevate-high-se-womens-shoes-RXFk6f/DZ3744-100\n"
     ]
    },
    {
     "name": "stderr",
     "output_type": "stream",
     "text": [
      "/var/folders/rb/k9pmvtxs1wv4y7fl9s364ybw0000gn/T/ipykernel_35610/878112586.py:75: FutureWarning: The frame.append method is deprecated and will be removed from pandas in a future version. Use pandas.concat instead.\n",
      "  df = df.append(row, ignore_index=True)\n"
     ]
    },
    {
     "name": "stdout",
     "output_type": "stream",
     "text": [
      "{'url': 'https://www.nike.com/t/air-jordan-1-elevate-high-se-womens-shoes-RXFk6f/DZ3744-100', 'writepath': './text/www.nike.com/www.nike.com_t_air-jordan-1-elevate-high-se-womens-shoes-RXFk6f_DZ3744-100.txt', 'title': 'Air Jordan 1 Elevate High SE', 'price': '$155', 'images': 'https://static.nike.com/a/images/t_default/4fa32a0f-7755-4809-bb42-96006bb1433b/air-jordan-1-elevate-high-se-womens-shoes-RXFk6f.png'}\n",
      "https://www.nike.com/t/court-legacy-little-kids-shoes-Mb7npn/DA5381-101\n"
     ]
    },
    {
     "name": "stderr",
     "output_type": "stream",
     "text": [
      "/var/folders/rb/k9pmvtxs1wv4y7fl9s364ybw0000gn/T/ipykernel_35610/878112586.py:75: FutureWarning: The frame.append method is deprecated and will be removed from pandas in a future version. Use pandas.concat instead.\n",
      "  df = df.append(row, ignore_index=True)\n"
     ]
    },
    {
     "name": "stdout",
     "output_type": "stream",
     "text": [
      "{'url': 'https://www.nike.com/t/court-legacy-little-kids-shoes-Mb7npn/DA5381-101', 'writepath': './text/www.nike.com/www.nike.com_t_court-legacy-little-kids-shoes-Mb7npn_DA5381-101.txt', 'title': 'Nike Court Legacy', 'price': '$45', 'images': 'https://static.nike.com/a/images/t_default/01761f84-c3f1-4b6c-b0d6-ee9f6624ada5/court-legacy-little-kids-shoes-Mb7npn.png'}\n",
      "https://www.nike.com/t/dunk-high-premium-womens-shoes-ZhkMvb/DX2044-200\n"
     ]
    },
    {
     "name": "stderr",
     "output_type": "stream",
     "text": [
      "/var/folders/rb/k9pmvtxs1wv4y7fl9s364ybw0000gn/T/ipykernel_35610/878112586.py:75: FutureWarning: The frame.append method is deprecated and will be removed from pandas in a future version. Use pandas.concat instead.\n",
      "  df = df.append(row, ignore_index=True)\n"
     ]
    },
    {
     "name": "stdout",
     "output_type": "stream",
     "text": [
      "{'url': 'https://www.nike.com/t/dunk-high-premium-womens-shoes-ZhkMvb/DX2044-200', 'writepath': './text/www.nike.com/www.nike.com_t_dunk-high-premium-womens-shoes-ZhkMvb_DX2044-200.txt', 'title': 'Nike Dunk High Premium', 'price': '$140', 'images': 'https://static.nike.com/a/images/t_default/145d72ce-fb48-4d0c-82bf-8f32ca01532d/dunk-high-premium-womens-shoes-ZhkMvb.png'}\n",
      "https://www.nike.com/t/dunk-low-baby-toddler-shoes-fpCRwg/FJ4643-536\n"
     ]
    },
    {
     "name": "stderr",
     "output_type": "stream",
     "text": [
      "/var/folders/rb/k9pmvtxs1wv4y7fl9s364ybw0000gn/T/ipykernel_35610/878112586.py:75: FutureWarning: The frame.append method is deprecated and will be removed from pandas in a future version. Use pandas.concat instead.\n",
      "  df = df.append(row, ignore_index=True)\n"
     ]
    },
    {
     "name": "stdout",
     "output_type": "stream",
     "text": [
      "{'url': 'https://www.nike.com/t/dunk-low-baby-toddler-shoes-fpCRwg/FJ4643-536', 'writepath': './text/www.nike.com/www.nike.com_t_dunk-low-baby-toddler-shoes-fpCRwg_FJ4643-536.txt', 'title': 'Nike Dunk Low', 'price': '$60', 'images': 'https://static.nike.com/a/images/t_default/1e2a2a69-fd87-434c-ad85-0a0d60d7038b/dunk-low-baby-toddler-shoes-fpCRwg.png'}\n",
      "https://www.nike.com/t/waffle-one-little-kids-shoes-V6MCqK/DC0480-012\n"
     ]
    },
    {
     "name": "stderr",
     "output_type": "stream",
     "text": [
      "/var/folders/rb/k9pmvtxs1wv4y7fl9s364ybw0000gn/T/ipykernel_35610/878112586.py:75: FutureWarning: The frame.append method is deprecated and will be removed from pandas in a future version. Use pandas.concat instead.\n",
      "  df = df.append(row, ignore_index=True)\n"
     ]
    },
    {
     "name": "stdout",
     "output_type": "stream",
     "text": [
      "{'url': 'https://www.nike.com/t/waffle-one-little-kids-shoes-V6MCqK/DC0480-012', 'writepath': './text/www.nike.com/www.nike.com_t_waffle-one-little-kids-shoes-V6MCqK_DC0480-012.txt', 'title': 'Nike Waffle One', 'price': '$54.97', 'images': 'https://static.nike.com/a/images/t_default/d767207a-6912-48e5-89e1-f2d0d2937121/waffle-one-little-kids-shoes-V6MCqK.png'}\n",
      "https://www.nike.com/t/star-runner-3-baby-toddler-shoes-xJNCL3/DA2778-013\n"
     ]
    },
    {
     "name": "stderr",
     "output_type": "stream",
     "text": [
      "/var/folders/rb/k9pmvtxs1wv4y7fl9s364ybw0000gn/T/ipykernel_35610/878112586.py:75: FutureWarning: The frame.append method is deprecated and will be removed from pandas in a future version. Use pandas.concat instead.\n",
      "  df = df.append(row, ignore_index=True)\n"
     ]
    },
    {
     "name": "stdout",
     "output_type": "stream",
     "text": [
      "{'url': 'https://www.nike.com/t/star-runner-3-baby-toddler-shoes-xJNCL3/DA2778-013', 'writepath': './text/www.nike.com/www.nike.com_t_star-runner-3-baby-toddler-shoes-xJNCL3_DA2778-013.txt', 'title': 'Nike Star Runner 3', 'price': '$38.97', 'images': 'https://static.nike.com/a/images/t_default/e9aec7c8-48eb-4492-846e-924962a536ce/star-runner-3-baby-toddler-shoes-xJNCL3.png'}\n",
      "https://www.nike.com/t/air-jordan-i-high-g-mens-golf-shoes-wt8W0b/DQ0660-103\n"
     ]
    },
    {
     "name": "stderr",
     "output_type": "stream",
     "text": [
      "/var/folders/rb/k9pmvtxs1wv4y7fl9s364ybw0000gn/T/ipykernel_35610/878112586.py:75: FutureWarning: The frame.append method is deprecated and will be removed from pandas in a future version. Use pandas.concat instead.\n",
      "  df = df.append(row, ignore_index=True)\n"
     ]
    },
    {
     "name": "stdout",
     "output_type": "stream",
     "text": [
      "{'url': 'https://www.nike.com/t/air-jordan-i-high-g-mens-golf-shoes-wt8W0b/DQ0660-103', 'writepath': './text/www.nike.com/www.nike.com_t_air-jordan-i-high-g-mens-golf-shoes-wt8W0b_DQ0660-103.txt', 'title': 'Air Jordan I High G', 'price': '$180', 'images': 'https://static.nike.com/a/images/t_default/5701bc44-ef9f-4632-8501-38e2b4fead19/air-jordan-i-high-g-mens-golf-shoes-wt8W0b.png'}\n",
      "https://www.nike.com/t/air-jordan-1-low-se-big-kids-shoes-fS3WJJ/FB4420-616\n"
     ]
    },
    {
     "name": "stderr",
     "output_type": "stream",
     "text": [
      "/var/folders/rb/k9pmvtxs1wv4y7fl9s364ybw0000gn/T/ipykernel_35610/878112586.py:75: FutureWarning: The frame.append method is deprecated and will be removed from pandas in a future version. Use pandas.concat instead.\n",
      "  df = df.append(row, ignore_index=True)\n"
     ]
    },
    {
     "name": "stdout",
     "output_type": "stream",
     "text": [
      "{'url': 'https://www.nike.com/t/air-jordan-1-low-se-big-kids-shoes-fS3WJJ/FB4420-616', 'writepath': './text/www.nike.com/www.nike.com_t_air-jordan-1-low-se-big-kids-shoes-fS3WJJ_FB4420-616.txt', 'title': 'Air Jordan 1 Low SE', 'price': '$95', 'images': 'https://static.nike.com/a/images/t_default/55f09217-cbc2-4883-9143-4f9287cc02aa/air-jordan-1-low-se-big-kids-shoes-fS3WJJ.png'}\n",
      "https://www.nike.com/t/air-force-1-mid-07-lx-mens-shoes-QpdMmT/DV0792-101\n"
     ]
    },
    {
     "name": "stderr",
     "output_type": "stream",
     "text": [
      "/var/folders/rb/k9pmvtxs1wv4y7fl9s364ybw0000gn/T/ipykernel_35610/878112586.py:75: FutureWarning: The frame.append method is deprecated and will be removed from pandas in a future version. Use pandas.concat instead.\n",
      "  df = df.append(row, ignore_index=True)\n"
     ]
    },
    {
     "name": "stdout",
     "output_type": "stream",
     "text": [
      "{'url': 'https://www.nike.com/t/air-force-1-mid-07-lx-mens-shoes-QpdMmT/DV0792-101', 'writepath': './text/www.nike.com/www.nike.com_t_air-force-1-mid-07-lx-mens-shoes-QpdMmT_DV0792-101.txt', 'title': \"Nike Air Force 1 Mid '07 LX\", 'price': '$75.97', 'images': 'https://static.nike.com/a/images/t_default/6f39f083-7fe8-48ea-9e1f-7483ac4d3578/air-force-1-mid-07-lx-mens-shoes-QpdMmT.png'}\n",
      "https://www.nike.com/t/air-more-uptempo-96-mens-shoes-zpkSSs/DV6993-200\n"
     ]
    },
    {
     "name": "stderr",
     "output_type": "stream",
     "text": [
      "/var/folders/rb/k9pmvtxs1wv4y7fl9s364ybw0000gn/T/ipykernel_35610/878112586.py:75: FutureWarning: The frame.append method is deprecated and will be removed from pandas in a future version. Use pandas.concat instead.\n",
      "  df = df.append(row, ignore_index=True)\n"
     ]
    },
    {
     "name": "stdout",
     "output_type": "stream",
     "text": [
      "{'url': 'https://www.nike.com/t/air-more-uptempo-96-mens-shoes-zpkSSs/DV6993-200', 'writepath': './text/www.nike.com/www.nike.com_t_air-more-uptempo-96-mens-shoes-zpkSSs_DV6993-200.txt', 'title': \"Nike Air More Uptempo '96\", 'price': '$115.97', 'images': 'https://static.nike.com/a/images/t_default/3bda490f-2e57-49a4-8af6-e3b5716b6b0e/air-more-uptempo-96-mens-shoes-zpkSSs.png'}\n",
      "https://www.nike.com/t/jordan-1-mid-se-baby-toddler-shoes-dDkz0h/DV1340-800\n"
     ]
    },
    {
     "name": "stderr",
     "output_type": "stream",
     "text": [
      "/var/folders/rb/k9pmvtxs1wv4y7fl9s364ybw0000gn/T/ipykernel_35610/878112586.py:75: FutureWarning: The frame.append method is deprecated and will be removed from pandas in a future version. Use pandas.concat instead.\n",
      "  df = df.append(row, ignore_index=True)\n"
     ]
    },
    {
     "name": "stdout",
     "output_type": "stream",
     "text": [
      "{'url': 'https://www.nike.com/t/jordan-1-mid-se-baby-toddler-shoes-dDkz0h/DV1340-800', 'writepath': './text/www.nike.com/www.nike.com_t_jordan-1-mid-se-baby-toddler-shoes-dDkz0h_DV1340-800.txt', 'title': 'Jordan 1 Mid SE', 'price': '$45.97', 'images': 'https://static.nike.com/a/images/t_default/feac797d-60a4-4782-bcd6-16d392d75221/jordan-1-mid-se-baby-toddler-shoes-dDkz0h.png'}\n",
      "https://www.nike.com/t/legend-essential-3-next-nature-mens-training-shoes-Kbdqcx/DM1120-300\n"
     ]
    },
    {
     "name": "stderr",
     "output_type": "stream",
     "text": [
      "/var/folders/rb/k9pmvtxs1wv4y7fl9s364ybw0000gn/T/ipykernel_35610/878112586.py:75: FutureWarning: The frame.append method is deprecated and will be removed from pandas in a future version. Use pandas.concat instead.\n",
      "  df = df.append(row, ignore_index=True)\n"
     ]
    },
    {
     "name": "stdout",
     "output_type": "stream",
     "text": [
      "{'url': 'https://www.nike.com/t/legend-essential-3-next-nature-mens-training-shoes-Kbdqcx/DM1120-300', 'writepath': './text/www.nike.com/www.nike.com_t_legend-essential-3-next-nature-mens-training-shoes-Kbdqcx_DM1120-300.txt', 'title': 'Nike Legend Essential 3 Next Nature', 'price': '$65', 'images': 'https://static.nike.com/a/images/t_default/0d29367b-20e5-4ebe-9e14-8a20651723a8/legend-essential-3-next-nature-mens-training-shoes-Kbdqcx.png'}\n",
      "https://www.nike.com/t/court-legacy-suede-mens-shoes-srcxqv/DH0956-002\n"
     ]
    },
    {
     "name": "stderr",
     "output_type": "stream",
     "text": [
      "/var/folders/rb/k9pmvtxs1wv4y7fl9s364ybw0000gn/T/ipykernel_35610/878112586.py:75: FutureWarning: The frame.append method is deprecated and will be removed from pandas in a future version. Use pandas.concat instead.\n",
      "  df = df.append(row, ignore_index=True)\n"
     ]
    },
    {
     "name": "stdout",
     "output_type": "stream",
     "text": [
      "{'url': 'https://www.nike.com/t/court-legacy-suede-mens-shoes-srcxqv/DH0956-002', 'writepath': './text/www.nike.com/www.nike.com_t_court-legacy-suede-mens-shoes-srcxqv_DH0956-002.txt', 'title': 'Nike Court Legacy Suede', 'price': '$80', 'images': 'https://static.nike.com/a/images/t_default/bc376c3e-fb23-4d59-a9ff-e2407eaf1c8d/court-legacy-suede-mens-shoes-srcxqv.png'}\n",
      "https://www.nike.com/t/air-force-1-07-lv8-mens-shoes-W1vVxF/DO9786-700\n"
     ]
    },
    {
     "name": "stderr",
     "output_type": "stream",
     "text": [
      "/var/folders/rb/k9pmvtxs1wv4y7fl9s364ybw0000gn/T/ipykernel_35610/878112586.py:75: FutureWarning: The frame.append method is deprecated and will be removed from pandas in a future version. Use pandas.concat instead.\n",
      "  df = df.append(row, ignore_index=True)\n"
     ]
    },
    {
     "name": "stdout",
     "output_type": "stream",
     "text": [
      "{'url': 'https://www.nike.com/t/air-force-1-07-lv8-mens-shoes-W1vVxF/DO9786-700', 'writepath': './text/www.nike.com/www.nike.com_t_air-force-1-07-lv8-mens-shoes-W1vVxF_DO9786-700.txt', 'title': \"Nike Air Force 1 '07 LV8\", 'price': '$91.97', 'images': 'https://static.nike.com/a/images/t_default/c8da9d90-3914-4063-871f-a784a76d041b/air-force-1-07-lv8-mens-shoes-W1vVxF.png'}\n",
      "https://www.nike.com/t/nikecourt-air-zoom-vapor-11-womens-hard-court-tennis-shoes-jFxzWK/DR6965-102\n"
     ]
    },
    {
     "name": "stderr",
     "output_type": "stream",
     "text": [
      "/var/folders/rb/k9pmvtxs1wv4y7fl9s364ybw0000gn/T/ipykernel_35610/878112586.py:75: FutureWarning: The frame.append method is deprecated and will be removed from pandas in a future version. Use pandas.concat instead.\n",
      "  df = df.append(row, ignore_index=True)\n"
     ]
    },
    {
     "name": "stdout",
     "output_type": "stream",
     "text": [
      "{'url': 'https://www.nike.com/t/nikecourt-air-zoom-vapor-11-womens-hard-court-tennis-shoes-jFxzWK/DR6965-102', 'writepath': './text/www.nike.com/www.nike.com_t_nikecourt-air-zoom-vapor-11-womens-hard-court-tennis-shoes-jFxzWK_DR6965-102.txt', 'title': 'NikeCourt Air Zoom Vapor 11', 'price': '$160', 'images': 'https://static.nike.com/a/images/t_default/6baf53ba-8800-46de-a8e6-c5be1eea663e/nikecourt-air-zoom-vapor-11-womens-hard-court-tennis-shoes-jFxzWK.png'}\n",
      "https://www.nike.com/t/jr-phantom-gt2-academy-ic-little-big-kids-indoor-court-soccer-shoes-8Bh1lr/DC0816-001\n"
     ]
    },
    {
     "name": "stderr",
     "output_type": "stream",
     "text": [
      "/var/folders/rb/k9pmvtxs1wv4y7fl9s364ybw0000gn/T/ipykernel_35610/878112586.py:75: FutureWarning: The frame.append method is deprecated and will be removed from pandas in a future version. Use pandas.concat instead.\n",
      "  df = df.append(row, ignore_index=True)\n"
     ]
    },
    {
     "name": "stdout",
     "output_type": "stream",
     "text": [
      "{'url': 'https://www.nike.com/t/jr-phantom-gt2-academy-ic-little-big-kids-indoor-court-soccer-shoes-8Bh1lr/DC0816-001', 'writepath': './text/www.nike.com/www.nike.com_t_jr-phantom-gt2-academy-ic-little-big-kids-indoor-court-soccer-shoes-8Bh1lr_DC0816-001.txt', 'title': 'Nike Jr. Phantom GT2 Academy IC', 'price': '$60', 'images': 'https://static.nike.com/a/images/t_default/d4e3a551-f8e7-4e9a-8ad1-d55170af5699/jr-phantom-gt2-academy-ic-little-big-kids-indoor-court-soccer-shoes-8Bh1lr.png'}\n",
      "https://www.nike.com/t/speedsweep-7-big-kids-wrestling-shoes-PGZlPw/366684-001\n"
     ]
    },
    {
     "name": "stderr",
     "output_type": "stream",
     "text": [
      "/var/folders/rb/k9pmvtxs1wv4y7fl9s364ybw0000gn/T/ipykernel_35610/878112586.py:75: FutureWarning: The frame.append method is deprecated and will be removed from pandas in a future version. Use pandas.concat instead.\n",
      "  df = df.append(row, ignore_index=True)\n"
     ]
    },
    {
     "name": "stdout",
     "output_type": "stream",
     "text": [
      "{'url': 'https://www.nike.com/t/speedsweep-7-big-kids-wrestling-shoes-PGZlPw/366684-001', 'writepath': './text/www.nike.com/www.nike.com_t_speedsweep-7-big-kids-wrestling-shoes-PGZlPw_366684-001.txt', 'title': 'Nike SpeedSweep 7', 'price': '$55', 'images': 'https://static.nike.com/a/images/t_default/2af974ac-4b7f-4db0-9f5c-816db16b931d/speedsweep-7-big-kids-wrestling-shoes-PGZlPw.png'}\n",
      "https://www.nike.com/t/air-more-uptempo-se-womens-shoes-1H3Z82/DV7408-100\n"
     ]
    },
    {
     "name": "stderr",
     "output_type": "stream",
     "text": [
      "/var/folders/rb/k9pmvtxs1wv4y7fl9s364ybw0000gn/T/ipykernel_35610/878112586.py:75: FutureWarning: The frame.append method is deprecated and will be removed from pandas in a future version. Use pandas.concat instead.\n",
      "  df = df.append(row, ignore_index=True)\n"
     ]
    },
    {
     "name": "stdout",
     "output_type": "stream",
     "text": [
      "{'url': 'https://www.nike.com/t/air-more-uptempo-se-womens-shoes-1H3Z82/DV7408-100', 'writepath': './text/www.nike.com/www.nike.com_t_air-more-uptempo-se-womens-shoes-1H3Z82_DV7408-100.txt', 'title': 'Nike Air More Uptempo SE', 'price': '$180', 'images': 'https://static.nike.com/a/images/t_default/18daa17f-13bf-492e-923b-d39f94e6f615/air-more-uptempo-se-womens-shoes-1H3Z82.png'}\n",
      "https://www.nike.com/t/react-sfb-carbon-low-mens-elite-outdoor-shoes-3xfJmb/CZ7399-001\n"
     ]
    },
    {
     "name": "stderr",
     "output_type": "stream",
     "text": [
      "/var/folders/rb/k9pmvtxs1wv4y7fl9s364ybw0000gn/T/ipykernel_35610/878112586.py:75: FutureWarning: The frame.append method is deprecated and will be removed from pandas in a future version. Use pandas.concat instead.\n",
      "  df = df.append(row, ignore_index=True)\n"
     ]
    },
    {
     "name": "stdout",
     "output_type": "stream",
     "text": [
      "{'url': 'https://www.nike.com/t/react-sfb-carbon-low-mens-elite-outdoor-shoes-3xfJmb/CZ7399-001', 'writepath': './text/www.nike.com/www.nike.com_t_react-sfb-carbon-low-mens-elite-outdoor-shoes-3xfJmb_CZ7399-001.txt', 'title': 'Nike React SFB Carbon Low', 'price': '$145', 'images': 'https://static.nike.com/a/images/t_default/7cc81ca3-f51a-4d9a-9f15-fddf73471ed9/react-sfb-carbon-low-mens-elite-outdoor-shoes-3xfJmb.png'}\n",
      "https://www.nike.com/t/air-max-270-go-little-kids-easy-on-off-shoes-7XNmw3/DV1969-400\n"
     ]
    },
    {
     "name": "stderr",
     "output_type": "stream",
     "text": [
      "/var/folders/rb/k9pmvtxs1wv4y7fl9s364ybw0000gn/T/ipykernel_35610/878112586.py:75: FutureWarning: The frame.append method is deprecated and will be removed from pandas in a future version. Use pandas.concat instead.\n",
      "  df = df.append(row, ignore_index=True)\n"
     ]
    },
    {
     "name": "stdout",
     "output_type": "stream",
     "text": [
      "{'url': 'https://www.nike.com/t/air-max-270-go-little-kids-easy-on-off-shoes-7XNmw3/DV1969-400', 'writepath': './text/www.nike.com/www.nike.com_t_air-max-270-go-little-kids-easy-on-off-shoes-7XNmw3_DV1969-400.txt', 'title': 'Nike Air Max 270 GO', 'price': '$110', 'images': 'https://static.nike.com/a/images/t_default/82abc595-293b-498a-979b-3e0d7f23f3f1/air-max-270-go-little-kids-easy-on-off-shoes-7XNmw3.png'}\n",
      "https://www.nike.com/t/tech-hera-womens-shoes-NjvkxR/FN7491-110\n"
     ]
    },
    {
     "name": "stderr",
     "output_type": "stream",
     "text": [
      "/var/folders/rb/k9pmvtxs1wv4y7fl9s364ybw0000gn/T/ipykernel_35610/878112586.py:75: FutureWarning: The frame.append method is deprecated and will be removed from pandas in a future version. Use pandas.concat instead.\n",
      "  df = df.append(row, ignore_index=True)\n"
     ]
    },
    {
     "name": "stdout",
     "output_type": "stream",
     "text": [
      "{'url': 'https://www.nike.com/t/tech-hera-womens-shoes-NjvkxR/FN7491-110', 'writepath': './text/www.nike.com/www.nike.com_t_tech-hera-womens-shoes-NjvkxR_FN7491-110.txt', 'title': 'Nike Tech Hera', 'price': '$110', 'images': 'https://static.nike.com/a/images/t_default/45eb504d-4ca0-4675-80cf-720913d53f3e/tech-hera-womens-shoes-NjvkxR.png'}\n",
      "https://www.nike.com/t/cosmic-unity-2-basketball-shoes-L53XJP/DH1537-002\n"
     ]
    },
    {
     "name": "stderr",
     "output_type": "stream",
     "text": [
      "/var/folders/rb/k9pmvtxs1wv4y7fl9s364ybw0000gn/T/ipykernel_35610/878112586.py:75: FutureWarning: The frame.append method is deprecated and will be removed from pandas in a future version. Use pandas.concat instead.\n",
      "  df = df.append(row, ignore_index=True)\n"
     ]
    },
    {
     "name": "stdout",
     "output_type": "stream",
     "text": [
      "{'url': 'https://www.nike.com/t/cosmic-unity-2-basketball-shoes-L53XJP/DH1537-002', 'writepath': './text/www.nike.com/www.nike.com_t_cosmic-unity-2-basketball-shoes-L53XJP_DH1537-002.txt', 'title': 'Nike Cosmic Unity 2', 'price': '$99.97', 'images': 'https://static.nike.com/a/images/t_default/905dc60a-dde8-48b9-b99e-a375cb76c042/cosmic-unity-2-basketball-shoes-L53XJP.png'}\n",
      "https://www.nike.com/t/p-6000-shoes-XkgpKW/CD6404-006\n"
     ]
    },
    {
     "name": "stderr",
     "output_type": "stream",
     "text": [
      "/var/folders/rb/k9pmvtxs1wv4y7fl9s364ybw0000gn/T/ipykernel_35610/878112586.py:75: FutureWarning: The frame.append method is deprecated and will be removed from pandas in a future version. Use pandas.concat instead.\n",
      "  df = df.append(row, ignore_index=True)\n"
     ]
    },
    {
     "name": "stdout",
     "output_type": "stream",
     "text": [
      "{'url': 'https://www.nike.com/t/p-6000-shoes-XkgpKW/CD6404-006', 'writepath': './text/www.nike.com/www.nike.com_t_p-6000-shoes-XkgpKW_CD6404-006.txt', 'title': 'Nike P-6000', 'price': '$110', 'images': 'https://static.nike.com/a/images/t_default/a350ec51-501a-41e1-a092-5daca3bfd2d5/p-6000-shoes-XkgpKW.png'}\n",
      "https://www.nike.com/t/jordan-1-mid-se-little-kids-shoes-kzG42g/DV1318-100\n"
     ]
    },
    {
     "name": "stderr",
     "output_type": "stream",
     "text": [
      "/var/folders/rb/k9pmvtxs1wv4y7fl9s364ybw0000gn/T/ipykernel_35610/878112586.py:75: FutureWarning: The frame.append method is deprecated and will be removed from pandas in a future version. Use pandas.concat instead.\n",
      "  df = df.append(row, ignore_index=True)\n"
     ]
    },
    {
     "name": "stdout",
     "output_type": "stream",
     "text": [
      "{'url': 'https://www.nike.com/t/jordan-1-mid-se-little-kids-shoes-kzG42g/DV1318-100', 'writepath': './text/www.nike.com/www.nike.com_t_jordan-1-mid-se-little-kids-shoes-kzG42g_DV1318-100.txt', 'title': 'Jordan 1 Mid SE', 'price': '$80', 'images': 'https://static.nike.com/a/images/t_default/744360c4-99df-421c-859d-d6ed70edf616/jordan-1-mid-se-little-kids-shoes-kzG42g.png'}\n",
      "https://www.nike.com/t/jordan-1-mid-se-craft-little-kids-shoes-QkhKNH/FB9141-120\n"
     ]
    },
    {
     "name": "stderr",
     "output_type": "stream",
     "text": [
      "/var/folders/rb/k9pmvtxs1wv4y7fl9s364ybw0000gn/T/ipykernel_35610/878112586.py:75: FutureWarning: The frame.append method is deprecated and will be removed from pandas in a future version. Use pandas.concat instead.\n",
      "  df = df.append(row, ignore_index=True)\n"
     ]
    },
    {
     "name": "stdout",
     "output_type": "stream",
     "text": [
      "{'url': 'https://www.nike.com/t/jordan-1-mid-se-craft-little-kids-shoes-QkhKNH/FB9141-120', 'writepath': './text/www.nike.com/www.nike.com_t_jordan-1-mid-se-craft-little-kids-shoes-QkhKNH_FB9141-120.txt', 'title': 'Jordan 1 Mid SE Craft', 'price': '$80', 'images': 'https://static.nike.com/a/images/t_default/d2b2766d-1bb2-4f54-8339-dc1e5bc920c8/jordan-1-mid-se-craft-little-kids-shoes-QkhKNH.png'}\n",
      "https://www.nike.com/t/flex-runner-baby-toddler-shoes-lG36lt/AT4665-019\n"
     ]
    },
    {
     "name": "stderr",
     "output_type": "stream",
     "text": [
      "/var/folders/rb/k9pmvtxs1wv4y7fl9s364ybw0000gn/T/ipykernel_35610/878112586.py:75: FutureWarning: The frame.append method is deprecated and will be removed from pandas in a future version. Use pandas.concat instead.\n",
      "  df = df.append(row, ignore_index=True)\n"
     ]
    },
    {
     "name": "stdout",
     "output_type": "stream",
     "text": [
      "{'url': 'https://www.nike.com/t/flex-runner-baby-toddler-shoes-lG36lt/AT4665-019', 'writepath': './text/www.nike.com/www.nike.com_t_flex-runner-baby-toddler-shoes-lG36lt_AT4665-019.txt', 'title': 'Nike Flex Runner', 'price': '$29.97', 'images': 'https://static.nike.com/a/images/t_default/47720259-8a21-459c-a3b3-9a2ffceae701/flex-runner-baby-toddler-shoes-lG36lt.png'}\n",
      "https://www.nike.com/t/revolution-6-baby-toddler-shoes-q86rDs/DD1094-007\n"
     ]
    },
    {
     "name": "stderr",
     "output_type": "stream",
     "text": [
      "/var/folders/rb/k9pmvtxs1wv4y7fl9s364ybw0000gn/T/ipykernel_35610/878112586.py:75: FutureWarning: The frame.append method is deprecated and will be removed from pandas in a future version. Use pandas.concat instead.\n",
      "  df = df.append(row, ignore_index=True)\n"
     ]
    },
    {
     "name": "stdout",
     "output_type": "stream",
     "text": [
      "{'url': 'https://www.nike.com/t/revolution-6-baby-toddler-shoes-q86rDs/DD1094-007', 'writepath': './text/www.nike.com/www.nike.com_t_revolution-6-baby-toddler-shoes-q86rDs_DD1094-007.txt', 'title': 'Nike Revolution 6', 'price': '$50', 'images': 'https://static.nike.com/a/images/t_default/72a43771-5f0b-4904-8228-527960146272/revolution-6-baby-toddler-shoes-q86rDs.png'}\n",
      "https://www.nike.com/t/jordan-11-cmft-low-infant-toddler-shoes-2l78Zq/CZ0906-114\n"
     ]
    },
    {
     "name": "stderr",
     "output_type": "stream",
     "text": [
      "/var/folders/rb/k9pmvtxs1wv4y7fl9s364ybw0000gn/T/ipykernel_35610/878112586.py:75: FutureWarning: The frame.append method is deprecated and will be removed from pandas in a future version. Use pandas.concat instead.\n",
      "  df = df.append(row, ignore_index=True)\n"
     ]
    },
    {
     "name": "stdout",
     "output_type": "stream",
     "text": [
      "{'url': 'https://www.nike.com/t/jordan-11-cmft-low-infant-toddler-shoes-2l78Zq/CZ0906-114', 'writepath': './text/www.nike.com/www.nike.com_t_jordan-11-cmft-low-infant-toddler-shoes-2l78Zq_CZ0906-114.txt', 'title': 'Jordan 11 CMFT Low', 'price': '$50', 'images': 'https://static.nike.com/a/images/t_default/a94e6f2b-f045-4c74-ba6a-f17510ecbd11/jordan-11-cmft-low-infant-toddler-shoes-2l78Zq.png'}\n",
      "https://www.nike.com/t/flex-runner-2-jp-baby-toddler-easy-on-off-shoes-JrNTdF/DV3099-001\n"
     ]
    },
    {
     "name": "stderr",
     "output_type": "stream",
     "text": [
      "/var/folders/rb/k9pmvtxs1wv4y7fl9s364ybw0000gn/T/ipykernel_35610/878112586.py:75: FutureWarning: The frame.append method is deprecated and will be removed from pandas in a future version. Use pandas.concat instead.\n",
      "  df = df.append(row, ignore_index=True)\n"
     ]
    },
    {
     "name": "stdout",
     "output_type": "stream",
     "text": [
      "{'url': 'https://www.nike.com/t/flex-runner-2-jp-baby-toddler-easy-on-off-shoes-JrNTdF/DV3099-001', 'writepath': './text/www.nike.com/www.nike.com_t_flex-runner-2-jp-baby-toddler-easy-on-off-shoes-JrNTdF_DV3099-001.txt', 'title': 'Nike Flex Runner 2 JP', 'price': '$36.97', 'images': 'https://static.nike.com/a/images/t_default/43d09ed9-137e-4250-a2c0-3ff0445fbeb5/flex-runner-2-jp-baby-toddler-easy-on-off-shoes-JrNTdF.png'}\n",
      "https://www.nike.com/t/air-max-90-ltr-baby-toddler-shoes-sDd22J/CD6868-001\n"
     ]
    },
    {
     "name": "stderr",
     "output_type": "stream",
     "text": [
      "/var/folders/rb/k9pmvtxs1wv4y7fl9s364ybw0000gn/T/ipykernel_35610/878112586.py:75: FutureWarning: The frame.append method is deprecated and will be removed from pandas in a future version. Use pandas.concat instead.\n",
      "  df = df.append(row, ignore_index=True)\n"
     ]
    },
    {
     "name": "stdout",
     "output_type": "stream",
     "text": [
      "{'url': 'https://www.nike.com/t/air-max-90-ltr-baby-toddler-shoes-sDd22J/CD6868-001', 'writepath': './text/www.nike.com/www.nike.com_t_air-max-90-ltr-baby-toddler-shoes-sDd22J_CD6868-001.txt', 'title': 'Nike Air Max 90 LTR', 'price': '$65', 'images': 'https://static.nike.com/a/images/t_default/030b39dd-f162-4cf9-a87f-60f29bd0a9d6/air-max-90-ltr-baby-toddler-shoes-sDd22J.png'}\n",
      "https://www.nike.com/t/lebron-witness-6-little-kids-shoes-gN7sN2/DD0424-002\n"
     ]
    },
    {
     "name": "stderr",
     "output_type": "stream",
     "text": [
      "/var/folders/rb/k9pmvtxs1wv4y7fl9s364ybw0000gn/T/ipykernel_35610/878112586.py:75: FutureWarning: The frame.append method is deprecated and will be removed from pandas in a future version. Use pandas.concat instead.\n",
      "  df = df.append(row, ignore_index=True)\n"
     ]
    },
    {
     "name": "stdout",
     "output_type": "stream",
     "text": [
      "{'url': 'https://www.nike.com/t/lebron-witness-6-little-kids-shoes-gN7sN2/DD0424-002', 'writepath': './text/www.nike.com/www.nike.com_t_lebron-witness-6-little-kids-shoes-gN7sN2_DD0424-002.txt', 'title': 'LeBron Witness 6', 'price': '$80', 'images': 'https://static.nike.com/a/images/t_default/2e0fd993-a54e-4bfa-9d9e-bfa67ee54dda/lebron-witness-6-little-kids-shoes-gN7sN2.png'}\n",
      "https://www.nike.com/t/nikecourt-zoom-vapor-pro-premium-womens-hard-court-tennis-shoes-m3hpJX/DQ4685-600\n"
     ]
    },
    {
     "name": "stderr",
     "output_type": "stream",
     "text": [
      "/var/folders/rb/k9pmvtxs1wv4y7fl9s364ybw0000gn/T/ipykernel_35610/878112586.py:75: FutureWarning: The frame.append method is deprecated and will be removed from pandas in a future version. Use pandas.concat instead.\n",
      "  df = df.append(row, ignore_index=True)\n"
     ]
    },
    {
     "name": "stdout",
     "output_type": "stream",
     "text": [
      "{'url': 'https://www.nike.com/t/nikecourt-zoom-vapor-pro-premium-womens-hard-court-tennis-shoes-m3hpJX/DQ4685-600', 'writepath': './text/www.nike.com/www.nike.com_t_nikecourt-zoom-vapor-pro-premium-womens-hard-court-tennis-shoes-m3hpJX_DQ4685-600.txt', 'title': 'NikeCourt Zoom Vapor Pro Premium', 'price': '$72.97', 'images': 'https://static.nike.com/a/images/t_default/abda2b38-e59b-42f3-901c-97897922e6cb/nikecourt-zoom-vapor-pro-premium-womens-hard-court-tennis-shoes-m3hpJX.png'}\n",
      "https://www.nike.com/t/wio-9-womens-road-running-shoes-0MS1bT/DD8686-104\n"
     ]
    },
    {
     "name": "stderr",
     "output_type": "stream",
     "text": [
      "/var/folders/rb/k9pmvtxs1wv4y7fl9s364ybw0000gn/T/ipykernel_35610/878112586.py:75: FutureWarning: The frame.append method is deprecated and will be removed from pandas in a future version. Use pandas.concat instead.\n",
      "  df = df.append(row, ignore_index=True)\n"
     ]
    },
    {
     "name": "stdout",
     "output_type": "stream",
     "text": [
      "{'url': 'https://www.nike.com/t/wio-9-womens-road-running-shoes-0MS1bT/DD8686-104', 'writepath': './text/www.nike.com/www.nike.com_t_wio-9-womens-road-running-shoes-0MS1bT_DD8686-104.txt', 'title': 'Nike Winflo 9', 'price': '$100', 'images': 'https://static.nike.com/a/images/t_default/01c36698-3619-46c7-be62-2280fbe50635/wio-9-womens-road-running-shoes-0MS1bT.png'}\n",
      "https://www.nike.com/t/blazer-low-77-big-kids-shoes-n2Bf0L/DA4074-101\n"
     ]
    },
    {
     "name": "stderr",
     "output_type": "stream",
     "text": [
      "/var/folders/rb/k9pmvtxs1wv4y7fl9s364ybw0000gn/T/ipykernel_35610/878112586.py:75: FutureWarning: The frame.append method is deprecated and will be removed from pandas in a future version. Use pandas.concat instead.\n",
      "  df = df.append(row, ignore_index=True)\n"
     ]
    },
    {
     "name": "stdout",
     "output_type": "stream",
     "text": [
      "{'url': 'https://www.nike.com/t/blazer-low-77-big-kids-shoes-n2Bf0L/DA4074-101', 'writepath': './text/www.nike.com/www.nike.com_t_blazer-low-77-big-kids-shoes-n2Bf0L_DA4074-101.txt', 'title': \"Nike Blazer Low '77\", 'price': '$70', 'images': 'https://static.nike.com/a/images/t_default/afb16b6d-c592-4810-b38c-aa094f12c514/blazer-low-77-big-kids-shoes-n2Bf0L.png'}\n",
      "https://www.nike.com/t/pegasus-trail-4-gore-tex-womens-waterproof-trail-running-shoes-9knDsQ/DJ7929-200\n"
     ]
    },
    {
     "name": "stderr",
     "output_type": "stream",
     "text": [
      "/var/folders/rb/k9pmvtxs1wv4y7fl9s364ybw0000gn/T/ipykernel_35610/878112586.py:75: FutureWarning: The frame.append method is deprecated and will be removed from pandas in a future version. Use pandas.concat instead.\n",
      "  df = df.append(row, ignore_index=True)\n"
     ]
    },
    {
     "name": "stdout",
     "output_type": "stream",
     "text": [
      "{'url': 'https://www.nike.com/t/pegasus-trail-4-gore-tex-womens-waterproof-trail-running-shoes-9knDsQ/DJ7929-200', 'writepath': './text/www.nike.com/www.nike.com_t_pegasus-trail-4-gore-tex-womens-waterproof-trail-running-shoes-9knDsQ_DJ7929-200.txt', 'title': 'Nike Pegasus Trail 4 GORE-TEX', 'price': '$160', 'images': 'https://static.nike.com/a/images/t_default/58d8ea1d-6afe-469b-b481-235fb8b4e0a5/pegasus-trail-4-gore-tex-womens-waterproof-trail-running-shoes-9knDsQ.png'}\n",
      "https://www.nike.com/t/air-jordan-1-retro-high-og-womens-shoes-LcJVSj/FD2596-700\n"
     ]
    },
    {
     "name": "stderr",
     "output_type": "stream",
     "text": [
      "/var/folders/rb/k9pmvtxs1wv4y7fl9s364ybw0000gn/T/ipykernel_35610/878112586.py:75: FutureWarning: The frame.append method is deprecated and will be removed from pandas in a future version. Use pandas.concat instead.\n",
      "  df = df.append(row, ignore_index=True)\n"
     ]
    },
    {
     "name": "stdout",
     "output_type": "stream",
     "text": [
      "{'url': 'https://www.nike.com/t/air-jordan-1-retro-high-og-womens-shoes-LcJVSj/FD2596-700', 'writepath': './text/www.nike.com/www.nike.com_t_air-jordan-1-retro-high-og-womens-shoes-LcJVSj_FD2596-700.txt', 'title': 'Air Jordan 1 Retro High OG', 'price': '$180', 'images': 'https://static.nike.com/a/images/t_default/dce802d5-316c-4188-ac85-27407a749f09/air-jordan-1-retro-high-og-womens-shoes-LcJVSj.png'}\n",
      "https://www.nike.com/t/air-max-1-premium-mens-shoes-7Hgfg2/FJ4452-432\n"
     ]
    },
    {
     "name": "stderr",
     "output_type": "stream",
     "text": [
      "/var/folders/rb/k9pmvtxs1wv4y7fl9s364ybw0000gn/T/ipykernel_35610/878112586.py:75: FutureWarning: The frame.append method is deprecated and will be removed from pandas in a future version. Use pandas.concat instead.\n",
      "  df = df.append(row, ignore_index=True)\n"
     ]
    },
    {
     "name": "stdout",
     "output_type": "stream",
     "text": [
      "{'url': 'https://www.nike.com/t/air-max-1-premium-mens-shoes-7Hgfg2/FJ4452-432', 'writepath': './text/www.nike.com/www.nike.com_t_air-max-1-premium-mens-shoes-7Hgfg2_FJ4452-432.txt', 'title': 'Nike Air Max 1 Premium', 'price': '$160', 'images': 'https://static.nike.com/a/images/t_default/fbd318cd-cbff-49a3-a96b-69a95f4b245c/air-max-1-premium-mens-shoes-7Hgfg2.png'}\n",
      "https://www.nike.com/t/air-jordan-3-retro-big-kids-shoes-llDR7t/DX6665-100\n"
     ]
    },
    {
     "name": "stderr",
     "output_type": "stream",
     "text": [
      "/var/folders/rb/k9pmvtxs1wv4y7fl9s364ybw0000gn/T/ipykernel_35610/878112586.py:75: FutureWarning: The frame.append method is deprecated and will be removed from pandas in a future version. Use pandas.concat instead.\n",
      "  df = df.append(row, ignore_index=True)\n"
     ]
    },
    {
     "name": "stdout",
     "output_type": "stream",
     "text": [
      "{'url': 'https://www.nike.com/t/air-jordan-3-retro-big-kids-shoes-llDR7t/DX6665-100', 'writepath': './text/www.nike.com/www.nike.com_t_air-jordan-3-retro-big-kids-shoes-llDR7t_DX6665-100.txt', 'title': 'Air Jordan 3 Retro', 'price': '$150', 'images': 'https://static.nike.com/a/images/t_default/48867e55-ab12-4460-9e5c-a35e85418307/air-jordan-3-retro-big-kids-shoes-llDR7t.png'}\n",
      "https://www.nike.com/t/court-borough-mid-2-little-kids-shoes-c6LRCk/CD7783-112\n"
     ]
    },
    {
     "name": "stderr",
     "output_type": "stream",
     "text": [
      "/var/folders/rb/k9pmvtxs1wv4y7fl9s364ybw0000gn/T/ipykernel_35610/878112586.py:75: FutureWarning: The frame.append method is deprecated and will be removed from pandas in a future version. Use pandas.concat instead.\n",
      "  df = df.append(row, ignore_index=True)\n"
     ]
    },
    {
     "name": "stdout",
     "output_type": "stream",
     "text": [
      "{'url': 'https://www.nike.com/t/court-borough-mid-2-little-kids-shoes-c6LRCk/CD7783-112', 'writepath': './text/www.nike.com/www.nike.com_t_court-borough-mid-2-little-kids-shoes-c6LRCk_CD7783-112.txt', 'title': 'Nike Court Borough Mid 2', 'price': '$65', 'images': 'https://static.nike.com/a/images/t_default/565664d7-4c1f-43a0-b709-bae11c1ff5d1/court-borough-mid-2-little-kids-shoes-c6LRCk.png'}\n",
      "https://www.nike.com/t/air-jordan-2-retro-big-kids-shoes-L6g3X2/DX2591-106\n"
     ]
    },
    {
     "name": "stderr",
     "output_type": "stream",
     "text": [
      "/var/folders/rb/k9pmvtxs1wv4y7fl9s364ybw0000gn/T/ipykernel_35610/878112586.py:75: FutureWarning: The frame.append method is deprecated and will be removed from pandas in a future version. Use pandas.concat instead.\n",
      "  df = df.append(row, ignore_index=True)\n"
     ]
    },
    {
     "name": "stdout",
     "output_type": "stream",
     "text": [
      "{'url': 'https://www.nike.com/t/air-jordan-2-retro-big-kids-shoes-L6g3X2/DX2591-106', 'writepath': './text/www.nike.com/www.nike.com_t_air-jordan-2-retro-big-kids-shoes-L6g3X2_DX2591-106.txt', 'title': 'Air Jordan 2 Retro', 'price': '$140', 'images': 'https://static.nike.com/a/images/t_default/c31ac2c2-845a-4eac-a6aa-97caa568c13b/air-jordan-2-retro-big-kids-shoes-L6g3X2.png'}\n",
      "https://www.nike.com/t/air-max-97-womens-shoes-Fr6rM4/DQ9131-700\n"
     ]
    },
    {
     "name": "stderr",
     "output_type": "stream",
     "text": [
      "/var/folders/rb/k9pmvtxs1wv4y7fl9s364ybw0000gn/T/ipykernel_35610/878112586.py:75: FutureWarning: The frame.append method is deprecated and will be removed from pandas in a future version. Use pandas.concat instead.\n",
      "  df = df.append(row, ignore_index=True)\n"
     ]
    },
    {
     "name": "stdout",
     "output_type": "stream",
     "text": [
      "{'url': 'https://www.nike.com/t/air-max-97-womens-shoes-Fr6rM4/DQ9131-700', 'writepath': './text/www.nike.com/www.nike.com_t_air-max-97-womens-shoes-Fr6rM4_DQ9131-700.txt', 'title': 'Nike Air Max 97', 'price': '$142.97', 'images': 'https://static.nike.com/a/images/t_default/551dab6c-cfd9-42e8-b04e-acfe0deae6a7/air-max-97-womens-shoes-Fr6rM4.png'}\n",
      "https://www.nike.com/t/court-legacy-canvas-womens-shoes-8KsPn1/DV7008-001\n"
     ]
    },
    {
     "name": "stderr",
     "output_type": "stream",
     "text": [
      "/var/folders/rb/k9pmvtxs1wv4y7fl9s364ybw0000gn/T/ipykernel_35610/878112586.py:75: FutureWarning: The frame.append method is deprecated and will be removed from pandas in a future version. Use pandas.concat instead.\n",
      "  df = df.append(row, ignore_index=True)\n"
     ]
    },
    {
     "name": "stdout",
     "output_type": "stream",
     "text": [
      "{'url': 'https://www.nike.com/t/court-legacy-canvas-womens-shoes-8KsPn1/DV7008-001', 'writepath': './text/www.nike.com/www.nike.com_t_court-legacy-canvas-womens-shoes-8KsPn1_DV7008-001.txt', 'title': 'Nike Court Legacy Canvas', 'price': '$50.97', 'images': 'https://static.nike.com/a/images/t_default/351675c1-a1fa-431f-9634-2072b8a62ee4/court-legacy-canvas-womens-shoes-8KsPn1.png'}\n",
      "https://www.nike.com/t/team-hustle-d-11-big-kids-basketball-shoes-hnMTl0/FJ7688-101\n"
     ]
    },
    {
     "name": "stderr",
     "output_type": "stream",
     "text": [
      "/var/folders/rb/k9pmvtxs1wv4y7fl9s364ybw0000gn/T/ipykernel_35610/878112586.py:75: FutureWarning: The frame.append method is deprecated and will be removed from pandas in a future version. Use pandas.concat instead.\n",
      "  df = df.append(row, ignore_index=True)\n"
     ]
    },
    {
     "name": "stdout",
     "output_type": "stream",
     "text": [
      "{'url': 'https://www.nike.com/t/team-hustle-d-11-big-kids-basketball-shoes-hnMTl0/FJ7688-101', 'writepath': './text/www.nike.com/www.nike.com_t_team-hustle-d-11-big-kids-basketball-shoes-hnMTl0_FJ7688-101.txt', 'title': 'Nike Team Hustle D 11', 'price': '$65', 'images': 'https://static.nike.com/a/images/t_default/d926275d-2c7e-4ed5-8a1b-43084bc7e6da/team-hustle-d-11-big-kids-basketball-shoes-hnMTl0.png'}\n",
      "https://www.nike.com/t/air-max-intrlk-big-kids-shoes-dP2Mpn/DC9290-100\n"
     ]
    },
    {
     "name": "stderr",
     "output_type": "stream",
     "text": [
      "/var/folders/rb/k9pmvtxs1wv4y7fl9s364ybw0000gn/T/ipykernel_35610/878112586.py:75: FutureWarning: The frame.append method is deprecated and will be removed from pandas in a future version. Use pandas.concat instead.\n",
      "  df = df.append(row, ignore_index=True)\n"
     ]
    },
    {
     "name": "stdout",
     "output_type": "stream",
     "text": [
      "{'url': 'https://www.nike.com/t/air-max-intrlk-big-kids-shoes-dP2Mpn/DC9290-100', 'writepath': './text/www.nike.com/www.nike.com_t_air-max-intrlk-big-kids-shoes-dP2Mpn_DC9290-100.txt', 'title': 'Nike Air Max INTRLK', 'price': '$80.97', 'images': 'https://static.nike.com/a/images/t_default/99cf29a5-c6ee-48b5-848a-39ddc177968c/air-max-intrlk-big-kids-shoes-dP2Mpn.png'}\n",
      "https://www.nike.com/t/air-jordan-1-zoom-air-cmft-2-womens-shoes-WxPRKg/FJ4652-100\n"
     ]
    },
    {
     "name": "stderr",
     "output_type": "stream",
     "text": [
      "/var/folders/rb/k9pmvtxs1wv4y7fl9s364ybw0000gn/T/ipykernel_35610/878112586.py:75: FutureWarning: The frame.append method is deprecated and will be removed from pandas in a future version. Use pandas.concat instead.\n",
      "  df = df.append(row, ignore_index=True)\n"
     ]
    },
    {
     "name": "stdout",
     "output_type": "stream",
     "text": [
      "{'url': 'https://www.nike.com/t/air-jordan-1-zoom-air-cmft-2-womens-shoes-WxPRKg/FJ4652-100', 'writepath': './text/www.nike.com/www.nike.com_t_air-jordan-1-zoom-air-cmft-2-womens-shoes-WxPRKg_FJ4652-100.txt', 'title': 'Air Jordan 1 Zoom Air CMFT 2', 'price': '$160', 'images': 'https://static.nike.com/a/images/t_default/4867842d-6682-4b12-9489-06309744ff8c/air-jordan-1-zoom-air-cmft-2-womens-shoes-WxPRKg.png'}\n",
      "https://www.nike.com/t/metcon-8-amp-mens-training-shoes-v5Dwq2/DV1206-500\n"
     ]
    },
    {
     "name": "stderr",
     "output_type": "stream",
     "text": [
      "/var/folders/rb/k9pmvtxs1wv4y7fl9s364ybw0000gn/T/ipykernel_35610/878112586.py:75: FutureWarning: The frame.append method is deprecated and will be removed from pandas in a future version. Use pandas.concat instead.\n",
      "  df = df.append(row, ignore_index=True)\n"
     ]
    },
    {
     "name": "stdout",
     "output_type": "stream",
     "text": [
      "{'url': 'https://www.nike.com/t/metcon-8-amp-mens-training-shoes-v5Dwq2/DV1206-500', 'writepath': './text/www.nike.com/www.nike.com_t_metcon-8-amp-mens-training-shoes-v5Dwq2_DV1206-500.txt', 'title': 'Nike Metcon 8 AMP', 'price': '$80.97', 'images': 'https://static.nike.com/a/images/t_default/b203341b-7365-4ded-8ad3-12164e00a44a/metcon-8-amp-mens-training-shoes-v5Dwq2.png'}\n",
      "https://www.nike.com/t/huarache-run-little-kids-shoes-wLq3AW/704949-423\n"
     ]
    },
    {
     "name": "stderr",
     "output_type": "stream",
     "text": [
      "/var/folders/rb/k9pmvtxs1wv4y7fl9s364ybw0000gn/T/ipykernel_35610/878112586.py:75: FutureWarning: The frame.append method is deprecated and will be removed from pandas in a future version. Use pandas.concat instead.\n",
      "  df = df.append(row, ignore_index=True)\n"
     ]
    },
    {
     "name": "stdout",
     "output_type": "stream",
     "text": [
      "{'url': 'https://www.nike.com/t/huarache-run-little-kids-shoes-wLq3AW/704949-423', 'writepath': './text/www.nike.com/www.nike.com_t_huarache-run-little-kids-shoes-wLq3AW_704949-423.txt', 'title': 'Nike Huarache Run', 'price': '$73', 'images': 'https://static.nike.com/a/images/t_default/ea7bbdea-e000-4a95-b776-0f689b478c5f/huarache-run-little-kids-shoes-wLq3AW.png'}\n",
      "https://www.nike.com/t/pegasus-flyease-mens-easy-on-off-road-running-shoes-wFJCNx/DZ4847-001\n"
     ]
    },
    {
     "name": "stderr",
     "output_type": "stream",
     "text": [
      "/var/folders/rb/k9pmvtxs1wv4y7fl9s364ybw0000gn/T/ipykernel_35610/878112586.py:75: FutureWarning: The frame.append method is deprecated and will be removed from pandas in a future version. Use pandas.concat instead.\n",
      "  df = df.append(row, ignore_index=True)\n"
     ]
    },
    {
     "name": "stdout",
     "output_type": "stream",
     "text": [
      "{'url': 'https://www.nike.com/t/pegasus-flyease-mens-easy-on-off-road-running-shoes-wFJCNx/DZ4847-001', 'writepath': './text/www.nike.com/www.nike.com_t_pegasus-flyease-mens-easy-on-off-road-running-shoes-wFJCNx_DZ4847-001.txt', 'title': 'Nike Pegasus FlyEase', 'price': '$90.97', 'images': 'https://static.nike.com/a/images/t_default/cb4c9349-3c76-45fc-ac78-bb4eaf8fd2e6/pegasus-flyease-mens-easy-on-off-road-running-shoes-wFJCNx.png'}\n",
      "https://www.nike.com/t/air-pegasus-83-mens-shoes-frQ2Gk/DH8229-101\n"
     ]
    },
    {
     "name": "stderr",
     "output_type": "stream",
     "text": [
      "/var/folders/rb/k9pmvtxs1wv4y7fl9s364ybw0000gn/T/ipykernel_35610/878112586.py:75: FutureWarning: The frame.append method is deprecated and will be removed from pandas in a future version. Use pandas.concat instead.\n",
      "  df = df.append(row, ignore_index=True)\n"
     ]
    },
    {
     "name": "stdout",
     "output_type": "stream",
     "text": [
      "{'url': 'https://www.nike.com/t/air-pegasus-83-mens-shoes-frQ2Gk/DH8229-101', 'writepath': './text/www.nike.com/www.nike.com_t_air-pegasus-83-mens-shoes-frQ2Gk_DH8229-101.txt', 'title': 'Nike Air Pegasus 83', 'price': '$95', 'images': 'https://static.nike.com/a/images/t_default/271371f3-0f5c-47c7-b4b4-f840e8b488c1/air-pegasus-83-mens-shoes-frQ2Gk.png'}\n",
      "https://www.nike.com/t/air-max-270-big-kids-shoes-HbtNX3/943345-501\n"
     ]
    },
    {
     "name": "stderr",
     "output_type": "stream",
     "text": [
      "/var/folders/rb/k9pmvtxs1wv4y7fl9s364ybw0000gn/T/ipykernel_35610/878112586.py:75: FutureWarning: The frame.append method is deprecated and will be removed from pandas in a future version. Use pandas.concat instead.\n",
      "  df = df.append(row, ignore_index=True)\n"
     ]
    },
    {
     "name": "stdout",
     "output_type": "stream",
     "text": [
      "{'url': 'https://www.nike.com/t/air-max-270-big-kids-shoes-HbtNX3/943345-501', 'writepath': './text/www.nike.com/www.nike.com_t_air-max-270-big-kids-shoes-HbtNX3_943345-501.txt', 'title': 'Nike Air Max 270', 'price': '$130', 'images': 'https://static.nike.com/a/images/t_default/06f48fa5-6aaf-4197-9eeb-039fbf58fcc0/air-max-270-big-kids-shoes-HbtNX3.png'}\n",
      "https://www.nike.com/t/air-jordan-1-low-g-golf-shoes-jChrQ3/DD9315-108\n"
     ]
    },
    {
     "name": "stderr",
     "output_type": "stream",
     "text": [
      "/var/folders/rb/k9pmvtxs1wv4y7fl9s364ybw0000gn/T/ipykernel_35610/878112586.py:75: FutureWarning: The frame.append method is deprecated and will be removed from pandas in a future version. Use pandas.concat instead.\n",
      "  df = df.append(row, ignore_index=True)\n"
     ]
    },
    {
     "name": "stdout",
     "output_type": "stream",
     "text": [
      "{'url': 'https://www.nike.com/t/air-jordan-1-low-g-golf-shoes-jChrQ3/DD9315-108', 'writepath': './text/www.nike.com/www.nike.com_t_air-jordan-1-low-g-golf-shoes-jChrQ3_DD9315-108.txt', 'title': 'Air Jordan 1 Low G', 'price': '$140', 'images': 'https://static.nike.com/a/images/t_default/23d84f57-4c87-4a50-9120-df01e2e29d6d/air-jordan-1-low-g-golf-shoes-jChrQ3.png'}\n",
      "https://www.nike.com/t/air-more-uptempo-little-kids-shoes-bh0ZVn/DZ2810-001\n"
     ]
    },
    {
     "name": "stderr",
     "output_type": "stream",
     "text": [
      "/var/folders/rb/k9pmvtxs1wv4y7fl9s364ybw0000gn/T/ipykernel_35610/878112586.py:75: FutureWarning: The frame.append method is deprecated and will be removed from pandas in a future version. Use pandas.concat instead.\n",
      "  df = df.append(row, ignore_index=True)\n"
     ]
    },
    {
     "name": "stdout",
     "output_type": "stream",
     "text": [
      "{'url': 'https://www.nike.com/t/air-more-uptempo-little-kids-shoes-bh0ZVn/DZ2810-001', 'writepath': './text/www.nike.com/www.nike.com_t_air-more-uptempo-little-kids-shoes-bh0ZVn_DZ2810-001.txt', 'title': 'Nike Air More Uptempo', 'price': '$100', 'images': 'https://static.nike.com/a/images/t_default/96102e5b-7eaf-4d5a-83c8-18b7a5f9550c/air-more-uptempo-little-kids-shoes-bh0ZVn.png'}\n",
      "https://www.nike.com/t/j-force-1-low-lx-sp-womens-shoes-mj8RZW/DR0424-100\n"
     ]
    },
    {
     "name": "stderr",
     "output_type": "stream",
     "text": [
      "/var/folders/rb/k9pmvtxs1wv4y7fl9s364ybw0000gn/T/ipykernel_35610/878112586.py:75: FutureWarning: The frame.append method is deprecated and will be removed from pandas in a future version. Use pandas.concat instead.\n",
      "  df = df.append(row, ignore_index=True)\n"
     ]
    },
    {
     "name": "stdout",
     "output_type": "stream",
     "text": [
      "{'url': 'https://www.nike.com/t/j-force-1-low-lx-sp-womens-shoes-mj8RZW/DR0424-100', 'writepath': './text/www.nike.com/www.nike.com_t_j-force-1-low-lx-sp-womens-shoes-mj8RZW_DR0424-100.txt', 'title': 'Nike J Force 1 Low LX SP', 'price': '$170', 'images': 'https://static.nike.com/a/images/t_default/44cb9fb5-66b1-4e9b-801a-ef53e63268bb/j-force-1-low-lx-sp-womens-shoes-mj8RZW.png'}\n",
      "https://www.nike.com/t/air-jordan-8-retro-se-x-rui-hachimura-shoes-TrdRnp/DO2496-700\n"
     ]
    },
    {
     "name": "stderr",
     "output_type": "stream",
     "text": [
      "/var/folders/rb/k9pmvtxs1wv4y7fl9s364ybw0000gn/T/ipykernel_35610/878112586.py:75: FutureWarning: The frame.append method is deprecated and will be removed from pandas in a future version. Use pandas.concat instead.\n",
      "  df = df.append(row, ignore_index=True)\n"
     ]
    },
    {
     "name": "stdout",
     "output_type": "stream",
     "text": [
      "{'url': 'https://www.nike.com/t/air-jordan-8-retro-se-x-rui-hachimura-shoes-TrdRnp/DO2496-700', 'writepath': './text/www.nike.com/www.nike.com_t_air-jordan-8-retro-se-x-rui-hachimura-shoes-TrdRnp_DO2496-700.txt', 'title': 'Air Jordan 8 Retro SE x Rui Hachimura', 'price': '$225', 'images': 'https://static.nike.com/a/images/t_default/24a56737-08ee-47e2-a2b8-50586fc90722/air-jordan-8-retro-se-x-rui-hachimura-shoes-TrdRnp.png'}\n",
      "https://www.nike.com/t/air-jordan-11-cmft-low-mens-shoes-Chz8HV/DV2207-100\n"
     ]
    },
    {
     "name": "stderr",
     "output_type": "stream",
     "text": [
      "/var/folders/rb/k9pmvtxs1wv4y7fl9s364ybw0000gn/T/ipykernel_35610/878112586.py:75: FutureWarning: The frame.append method is deprecated and will be removed from pandas in a future version. Use pandas.concat instead.\n",
      "  df = df.append(row, ignore_index=True)\n"
     ]
    },
    {
     "name": "stdout",
     "output_type": "stream",
     "text": [
      "{'url': 'https://www.nike.com/t/air-jordan-11-cmft-low-mens-shoes-Chz8HV/DV2207-100', 'writepath': './text/www.nike.com/www.nike.com_t_air-jordan-11-cmft-low-mens-shoes-Chz8HV_DV2207-100.txt', 'title': 'Air Jordan 11 CMFT Low', 'price': '$130', 'images': 'https://static.nike.com/a/images/t_default/a69b2a9e-69c3-4dcc-adda-b21cb3e43f0c/air-jordan-11-cmft-low-mens-shoes-Chz8HV.png'}\n",
      "https://www.nike.com/t/mercurial-vapor-15-academy-turf-soccer-shoes-rdbD4k/DJ5635-605\n"
     ]
    },
    {
     "name": "stderr",
     "output_type": "stream",
     "text": [
      "/var/folders/rb/k9pmvtxs1wv4y7fl9s364ybw0000gn/T/ipykernel_35610/878112586.py:75: FutureWarning: The frame.append method is deprecated and will be removed from pandas in a future version. Use pandas.concat instead.\n",
      "  df = df.append(row, ignore_index=True)\n"
     ]
    },
    {
     "name": "stdout",
     "output_type": "stream",
     "text": [
      "{'url': 'https://www.nike.com/t/mercurial-vapor-15-academy-turf-soccer-shoes-rdbD4k/DJ5635-605', 'writepath': './text/www.nike.com/www.nike.com_t_mercurial-vapor-15-academy-turf-soccer-shoes-rdbD4k_DJ5635-605.txt', 'title': 'Nike Mercurial Vapor 15 Academy', 'price': '$85', 'images': 'https://static.nike.com/a/images/t_default/f242756d-1edf-4568-ba55-76f792b32af8/mercurial-vapor-15-academy-turf-soccer-shoes-rdbD4k.png'}\n",
      "https://www.nike.com/t/air-force-1-lv8-big-kids-shoes-PhxVRL/FD0300-600\n"
     ]
    },
    {
     "name": "stderr",
     "output_type": "stream",
     "text": [
      "/var/folders/rb/k9pmvtxs1wv4y7fl9s364ybw0000gn/T/ipykernel_35610/878112586.py:75: FutureWarning: The frame.append method is deprecated and will be removed from pandas in a future version. Use pandas.concat instead.\n",
      "  df = df.append(row, ignore_index=True)\n"
     ]
    },
    {
     "name": "stdout",
     "output_type": "stream",
     "text": [
      "{'url': 'https://www.nike.com/t/air-force-1-lv8-big-kids-shoes-PhxVRL/FD0300-600', 'writepath': './text/www.nike.com/www.nike.com_t_air-force-1-lv8-big-kids-shoes-PhxVRL_FD0300-600.txt', 'title': 'Nike Air Force 1 LV8', 'price': '$80.97', 'images': 'https://static.nike.com/a/images/t_default/877d3a48-27d4-448c-874f-48f5522d41b1/air-force-1-lv8-big-kids-shoes-PhxVRL.png'}\n",
      "https://www.nike.com/t/lebron-ix-mens-shoes-Dd97rS/DJ3908-600\n"
     ]
    },
    {
     "name": "stderr",
     "output_type": "stream",
     "text": [
      "/var/folders/rb/k9pmvtxs1wv4y7fl9s364ybw0000gn/T/ipykernel_35610/878112586.py:75: FutureWarning: The frame.append method is deprecated and will be removed from pandas in a future version. Use pandas.concat instead.\n",
      "  df = df.append(row, ignore_index=True)\n"
     ]
    },
    {
     "name": "stdout",
     "output_type": "stream",
     "text": [
      "{'url': 'https://www.nike.com/t/lebron-ix-mens-shoes-Dd97rS/DJ3908-600', 'writepath': './text/www.nike.com/www.nike.com_t_lebron-ix-mens-shoes-Dd97rS_DJ3908-600.txt', 'title': 'Nike LeBron IX', 'price': '$115.97', 'images': 'https://static.nike.com/a/images/t_default/fb855342-f285-4e14-bb74-ff806032645d/lebron-ix-mens-shoes-Dd97rS.png'}\n",
      "https://www.nike.com/t/star-runner-3-little-kids-shoes-hMdc27/DA2777-013\n"
     ]
    },
    {
     "name": "stderr",
     "output_type": "stream",
     "text": [
      "/var/folders/rb/k9pmvtxs1wv4y7fl9s364ybw0000gn/T/ipykernel_35610/878112586.py:75: FutureWarning: The frame.append method is deprecated and will be removed from pandas in a future version. Use pandas.concat instead.\n",
      "  df = df.append(row, ignore_index=True)\n"
     ]
    },
    {
     "name": "stdout",
     "output_type": "stream",
     "text": [
      "{'url': 'https://www.nike.com/t/star-runner-3-little-kids-shoes-hMdc27/DA2777-013', 'writepath': './text/www.nike.com/www.nike.com_t_star-runner-3-little-kids-shoes-hMdc27_DA2777-013.txt', 'title': 'Nike Star Runner 3', 'price': '$50', 'images': 'https://static.nike.com/a/images/t_default/70a3d1c5-385e-4256-8181-126e4f5b8da1/star-runner-3-little-kids-shoes-hMdc27.png'}\n",
      "https://www.nike.com/t/zion-2-baby-toddler-shoes-b08qhP/DX3333-164\n"
     ]
    },
    {
     "name": "stderr",
     "output_type": "stream",
     "text": [
      "/var/folders/rb/k9pmvtxs1wv4y7fl9s364ybw0000gn/T/ipykernel_35610/878112586.py:75: FutureWarning: The frame.append method is deprecated and will be removed from pandas in a future version. Use pandas.concat instead.\n",
      "  df = df.append(row, ignore_index=True)\n"
     ]
    },
    {
     "name": "stdout",
     "output_type": "stream",
     "text": [
      "{'url': 'https://www.nike.com/t/zion-2-baby-toddler-shoes-b08qhP/DX3333-164', 'writepath': './text/www.nike.com/www.nike.com_t_zion-2-baby-toddler-shoes-b08qhP_DX3333-164.txt', 'title': 'Zion 2', 'price': '$38.97', 'images': 'https://static.nike.com/a/images/t_default/a7027275-c704-4e20-9909-b329d74a83ef/zion-2-baby-toddler-shoes-b08qhP.png'}\n",
      "https://www.nike.com/t/alphafly-2-mens-road-racing-shoes-Bstm8X/DN3555-600\n"
     ]
    },
    {
     "name": "stderr",
     "output_type": "stream",
     "text": [
      "/var/folders/rb/k9pmvtxs1wv4y7fl9s364ybw0000gn/T/ipykernel_35610/878112586.py:75: FutureWarning: The frame.append method is deprecated and will be removed from pandas in a future version. Use pandas.concat instead.\n",
      "  df = df.append(row, ignore_index=True)\n"
     ]
    },
    {
     "name": "stdout",
     "output_type": "stream",
     "text": [
      "{'url': 'https://www.nike.com/t/alphafly-2-mens-road-racing-shoes-Bstm8X/DN3555-600', 'writepath': './text/www.nike.com/www.nike.com_t_alphafly-2-mens-road-racing-shoes-Bstm8X_DN3555-600.txt', 'title': 'Nike Alphafly 2', 'price': '$275', 'images': 'https://static.nike.com/a/images/t_default/f9645056-9dc0-4b24-9006-57bf348e8f47/alphafly-2-mens-road-racing-shoes-Bstm8X.png'}\n",
      "https://www.nike.com/t/air-max-systm-mens-shoes-TwgLWK/DM9537-102\n"
     ]
    },
    {
     "name": "stderr",
     "output_type": "stream",
     "text": [
      "/var/folders/rb/k9pmvtxs1wv4y7fl9s364ybw0000gn/T/ipykernel_35610/878112586.py:75: FutureWarning: The frame.append method is deprecated and will be removed from pandas in a future version. Use pandas.concat instead.\n",
      "  df = df.append(row, ignore_index=True)\n"
     ]
    },
    {
     "name": "stdout",
     "output_type": "stream",
     "text": [
      "{'url': 'https://www.nike.com/t/air-max-systm-mens-shoes-TwgLWK/DM9537-102', 'writepath': './text/www.nike.com/www.nike.com_t_air-max-systm-mens-shoes-TwgLWK_DM9537-102.txt', 'title': 'Nike Air Max SYSTM', 'price': '$69.97', 'images': 'https://static.nike.com/a/images/t_default/e837b2bd-4786-4677-b356-9d65d360822a/air-max-systm-mens-shoes-TwgLWK.png'}\n",
      "https://www.nike.com/t/dunk-high-womens-shoes-PXHcGT/DD1869-103\n"
     ]
    },
    {
     "name": "stderr",
     "output_type": "stream",
     "text": [
      "/var/folders/rb/k9pmvtxs1wv4y7fl9s364ybw0000gn/T/ipykernel_35610/878112586.py:75: FutureWarning: The frame.append method is deprecated and will be removed from pandas in a future version. Use pandas.concat instead.\n",
      "  df = df.append(row, ignore_index=True)\n"
     ]
    },
    {
     "name": "stdout",
     "output_type": "stream",
     "text": [
      "{'url': 'https://www.nike.com/t/dunk-high-womens-shoes-PXHcGT/DD1869-103', 'writepath': './text/www.nike.com/www.nike.com_t_dunk-high-womens-shoes-PXHcGT_DD1869-103.txt', 'title': 'Nike Dunk High', 'price': '$125', 'images': 'https://static.nike.com/a/images/t_default/5b0981ff-45f8-40c3-9372-32430a62aaea/dunk-high-womens-shoes-PXHcGT.png'}\n",
      "https://www.nike.com/t/invincible-3-womens-road-running-shoes-M4VNQK/FJ4496-100\n"
     ]
    },
    {
     "name": "stderr",
     "output_type": "stream",
     "text": [
      "/var/folders/rb/k9pmvtxs1wv4y7fl9s364ybw0000gn/T/ipykernel_35610/878112586.py:75: FutureWarning: The frame.append method is deprecated and will be removed from pandas in a future version. Use pandas.concat instead.\n",
      "  df = df.append(row, ignore_index=True)\n"
     ]
    },
    {
     "name": "stdout",
     "output_type": "stream",
     "text": [
      "{'url': 'https://www.nike.com/t/invincible-3-womens-road-running-shoes-M4VNQK/FJ4496-100', 'writepath': './text/www.nike.com/www.nike.com_t_invincible-3-womens-road-running-shoes-M4VNQK_FJ4496-100.txt', 'title': 'Nike Invincible 3', 'price': '$180', 'images': 'https://static.nike.com/a/images/t_default/271884cc-ae38-469f-8298-1dee940c04d5/invincible-3-womens-road-running-shoes-M4VNQK.png'}\n",
      "https://www.nike.com/t/nikecourt-vision-mid-womens-shoes-0fBw8T/CD5436-100\n"
     ]
    },
    {
     "name": "stderr",
     "output_type": "stream",
     "text": [
      "/var/folders/rb/k9pmvtxs1wv4y7fl9s364ybw0000gn/T/ipykernel_35610/878112586.py:75: FutureWarning: The frame.append method is deprecated and will be removed from pandas in a future version. Use pandas.concat instead.\n",
      "  df = df.append(row, ignore_index=True)\n"
     ]
    },
    {
     "name": "stdout",
     "output_type": "stream",
     "text": [
      "{'url': 'https://www.nike.com/t/nikecourt-vision-mid-womens-shoes-0fBw8T/CD5436-100', 'writepath': './text/www.nike.com/www.nike.com_t_nikecourt-vision-mid-womens-shoes-0fBw8T_CD5436-100.txt', 'title': 'NikeCourt Vision Mid', 'price': '$85', 'images': 'https://static.nike.com/a/images/t_default/b6cpmkbapayob75c9vlq/nikecourt-vision-mid-womens-shoes-0fBw8T.png'}\n",
      "https://www.nike.com/t/sb-blazer-low-pro-gt-premium-skate-shoes-PjLzqB/FN7404-200\n"
     ]
    },
    {
     "name": "stderr",
     "output_type": "stream",
     "text": [
      "/var/folders/rb/k9pmvtxs1wv4y7fl9s364ybw0000gn/T/ipykernel_35610/878112586.py:75: FutureWarning: The frame.append method is deprecated and will be removed from pandas in a future version. Use pandas.concat instead.\n",
      "  df = df.append(row, ignore_index=True)\n"
     ]
    },
    {
     "name": "stdout",
     "output_type": "stream",
     "text": [
      "{'url': 'https://www.nike.com/t/sb-blazer-low-pro-gt-premium-skate-shoes-PjLzqB/FN7404-200', 'writepath': './text/www.nike.com/www.nike.com_t_sb-blazer-low-pro-gt-premium-skate-shoes-PjLzqB_FN7404-200.txt', 'title': 'Nike SB Blazer Low Pro GT Premium', 'price': '$90', 'images': 'https://static.nike.com/a/images/t_default/84320db9-9658-44f8-9ffd-d73f2d86cb0e/sb-blazer-low-pro-gt-premium-skate-shoes-PjLzqB.png'}\n",
      "https://www.nike.com/t/waffle-one-leather-mens-shoes-MZnzMT/DX9428-100\n"
     ]
    },
    {
     "name": "stderr",
     "output_type": "stream",
     "text": [
      "/var/folders/rb/k9pmvtxs1wv4y7fl9s364ybw0000gn/T/ipykernel_35610/878112586.py:75: FutureWarning: The frame.append method is deprecated and will be removed from pandas in a future version. Use pandas.concat instead.\n",
      "  df = df.append(row, ignore_index=True)\n"
     ]
    },
    {
     "name": "stdout",
     "output_type": "stream",
     "text": [
      "{'url': 'https://www.nike.com/t/waffle-one-leather-mens-shoes-MZnzMT/DX9428-100', 'writepath': './text/www.nike.com/www.nike.com_t_waffle-one-leather-mens-shoes-MZnzMT_DX9428-100.txt', 'title': 'Nike Waffle One Leather', 'price': '$120', 'images': 'https://static.nike.com/a/images/t_default/d7bfb16e-4d91-4c38-8d78-f46d13e99483/waffle-one-leather-mens-shoes-MZnzMT.png'}\n",
      "https://www.nike.com/t/air-force-1-07-premium-mens-shoes-S9NNTv/FD0778-100\n"
     ]
    },
    {
     "name": "stderr",
     "output_type": "stream",
     "text": [
      "/var/folders/rb/k9pmvtxs1wv4y7fl9s364ybw0000gn/T/ipykernel_35610/878112586.py:75: FutureWarning: The frame.append method is deprecated and will be removed from pandas in a future version. Use pandas.concat instead.\n",
      "  df = df.append(row, ignore_index=True)\n"
     ]
    },
    {
     "name": "stdout",
     "output_type": "stream",
     "text": [
      "{'url': 'https://www.nike.com/t/air-force-1-07-premium-mens-shoes-S9NNTv/FD0778-100', 'writepath': './text/www.nike.com/www.nike.com_t_air-force-1-07-premium-mens-shoes-S9NNTv_FD0778-100.txt', 'title': \"Nike Air Force 1 '07 Premium\", 'price': '$150', 'images': 'https://static.nike.com/a/images/t_default/a9b6d2b3-5612-4c96-9eba-b62c817fffc0/air-force-1-07-premium-mens-shoes-S9NNTv.png'}\n",
      "https://www.nike.com/t/air-force-1-lx-womens-shoes-qRLqSW/DZ2709-100\n"
     ]
    },
    {
     "name": "stderr",
     "output_type": "stream",
     "text": [
      "/var/folders/rb/k9pmvtxs1wv4y7fl9s364ybw0000gn/T/ipykernel_35610/878112586.py:75: FutureWarning: The frame.append method is deprecated and will be removed from pandas in a future version. Use pandas.concat instead.\n",
      "  df = df.append(row, ignore_index=True)\n"
     ]
    },
    {
     "name": "stdout",
     "output_type": "stream",
     "text": [
      "{'url': 'https://www.nike.com/t/air-force-1-lx-womens-shoes-qRLqSW/DZ2709-100', 'writepath': './text/www.nike.com/www.nike.com_t_air-force-1-lx-womens-shoes-qRLqSW_DZ2709-100.txt', 'title': 'Nike Air Force 1 LX', 'price': '$120', 'images': 'https://static.nike.com/a/images/t_default/aca2a694-4443-43da-85f6-32c561aa1805/air-force-1-lx-womens-shoes-qRLqSW.png'}\n",
      "https://www.nike.com/t/air-huarache-mens-shoes-JppwBb/DD1068-200\n"
     ]
    },
    {
     "name": "stderr",
     "output_type": "stream",
     "text": [
      "/var/folders/rb/k9pmvtxs1wv4y7fl9s364ybw0000gn/T/ipykernel_35610/878112586.py:75: FutureWarning: The frame.append method is deprecated and will be removed from pandas in a future version. Use pandas.concat instead.\n",
      "  df = df.append(row, ignore_index=True)\n"
     ]
    },
    {
     "name": "stdout",
     "output_type": "stream",
     "text": [
      "{'url': 'https://www.nike.com/t/air-huarache-mens-shoes-JppwBb/DD1068-200', 'writepath': './text/www.nike.com/www.nike.com_t_air-huarache-mens-shoes-JppwBb_DD1068-200.txt', 'title': 'Nike Air Huarache', 'price': '$60.97', 'images': 'https://static.nike.com/a/images/t_default/05d0a185-43d7-46dd-ba94-cc50cc547f72/air-huarache-mens-shoes-JppwBb.png'}\n",
      "https://www.nike.com/t/blazer-low-77-jumbo-mens-shoes-Z1xc3G/DN2158-101\n"
     ]
    },
    {
     "name": "stderr",
     "output_type": "stream",
     "text": [
      "/var/folders/rb/k9pmvtxs1wv4y7fl9s364ybw0000gn/T/ipykernel_35610/878112586.py:75: FutureWarning: The frame.append method is deprecated and will be removed from pandas in a future version. Use pandas.concat instead.\n",
      "  df = df.append(row, ignore_index=True)\n"
     ]
    },
    {
     "name": "stdout",
     "output_type": "stream",
     "text": [
      "{'url': 'https://www.nike.com/t/blazer-low-77-jumbo-mens-shoes-Z1xc3G/DN2158-101', 'writepath': './text/www.nike.com/www.nike.com_t_blazer-low-77-jumbo-mens-shoes-Z1xc3G_DN2158-101.txt', 'title': \"Nike Blazer Low '77 Jumbo\", 'price': '$100', 'images': 'https://static.nike.com/a/images/t_default/81790969-727e-41d6-b821-50c49ad9af4c/blazer-low-77-jumbo-mens-shoes-Z1xc3G.png'}\n",
      "https://www.nike.com/t/air-jordan-12-low-golf-shoes-0fSmzT/DH4120-101\n"
     ]
    },
    {
     "name": "stderr",
     "output_type": "stream",
     "text": [
      "/var/folders/rb/k9pmvtxs1wv4y7fl9s364ybw0000gn/T/ipykernel_35610/878112586.py:75: FutureWarning: The frame.append method is deprecated and will be removed from pandas in a future version. Use pandas.concat instead.\n",
      "  df = df.append(row, ignore_index=True)\n"
     ]
    },
    {
     "name": "stdout",
     "output_type": "stream",
     "text": [
      "{'url': 'https://www.nike.com/t/air-jordan-12-low-golf-shoes-0fSmzT/DH4120-101', 'writepath': './text/www.nike.com/www.nike.com_t_air-jordan-12-low-golf-shoes-0fSmzT_DH4120-101.txt', 'title': 'Air Jordan 12 Low', 'price': '$220', 'images': 'https://static.nike.com/a/images/t_default/7d757c87-87a5-4e15-a3c4-29587b526fb9/air-jordan-12-low-golf-shoes-0fSmzT.png'}\n",
      "https://www.nike.com/t/air-force-1-07-womens-shoes-PqdxJw/FD1448-664\n"
     ]
    },
    {
     "name": "stderr",
     "output_type": "stream",
     "text": [
      "/var/folders/rb/k9pmvtxs1wv4y7fl9s364ybw0000gn/T/ipykernel_35610/878112586.py:75: FutureWarning: The frame.append method is deprecated and will be removed from pandas in a future version. Use pandas.concat instead.\n",
      "  df = df.append(row, ignore_index=True)\n"
     ]
    },
    {
     "name": "stdout",
     "output_type": "stream",
     "text": [
      "{'url': 'https://www.nike.com/t/air-force-1-07-womens-shoes-PqdxJw/FD1448-664', 'writepath': './text/www.nike.com/www.nike.com_t_air-force-1-07-womens-shoes-PqdxJw_FD1448-664.txt', 'title': \"Nike Air Force 1 '07\", 'price': '$110', 'images': 'https://static.nike.com/a/images/t_default/0d9d86e4-11b5-43ae-8462-c7bd05096ec8/air-force-1-07-womens-shoes-PqdxJw.png'}\n",
      "https://www.nike.com/t/air-jordan-1-high-og-big-kids-shoes-PBgF1q/FD1437-410\n"
     ]
    },
    {
     "name": "stderr",
     "output_type": "stream",
     "text": [
      "/var/folders/rb/k9pmvtxs1wv4y7fl9s364ybw0000gn/T/ipykernel_35610/878112586.py:75: FutureWarning: The frame.append method is deprecated and will be removed from pandas in a future version. Use pandas.concat instead.\n",
      "  df = df.append(row, ignore_index=True)\n"
     ]
    },
    {
     "name": "stdout",
     "output_type": "stream",
     "text": [
      "{'url': 'https://www.nike.com/t/air-jordan-1-high-og-big-kids-shoes-PBgF1q/FD1437-410', 'writepath': './text/www.nike.com/www.nike.com_t_air-jordan-1-high-og-big-kids-shoes-PBgF1q_FD1437-410.txt', 'title': 'Air Jordan 1 High OG', 'price': '$140', 'images': 'https://static.nike.com/a/images/t_default/dbdbc01f-7165-43d8-aa22-8bf217c60f6c/air-jordan-1-high-og-big-kids-shoes-PBgF1q.png'}\n",
      "https://www.nike.com/t/air-max-90-ltr-little-kids-shoes-JKZRhx/CD6867-001\n"
     ]
    },
    {
     "name": "stderr",
     "output_type": "stream",
     "text": [
      "/var/folders/rb/k9pmvtxs1wv4y7fl9s364ybw0000gn/T/ipykernel_35610/878112586.py:75: FutureWarning: The frame.append method is deprecated and will be removed from pandas in a future version. Use pandas.concat instead.\n",
      "  df = df.append(row, ignore_index=True)\n"
     ]
    },
    {
     "name": "stdout",
     "output_type": "stream",
     "text": [
      "{'url': 'https://www.nike.com/t/air-max-90-ltr-little-kids-shoes-JKZRhx/CD6867-001', 'writepath': './text/www.nike.com/www.nike.com_t_air-max-90-ltr-little-kids-shoes-JKZRhx_CD6867-001.txt', 'title': 'Nike Air Max 90 LTR', 'price': '$80', 'images': 'https://static.nike.com/a/images/t_default/6e5ce5bb-e3f6-4b4b-bfa5-a4e5c62231a8/air-max-90-ltr-little-kids-shoes-JKZRhx.png'}\n",
      "https://www.nike.com/t/air-jordan-xxxvii-big-kids-shoes-VV9KZw/DD7421-400\n"
     ]
    },
    {
     "name": "stderr",
     "output_type": "stream",
     "text": [
      "/var/folders/rb/k9pmvtxs1wv4y7fl9s364ybw0000gn/T/ipykernel_35610/878112586.py:75: FutureWarning: The frame.append method is deprecated and will be removed from pandas in a future version. Use pandas.concat instead.\n",
      "  df = df.append(row, ignore_index=True)\n"
     ]
    },
    {
     "name": "stdout",
     "output_type": "stream",
     "text": [
      "{'url': 'https://www.nike.com/t/air-jordan-xxxvii-big-kids-shoes-VV9KZw/DD7421-400', 'writepath': './text/www.nike.com/www.nike.com_t_air-jordan-xxxvii-big-kids-shoes-VV9KZw_DD7421-400.txt', 'title': 'Air Jordan XXXVII', 'price': '$78.97', 'images': 'https://static.nike.com/a/images/t_default/02e50444-1a0e-478f-a95f-bf095122fbd7/air-jordan-xxxvii-big-kids-shoes-VV9KZw.png'}\n",
      "https://www.nike.com/t/air-max-90-ltr-se-baby-toddler-shoes-tPrVLv/DV1845-100\n"
     ]
    },
    {
     "name": "stderr",
     "output_type": "stream",
     "text": [
      "/var/folders/rb/k9pmvtxs1wv4y7fl9s364ybw0000gn/T/ipykernel_35610/878112586.py:75: FutureWarning: The frame.append method is deprecated and will be removed from pandas in a future version. Use pandas.concat instead.\n",
      "  df = df.append(row, ignore_index=True)\n"
     ]
    },
    {
     "name": "stdout",
     "output_type": "stream",
     "text": [
      "{'url': 'https://www.nike.com/t/air-max-90-ltr-se-baby-toddler-shoes-tPrVLv/DV1845-100', 'writepath': './text/www.nike.com/www.nike.com_t_air-max-90-ltr-se-baby-toddler-shoes-tPrVLv_DV1845-100.txt', 'title': 'Nike Air Max 90 LTR SE', 'price': '$63.97', 'images': 'https://static.nike.com/a/images/t_default/35a3b96f-1401-445d-8066-985db3bbd54c/air-max-90-ltr-se-baby-toddler-shoes-tPrVLv.png'}\n",
      "https://www.nike.com/t/flex-runner-2-baby-toddler-shoes-3P1w0c/DJ6039-700\n"
     ]
    },
    {
     "name": "stderr",
     "output_type": "stream",
     "text": [
      "/var/folders/rb/k9pmvtxs1wv4y7fl9s364ybw0000gn/T/ipykernel_35610/878112586.py:75: FutureWarning: The frame.append method is deprecated and will be removed from pandas in a future version. Use pandas.concat instead.\n",
      "  df = df.append(row, ignore_index=True)\n"
     ]
    },
    {
     "name": "stdout",
     "output_type": "stream",
     "text": [
      "{'url': 'https://www.nike.com/t/flex-runner-2-baby-toddler-shoes-3P1w0c/DJ6039-700', 'writepath': './text/www.nike.com/www.nike.com_t_flex-runner-2-baby-toddler-shoes-3P1w0c_DJ6039-700.txt', 'title': 'Nike Flex Runner 2', 'price': '$40', 'images': 'https://static.nike.com/a/images/t_default/4bb9ef88-47eb-467b-bed9-770a5a2d8fc9/flex-runner-2-baby-toddler-shoes-3P1w0c.png'}\n",
      "https://www.nike.com/t/phantom-gx-academy-turf-soccer-shoes-LK93gv/DD9477-010\n"
     ]
    },
    {
     "name": "stderr",
     "output_type": "stream",
     "text": [
      "/var/folders/rb/k9pmvtxs1wv4y7fl9s364ybw0000gn/T/ipykernel_35610/878112586.py:75: FutureWarning: The frame.append method is deprecated and will be removed from pandas in a future version. Use pandas.concat instead.\n",
      "  df = df.append(row, ignore_index=True)\n"
     ]
    },
    {
     "name": "stdout",
     "output_type": "stream",
     "text": [
      "{'url': 'https://www.nike.com/t/phantom-gx-academy-turf-soccer-shoes-LK93gv/DD9477-010', 'writepath': './text/www.nike.com/www.nike.com_t_phantom-gx-academy-turf-soccer-shoes-LK93gv_DD9477-010.txt', 'title': 'Nike Phantom GX Academy', 'price': '$85', 'images': 'https://static.nike.com/a/images/t_default/d4d1f5ca-cfc9-45bf-975c-b58e1d97c1f9/phantom-gx-academy-turf-soccer-shoes-LK93gv.png'}\n",
      "https://www.nike.com/t/air-force-1-mid-07-lx-nbhd-mens-shoes-CvfbLv/FB2036-700\n"
     ]
    },
    {
     "name": "stderr",
     "output_type": "stream",
     "text": [
      "/var/folders/rb/k9pmvtxs1wv4y7fl9s364ybw0000gn/T/ipykernel_35610/878112586.py:75: FutureWarning: The frame.append method is deprecated and will be removed from pandas in a future version. Use pandas.concat instead.\n",
      "  df = df.append(row, ignore_index=True)\n"
     ]
    },
    {
     "name": "stdout",
     "output_type": "stream",
     "text": [
      "{'url': 'https://www.nike.com/t/air-force-1-mid-07-lx-nbhd-mens-shoes-CvfbLv/FB2036-700', 'writepath': './text/www.nike.com/www.nike.com_t_air-force-1-mid-07-lx-nbhd-mens-shoes-CvfbLv_FB2036-700.txt', 'title': \"Nike Air Force 1 Mid '07 LX NBHD\", 'price': '$140', 'images': 'https://static.nike.com/a/images/t_default/5b8792cd-625f-4b20-be9b-0aa53a40e597/air-force-1-mid-07-lx-nbhd-mens-shoes-CvfbLv.png'}\n",
      "https://www.nike.com/t/nikecourt-air-zoom-lite-3-mens-tennis-shoes-zZtV5H/DV3258-100\n"
     ]
    },
    {
     "name": "stderr",
     "output_type": "stream",
     "text": [
      "/var/folders/rb/k9pmvtxs1wv4y7fl9s364ybw0000gn/T/ipykernel_35610/878112586.py:75: FutureWarning: The frame.append method is deprecated and will be removed from pandas in a future version. Use pandas.concat instead.\n",
      "  df = df.append(row, ignore_index=True)\n"
     ]
    },
    {
     "name": "stdout",
     "output_type": "stream",
     "text": [
      "{'url': 'https://www.nike.com/t/nikecourt-air-zoom-lite-3-mens-tennis-shoes-zZtV5H/DV3258-100', 'writepath': './text/www.nike.com/www.nike.com_t_nikecourt-air-zoom-lite-3-mens-tennis-shoes-zZtV5H_DV3258-100.txt', 'title': 'NikeCourt Air Zoom Lite 3', 'price': '$58.97', 'images': 'https://static.nike.com/a/images/t_default/e834b5a9-c60e-41d8-a7b1-c18cba369a4a/nikecourt-air-zoom-lite-3-mens-tennis-shoes-zZtV5H.png'}\n",
      "https://www.nike.com/t/jordan-23-7-little-kids-shoes-GdHH0L/DZ6330-700\n"
     ]
    },
    {
     "name": "stderr",
     "output_type": "stream",
     "text": [
      "/var/folders/rb/k9pmvtxs1wv4y7fl9s364ybw0000gn/T/ipykernel_35610/878112586.py:75: FutureWarning: The frame.append method is deprecated and will be removed from pandas in a future version. Use pandas.concat instead.\n",
      "  df = df.append(row, ignore_index=True)\n"
     ]
    },
    {
     "name": "stdout",
     "output_type": "stream",
     "text": [
      "{'url': 'https://www.nike.com/t/jordan-23-7-little-kids-shoes-GdHH0L/DZ6330-700', 'writepath': './text/www.nike.com/www.nike.com_t_jordan-23-7-little-kids-shoes-GdHH0L_DZ6330-700.txt', 'title': 'Jordan 23/7', 'price': '$65', 'images': 'https://static.nike.com/a/images/t_default/e85b82a3-3e40-4ba5-aed1-820f13ed5b7d/jordan-23-7-little-kids-shoes-GdHH0L.png'}\n",
      "https://www.nike.com/t/premier-3-artificial-turf-soccer-shoes-1f2zKX/AT6178-010\n"
     ]
    },
    {
     "name": "stderr",
     "output_type": "stream",
     "text": [
      "/var/folders/rb/k9pmvtxs1wv4y7fl9s364ybw0000gn/T/ipykernel_35610/878112586.py:75: FutureWarning: The frame.append method is deprecated and will be removed from pandas in a future version. Use pandas.concat instead.\n",
      "  df = df.append(row, ignore_index=True)\n"
     ]
    },
    {
     "name": "stdout",
     "output_type": "stream",
     "text": [
      "{'url': 'https://www.nike.com/t/premier-3-artificial-turf-soccer-shoes-1f2zKX/AT6178-010', 'writepath': './text/www.nike.com/www.nike.com_t_premier-3-artificial-turf-soccer-shoes-1f2zKX_AT6178-010.txt', 'title': 'Nike Premier 3', 'price': '$95', 'images': 'https://static.nike.com/a/images/t_default/42a8010b-daa0-424d-8ad4-57ff62c875b5/premier-3-artificial-turf-soccer-shoes-1f2zKX.png'}\n",
      "https://www.nike.com/t/jr-tiempo-legend-9-club-tf-little-big-kids-turf-soccer-shoes-rkBkTW/DA1334-001\n"
     ]
    },
    {
     "name": "stderr",
     "output_type": "stream",
     "text": [
      "/var/folders/rb/k9pmvtxs1wv4y7fl9s364ybw0000gn/T/ipykernel_35610/878112586.py:75: FutureWarning: The frame.append method is deprecated and will be removed from pandas in a future version. Use pandas.concat instead.\n",
      "  df = df.append(row, ignore_index=True)\n"
     ]
    },
    {
     "name": "stdout",
     "output_type": "stream",
     "text": [
      "{'url': 'https://www.nike.com/t/jr-tiempo-legend-9-club-tf-little-big-kids-turf-soccer-shoes-rkBkTW/DA1334-001', 'writepath': './text/www.nike.com/www.nike.com_t_jr-tiempo-legend-9-club-tf-little-big-kids-turf-soccer-shoes-rkBkTW_DA1334-001.txt', 'title': 'Nike Jr. Tiempo Legend 9 Club TF', 'price': '$28.97', 'images': 'https://static.nike.com/a/images/t_default/8662476a-024c-4e87-93a9-47d03fc66f25/jr-tiempo-legend-9-club-tf-little-big-kids-turf-soccer-shoes-rkBkTW.png'}\n",
      "https://www.nike.com/t/downshifter-12-big-kids-road-running-shoes-2Gv6tP/DM4194-002\n"
     ]
    },
    {
     "name": "stderr",
     "output_type": "stream",
     "text": [
      "/var/folders/rb/k9pmvtxs1wv4y7fl9s364ybw0000gn/T/ipykernel_35610/878112586.py:75: FutureWarning: The frame.append method is deprecated and will be removed from pandas in a future version. Use pandas.concat instead.\n",
      "  df = df.append(row, ignore_index=True)\n"
     ]
    },
    {
     "name": "stdout",
     "output_type": "stream",
     "text": [
      "{'url': 'https://www.nike.com/t/downshifter-12-big-kids-road-running-shoes-2Gv6tP/DM4194-002', 'writepath': './text/www.nike.com/www.nike.com_t_downshifter-12-big-kids-road-running-shoes-2Gv6tP_DM4194-002.txt', 'title': 'Nike Downshifter 12', 'price': '$45.97', 'images': 'https://static.nike.com/a/images/t_default/eee063ff-60e7-469f-a054-d77cfba4e700/downshifter-12-big-kids-road-running-shoes-2Gv6tP.png'}\n",
      "https://www.nike.com/t/lebron-witness-7-big-kids-basketball-shoes-WnlBwR/DQ8650-005\n"
     ]
    },
    {
     "name": "stderr",
     "output_type": "stream",
     "text": [
      "/var/folders/rb/k9pmvtxs1wv4y7fl9s364ybw0000gn/T/ipykernel_35610/878112586.py:75: FutureWarning: The frame.append method is deprecated and will be removed from pandas in a future version. Use pandas.concat instead.\n",
      "  df = df.append(row, ignore_index=True)\n"
     ]
    },
    {
     "name": "stdout",
     "output_type": "stream",
     "text": [
      "{'url': 'https://www.nike.com/t/lebron-witness-7-big-kids-basketball-shoes-WnlBwR/DQ8650-005', 'writepath': './text/www.nike.com/www.nike.com_t_lebron-witness-7-big-kids-basketball-shoes-WnlBwR_DQ8650-005.txt', 'title': 'LeBron Witness 7', 'price': '$95', 'images': 'https://static.nike.com/a/images/t_default/c7c71eac-21b8-4cc7-a3f1-cb0a27f67418/lebron-witness-7-big-kids-basketball-shoes-WnlBwR.png'}\n",
      "https://www.nike.com/t/team-hustle-d-11-big-kids-basketball-shoes-PSKkGw/DV8996-600\n"
     ]
    },
    {
     "name": "stderr",
     "output_type": "stream",
     "text": [
      "/var/folders/rb/k9pmvtxs1wv4y7fl9s364ybw0000gn/T/ipykernel_35610/878112586.py:75: FutureWarning: The frame.append method is deprecated and will be removed from pandas in a future version. Use pandas.concat instead.\n",
      "  df = df.append(row, ignore_index=True)\n"
     ]
    },
    {
     "name": "stdout",
     "output_type": "stream",
     "text": [
      "{'url': 'https://www.nike.com/t/team-hustle-d-11-big-kids-basketball-shoes-PSKkGw/DV8996-600', 'writepath': './text/www.nike.com/www.nike.com_t_team-hustle-d-11-big-kids-basketball-shoes-PSKkGw_DV8996-600.txt', 'title': 'Nike Team Hustle D 11', 'price': '$60', 'images': 'https://static.nike.com/a/images/t_default/8002edae-a1ae-477e-a39d-3d477c660b77/team-hustle-d-11-big-kids-basketball-shoes-PSKkGw.png'}\n",
      "https://www.nike.com/t/court-vision-mid-winter-mens-shoes-GXw6hp/DR7882-700\n"
     ]
    },
    {
     "name": "stderr",
     "output_type": "stream",
     "text": [
      "/var/folders/rb/k9pmvtxs1wv4y7fl9s364ybw0000gn/T/ipykernel_35610/878112586.py:75: FutureWarning: The frame.append method is deprecated and will be removed from pandas in a future version. Use pandas.concat instead.\n",
      "  df = df.append(row, ignore_index=True)\n"
     ]
    },
    {
     "name": "stdout",
     "output_type": "stream",
     "text": [
      "{'url': 'https://www.nike.com/t/court-vision-mid-winter-mens-shoes-GXw6hp/DR7882-700', 'writepath': './text/www.nike.com/www.nike.com_t_court-vision-mid-winter-mens-shoes-GXw6hp_DR7882-700.txt', 'title': 'Nike Court Vision Mid Winter', 'price': '$95', 'images': 'https://static.nike.com/a/images/t_default/b8bf34f1-f3c4-43ee-9591-db70497b8125/court-vision-mid-winter-mens-shoes-GXw6hp.png'}\n",
      "https://www.nike.com/t/jordan-retro-6-g-nrg-mens-golf-shoes-0p95h4/FD0204-001\n"
     ]
    },
    {
     "name": "stderr",
     "output_type": "stream",
     "text": [
      "/var/folders/rb/k9pmvtxs1wv4y7fl9s364ybw0000gn/T/ipykernel_35610/878112586.py:75: FutureWarning: The frame.append method is deprecated and will be removed from pandas in a future version. Use pandas.concat instead.\n",
      "  df = df.append(row, ignore_index=True)\n"
     ]
    },
    {
     "name": "stdout",
     "output_type": "stream",
     "text": [
      "{'url': 'https://www.nike.com/t/jordan-retro-6-g-nrg-mens-golf-shoes-0p95h4/FD0204-001', 'writepath': './text/www.nike.com/www.nike.com_t_jordan-retro-6-g-nrg-mens-golf-shoes-0p95h4_FD0204-001.txt', 'title': 'Jordan Retro 6 G NRG', 'price': '$220', 'images': 'https://static.nike.com/a/images/t_default/8a46a9a8-de67-43b6-972c-29c9209411a2/jordan-retro-6-g-nrg-mens-golf-shoes-0p95h4.png'}\n",
      "https://www.nike.com/t/jordan-1-mid-sneaker-school-baby-toddler-shoes-Ff323M/DV7011-100\n"
     ]
    },
    {
     "name": "stderr",
     "output_type": "stream",
     "text": [
      "/var/folders/rb/k9pmvtxs1wv4y7fl9s364ybw0000gn/T/ipykernel_35610/878112586.py:75: FutureWarning: The frame.append method is deprecated and will be removed from pandas in a future version. Use pandas.concat instead.\n",
      "  df = df.append(row, ignore_index=True)\n"
     ]
    },
    {
     "name": "stdout",
     "output_type": "stream",
     "text": [
      "{'url': 'https://www.nike.com/t/jordan-1-mid-sneaker-school-baby-toddler-shoes-Ff323M/DV7011-100', 'writepath': './text/www.nike.com/www.nike.com_t_jordan-1-mid-sneaker-school-baby-toddler-shoes-Ff323M_DV7011-100.txt', 'title': 'Jordan 1 Mid Sneaker School', 'price': '$48.97', 'images': 'https://static.nike.com/a/images/t_default/9d0e7a4e-f781-41ff-9a09-8e94abd47c10/jordan-1-mid-sneaker-school-baby-toddler-shoes-Ff323M.png'}\n",
      "https://www.nike.com/t/jordan-1-retro-high-og-little-kids-shoes-F7cPNP/AQ2664-711\n"
     ]
    },
    {
     "name": "stderr",
     "output_type": "stream",
     "text": [
      "/var/folders/rb/k9pmvtxs1wv4y7fl9s364ybw0000gn/T/ipykernel_35610/878112586.py:75: FutureWarning: The frame.append method is deprecated and will be removed from pandas in a future version. Use pandas.concat instead.\n",
      "  df = df.append(row, ignore_index=True)\n"
     ]
    },
    {
     "name": "stdout",
     "output_type": "stream",
     "text": [
      "{'url': 'https://www.nike.com/t/jordan-1-retro-high-og-little-kids-shoes-F7cPNP/AQ2664-711', 'writepath': './text/www.nike.com/www.nike.com_t_jordan-1-retro-high-og-little-kids-shoes-F7cPNP_AQ2664-711.txt', 'title': 'Jordan 1 Retro High OG', 'price': '$85', 'images': 'https://static.nike.com/a/images/t_default/8ae05f5f-cb61-4e79-8614-36012a7c5062/jordan-1-retro-high-og-little-kids-shoes-F7cPNP.png'}\n",
      "https://www.nike.com/t/air-force-1-impact-next-nature-big-kids-shoes-617Rzw/FD0688-100\n"
     ]
    },
    {
     "name": "stderr",
     "output_type": "stream",
     "text": [
      "/var/folders/rb/k9pmvtxs1wv4y7fl9s364ybw0000gn/T/ipykernel_35610/878112586.py:75: FutureWarning: The frame.append method is deprecated and will be removed from pandas in a future version. Use pandas.concat instead.\n",
      "  df = df.append(row, ignore_index=True)\n"
     ]
    },
    {
     "name": "stdout",
     "output_type": "stream",
     "text": [
      "{'url': 'https://www.nike.com/t/air-force-1-impact-next-nature-big-kids-shoes-617Rzw/FD0688-100', 'writepath': './text/www.nike.com/www.nike.com_t_air-force-1-impact-next-nature-big-kids-shoes-617Rzw_FD0688-100.txt', 'title': 'Nike Air Force 1 Impact Next Nature', 'price': '$72.97', 'images': 'https://static.nike.com/a/images/t_default/fadc6410-f705-4e63-88f4-3cc9da41eb13/air-force-1-impact-next-nature-big-kids-shoes-617Rzw.png'}\n",
      "https://www.nike.com/t/air-jordan-1-mid-se-big-kids-shoes-SC7FpN/DM6216-001\n"
     ]
    },
    {
     "name": "stderr",
     "output_type": "stream",
     "text": [
      "/var/folders/rb/k9pmvtxs1wv4y7fl9s364ybw0000gn/T/ipykernel_35610/878112586.py:75: FutureWarning: The frame.append method is deprecated and will be removed from pandas in a future version. Use pandas.concat instead.\n",
      "  df = df.append(row, ignore_index=True)\n"
     ]
    },
    {
     "name": "stdout",
     "output_type": "stream",
     "text": [
      "{'url': 'https://www.nike.com/t/air-jordan-1-mid-se-big-kids-shoes-SC7FpN/DM6216-001', 'writepath': './text/www.nike.com/www.nike.com_t_air-jordan-1-mid-se-big-kids-shoes-SC7FpN_DM6216-001.txt', 'title': 'Air Jordan 1 Mid SE', 'price': '$110', 'images': 'https://static.nike.com/a/images/t_default/4245c420-7a88-47e3-b7cc-8f3e7a84aebc/air-jordan-1-mid-se-big-kids-shoes-SC7FpN.png'}\n",
      "https://www.nike.com/t/sb-bruin-high-premium-skate-shoes-jc2mkG/DX4325-200\n"
     ]
    },
    {
     "name": "stderr",
     "output_type": "stream",
     "text": [
      "/var/folders/rb/k9pmvtxs1wv4y7fl9s364ybw0000gn/T/ipykernel_35610/878112586.py:75: FutureWarning: The frame.append method is deprecated and will be removed from pandas in a future version. Use pandas.concat instead.\n",
      "  df = df.append(row, ignore_index=True)\n"
     ]
    },
    {
     "name": "stdout",
     "output_type": "stream",
     "text": [
      "{'url': 'https://www.nike.com/t/sb-bruin-high-premium-skate-shoes-jc2mkG/DX4325-200', 'writepath': './text/www.nike.com/www.nike.com_t_sb-bruin-high-premium-skate-shoes-jc2mkG_DX4325-200.txt', 'title': 'Nike SB Bruin High Premium', 'price': '$63.97', 'images': 'https://static.nike.com/a/images/t_default/a7f2a47c-5f5d-4aa1-97dc-32615a02f138/sb-bruin-high-premium-skate-shoes-jc2mkG.png'}\n",
      "https://www.nike.com/t/jr-streetgato-little-big-kids-soccer-shoes-tzp7Bs/DH7723-444\n"
     ]
    },
    {
     "name": "stderr",
     "output_type": "stream",
     "text": [
      "/var/folders/rb/k9pmvtxs1wv4y7fl9s364ybw0000gn/T/ipykernel_35610/878112586.py:75: FutureWarning: The frame.append method is deprecated and will be removed from pandas in a future version. Use pandas.concat instead.\n",
      "  df = df.append(row, ignore_index=True)\n"
     ]
    },
    {
     "name": "stdout",
     "output_type": "stream",
     "text": [
      "{'url': 'https://www.nike.com/t/jr-streetgato-little-big-kids-soccer-shoes-tzp7Bs/DH7723-444', 'writepath': './text/www.nike.com/www.nike.com_t_jr-streetgato-little-big-kids-soccer-shoes-tzp7Bs_DH7723-444.txt', 'title': 'Nike Jr. Streetgato', 'price': '$60', 'images': 'https://static.nike.com/a/images/t_default/6ec23b76-3f5b-4d5b-bd7c-8329e75d693d/jr-streetgato-little-big-kids-soccer-shoes-tzp7Bs.png'}\n",
      "https://www.nike.com/t/air-jordan-6-retro-big-kids-shoes-yATYM4KO/384665-600\n"
     ]
    },
    {
     "name": "stderr",
     "output_type": "stream",
     "text": [
      "/var/folders/rb/k9pmvtxs1wv4y7fl9s364ybw0000gn/T/ipykernel_35610/878112586.py:75: FutureWarning: The frame.append method is deprecated and will be removed from pandas in a future version. Use pandas.concat instead.\n",
      "  df = df.append(row, ignore_index=True)\n"
     ]
    },
    {
     "name": "stdout",
     "output_type": "stream",
     "text": [
      "{'url': 'https://www.nike.com/t/air-jordan-6-retro-big-kids-shoes-yATYM4KO/384665-600', 'writepath': './text/www.nike.com/www.nike.com_t_air-jordan-6-retro-big-kids-shoes-yATYM4KO_384665-600.txt', 'title': 'Air Jordan 6 Retro', 'price': '$150', 'images': 'https://static.nike.com/a/images/t_default/733d8d4c-a7df-4090-9ba5-ad8f75acd815/air-jordan-6-retro-big-kids-shoes-yATYM4KO.png'}\n",
      "https://www.nike.com/t/jumpman-two-trey-mens-shoes-bGfWN1/DO1925-130\n"
     ]
    },
    {
     "name": "stderr",
     "output_type": "stream",
     "text": [
      "/var/folders/rb/k9pmvtxs1wv4y7fl9s364ybw0000gn/T/ipykernel_35610/878112586.py:75: FutureWarning: The frame.append method is deprecated and will be removed from pandas in a future version. Use pandas.concat instead.\n",
      "  df = df.append(row, ignore_index=True)\n"
     ]
    },
    {
     "name": "stdout",
     "output_type": "stream",
     "text": [
      "{'url': 'https://www.nike.com/t/jumpman-two-trey-mens-shoes-bGfWN1/DO1925-130', 'writepath': './text/www.nike.com/www.nike.com_t_jumpman-two-trey-mens-shoes-bGfWN1_DO1925-130.txt', 'title': 'Jumpman Two Trey', 'price': '$155', 'images': 'https://static.nike.com/a/images/t_default/19f12f1d-d4a7-4a7f-bd61-8b53cfeaed8f/jumpman-two-trey-mens-shoes-bGfWN1.png'}\n",
      "https://www.nike.com/t/cortez-mens-shoes-DHDh56/FD0728-133\n"
     ]
    },
    {
     "name": "stderr",
     "output_type": "stream",
     "text": [
      "/var/folders/rb/k9pmvtxs1wv4y7fl9s364ybw0000gn/T/ipykernel_35610/878112586.py:75: FutureWarning: The frame.append method is deprecated and will be removed from pandas in a future version. Use pandas.concat instead.\n",
      "  df = df.append(row, ignore_index=True)\n"
     ]
    },
    {
     "name": "stdout",
     "output_type": "stream",
     "text": [
      "{'url': 'https://www.nike.com/t/cortez-mens-shoes-DHDh56/FD0728-133', 'writepath': './text/www.nike.com/www.nike.com_t_cortez-mens-shoes-DHDh56_FD0728-133.txt', 'title': 'Nike Cortez', 'price': '$100', 'images': 'https://static.nike.com/a/images/t_default/48979f39-1f45-4fa6-9b16-217e3e6f9556/cortez-mens-shoes-DHDh56.png'}\n",
      "https://www.nike.com/t/air-jordan-2-retro-big-kids-shoes-K3lVGt/DQ8562-100\n"
     ]
    },
    {
     "name": "stderr",
     "output_type": "stream",
     "text": [
      "/var/folders/rb/k9pmvtxs1wv4y7fl9s364ybw0000gn/T/ipykernel_35610/878112586.py:75: FutureWarning: The frame.append method is deprecated and will be removed from pandas in a future version. Use pandas.concat instead.\n",
      "  df = df.append(row, ignore_index=True)\n"
     ]
    },
    {
     "name": "stdout",
     "output_type": "stream",
     "text": [
      "{'url': 'https://www.nike.com/t/air-jordan-2-retro-big-kids-shoes-K3lVGt/DQ8562-100', 'writepath': './text/www.nike.com/www.nike.com_t_air-jordan-2-retro-big-kids-shoes-K3lVGt_DQ8562-100.txt', 'title': 'Air Jordan 2 Retro', 'price': '$140', 'images': 'https://static.nike.com/a/images/t_default/c0f59796-353d-474b-ad6a-0742d3278be0/air-jordan-2-retro-big-kids-shoes-K3lVGt.png'}\n",
      "https://www.nike.com/t/alpha-huarache-8-pro-turf-lacrosse-shoes-dRQR22/CZ6559-011\n"
     ]
    },
    {
     "name": "stderr",
     "output_type": "stream",
     "text": [
      "/var/folders/rb/k9pmvtxs1wv4y7fl9s364ybw0000gn/T/ipykernel_35610/878112586.py:75: FutureWarning: The frame.append method is deprecated and will be removed from pandas in a future version. Use pandas.concat instead.\n",
      "  df = df.append(row, ignore_index=True)\n"
     ]
    },
    {
     "name": "stdout",
     "output_type": "stream",
     "text": [
      "{'url': 'https://www.nike.com/t/alpha-huarache-8-pro-turf-lacrosse-shoes-dRQR22/CZ6559-011', 'writepath': './text/www.nike.com/www.nike.com_t_alpha-huarache-8-pro-turf-lacrosse-shoes-dRQR22_CZ6559-011.txt', 'title': 'Nike Alpha Huarache 8 Pro Turf', 'price': '$80', 'images': 'https://static.nike.com/a/images/t_default/3ee21c5f-6777-41f0-924c-1910e72665ae/alpha-huarache-8-pro-turf-lacrosse-shoes-dRQR22.png'}\n",
      "https://www.nike.com/t/force-1-baby-toddler-shoes-kJpxBC/CZ1691-101\n"
     ]
    },
    {
     "name": "stderr",
     "output_type": "stream",
     "text": [
      "/var/folders/rb/k9pmvtxs1wv4y7fl9s364ybw0000gn/T/ipykernel_35610/878112586.py:75: FutureWarning: The frame.append method is deprecated and will be removed from pandas in a future version. Use pandas.concat instead.\n",
      "  df = df.append(row, ignore_index=True)\n"
     ]
    },
    {
     "name": "stdout",
     "output_type": "stream",
     "text": [
      "{'url': 'https://www.nike.com/t/force-1-baby-toddler-shoes-kJpxBC/CZ1691-101', 'writepath': './text/www.nike.com/www.nike.com_t_force-1-baby-toddler-shoes-kJpxBC_CZ1691-101.txt', 'title': 'Nike Force 1', 'price': '$55', 'images': 'https://static.nike.com/a/images/t_default/a079829d-6da2-4272-9932-59e2405c1aca/force-1-baby-toddler-shoes-kJpxBC.png'}\n",
      "https://www.nike.com/t/air-jordan-1-low-womens-shoes-Bz4GT4/DC0774-200\n"
     ]
    },
    {
     "name": "stderr",
     "output_type": "stream",
     "text": [
      "/var/folders/rb/k9pmvtxs1wv4y7fl9s364ybw0000gn/T/ipykernel_35610/878112586.py:75: FutureWarning: The frame.append method is deprecated and will be removed from pandas in a future version. Use pandas.concat instead.\n",
      "  df = df.append(row, ignore_index=True)\n"
     ]
    },
    {
     "name": "stdout",
     "output_type": "stream",
     "text": [
      "{'url': 'https://www.nike.com/t/air-jordan-1-low-womens-shoes-Bz4GT4/DC0774-200', 'writepath': './text/www.nike.com/www.nike.com_t_air-jordan-1-low-womens-shoes-Bz4GT4_DC0774-200.txt', 'title': 'Air Jordan 1 Low', 'price': '$110', 'images': 'https://static.nike.com/a/images/t_default/f6bae357-0e9d-48c1-92c3-f5173bb734a9/air-jordan-1-low-womens-shoes-Bz4GT4.png'}\n",
      "https://www.nike.com/t/kd-trey-5-x-basketball-shoes-cNfPMN/DD9538-300\n"
     ]
    },
    {
     "name": "stderr",
     "output_type": "stream",
     "text": [
      "/var/folders/rb/k9pmvtxs1wv4y7fl9s364ybw0000gn/T/ipykernel_35610/878112586.py:75: FutureWarning: The frame.append method is deprecated and will be removed from pandas in a future version. Use pandas.concat instead.\n",
      "  df = df.append(row, ignore_index=True)\n"
     ]
    },
    {
     "name": "stdout",
     "output_type": "stream",
     "text": [
      "{'url': 'https://www.nike.com/t/kd-trey-5-x-basketball-shoes-cNfPMN/DD9538-300', 'writepath': './text/www.nike.com/www.nike.com_t_kd-trey-5-x-basketball-shoes-cNfPMN_DD9538-300.txt', 'title': 'KD Trey 5 X', 'price': '$95', 'images': 'https://static.nike.com/a/images/t_default/cde988da-c9f1-4fee-9544-b29f3c4dcd3e/kd-trey-5-x-basketball-shoes-cNfPMN.png'}\n",
      "https://www.nike.com/t/sb-zoom-blazer-low-pro-gt-skate-shoes-wWkbwv/DC7695-300\n"
     ]
    },
    {
     "name": "stderr",
     "output_type": "stream",
     "text": [
      "/var/folders/rb/k9pmvtxs1wv4y7fl9s364ybw0000gn/T/ipykernel_35610/878112586.py:75: FutureWarning: The frame.append method is deprecated and will be removed from pandas in a future version. Use pandas.concat instead.\n",
      "  df = df.append(row, ignore_index=True)\n"
     ]
    },
    {
     "name": "stdout",
     "output_type": "stream",
     "text": [
      "{'url': 'https://www.nike.com/t/sb-zoom-blazer-low-pro-gt-skate-shoes-wWkbwv/DC7695-300', 'writepath': './text/www.nike.com/www.nike.com_t_sb-zoom-blazer-low-pro-gt-skate-shoes-wWkbwv_DC7695-300.txt', 'title': 'Nike SB Zoom Blazer Low Pro GT', 'price': '$85', 'images': 'https://static.nike.com/a/images/t_default/1e391351-a3d7-41d5-b38d-a4cad7aa11a4/sb-zoom-blazer-low-pro-gt-skate-shoes-wWkbwv.png'}\n",
      "https://www.nike.com/t/force-1-crater-next-nature-baby-toddler-shoes-QcGLbZ/DH8697-100\n"
     ]
    },
    {
     "name": "stderr",
     "output_type": "stream",
     "text": [
      "/var/folders/rb/k9pmvtxs1wv4y7fl9s364ybw0000gn/T/ipykernel_35610/878112586.py:75: FutureWarning: The frame.append method is deprecated and will be removed from pandas in a future version. Use pandas.concat instead.\n",
      "  df = df.append(row, ignore_index=True)\n"
     ]
    },
    {
     "name": "stdout",
     "output_type": "stream",
     "text": [
      "{'url': 'https://www.nike.com/t/force-1-crater-next-nature-baby-toddler-shoes-QcGLbZ/DH8697-100', 'writepath': './text/www.nike.com/www.nike.com_t_force-1-crater-next-nature-baby-toddler-shoes-QcGLbZ_DH8697-100.txt', 'title': 'Nike Force 1 Crater Next Nature', 'price': '$42.97', 'images': 'https://static.nike.com/a/images/t_default/dc906dfc-0392-41f5-82e8-7d5518eae5bd/force-1-crater-next-nature-baby-toddler-shoes-QcGLbZ.png'}\n",
      "https://www.nike.com/t/air-force-1-07-lx-womens-shoes-HCBg9w/DR0148-300\n"
     ]
    },
    {
     "name": "stderr",
     "output_type": "stream",
     "text": [
      "/var/folders/rb/k9pmvtxs1wv4y7fl9s364ybw0000gn/T/ipykernel_35610/878112586.py:75: FutureWarning: The frame.append method is deprecated and will be removed from pandas in a future version. Use pandas.concat instead.\n",
      "  df = df.append(row, ignore_index=True)\n"
     ]
    },
    {
     "name": "stdout",
     "output_type": "stream",
     "text": [
      "{'url': 'https://www.nike.com/t/air-force-1-07-lx-womens-shoes-HCBg9w/DR0148-300', 'writepath': './text/www.nike.com/www.nike.com_t_air-force-1-07-lx-womens-shoes-HCBg9w_DR0148-300.txt', 'title': \"Nike Air Force 1 '07 LX\", 'price': '$130', 'images': 'https://static.nike.com/a/images/t_default/df036356-5563-4446-8f87-4bac3d4ffe2b/air-force-1-07-lx-womens-shoes-HCBg9w.png'}\n",
      "https://www.nike.com/t/sb-force-58-skate-shoes-Txk6xG/DV5477-700\n"
     ]
    },
    {
     "name": "stderr",
     "output_type": "stream",
     "text": [
      "/var/folders/rb/k9pmvtxs1wv4y7fl9s364ybw0000gn/T/ipykernel_35610/878112586.py:75: FutureWarning: The frame.append method is deprecated and will be removed from pandas in a future version. Use pandas.concat instead.\n",
      "  df = df.append(row, ignore_index=True)\n"
     ]
    },
    {
     "name": "stdout",
     "output_type": "stream",
     "text": [
      "{'url': 'https://www.nike.com/t/sb-force-58-skate-shoes-Txk6xG/DV5477-700', 'writepath': './text/www.nike.com/www.nike.com_t_sb-force-58-skate-shoes-Txk6xG_DV5477-700.txt', 'title': 'Nike SB Force 58', 'price': '$80', 'images': 'https://static.nike.com/a/images/t_default/db7c14f3-adbe-4eee-9534-d372808ce154/sb-force-58-skate-shoes-Txk6xG.png'}\n",
      "https://www.nike.com/t/lebron-9-low-mens-shoes-flHVJd/DQ6400-300\n"
     ]
    },
    {
     "name": "stderr",
     "output_type": "stream",
     "text": [
      "/var/folders/rb/k9pmvtxs1wv4y7fl9s364ybw0000gn/T/ipykernel_35610/878112586.py:75: FutureWarning: The frame.append method is deprecated and will be removed from pandas in a future version. Use pandas.concat instead.\n",
      "  df = df.append(row, ignore_index=True)\n"
     ]
    },
    {
     "name": "stdout",
     "output_type": "stream",
     "text": [
      "{'url': 'https://www.nike.com/t/lebron-9-low-mens-shoes-flHVJd/DQ6400-300', 'writepath': './text/www.nike.com/www.nike.com_t_lebron-9-low-mens-shoes-flHVJd_DQ6400-300.txt', 'title': 'Nike Lebron 9 Low', 'price': '$95.97', 'images': 'https://static.nike.com/a/images/t_default/8ef5e089-8a1f-410b-aa07-12855268ff5e/lebron-9-low-mens-shoes-flHVJd.png'}\n",
      "https://www.nike.com/t/air-max-1-nh-mens-shoes-pCLkvw/DR9773-300\n"
     ]
    },
    {
     "name": "stderr",
     "output_type": "stream",
     "text": [
      "/var/folders/rb/k9pmvtxs1wv4y7fl9s364ybw0000gn/T/ipykernel_35610/878112586.py:75: FutureWarning: The frame.append method is deprecated and will be removed from pandas in a future version. Use pandas.concat instead.\n",
      "  df = df.append(row, ignore_index=True)\n"
     ]
    },
    {
     "name": "stdout",
     "output_type": "stream",
     "text": [
      "{'url': 'https://www.nike.com/t/air-max-1-nh-mens-shoes-pCLkvw/DR9773-300', 'writepath': './text/www.nike.com/www.nike.com_t_air-max-1-nh-mens-shoes-pCLkvw_DR9773-300.txt', 'title': 'Nike Air Max 1 NH', 'price': '$105.97', 'images': 'https://static.nike.com/a/images/t_default/7798b226-f313-4770-9889-e7b4093064b2/air-max-1-nh-mens-shoes-pCLkvw.png'}\n",
      "https://www.nike.com/t/gt-jump-basketball-shoes-Mj4kHp/CZ9907-800\n"
     ]
    },
    {
     "name": "stderr",
     "output_type": "stream",
     "text": [
      "/var/folders/rb/k9pmvtxs1wv4y7fl9s364ybw0000gn/T/ipykernel_35610/878112586.py:75: FutureWarning: The frame.append method is deprecated and will be removed from pandas in a future version. Use pandas.concat instead.\n",
      "  df = df.append(row, ignore_index=True)\n"
     ]
    },
    {
     "name": "stdout",
     "output_type": "stream",
     "text": [
      "{'url': 'https://www.nike.com/t/gt-jump-basketball-shoes-Mj4kHp/CZ9907-800', 'writepath': './text/www.nike.com/www.nike.com_t_gt-jump-basketball-shoes-Mj4kHp_CZ9907-800.txt', 'title': 'Nike G.T. Jump', 'price': '$153.97', 'images': 'https://static.nike.com/a/images/t_default/5c3654f1-e3d9-4d9d-838e-fe4cdc30d352/gt-jump-basketball-shoes-Mj4kHp.png'}\n",
      "https://www.nike.com/t/air-tuned-max-mens-shoes-3d1sKw/DH4793-700\n"
     ]
    },
    {
     "name": "stderr",
     "output_type": "stream",
     "text": [
      "/var/folders/rb/k9pmvtxs1wv4y7fl9s364ybw0000gn/T/ipykernel_35610/878112586.py:75: FutureWarning: The frame.append method is deprecated and will be removed from pandas in a future version. Use pandas.concat instead.\n",
      "  df = df.append(row, ignore_index=True)\n"
     ]
    },
    {
     "name": "stdout",
     "output_type": "stream",
     "text": [
      "{'url': 'https://www.nike.com/t/air-tuned-max-mens-shoes-3d1sKw/DH4793-700', 'writepath': './text/www.nike.com/www.nike.com_t_air-tuned-max-mens-shoes-3d1sKw_DH4793-700.txt', 'title': 'Nike Air Tuned Max', 'price': '$89.97', 'images': 'https://static.nike.com/a/images/t_default/e2ed6984-b154-4e53-b1d1-37488028768e/air-tuned-max-mens-shoes-3d1sKw.png'}\n",
      "https://www.nike.com/t/zion-2-tb-mens-basketball-shoes-GfL6GT/DQ7688-001\n"
     ]
    },
    {
     "name": "stderr",
     "output_type": "stream",
     "text": [
      "/var/folders/rb/k9pmvtxs1wv4y7fl9s364ybw0000gn/T/ipykernel_35610/878112586.py:75: FutureWarning: The frame.append method is deprecated and will be removed from pandas in a future version. Use pandas.concat instead.\n",
      "  df = df.append(row, ignore_index=True)\n"
     ]
    },
    {
     "name": "stdout",
     "output_type": "stream",
     "text": [
      "{'url': 'https://www.nike.com/t/zion-2-tb-mens-basketball-shoes-GfL6GT/DQ7688-001', 'writepath': './text/www.nike.com/www.nike.com_t_zion-2-tb-mens-basketball-shoes-GfL6GT_DQ7688-001.txt', 'title': 'Zion 2 TB', 'price': '$72.97', 'images': 'https://static.nike.com/a/images/t_default/aa2da2a8-2b21-4575-a68e-c361978cebcb/zion-2-tb-mens-basketball-shoes-GfL6GT.png'}\n",
      "https://www.nike.com/t/nikecourt-air-zoom-vapor-11-mens-hard-court-tennis-shoes-jdHWL8/DR6966-002\n"
     ]
    },
    {
     "name": "stderr",
     "output_type": "stream",
     "text": [
      "/var/folders/rb/k9pmvtxs1wv4y7fl9s364ybw0000gn/T/ipykernel_35610/878112586.py:75: FutureWarning: The frame.append method is deprecated and will be removed from pandas in a future version. Use pandas.concat instead.\n",
      "  df = df.append(row, ignore_index=True)\n"
     ]
    },
    {
     "name": "stdout",
     "output_type": "stream",
     "text": [
      "{'url': 'https://www.nike.com/t/nikecourt-air-zoom-vapor-11-mens-hard-court-tennis-shoes-jdHWL8/DR6966-002', 'writepath': './text/www.nike.com/www.nike.com_t_nikecourt-air-zoom-vapor-11-mens-hard-court-tennis-shoes-jdHWL8_DR6966-002.txt', 'title': 'NikeCourt Air Zoom Vapor 11', 'price': '$160', 'images': 'https://static.nike.com/a/images/t_default/d66480ab-8f3e-44a9-8cf2-67f13ea3828c/nikecourt-air-zoom-vapor-11-mens-hard-court-tennis-shoes-jdHWL8.png'}\n",
      "https://www.nike.com/t/jordan-delta-3-mid-mens-shoes-gq5dw5/DR7614-221\n"
     ]
    },
    {
     "name": "stderr",
     "output_type": "stream",
     "text": [
      "/var/folders/rb/k9pmvtxs1wv4y7fl9s364ybw0000gn/T/ipykernel_35610/878112586.py:75: FutureWarning: The frame.append method is deprecated and will be removed from pandas in a future version. Use pandas.concat instead.\n",
      "  df = df.append(row, ignore_index=True)\n"
     ]
    },
    {
     "name": "stdout",
     "output_type": "stream",
     "text": [
      "{'url': 'https://www.nike.com/t/jordan-delta-3-mid-mens-shoes-gq5dw5/DR7614-221', 'writepath': './text/www.nike.com/www.nike.com_t_jordan-delta-3-mid-mens-shoes-gq5dw5_DR7614-221.txt', 'title': 'Jordan Delta 3 Mid', 'price': '$90.97', 'images': 'https://static.nike.com/a/images/t_default/df67f9e9-33c8-408d-9857-790f22629924/jordan-delta-3-mid-mens-shoes-gq5dw5.png'}\n",
      "https://www.nike.com/t/air-jordan-1-mid-se-mens-shoes-Zn07hL/DV1308-104\n"
     ]
    },
    {
     "name": "stderr",
     "output_type": "stream",
     "text": [
      "/var/folders/rb/k9pmvtxs1wv4y7fl9s364ybw0000gn/T/ipykernel_35610/878112586.py:75: FutureWarning: The frame.append method is deprecated and will be removed from pandas in a future version. Use pandas.concat instead.\n",
      "  df = df.append(row, ignore_index=True)\n"
     ]
    },
    {
     "name": "stdout",
     "output_type": "stream",
     "text": [
      "{'url': 'https://www.nike.com/t/air-jordan-1-mid-se-mens-shoes-Zn07hL/DV1308-104', 'writepath': './text/www.nike.com/www.nike.com_t_air-jordan-1-mid-se-mens-shoes-Zn07hL_DV1308-104.txt', 'title': 'Air Jordan 1 Mid SE', 'price': '$135', 'images': 'https://static.nike.com/a/images/t_default/3b8a8a4b-7dcb-4495-a3aa-83386f143cc8/air-jordan-1-mid-se-mens-shoes-Zn07hL.png'}\n",
      "https://www.nike.com/t/jordan-series-es-mens-shoes-cpH1mx/DN1856-700\n"
     ]
    },
    {
     "name": "stderr",
     "output_type": "stream",
     "text": [
      "/var/folders/rb/k9pmvtxs1wv4y7fl9s364ybw0000gn/T/ipykernel_35610/878112586.py:75: FutureWarning: The frame.append method is deprecated and will be removed from pandas in a future version. Use pandas.concat instead.\n",
      "  df = df.append(row, ignore_index=True)\n"
     ]
    },
    {
     "name": "stdout",
     "output_type": "stream",
     "text": [
      "{'url': 'https://www.nike.com/t/jordan-series-es-mens-shoes-cpH1mx/DN1856-700', 'writepath': './text/www.nike.com/www.nike.com_t_jordan-series-es-mens-shoes-cpH1mx_DN1856-700.txt', 'title': 'Jordan Series ES', 'price': '$72.97', 'images': 'https://static.nike.com/a/images/t_default/351b1b98-af29-4829-9d47-b0ea3430fc16/jordan-series-es-mens-shoes-cpH1mx.png'}\n",
      "https://www.nike.com/t/tanjun-mens-shoes-jQ3z1W/DJ6258-100\n"
     ]
    },
    {
     "name": "stderr",
     "output_type": "stream",
     "text": [
      "/var/folders/rb/k9pmvtxs1wv4y7fl9s364ybw0000gn/T/ipykernel_35610/878112586.py:75: FutureWarning: The frame.append method is deprecated and will be removed from pandas in a future version. Use pandas.concat instead.\n",
      "  df = df.append(row, ignore_index=True)\n"
     ]
    },
    {
     "name": "stdout",
     "output_type": "stream",
     "text": [
      "{'url': 'https://www.nike.com/t/tanjun-mens-shoes-jQ3z1W/DJ6258-100', 'writepath': './text/www.nike.com/www.nike.com_t_tanjun-mens-shoes-jQ3z1W_DJ6258-100.txt', 'title': 'Nike Tanjun', 'price': '$70', 'images': 'https://static.nike.com/a/images/t_default/6310e9a6-9cab-46fb-834d-06b2ea2967fb/tanjun-mens-shoes-jQ3z1W.png'}\n",
      "https://www.nike.com/t/air-jordan-1-zoom-cmft-2-mens-shoes-Tw02qw/DV1307-060\n"
     ]
    },
    {
     "name": "stderr",
     "output_type": "stream",
     "text": [
      "/var/folders/rb/k9pmvtxs1wv4y7fl9s364ybw0000gn/T/ipykernel_35610/878112586.py:75: FutureWarning: The frame.append method is deprecated and will be removed from pandas in a future version. Use pandas.concat instead.\n",
      "  df = df.append(row, ignore_index=True)\n"
     ]
    },
    {
     "name": "stdout",
     "output_type": "stream",
     "text": [
      "{'url': 'https://www.nike.com/t/air-jordan-1-zoom-cmft-2-mens-shoes-Tw02qw/DV1307-060', 'writepath': './text/www.nike.com/www.nike.com_t_air-jordan-1-zoom-cmft-2-mens-shoes-Tw02qw_DV1307-060.txt', 'title': 'Air Jordan 1 Zoom CMFT 2', 'price': '$150', 'images': 'https://static.nike.com/a/images/t_default/97029bbe-ccc1-4ad0-b51e-eff86332418d/air-jordan-1-zoom-cmft-2-mens-shoes-Tw02qw.png'}\n",
      "https://www.nike.com/t/air-force-1-low-x-premium-goods-womens-shoes-pShMNj/DV2957-001\n"
     ]
    },
    {
     "name": "stderr",
     "output_type": "stream",
     "text": [
      "/var/folders/rb/k9pmvtxs1wv4y7fl9s364ybw0000gn/T/ipykernel_35610/878112586.py:75: FutureWarning: The frame.append method is deprecated and will be removed from pandas in a future version. Use pandas.concat instead.\n",
      "  df = df.append(row, ignore_index=True)\n"
     ]
    },
    {
     "name": "stdout",
     "output_type": "stream",
     "text": [
      "{'url': 'https://www.nike.com/t/air-force-1-low-x-premium-goods-womens-shoes-pShMNj/DV2957-001', 'writepath': './text/www.nike.com/www.nike.com_t_air-force-1-low-x-premium-goods-womens-shoes-pShMNj_DV2957-001.txt', 'title': 'Nike Air Force 1 Low x Premium Goods', 'price': '$150', 'images': 'https://static.nike.com/a/images/t_default/9b112da7-e7c2-4364-977e-1f19f8aa929b/air-force-1-low-x-premium-goods-womens-shoes-pShMNj.png'}\n",
      "https://www.nike.com/t/air-max-excee-mens-shoes-vl97pm/CD4165-100\n"
     ]
    },
    {
     "name": "stderr",
     "output_type": "stream",
     "text": [
      "/var/folders/rb/k9pmvtxs1wv4y7fl9s364ybw0000gn/T/ipykernel_35610/878112586.py:75: FutureWarning: The frame.append method is deprecated and will be removed from pandas in a future version. Use pandas.concat instead.\n",
      "  df = df.append(row, ignore_index=True)\n"
     ]
    },
    {
     "name": "stdout",
     "output_type": "stream",
     "text": [
      "{'url': 'https://www.nike.com/t/air-max-excee-mens-shoes-vl97pm/CD4165-100', 'writepath': './text/www.nike.com/www.nike.com_t_air-max-excee-mens-shoes-vl97pm_CD4165-100.txt', 'title': 'Nike Air Max Excee', 'price': '$95', 'images': 'https://static.nike.com/a/images/t_default/jhrqmz92anpn41uoepjq/air-max-excee-mens-shoes-vl97pm.png'}\n",
      "https://www.nike.com/t/pegasus-39-womens-road-running-shoes-qdDh0D/DZ4701-600\n"
     ]
    },
    {
     "name": "stderr",
     "output_type": "stream",
     "text": [
      "/var/folders/rb/k9pmvtxs1wv4y7fl9s364ybw0000gn/T/ipykernel_35610/878112586.py:75: FutureWarning: The frame.append method is deprecated and will be removed from pandas in a future version. Use pandas.concat instead.\n",
      "  df = df.append(row, ignore_index=True)\n"
     ]
    },
    {
     "name": "stdout",
     "output_type": "stream",
     "text": [
      "{'url': 'https://www.nike.com/t/pegasus-39-womens-road-running-shoes-qdDh0D/DZ4701-600', 'writepath': './text/www.nike.com/www.nike.com_t_pegasus-39-womens-road-running-shoes-qdDh0D_DZ4701-600.txt', 'title': 'Nike Pegasus 39', 'price': '$84.97', 'images': 'https://static.nike.com/a/images/t_default/e26ba0b4-95c6-43f0-8f43-362aa611649c/pegasus-39-womens-road-running-shoes-qdDh0D.png'}\n",
      "https://www.nike.com/t/revolution-6-flyease-little-kids-easy-on-off-shoes-WtnHsW/DD1114-608\n"
     ]
    },
    {
     "name": "stderr",
     "output_type": "stream",
     "text": [
      "/var/folders/rb/k9pmvtxs1wv4y7fl9s364ybw0000gn/T/ipykernel_35610/878112586.py:75: FutureWarning: The frame.append method is deprecated and will be removed from pandas in a future version. Use pandas.concat instead.\n",
      "  df = df.append(row, ignore_index=True)\n"
     ]
    },
    {
     "name": "stdout",
     "output_type": "stream",
     "text": [
      "{'url': 'https://www.nike.com/t/revolution-6-flyease-little-kids-easy-on-off-shoes-WtnHsW/DD1114-608', 'writepath': './text/www.nike.com/www.nike.com_t_revolution-6-flyease-little-kids-easy-on-off-shoes-WtnHsW_DD1114-608.txt', 'title': 'Nike Revolution 6 FlyEase', 'price': '$46.97', 'images': 'https://static.nike.com/a/images/t_default/4d17c3fe-e2d4-42c5-969f-1b490e1793dc/revolution-6-flyease-little-kids-easy-on-off-shoes-WtnHsW.png'}\n",
      "https://www.nike.com/t/force-1-lv8-little-kids-shoes-pffsZV/FJ4807-100\n"
     ]
    },
    {
     "name": "stderr",
     "output_type": "stream",
     "text": [
      "/var/folders/rb/k9pmvtxs1wv4y7fl9s364ybw0000gn/T/ipykernel_35610/878112586.py:75: FutureWarning: The frame.append method is deprecated and will be removed from pandas in a future version. Use pandas.concat instead.\n",
      "  df = df.append(row, ignore_index=True)\n"
     ]
    },
    {
     "name": "stdout",
     "output_type": "stream",
     "text": [
      "{'url': 'https://www.nike.com/t/force-1-lv8-little-kids-shoes-pffsZV/FJ4807-100', 'writepath': './text/www.nike.com/www.nike.com_t_force-1-lv8-little-kids-shoes-pffsZV_FJ4807-100.txt', 'title': 'Nike Force 1 LV8', 'price': '$60.97', 'images': 'https://static.nike.com/a/images/t_default/fa86d330-d2bb-4781-b27a-20ea70d7d9f3/force-1-lv8-little-kids-shoes-pffsZV.png'}\n",
      "https://www.nike.com/t/dunk-mid-mens-shoes-BsMdtZ/DZ2533-200\n"
     ]
    },
    {
     "name": "stderr",
     "output_type": "stream",
     "text": [
      "/var/folders/rb/k9pmvtxs1wv4y7fl9s364ybw0000gn/T/ipykernel_35610/878112586.py:75: FutureWarning: The frame.append method is deprecated and will be removed from pandas in a future version. Use pandas.concat instead.\n",
      "  df = df.append(row, ignore_index=True)\n"
     ]
    },
    {
     "name": "stdout",
     "output_type": "stream",
     "text": [
      "{'url': 'https://www.nike.com/t/dunk-mid-mens-shoes-BsMdtZ/DZ2533-200', 'writepath': './text/www.nike.com/www.nike.com_t_dunk-mid-mens-shoes-BsMdtZ_DZ2533-200.txt', 'title': 'Nike Dunk Mid', 'price': '$115', 'images': 'https://static.nike.com/a/images/t_default/124bb09c-89e3-4376-b970-4107b5f395df/dunk-mid-mens-shoes-BsMdtZ.png'}\n",
      "https://www.nike.com/t/blazer-mid-77-se-dance-little-kids-shoes-RFBQ0Z/DQ6085-402\n"
     ]
    },
    {
     "name": "stderr",
     "output_type": "stream",
     "text": [
      "/var/folders/rb/k9pmvtxs1wv4y7fl9s364ybw0000gn/T/ipykernel_35610/878112586.py:75: FutureWarning: The frame.append method is deprecated and will be removed from pandas in a future version. Use pandas.concat instead.\n",
      "  df = df.append(row, ignore_index=True)\n"
     ]
    },
    {
     "name": "stdout",
     "output_type": "stream",
     "text": [
      "{'url': 'https://www.nike.com/t/blazer-mid-77-se-dance-little-kids-shoes-RFBQ0Z/DQ6085-402', 'writepath': './text/www.nike.com/www.nike.com_t_blazer-mid-77-se-dance-little-kids-shoes-RFBQ0Z_DQ6085-402.txt', 'title': \"Nike Blazer Mid '77 SE Dance\", 'price': '$85', 'images': 'https://static.nike.com/a/images/t_default/333f1537-6ad2-4f3a-9edb-c9f140a15719/blazer-mid-77-se-dance-little-kids-shoes-RFBQ0Z.png'}\n",
      "https://www.nike.com/t/air-max-ltd-3-mens-shoes-RJzJf1/DD7118-002\n"
     ]
    },
    {
     "name": "stderr",
     "output_type": "stream",
     "text": [
      "/var/folders/rb/k9pmvtxs1wv4y7fl9s364ybw0000gn/T/ipykernel_35610/878112586.py:75: FutureWarning: The frame.append method is deprecated and will be removed from pandas in a future version. Use pandas.concat instead.\n",
      "  df = df.append(row, ignore_index=True)\n"
     ]
    },
    {
     "name": "stdout",
     "output_type": "stream",
     "text": [
      "{'url': 'https://www.nike.com/t/air-max-ltd-3-mens-shoes-RJzJf1/DD7118-002', 'writepath': './text/www.nike.com/www.nike.com_t_air-max-ltd-3-mens-shoes-RJzJf1_DD7118-002.txt', 'title': 'Nike Air Max LTD 3', 'price': '$130', 'images': 'https://static.nike.com/a/images/t_default/ff53527a-cdf5-40cf-9420-fb0e0c7251f9/air-max-ltd-3-mens-shoes-RJzJf1.png'}\n",
      "https://www.nike.com/t/air-max-axis-womens-shoes-cCWT9q/AA2168-006\n"
     ]
    },
    {
     "name": "stderr",
     "output_type": "stream",
     "text": [
      "/var/folders/rb/k9pmvtxs1wv4y7fl9s364ybw0000gn/T/ipykernel_35610/878112586.py:75: FutureWarning: The frame.append method is deprecated and will be removed from pandas in a future version. Use pandas.concat instead.\n",
      "  df = df.append(row, ignore_index=True)\n"
     ]
    },
    {
     "name": "stdout",
     "output_type": "stream",
     "text": [
      "{'url': 'https://www.nike.com/t/air-max-axis-womens-shoes-cCWT9q/AA2168-006', 'writepath': './text/www.nike.com/www.nike.com_t_air-max-axis-womens-shoes-cCWT9q_AA2168-006.txt', 'title': 'Nike Air Max Axis', 'price': '$76.97', 'images': 'https://static.nike.com/a/images/t_default/9381c291-7b4a-4c64-9dc7-f6937dfd183a/air-max-axis-womens-shoes-cCWT9q.png'}\n",
      "https://www.nike.com/t/downshifter-11-womens-road-running-shoes-TNTStc/CW3413-100\n"
     ]
    },
    {
     "name": "stderr",
     "output_type": "stream",
     "text": [
      "/var/folders/rb/k9pmvtxs1wv4y7fl9s364ybw0000gn/T/ipykernel_35610/878112586.py:75: FutureWarning: The frame.append method is deprecated and will be removed from pandas in a future version. Use pandas.concat instead.\n",
      "  df = df.append(row, ignore_index=True)\n"
     ]
    },
    {
     "name": "stdout",
     "output_type": "stream",
     "text": [
      "{'url': 'https://www.nike.com/t/downshifter-11-womens-road-running-shoes-TNTStc/CW3413-100', 'writepath': './text/www.nike.com/www.nike.com_t_downshifter-11-womens-road-running-shoes-TNTStc_CW3413-100.txt', 'title': 'Nike Downshifter 11', 'price': '$49.97', 'images': 'https://static.nike.com/a/images/t_default/3e37b8b9-de55-4f68-ad69-b29442972334/downshifter-11-womens-road-running-shoes-TNTStc.png'}\n",
      "https://www.nike.com/t/air-max-95-mens-shoes-4vlTPp/DQ9016-001\n"
     ]
    },
    {
     "name": "stderr",
     "output_type": "stream",
     "text": [
      "/var/folders/rb/k9pmvtxs1wv4y7fl9s364ybw0000gn/T/ipykernel_35610/878112586.py:75: FutureWarning: The frame.append method is deprecated and will be removed from pandas in a future version. Use pandas.concat instead.\n",
      "  df = df.append(row, ignore_index=True)\n"
     ]
    },
    {
     "name": "stdout",
     "output_type": "stream",
     "text": [
      "{'url': 'https://www.nike.com/t/air-max-95-mens-shoes-4vlTPp/DQ9016-001', 'writepath': './text/www.nike.com/www.nike.com_t_air-max-95-mens-shoes-4vlTPp_DQ9016-001.txt', 'title': 'Nike Air Max 95', 'price': '$99.97', 'images': 'https://static.nike.com/a/images/t_default/46058769-ec50-40d7-8bc7-781022b1d5be/air-max-95-mens-shoes-4vlTPp.png'}\n",
      "https://www.nike.com/t/team-hustle-d-11-little-kids-shoes-KF50vX/FJ7689-101\n"
     ]
    },
    {
     "name": "stderr",
     "output_type": "stream",
     "text": [
      "/var/folders/rb/k9pmvtxs1wv4y7fl9s364ybw0000gn/T/ipykernel_35610/878112586.py:75: FutureWarning: The frame.append method is deprecated and will be removed from pandas in a future version. Use pandas.concat instead.\n",
      "  df = df.append(row, ignore_index=True)\n"
     ]
    },
    {
     "name": "stdout",
     "output_type": "stream",
     "text": [
      "{'url': 'https://www.nike.com/t/team-hustle-d-11-little-kids-shoes-KF50vX/FJ7689-101', 'writepath': './text/www.nike.com/www.nike.com_t_team-hustle-d-11-little-kids-shoes-KF50vX_FJ7689-101.txt', 'title': 'Nike Team Hustle D 11', 'price': '$60', 'images': 'https://static.nike.com/a/images/t_default/0f356921-eb92-4043-a6a2-430caa116617/team-hustle-d-11-little-kids-shoes-KF50vX.png'}\n",
      "https://www.nike.com/t/flex-runner-2-big-kids-road-running-shoes-klcs9r/DJ6038-003\n"
     ]
    },
    {
     "name": "stderr",
     "output_type": "stream",
     "text": [
      "/var/folders/rb/k9pmvtxs1wv4y7fl9s364ybw0000gn/T/ipykernel_35610/878112586.py:75: FutureWarning: The frame.append method is deprecated and will be removed from pandas in a future version. Use pandas.concat instead.\n",
      "  df = df.append(row, ignore_index=True)\n"
     ]
    },
    {
     "name": "stdout",
     "output_type": "stream",
     "text": [
      "{'url': 'https://www.nike.com/t/flex-runner-2-big-kids-road-running-shoes-klcs9r/DJ6038-003', 'writepath': './text/www.nike.com/www.nike.com_t_flex-runner-2-big-kids-road-running-shoes-klcs9r_DJ6038-003.txt', 'title': 'Nike Flex Runner 2', 'price': '$50', 'images': 'https://static.nike.com/a/images/t_default/0f952930-031d-4afc-8aa2-6974bbc8828e/flex-runner-2-big-kids-road-running-shoes-klcs9r.png'}\n",
      "https://www.nike.com/t/sb-ishod-premium-mens-shoes-xjNjBC/DV5473-001\n"
     ]
    },
    {
     "name": "stderr",
     "output_type": "stream",
     "text": [
      "/var/folders/rb/k9pmvtxs1wv4y7fl9s364ybw0000gn/T/ipykernel_35610/878112586.py:75: FutureWarning: The frame.append method is deprecated and will be removed from pandas in a future version. Use pandas.concat instead.\n",
      "  df = df.append(row, ignore_index=True)\n"
     ]
    },
    {
     "name": "stdout",
     "output_type": "stream",
     "text": [
      "{'url': 'https://www.nike.com/t/sb-ishod-premium-mens-shoes-xjNjBC/DV5473-001', 'writepath': './text/www.nike.com/www.nike.com_t_sb-ishod-premium-mens-shoes-xjNjBC_DV5473-001.txt', 'title': 'Nike SB Ishod Premium', 'price': '$99.97', 'images': 'https://static.nike.com/a/images/t_default/a3f1f723-d3d1-443f-b405-c5a96d9a0da3/sb-ishod-premium-mens-shoes-xjNjBC.png'}\n",
      "https://www.nike.com/t/omni-multi-court-little-kids-shoes-R4N8R3/DM9026-100\n"
     ]
    },
    {
     "name": "stderr",
     "output_type": "stream",
     "text": [
      "/var/folders/rb/k9pmvtxs1wv4y7fl9s364ybw0000gn/T/ipykernel_35610/878112586.py:75: FutureWarning: The frame.append method is deprecated and will be removed from pandas in a future version. Use pandas.concat instead.\n",
      "  df = df.append(row, ignore_index=True)\n"
     ]
    },
    {
     "name": "stdout",
     "output_type": "stream",
     "text": [
      "{'url': 'https://www.nike.com/t/omni-multi-court-little-kids-shoes-R4N8R3/DM9026-100', 'writepath': './text/www.nike.com/www.nike.com_t_omni-multi-court-little-kids-shoes-R4N8R3_DM9026-100.txt', 'title': 'Nike Omni Multi-Court', 'price': '$55', 'images': 'https://static.nike.com/a/images/t_default/b9e29624-c02d-4613-86e8-e7439b23f963/omni-multi-court-little-kids-shoes-R4N8R3.png'}\n",
      "https://www.nike.com/t/renew-ride-3-mens-road-running-shoes-7hTSLw/DC8185-008\n"
     ]
    },
    {
     "name": "stderr",
     "output_type": "stream",
     "text": [
      "/var/folders/rb/k9pmvtxs1wv4y7fl9s364ybw0000gn/T/ipykernel_35610/878112586.py:75: FutureWarning: The frame.append method is deprecated and will be removed from pandas in a future version. Use pandas.concat instead.\n",
      "  df = df.append(row, ignore_index=True)\n"
     ]
    },
    {
     "name": "stdout",
     "output_type": "stream",
     "text": [
      "{'url': 'https://www.nike.com/t/renew-ride-3-mens-road-running-shoes-7hTSLw/DC8185-008', 'writepath': './text/www.nike.com/www.nike.com_t_renew-ride-3-mens-road-running-shoes-7hTSLw_DC8185-008.txt', 'title': 'Nike Renew Ride 3', 'price': '$80', 'images': 'https://static.nike.com/a/images/t_default/c547d70f-4867-4260-9d44-4efce7c65952/renew-ride-3-mens-road-running-shoes-7hTSLw.png'}\n",
      "https://www.nike.com/t/fury-wrestling-shoes-jjSRvT/AO2416-170\n"
     ]
    },
    {
     "name": "stderr",
     "output_type": "stream",
     "text": [
      "/var/folders/rb/k9pmvtxs1wv4y7fl9s364ybw0000gn/T/ipykernel_35610/878112586.py:75: FutureWarning: The frame.append method is deprecated and will be removed from pandas in a future version. Use pandas.concat instead.\n",
      "  df = df.append(row, ignore_index=True)\n"
     ]
    },
    {
     "name": "stdout",
     "output_type": "stream",
     "text": [
      "{'url': 'https://www.nike.com/t/fury-wrestling-shoes-jjSRvT/AO2416-170', 'writepath': './text/www.nike.com/www.nike.com_t_fury-wrestling-shoes-jjSRvT_AO2416-170.txt', 'title': 'Nike Fury', 'price': '$90', 'images': 'https://static.nike.com/a/images/t_default/3b107fed-ceb8-4255-a55f-96528ab590af/fury-wrestling-shoes-jjSRvT.png'}\n",
      "https://www.nike.com/t/air-penny-2-womens-shoes-b5s86k/DV1163-100\n"
     ]
    },
    {
     "name": "stderr",
     "output_type": "stream",
     "text": [
      "/var/folders/rb/k9pmvtxs1wv4y7fl9s364ybw0000gn/T/ipykernel_35610/878112586.py:75: FutureWarning: The frame.append method is deprecated and will be removed from pandas in a future version. Use pandas.concat instead.\n",
      "  df = df.append(row, ignore_index=True)\n"
     ]
    },
    {
     "name": "stdout",
     "output_type": "stream",
     "text": [
      "{'url': 'https://www.nike.com/t/air-penny-2-womens-shoes-b5s86k/DV1163-100', 'writepath': './text/www.nike.com/www.nike.com_t_air-penny-2-womens-shoes-b5s86k_DV1163-100.txt', 'title': 'Nike Air Penny 2', 'price': '$90.97', 'images': 'https://static.nike.com/a/images/t_default/6b0184bf-d674-4e8c-83a1-ee850da13c46/air-penny-2-womens-shoes-b5s86k.png'}\n",
      "https://www.nike.com/t/nikecourt-zoom-lite-3-mens-hard-court-tennis-shoes-3crzS1/DH0626-010\n"
     ]
    },
    {
     "name": "stderr",
     "output_type": "stream",
     "text": [
      "/var/folders/rb/k9pmvtxs1wv4y7fl9s364ybw0000gn/T/ipykernel_35610/878112586.py:75: FutureWarning: The frame.append method is deprecated and will be removed from pandas in a future version. Use pandas.concat instead.\n",
      "  df = df.append(row, ignore_index=True)\n"
     ]
    },
    {
     "name": "stdout",
     "output_type": "stream",
     "text": [
      "{'url': 'https://www.nike.com/t/nikecourt-zoom-lite-3-mens-hard-court-tennis-shoes-3crzS1/DH0626-010', 'writepath': './text/www.nike.com/www.nike.com_t_nikecourt-zoom-lite-3-mens-hard-court-tennis-shoes-3crzS1_DH0626-010.txt', 'title': 'NikeCourt Zoom Lite 3', 'price': '$59.97', 'images': 'https://static.nike.com/a/images/t_default/1890d88e-b27a-4f60-8ff5-f86229375d36/nikecourt-zoom-lite-3-mens-hard-court-tennis-shoes-3crzS1.png'}\n",
      "https://www.nike.com/t/jordan-pro-strong-baby-toddler-shoes-PsHRCl/DC7910-107\n"
     ]
    },
    {
     "name": "stderr",
     "output_type": "stream",
     "text": [
      "/var/folders/rb/k9pmvtxs1wv4y7fl9s364ybw0000gn/T/ipykernel_35610/878112586.py:75: FutureWarning: The frame.append method is deprecated and will be removed from pandas in a future version. Use pandas.concat instead.\n",
      "  df = df.append(row, ignore_index=True)\n"
     ]
    },
    {
     "name": "stdout",
     "output_type": "stream",
     "text": [
      "{'url': 'https://www.nike.com/t/jordan-pro-strong-baby-toddler-shoes-PsHRCl/DC7910-107', 'writepath': './text/www.nike.com/www.nike.com_t_jordan-pro-strong-baby-toddler-shoes-PsHRCl_DC7910-107.txt', 'title': 'Jordan Pro Strong', 'price': '$55', 'images': 'https://static.nike.com/a/images/t_default/0c59a7c8-972b-45dd-bec1-66c1d109a717/jordan-pro-strong-baby-toddler-shoes-PsHRCl.png'}\n",
      "https://www.nike.com/t/superrep-cycle-2-next-nature-womens-indoor-cycling-shoes-cqGbFr/DH3395-101\n"
     ]
    },
    {
     "name": "stderr",
     "output_type": "stream",
     "text": [
      "/var/folders/rb/k9pmvtxs1wv4y7fl9s364ybw0000gn/T/ipykernel_35610/878112586.py:75: FutureWarning: The frame.append method is deprecated and will be removed from pandas in a future version. Use pandas.concat instead.\n",
      "  df = df.append(row, ignore_index=True)\n"
     ]
    },
    {
     "name": "stdout",
     "output_type": "stream",
     "text": [
      "{'url': 'https://www.nike.com/t/superrep-cycle-2-next-nature-womens-indoor-cycling-shoes-cqGbFr/DH3395-101', 'writepath': './text/www.nike.com/www.nike.com_t_superrep-cycle-2-next-nature-womens-indoor-cycling-shoes-cqGbFr_DH3395-101.txt', 'title': 'Nike SuperRep Cycle 2 Next Nature', 'price': '$90.97', 'images': 'https://static.nike.com/a/images/t_default/9d87c2b5-e76b-4943-9870-996706e741d2/superrep-cycle-2-next-nature-womens-indoor-cycling-shoes-cqGbFr.png'}\n",
      "https://www.nike.com/t/renew-in-season-tr-12-womens-training-shoes-bttk75/DD9301-005\n"
     ]
    },
    {
     "name": "stderr",
     "output_type": "stream",
     "text": [
      "/var/folders/rb/k9pmvtxs1wv4y7fl9s364ybw0000gn/T/ipykernel_35610/878112586.py:75: FutureWarning: The frame.append method is deprecated and will be removed from pandas in a future version. Use pandas.concat instead.\n",
      "  df = df.append(row, ignore_index=True)\n"
     ]
    },
    {
     "name": "stdout",
     "output_type": "stream",
     "text": [
      "{'url': 'https://www.nike.com/t/renew-in-season-tr-12-womens-training-shoes-bttk75/DD9301-005', 'writepath': './text/www.nike.com/www.nike.com_t_renew-in-season-tr-12-womens-training-shoes-bttk75_DD9301-005.txt', 'title': 'Nike Renew In-Season TR 12', 'price': '$54.97', 'images': 'https://static.nike.com/a/images/t_default/7ac4fc87-46a5-43e9-afa5-c6e525209e36/renew-in-season-tr-12-womens-training-shoes-bttk75.png'}\n",
      "https://www.nike.com/t/pegasus-39-mens-road-running-shoes-jXTgc9/DH4071-002\n"
     ]
    },
    {
     "name": "stderr",
     "output_type": "stream",
     "text": [
      "/var/folders/rb/k9pmvtxs1wv4y7fl9s364ybw0000gn/T/ipykernel_35610/878112586.py:75: FutureWarning: The frame.append method is deprecated and will be removed from pandas in a future version. Use pandas.concat instead.\n",
      "  df = df.append(row, ignore_index=True)\n"
     ]
    },
    {
     "name": "stdout",
     "output_type": "stream",
     "text": [
      "{'url': 'https://www.nike.com/t/pegasus-39-mens-road-running-shoes-jXTgc9/DH4071-002', 'writepath': './text/www.nike.com/www.nike.com_t_pegasus-39-mens-road-running-shoes-jXTgc9_DH4071-002.txt', 'title': 'Nike Pegasus 39', 'price': '$77.97', 'images': 'https://static.nike.com/a/images/t_default/415e4a4e-b30d-45e0-8713-65f1d2a8b3b0/pegasus-39-mens-road-running-shoes-jXTgc9.png'}\n",
      "https://www.nike.com/t/dunk-low-se-big-kids-shoes-Hg8GjQ/FJ4641-536\n"
     ]
    },
    {
     "name": "stderr",
     "output_type": "stream",
     "text": [
      "/var/folders/rb/k9pmvtxs1wv4y7fl9s364ybw0000gn/T/ipykernel_35610/878112586.py:75: FutureWarning: The frame.append method is deprecated and will be removed from pandas in a future version. Use pandas.concat instead.\n",
      "  df = df.append(row, ignore_index=True)\n"
     ]
    },
    {
     "name": "stdout",
     "output_type": "stream",
     "text": [
      "{'url': 'https://www.nike.com/t/dunk-low-se-big-kids-shoes-Hg8GjQ/FJ4641-536', 'writepath': './text/www.nike.com/www.nike.com_t_dunk-low-se-big-kids-shoes-Hg8GjQ_FJ4641-536.txt', 'title': 'Nike Dunk Low SE', 'price': '$95', 'images': 'https://static.nike.com/a/images/t_default/be3ca284-51d4-4c26-a724-762e708ffa5d/dunk-low-se-big-kids-shoes-Hg8GjQ.png'}\n",
      "https://www.nike.com/t/air-max-270-go-big-kids-easy-on-off-shoes-GDD3R0/DV1968-105\n"
     ]
    },
    {
     "name": "stderr",
     "output_type": "stream",
     "text": [
      "/var/folders/rb/k9pmvtxs1wv4y7fl9s364ybw0000gn/T/ipykernel_35610/878112586.py:75: FutureWarning: The frame.append method is deprecated and will be removed from pandas in a future version. Use pandas.concat instead.\n",
      "  df = df.append(row, ignore_index=True)\n"
     ]
    },
    {
     "name": "stdout",
     "output_type": "stream",
     "text": [
      "{'url': 'https://www.nike.com/t/air-max-270-go-big-kids-easy-on-off-shoes-GDD3R0/DV1968-105', 'writepath': './text/www.nike.com/www.nike.com_t_air-max-270-go-big-kids-easy-on-off-shoes-GDD3R0_DV1968-105.txt', 'title': 'Nike Air Max 270 GO', 'price': '$130', 'images': 'https://static.nike.com/a/images/t_default/952e4275-22ac-4bf3-9e72-1dcbf62ca8b0/air-max-270-go-big-kids-easy-on-off-shoes-GDD3R0.png'}\n",
      "https://www.nike.com/t/aqua-sock-360-baby-toddler-shoes-B1koBJ/943759-003\n"
     ]
    },
    {
     "name": "stderr",
     "output_type": "stream",
     "text": [
      "/var/folders/rb/k9pmvtxs1wv4y7fl9s364ybw0000gn/T/ipykernel_35610/878112586.py:75: FutureWarning: The frame.append method is deprecated and will be removed from pandas in a future version. Use pandas.concat instead.\n",
      "  df = df.append(row, ignore_index=True)\n"
     ]
    },
    {
     "name": "stdout",
     "output_type": "stream",
     "text": [
      "{'url': 'https://www.nike.com/t/aqua-sock-360-baby-toddler-shoes-B1koBJ/943759-003', 'writepath': './text/www.nike.com/www.nike.com_t_aqua-sock-360-baby-toddler-shoes-B1koBJ_943759-003.txt', 'title': 'Nike Aqua Sock 360', 'price': '$45', 'images': 'https://static.nike.com/a/images/t_default/2cb562ea-5f48-4abf-a700-68f66789a6c6/aqua-sock-360-baby-toddler-shoes-B1koBJ.png'}\n",
      "https://www.nike.com/t/blazer-mid-77-baby-toddler-shoes-4G31Wn/FJ4647-100\n"
     ]
    },
    {
     "name": "stderr",
     "output_type": "stream",
     "text": [
      "/var/folders/rb/k9pmvtxs1wv4y7fl9s364ybw0000gn/T/ipykernel_35610/878112586.py:75: FutureWarning: The frame.append method is deprecated and will be removed from pandas in a future version. Use pandas.concat instead.\n",
      "  df = df.append(row, ignore_index=True)\n"
     ]
    },
    {
     "name": "stdout",
     "output_type": "stream",
     "text": [
      "{'url': 'https://www.nike.com/t/blazer-mid-77-baby-toddler-shoes-4G31Wn/FJ4647-100', 'writepath': './text/www.nike.com/www.nike.com_t_blazer-mid-77-baby-toddler-shoes-4G31Wn_FJ4647-100.txt', 'title': \"Nike Blazer Mid '77\", 'price': '$59.97', 'images': 'https://static.nike.com/a/images/t_default/c773a425-c64b-4a7f-87d1-3e9d96ad228f/blazer-mid-77-baby-toddler-shoes-4G31Wn.png'}\n",
      "https://www.nike.com/t/star-runner-4-big-kids-road-running-shoes-6TLZQr/DX7615-001\n"
     ]
    },
    {
     "name": "stderr",
     "output_type": "stream",
     "text": [
      "/var/folders/rb/k9pmvtxs1wv4y7fl9s364ybw0000gn/T/ipykernel_35610/878112586.py:75: FutureWarning: The frame.append method is deprecated and will be removed from pandas in a future version. Use pandas.concat instead.\n",
      "  df = df.append(row, ignore_index=True)\n"
     ]
    },
    {
     "name": "stdout",
     "output_type": "stream",
     "text": [
      "{'url': 'https://www.nike.com/t/star-runner-4-big-kids-road-running-shoes-6TLZQr/DX7615-001', 'writepath': './text/www.nike.com/www.nike.com_t_star-runner-4-big-kids-road-running-shoes-6TLZQr_DX7615-001.txt', 'title': 'Nike Star Runner 4', 'price': '$55', 'images': 'https://static.nike.com/a/images/t_default/1360808c-48c1-4048-bf5b-9f95f99039c8/star-runner-4-big-kids-road-running-shoes-6TLZQr.png'}\n",
      "https://www.nike.com/t/jumpman-two-trey-big-kids-shoes-kZgK4d/DQ8431-104\n"
     ]
    },
    {
     "name": "stderr",
     "output_type": "stream",
     "text": [
      "/var/folders/rb/k9pmvtxs1wv4y7fl9s364ybw0000gn/T/ipykernel_35610/878112586.py:75: FutureWarning: The frame.append method is deprecated and will be removed from pandas in a future version. Use pandas.concat instead.\n",
      "  df = df.append(row, ignore_index=True)\n"
     ]
    },
    {
     "name": "stdout",
     "output_type": "stream",
     "text": [
      "{'url': 'https://www.nike.com/t/jumpman-two-trey-big-kids-shoes-kZgK4d/DQ8431-104', 'writepath': './text/www.nike.com/www.nike.com_t_jumpman-two-trey-big-kids-shoes-kZgK4d_DQ8431-104.txt', 'title': 'Jumpman Two Trey', 'price': '$97.97', 'images': 'https://static.nike.com/a/images/t_default/df3a93ea-db8d-4314-955e-c65882b11f5d/jumpman-two-trey-big-kids-shoes-kZgK4d.png'}\n",
      "https://www.nike.com/t/air-max-90-se-mens-shoes-2VX0QQ/DX3576-001\n"
     ]
    },
    {
     "name": "stderr",
     "output_type": "stream",
     "text": [
      "/var/folders/rb/k9pmvtxs1wv4y7fl9s364ybw0000gn/T/ipykernel_35610/878112586.py:75: FutureWarning: The frame.append method is deprecated and will be removed from pandas in a future version. Use pandas.concat instead.\n",
      "  df = df.append(row, ignore_index=True)\n"
     ]
    },
    {
     "name": "stdout",
     "output_type": "stream",
     "text": [
      "{'url': 'https://www.nike.com/t/air-max-90-se-mens-shoes-2VX0QQ/DX3576-001', 'writepath': './text/www.nike.com/www.nike.com_t_air-max-90-se-mens-shoes-2VX0QQ_DX3576-001.txt', 'title': 'Nike Air Max 90 SE', 'price': '$119.97', 'images': 'https://static.nike.com/a/images/t_default/ef0a59a1-298f-4cb1-8d83-0ae8f42dd4b0/air-max-90-se-mens-shoes-2VX0QQ.png'}\n",
      "https://www.nike.com/t/jordan-max-aura-5-little-kids-shoes-XtnwD2/FD8790-116\n"
     ]
    },
    {
     "name": "stderr",
     "output_type": "stream",
     "text": [
      "/var/folders/rb/k9pmvtxs1wv4y7fl9s364ybw0000gn/T/ipykernel_35610/878112586.py:75: FutureWarning: The frame.append method is deprecated and will be removed from pandas in a future version. Use pandas.concat instead.\n",
      "  df = df.append(row, ignore_index=True)\n"
     ]
    },
    {
     "name": "stdout",
     "output_type": "stream",
     "text": [
      "{'url': 'https://www.nike.com/t/jordan-max-aura-5-little-kids-shoes-XtnwD2/FD8790-116', 'writepath': './text/www.nike.com/www.nike.com_t_jordan-max-aura-5-little-kids-shoes-XtnwD2_FD8790-116.txt', 'title': 'Jordan Max Aura 5', 'price': '$70', 'images': 'https://static.nike.com/a/images/t_default/bf504fe2-393c-4f59-ac66-699556775b24/jordan-max-aura-5-little-kids-shoes-XtnwD2.png'}\n",
      "https://www.nike.com/t/jordan-max-aura-4-mens-shoes-sDVD5R/DN3687-006\n"
     ]
    },
    {
     "name": "stderr",
     "output_type": "stream",
     "text": [
      "/var/folders/rb/k9pmvtxs1wv4y7fl9s364ybw0000gn/T/ipykernel_35610/878112586.py:75: FutureWarning: The frame.append method is deprecated and will be removed from pandas in a future version. Use pandas.concat instead.\n",
      "  df = df.append(row, ignore_index=True)\n"
     ]
    },
    {
     "name": "stdout",
     "output_type": "stream",
     "text": [
      "{'url': 'https://www.nike.com/t/jordan-max-aura-4-mens-shoes-sDVD5R/DN3687-006', 'writepath': './text/www.nike.com/www.nike.com_t_jordan-max-aura-4-mens-shoes-sDVD5R_DN3687-006.txt', 'title': 'Jordan Max Aura 4', 'price': '$81.97', 'images': 'https://static.nike.com/a/images/t_default/de408f27-294e-4ea8-94f1-bf4ddceacb21/jordan-max-aura-4-mens-shoes-sDVD5R.png'}\n",
      "https://www.nike.com/t/air-force-1-07-womens-shoes-b19lqD/DD8959-100\n"
     ]
    },
    {
     "name": "stderr",
     "output_type": "stream",
     "text": [
      "/var/folders/rb/k9pmvtxs1wv4y7fl9s364ybw0000gn/T/ipykernel_35610/878112586.py:75: FutureWarning: The frame.append method is deprecated and will be removed from pandas in a future version. Use pandas.concat instead.\n",
      "  df = df.append(row, ignore_index=True)\n"
     ]
    },
    {
     "name": "stdout",
     "output_type": "stream",
     "text": [
      "{'url': 'https://www.nike.com/t/air-force-1-07-womens-shoes-b19lqD/DD8959-100', 'writepath': './text/www.nike.com/www.nike.com_t_air-force-1-07-womens-shoes-b19lqD_DD8959-100.txt', 'title': \"Nike Air Force 1 '07\", 'price': '$110', 'images': 'https://static.nike.com/a/images/t_default/e777c881-5b62-4250-92a6-362967f54cca/air-force-1-07-womens-shoes-b19lqD.png'}\n",
      "https://www.nike.com/t/run-flow-big-kids-running-shoes-VMSRjc/DR0472-002\n"
     ]
    },
    {
     "name": "stderr",
     "output_type": "stream",
     "text": [
      "/var/folders/rb/k9pmvtxs1wv4y7fl9s364ybw0000gn/T/ipykernel_35610/878112586.py:75: FutureWarning: The frame.append method is deprecated and will be removed from pandas in a future version. Use pandas.concat instead.\n",
      "  df = df.append(row, ignore_index=True)\n"
     ]
    },
    {
     "name": "stdout",
     "output_type": "stream",
     "text": [
      "{'url': 'https://www.nike.com/t/run-flow-big-kids-running-shoes-VMSRjc/DR0472-002', 'writepath': './text/www.nike.com/www.nike.com_t_run-flow-big-kids-running-shoes-VMSRjc_DR0472-002.txt', 'title': 'Nike Run Flow', 'price': '$56.97', 'images': 'https://static.nike.com/a/images/t_default/b0ec3a0c-e6e0-47e5-841b-0f089adac795/run-flow-big-kids-running-shoes-VMSRjc.png'}\n",
      "https://www.nike.com/t/air-force-1-x-serena-williams-design-crew-shoes-XH4MP1/DR9842-400\n"
     ]
    },
    {
     "name": "stderr",
     "output_type": "stream",
     "text": [
      "/var/folders/rb/k9pmvtxs1wv4y7fl9s364ybw0000gn/T/ipykernel_35610/878112586.py:75: FutureWarning: The frame.append method is deprecated and will be removed from pandas in a future version. Use pandas.concat instead.\n",
      "  df = df.append(row, ignore_index=True)\n"
     ]
    },
    {
     "name": "stdout",
     "output_type": "stream",
     "text": [
      "{'url': 'https://www.nike.com/t/air-force-1-x-serena-williams-design-crew-shoes-XH4MP1/DR9842-400', 'writepath': './text/www.nike.com/www.nike.com_t_air-force-1-x-serena-williams-design-crew-shoes-XH4MP1_DR9842-400.txt', 'title': 'Nike Air Force 1 x Serena Williams Design Crew', 'price': '$98.97', 'images': 'https://static.nike.com/a/images/t_default/18378681-1d83-4d5f-bb34-93982e63bbf8/air-force-1-x-serena-williams-design-crew-shoes-XH4MP1.png'}\n",
      "https://www.nike.com/t/air-force-1-lv8-big-kids-shoes-HPbjCf/FD1023-100\n"
     ]
    },
    {
     "name": "stderr",
     "output_type": "stream",
     "text": [
      "/var/folders/rb/k9pmvtxs1wv4y7fl9s364ybw0000gn/T/ipykernel_35610/878112586.py:75: FutureWarning: The frame.append method is deprecated and will be removed from pandas in a future version. Use pandas.concat instead.\n",
      "  df = df.append(row, ignore_index=True)\n"
     ]
    },
    {
     "name": "stdout",
     "output_type": "stream",
     "text": [
      "{'url': 'https://www.nike.com/t/air-force-1-lv8-big-kids-shoes-HPbjCf/FD1023-100', 'writepath': './text/www.nike.com/www.nike.com_t_air-force-1-lv8-big-kids-shoes-HPbjCf_FD1023-100.txt', 'title': 'Nike Air Force 1 LV8', 'price': '$105', 'images': 'https://static.nike.com/a/images/t_default/c16de447-1234-43b4-be2e-8f60a140b12d/air-force-1-lv8-big-kids-shoes-HPbjCf.png'}\n",
      "https://www.nike.com/t/air-max-penny-big-kids-shoes-Vs6l3L/DZ5311-200\n"
     ]
    },
    {
     "name": "stderr",
     "output_type": "stream",
     "text": [
      "/var/folders/rb/k9pmvtxs1wv4y7fl9s364ybw0000gn/T/ipykernel_35610/878112586.py:75: FutureWarning: The frame.append method is deprecated and will be removed from pandas in a future version. Use pandas.concat instead.\n",
      "  df = df.append(row, ignore_index=True)\n"
     ]
    },
    {
     "name": "stdout",
     "output_type": "stream",
     "text": [
      "{'url': 'https://www.nike.com/t/air-max-penny-big-kids-shoes-Vs6l3L/DZ5311-200', 'writepath': './text/www.nike.com/www.nike.com_t_air-max-penny-big-kids-shoes-Vs6l3L_DZ5311-200.txt', 'title': 'Nike Air Max Penny', 'price': '$64.97', 'images': 'https://static.nike.com/a/images/t_default/80a4baea-4e3f-4b2f-9192-4525f591c2bf/air-max-penny-big-kids-shoes-Vs6l3L.png'}\n",
      "https://www.nike.com/t/nikecourt-react-vapor-nxt-womens-hard-court-tennis-shoes-j4FPd1/CV0742-402\n"
     ]
    },
    {
     "name": "stderr",
     "output_type": "stream",
     "text": [
      "/var/folders/rb/k9pmvtxs1wv4y7fl9s364ybw0000gn/T/ipykernel_35610/878112586.py:75: FutureWarning: The frame.append method is deprecated and will be removed from pandas in a future version. Use pandas.concat instead.\n",
      "  df = df.append(row, ignore_index=True)\n"
     ]
    },
    {
     "name": "stdout",
     "output_type": "stream",
     "text": [
      "{'url': 'https://www.nike.com/t/nikecourt-react-vapor-nxt-womens-hard-court-tennis-shoes-j4FPd1/CV0742-402', 'writepath': './text/www.nike.com/www.nike.com_t_nikecourt-react-vapor-nxt-womens-hard-court-tennis-shoes-j4FPd1_CV0742-402.txt', 'title': 'NikeCourt React Vapor NXT', 'price': '$100.97', 'images': 'https://static.nike.com/a/images/t_default/7df7a046-ccaa-4d53-a28b-0ecc7ca57205/nikecourt-react-vapor-nxt-womens-hard-court-tennis-shoes-j4FPd1.png'}\n",
      "https://www.nike.com/t/air-max-90-x-lhm-baby-toddler-shoes-XRVZ0m/DM6919-900\n"
     ]
    },
    {
     "name": "stderr",
     "output_type": "stream",
     "text": [
      "/var/folders/rb/k9pmvtxs1wv4y7fl9s364ybw0000gn/T/ipykernel_35610/878112586.py:75: FutureWarning: The frame.append method is deprecated and will be removed from pandas in a future version. Use pandas.concat instead.\n",
      "  df = df.append(row, ignore_index=True)\n"
     ]
    },
    {
     "name": "stdout",
     "output_type": "stream",
     "text": [
      "{'url': 'https://www.nike.com/t/air-max-90-x-lhm-baby-toddler-shoes-XRVZ0m/DM6919-900', 'writepath': './text/www.nike.com/www.nike.com_t_air-max-90-x-lhm-baby-toddler-shoes-XRVZ0m_DM6919-900.txt', 'title': 'Nike Air Max 90 x LHM', 'price': '$75', 'images': 'https://static.nike.com/a/images/t_default/b66c89b9-653a-4abe-8aae-3d5f7e2324c4/air-max-90-x-lhm-baby-toddler-shoes-XRVZ0m.png'}\n",
      "https://www.nike.com/t/air-force-1-le-big-kids-shoes-3JNSvS/DH2920-111\n"
     ]
    },
    {
     "name": "stderr",
     "output_type": "stream",
     "text": [
      "/var/folders/rb/k9pmvtxs1wv4y7fl9s364ybw0000gn/T/ipykernel_35610/878112586.py:75: FutureWarning: The frame.append method is deprecated and will be removed from pandas in a future version. Use pandas.concat instead.\n",
      "  df = df.append(row, ignore_index=True)\n"
     ]
    },
    {
     "name": "stdout",
     "output_type": "stream",
     "text": [
      "{'url': 'https://www.nike.com/t/air-force-1-le-big-kids-shoes-3JNSvS/DH2920-111', 'writepath': './text/www.nike.com/www.nike.com_t_air-force-1-le-big-kids-shoes-3JNSvS_DH2920-111.txt', 'title': 'Nike Air Force 1 LE', 'price': '$90', 'images': 'https://static.nike.com/a/images/t_default/d9f1d9ee-a848-4a36-aab9-48b241078ebb/air-force-1-le-big-kids-shoes-3JNSvS.png'}\n",
      "https://www.nike.com/t/air-more-uptempo-baby-toddler-shoes-zvxdXp/FB1345-001\n"
     ]
    },
    {
     "name": "stderr",
     "output_type": "stream",
     "text": [
      "/var/folders/rb/k9pmvtxs1wv4y7fl9s364ybw0000gn/T/ipykernel_35610/878112586.py:75: FutureWarning: The frame.append method is deprecated and will be removed from pandas in a future version. Use pandas.concat instead.\n",
      "  df = df.append(row, ignore_index=True)\n"
     ]
    },
    {
     "name": "stdout",
     "output_type": "stream",
     "text": [
      "{'url': 'https://www.nike.com/t/air-more-uptempo-baby-toddler-shoes-zvxdXp/FB1345-001', 'writepath': './text/www.nike.com/www.nike.com_t_air-more-uptempo-baby-toddler-shoes-zvxdXp_FB1345-001.txt', 'title': 'Nike Air More Uptempo', 'price': '$62.97', 'images': 'https://static.nike.com/a/images/t_default/d70530a9-d160-43cf-b346-f1ee452584b3/air-more-uptempo-baby-toddler-shoes-zvxdXp.png'}\n",
      "https://www.nike.com/t/blazer-low-77-little-kids-shoes-6B66Q5/DA4075-117\n"
     ]
    },
    {
     "name": "stderr",
     "output_type": "stream",
     "text": [
      "/var/folders/rb/k9pmvtxs1wv4y7fl9s364ybw0000gn/T/ipykernel_35610/878112586.py:75: FutureWarning: The frame.append method is deprecated and will be removed from pandas in a future version. Use pandas.concat instead.\n",
      "  df = df.append(row, ignore_index=True)\n"
     ]
    },
    {
     "name": "stdout",
     "output_type": "stream",
     "text": [
      "{'url': 'https://www.nike.com/t/blazer-low-77-little-kids-shoes-6B66Q5/DA4075-117', 'writepath': './text/www.nike.com/www.nike.com_t_blazer-low-77-little-kids-shoes-6B66Q5_DA4075-117.txt', 'title': \"Nike Blazer Low '77\", 'price': '$60', 'images': 'https://static.nike.com/a/images/t_default/88b72e35-50f5-4fb1-bff0-fb4df9c0302d/blazer-low-77-little-kids-shoes-6B66Q5.png'}\n",
      "https://www.nike.com/t/blazer-mid-victory-womens-shoes-VBxQ88/DR2948-001\n"
     ]
    },
    {
     "name": "stderr",
     "output_type": "stream",
     "text": [
      "/var/folders/rb/k9pmvtxs1wv4y7fl9s364ybw0000gn/T/ipykernel_35610/878112586.py:75: FutureWarning: The frame.append method is deprecated and will be removed from pandas in a future version. Use pandas.concat instead.\n",
      "  df = df.append(row, ignore_index=True)\n"
     ]
    },
    {
     "name": "stdout",
     "output_type": "stream",
     "text": [
      "{'url': 'https://www.nike.com/t/blazer-mid-victory-womens-shoes-VBxQ88/DR2948-001', 'writepath': './text/www.nike.com/www.nike.com_t_blazer-mid-victory-womens-shoes-VBxQ88_DR2948-001.txt', 'title': 'Nike Blazer Mid Victory', 'price': '$120', 'images': 'https://static.nike.com/a/images/t_default/013d3d8e-9512-4e7e-85ac-2084c35a831b/blazer-mid-victory-womens-shoes-VBxQ88.png'}\n",
      "https://www.nike.com/t/quest-4-premium-womens-road-running-shoes-wGLJxQ/DA8723-002\n"
     ]
    },
    {
     "name": "stderr",
     "output_type": "stream",
     "text": [
      "/var/folders/rb/k9pmvtxs1wv4y7fl9s364ybw0000gn/T/ipykernel_35610/878112586.py:75: FutureWarning: The frame.append method is deprecated and will be removed from pandas in a future version. Use pandas.concat instead.\n",
      "  df = df.append(row, ignore_index=True)\n"
     ]
    },
    {
     "name": "stdout",
     "output_type": "stream",
     "text": [
      "{'url': 'https://www.nike.com/t/quest-4-premium-womens-road-running-shoes-wGLJxQ/DA8723-002', 'writepath': './text/www.nike.com/www.nike.com_t_quest-4-premium-womens-road-running-shoes-wGLJxQ_DA8723-002.txt', 'title': 'Nike Quest 4 Premium', 'price': '$63.97', 'images': 'https://static.nike.com/a/images/t_default/6f9f33b5-c780-4719-a18c-e244bbfc2692/quest-4-premium-womens-road-running-shoes-wGLJxQ.png'}\n",
      "https://www.nike.com/t/air-jordan-1-low-womens-shoes-BdGwjm/DV0990-111\n"
     ]
    },
    {
     "name": "stderr",
     "output_type": "stream",
     "text": [
      "/var/folders/rb/k9pmvtxs1wv4y7fl9s364ybw0000gn/T/ipykernel_35610/878112586.py:75: FutureWarning: The frame.append method is deprecated and will be removed from pandas in a future version. Use pandas.concat instead.\n",
      "  df = df.append(row, ignore_index=True)\n"
     ]
    },
    {
     "name": "stdout",
     "output_type": "stream",
     "text": [
      "{'url': 'https://www.nike.com/t/air-jordan-1-low-womens-shoes-BdGwjm/DV0990-111', 'writepath': './text/www.nike.com/www.nike.com_t_air-jordan-1-low-womens-shoes-BdGwjm_DV0990-111.txt', 'title': 'Air Jordan 1 Low', 'price': '$110', 'images': 'https://static.nike.com/a/images/t_default/0d77f14f-6c0b-470c-b23f-7e3e4428e92d/air-jordan-1-low-womens-shoes-BdGwjm.png'}\n",
      "https://www.nike.com/t/air-max-90-g-nrg-golf-shoes-L8Sss7/DQ4128-155\n"
     ]
    },
    {
     "name": "stderr",
     "output_type": "stream",
     "text": [
      "/var/folders/rb/k9pmvtxs1wv4y7fl9s364ybw0000gn/T/ipykernel_35610/878112586.py:75: FutureWarning: The frame.append method is deprecated and will be removed from pandas in a future version. Use pandas.concat instead.\n",
      "  df = df.append(row, ignore_index=True)\n"
     ]
    },
    {
     "name": "stdout",
     "output_type": "stream",
     "text": [
      "{'url': 'https://www.nike.com/t/air-max-90-g-nrg-golf-shoes-L8Sss7/DQ4128-155', 'writepath': './text/www.nike.com/www.nike.com_t_air-max-90-g-nrg-golf-shoes-L8Sss7_DQ4128-155.txt', 'title': 'Nike Air Max 90 G NRG', 'price': '$99.97', 'images': 'https://static.nike.com/a/images/t_default/3683a07a-aab7-48b5-af11-2e241947d635/air-max-90-g-nrg-golf-shoes-L8Sss7.png'}\n",
      "https://www.nike.com/t/force-1-lv8-baby-toddler-shoes-fKJb5k/FJ4811-100\n"
     ]
    },
    {
     "name": "stderr",
     "output_type": "stream",
     "text": [
      "/var/folders/rb/k9pmvtxs1wv4y7fl9s364ybw0000gn/T/ipykernel_35610/878112586.py:75: FutureWarning: The frame.append method is deprecated and will be removed from pandas in a future version. Use pandas.concat instead.\n",
      "  df = df.append(row, ignore_index=True)\n"
     ]
    },
    {
     "name": "stdout",
     "output_type": "stream",
     "text": [
      "{'url': 'https://www.nike.com/t/force-1-lv8-baby-toddler-shoes-fKJb5k/FJ4811-100', 'writepath': './text/www.nike.com/www.nike.com_t_force-1-lv8-baby-toddler-shoes-fKJb5k_FJ4811-100.txt', 'title': 'Nike Force 1 LV8', 'price': '$55.97', 'images': 'https://static.nike.com/a/images/t_default/3e7f96ac-6cb1-437d-be6c-52dcba1f5ba3/force-1-lv8-baby-toddler-shoes-fKJb5k.png'}\n",
      "https://www.nike.com/t/air-max-97-mens-shoes-LJmK45/921826-101\n"
     ]
    },
    {
     "name": "stderr",
     "output_type": "stream",
     "text": [
      "/var/folders/rb/k9pmvtxs1wv4y7fl9s364ybw0000gn/T/ipykernel_35610/878112586.py:75: FutureWarning: The frame.append method is deprecated and will be removed from pandas in a future version. Use pandas.concat instead.\n",
      "  df = df.append(row, ignore_index=True)\n"
     ]
    },
    {
     "name": "stdout",
     "output_type": "stream",
     "text": [
      "{'url': 'https://www.nike.com/t/air-max-97-mens-shoes-LJmK45/921826-101', 'writepath': './text/www.nike.com/www.nike.com_t_air-max-97-mens-shoes-LJmK45_921826-101.txt', 'title': 'Nike Air Max 97', 'price': '$175', 'images': 'https://static.nike.com/a/images/t_default/5fe30fc4-2645-4d1e-b3f8-70da145e0f74/air-max-97-mens-shoes-LJmK45.png'}\n",
      "https://www.nike.com/t/blazer-low-77-vintage-mens-shoes-jsksCM/DA6364-101\n"
     ]
    },
    {
     "name": "stderr",
     "output_type": "stream",
     "text": [
      "/var/folders/rb/k9pmvtxs1wv4y7fl9s364ybw0000gn/T/ipykernel_35610/878112586.py:75: FutureWarning: The frame.append method is deprecated and will be removed from pandas in a future version. Use pandas.concat instead.\n",
      "  df = df.append(row, ignore_index=True)\n"
     ]
    },
    {
     "name": "stdout",
     "output_type": "stream",
     "text": [
      "{'url': 'https://www.nike.com/t/blazer-low-77-vintage-mens-shoes-jsksCM/DA6364-101', 'writepath': './text/www.nike.com/www.nike.com_t_blazer-low-77-vintage-mens-shoes-jsksCM_DA6364-101.txt', 'title': \"Nike Blazer Low '77 Vintage\", 'price': '$90', 'images': 'https://static.nike.com/a/images/t_default/600fc4b5-3b5e-4c10-8145-ed04773bbd53/blazer-low-77-vintage-mens-shoes-jsksCM.png'}\n",
      "https://www.nike.com/t/air-max-bliss-se-womens-shoes-rJ0q5H/FB9752-100\n"
     ]
    },
    {
     "name": "stderr",
     "output_type": "stream",
     "text": [
      "/var/folders/rb/k9pmvtxs1wv4y7fl9s364ybw0000gn/T/ipykernel_35610/878112586.py:75: FutureWarning: The frame.append method is deprecated and will be removed from pandas in a future version. Use pandas.concat instead.\n",
      "  df = df.append(row, ignore_index=True)\n"
     ]
    },
    {
     "name": "stdout",
     "output_type": "stream",
     "text": [
      "{'url': 'https://www.nike.com/t/air-max-bliss-se-womens-shoes-rJ0q5H/FB9752-100', 'writepath': './text/www.nike.com/www.nike.com_t_air-max-bliss-se-womens-shoes-rJ0q5H_FB9752-100.txt', 'title': 'Nike Air Max Bliss SE', 'price': '$100.97', 'images': 'https://static.nike.com/a/images/t_default/ea43b399-cfba-41a0-98e2-2694423e7b57/air-max-bliss-se-womens-shoes-rJ0q5H.png'}\n",
      "https://www.nike.com/t/zoom-lebron-3-mens-shoes-27dcD4/DO9354-001\n"
     ]
    },
    {
     "name": "stderr",
     "output_type": "stream",
     "text": [
      "/var/folders/rb/k9pmvtxs1wv4y7fl9s364ybw0000gn/T/ipykernel_35610/878112586.py:75: FutureWarning: The frame.append method is deprecated and will be removed from pandas in a future version. Use pandas.concat instead.\n",
      "  df = df.append(row, ignore_index=True)\n"
     ]
    },
    {
     "name": "stdout",
     "output_type": "stream",
     "text": [
      "{'url': 'https://www.nike.com/t/zoom-lebron-3-mens-shoes-27dcD4/DO9354-001', 'writepath': './text/www.nike.com/www.nike.com_t_zoom-lebron-3-mens-shoes-27dcD4_DO9354-001.txt', 'title': 'Nike Zoom LeBron 3', 'price': '$92.97', 'images': 'https://static.nike.com/a/images/t_default/3c653bda-4822-4357-a18e-c0adcb6bbf2d/zoom-lebron-3-mens-shoes-27dcD4.png'}\n",
      "https://www.nike.com/t/air-jordan-1-high-og-big-kids-shoes-kwqPnW/FD1437-031\n"
     ]
    },
    {
     "name": "stderr",
     "output_type": "stream",
     "text": [
      "/var/folders/rb/k9pmvtxs1wv4y7fl9s364ybw0000gn/T/ipykernel_35610/878112586.py:75: FutureWarning: The frame.append method is deprecated and will be removed from pandas in a future version. Use pandas.concat instead.\n",
      "  df = df.append(row, ignore_index=True)\n"
     ]
    },
    {
     "name": "stdout",
     "output_type": "stream",
     "text": [
      "{'url': 'https://www.nike.com/t/air-jordan-1-high-og-big-kids-shoes-kwqPnW/FD1437-031', 'writepath': './text/www.nike.com/www.nike.com_t_air-jordan-1-high-og-big-kids-shoes-kwqPnW_FD1437-031.txt', 'title': 'Air Jordan 1 High OG', 'price': '$140', 'images': 'https://static.nike.com/a/images/t_default/b28764a7-fcb6-43e5-b10b-68c7354f1685/air-jordan-1-high-og-big-kids-shoes-kwqPnW.png'}\n",
      "https://www.nike.com/t/sideline-iv-little-kids-cheerleading-shoes-b0Tpmx/943789-100\n"
     ]
    },
    {
     "name": "stderr",
     "output_type": "stream",
     "text": [
      "/var/folders/rb/k9pmvtxs1wv4y7fl9s364ybw0000gn/T/ipykernel_35610/878112586.py:75: FutureWarning: The frame.append method is deprecated and will be removed from pandas in a future version. Use pandas.concat instead.\n",
      "  df = df.append(row, ignore_index=True)\n"
     ]
    },
    {
     "name": "stdout",
     "output_type": "stream",
     "text": [
      "{'url': 'https://www.nike.com/t/sideline-iv-little-kids-cheerleading-shoes-b0Tpmx/943789-100', 'writepath': './text/www.nike.com/www.nike.com_t_sideline-iv-little-kids-cheerleading-shoes-b0Tpmx_943789-100.txt', 'title': 'Nike Sideline IV', 'price': '$60', 'images': 'https://static.nike.com/a/images/t_default/uoo1sexyb7cpgduc2kti/sideline-iv-little-kids-cheerleading-shoes-b0Tpmx.png'}\n",
      "https://www.nike.com/t/free-metcon-5-x-russell-wilson-mens-training-shoes-nXK2SJ/FQ1412-800\n"
     ]
    },
    {
     "name": "stderr",
     "output_type": "stream",
     "text": [
      "/var/folders/rb/k9pmvtxs1wv4y7fl9s364ybw0000gn/T/ipykernel_35610/878112586.py:75: FutureWarning: The frame.append method is deprecated and will be removed from pandas in a future version. Use pandas.concat instead.\n",
      "  df = df.append(row, ignore_index=True)\n"
     ]
    },
    {
     "name": "stdout",
     "output_type": "stream",
     "text": [
      "{'url': 'https://www.nike.com/t/free-metcon-5-x-russell-wilson-mens-training-shoes-nXK2SJ/FQ1412-800', 'writepath': './text/www.nike.com/www.nike.com_t_free-metcon-5-x-russell-wilson-mens-training-shoes-nXK2SJ_FQ1412-800.txt', 'title': 'Nike Free Metcon 5 x Russell Wilson', 'price': '$120', 'images': 'https://static.nike.com/a/images/t_default/662c755a-aae2-4ad6-96b4-c1cc4202f14d/free-metcon-5-x-russell-wilson-mens-training-shoes-nXK2SJ.png'}\n",
      "https://www.nike.com/t/dunk-high-big-kids-shoes-1TKwrl/DZ4454-500\n"
     ]
    },
    {
     "name": "stderr",
     "output_type": "stream",
     "text": [
      "/var/folders/rb/k9pmvtxs1wv4y7fl9s364ybw0000gn/T/ipykernel_35610/878112586.py:75: FutureWarning: The frame.append method is deprecated and will be removed from pandas in a future version. Use pandas.concat instead.\n",
      "  df = df.append(row, ignore_index=True)\n"
     ]
    },
    {
     "name": "stdout",
     "output_type": "stream",
     "text": [
      "{'url': 'https://www.nike.com/t/dunk-high-big-kids-shoes-1TKwrl/DZ4454-500', 'writepath': './text/www.nike.com/www.nike.com_t_dunk-high-big-kids-shoes-1TKwrl_DZ4454-500.txt', 'title': 'Nike Dunk High', 'price': '$89.97', 'images': 'https://static.nike.com/a/images/t_default/bcd39cfd-fd31-4bac-a9b2-87ee36037b97/dunk-high-big-kids-shoes-1TKwrl.png'}\n",
      "https://www.nike.com/t/escape-run-womens-road-running-shoes-LP3Msz/CV3817-002\n"
     ]
    },
    {
     "name": "stderr",
     "output_type": "stream",
     "text": [
      "/var/folders/rb/k9pmvtxs1wv4y7fl9s364ybw0000gn/T/ipykernel_35610/878112586.py:75: FutureWarning: The frame.append method is deprecated and will be removed from pandas in a future version. Use pandas.concat instead.\n",
      "  df = df.append(row, ignore_index=True)\n"
     ]
    },
    {
     "name": "stdout",
     "output_type": "stream",
     "text": [
      "{'url': 'https://www.nike.com/t/escape-run-womens-road-running-shoes-LP3Msz/CV3817-002', 'writepath': './text/www.nike.com/www.nike.com_t_escape-run-womens-road-running-shoes-LP3Msz_CV3817-002.txt', 'title': 'Nike Escape Run', 'price': '$85.97', 'images': 'https://static.nike.com/a/images/t_default/f7b520b0-e0c8-4586-82b6-1581261dc75f/escape-run-womens-road-running-shoes-LP3Msz.png'}\n",
      "https://www.nike.com/t/jordan-pro-strong-big-kids-shoes-0Q1KGs/DC7911-105\n"
     ]
    },
    {
     "name": "stderr",
     "output_type": "stream",
     "text": [
      "/var/folders/rb/k9pmvtxs1wv4y7fl9s364ybw0000gn/T/ipykernel_35610/878112586.py:75: FutureWarning: The frame.append method is deprecated and will be removed from pandas in a future version. Use pandas.concat instead.\n",
      "  df = df.append(row, ignore_index=True)\n"
     ]
    },
    {
     "name": "stdout",
     "output_type": "stream",
     "text": [
      "{'url': 'https://www.nike.com/t/jordan-pro-strong-big-kids-shoes-0Q1KGs/DC7911-105', 'writepath': './text/www.nike.com/www.nike.com_t_jordan-pro-strong-big-kids-shoes-0Q1KGs_DC7911-105.txt', 'title': 'Jordan Pro Strong', 'price': '$110', 'images': 'https://static.nike.com/a/images/t_default/444b92f8-fd6f-4126-8f4a-e236d01d9b3d/jordan-pro-strong-big-kids-shoes-0Q1KGs.png'}\n",
      "https://www.nike.com/t/pegasus-turbo-womens-road-running-shoes-v0hK3R/DM3414-001\n"
     ]
    },
    {
     "name": "stderr",
     "output_type": "stream",
     "text": [
      "/var/folders/rb/k9pmvtxs1wv4y7fl9s364ybw0000gn/T/ipykernel_35610/878112586.py:75: FutureWarning: The frame.append method is deprecated and will be removed from pandas in a future version. Use pandas.concat instead.\n",
      "  df = df.append(row, ignore_index=True)\n"
     ]
    },
    {
     "name": "stdout",
     "output_type": "stream",
     "text": [
      "{'url': 'https://www.nike.com/t/pegasus-turbo-womens-road-running-shoes-v0hK3R/DM3414-001', 'writepath': './text/www.nike.com/www.nike.com_t_pegasus-turbo-womens-road-running-shoes-v0hK3R_DM3414-001.txt', 'title': 'Nike Pegasus Turbo', 'price': '$90.97', 'images': 'https://static.nike.com/a/images/t_default/309171ac-32a0-4adc-bb55-0cf08552d75f/pegasus-turbo-womens-road-running-shoes-v0hK3R.png'}\n",
      "https://www.nike.com/t/jordan-1-mid-se-little-kids-shoes-rHlKf5/DX4367-800\n"
     ]
    },
    {
     "name": "stderr",
     "output_type": "stream",
     "text": [
      "/var/folders/rb/k9pmvtxs1wv4y7fl9s364ybw0000gn/T/ipykernel_35610/878112586.py:75: FutureWarning: The frame.append method is deprecated and will be removed from pandas in a future version. Use pandas.concat instead.\n",
      "  df = df.append(row, ignore_index=True)\n"
     ]
    },
    {
     "name": "stdout",
     "output_type": "stream",
     "text": [
      "{'url': 'https://www.nike.com/t/jordan-1-mid-se-little-kids-shoes-rHlKf5/DX4367-800', 'writepath': './text/www.nike.com/www.nike.com_t_jordan-1-mid-se-little-kids-shoes-rHlKf5_DX4367-800.txt', 'title': 'Jordan 1 Mid SE', 'price': '$80', 'images': 'https://static.nike.com/a/images/t_default/1604e26c-7a1b-45ec-9d42-d89c2986abca/jordan-1-mid-se-little-kids-shoes-rHlKf5.png'}\n",
      "https://www.nike.com/t/jordan-5-retro-low-little-kids-shoes-tljJ8M/DX4389-116\n"
     ]
    },
    {
     "name": "stderr",
     "output_type": "stream",
     "text": [
      "/var/folders/rb/k9pmvtxs1wv4y7fl9s364ybw0000gn/T/ipykernel_35610/878112586.py:75: FutureWarning: The frame.append method is deprecated and will be removed from pandas in a future version. Use pandas.concat instead.\n",
      "  df = df.append(row, ignore_index=True)\n"
     ]
    },
    {
     "name": "stdout",
     "output_type": "stream",
     "text": [
      "{'url': 'https://www.nike.com/t/jordan-5-retro-low-little-kids-shoes-tljJ8M/DX4389-116', 'writepath': './text/www.nike.com/www.nike.com_t_jordan-5-retro-low-little-kids-shoes-tljJ8M_DX4389-116.txt', 'title': 'Jordan 5 Retro Low', 'price': '$80', 'images': 'https://static.nike.com/a/images/t_default/ab5af1cd-232c-46dc-945d-7f0eb7123d6e/jordan-5-retro-low-little-kids-shoes-tljJ8M.png'}\n",
      "https://www.nike.com/t/air-max-97-se-big-kids-shoes-pn6x2N/DV7550-100\n"
     ]
    },
    {
     "name": "stderr",
     "output_type": "stream",
     "text": [
      "/var/folders/rb/k9pmvtxs1wv4y7fl9s364ybw0000gn/T/ipykernel_35610/878112586.py:75: FutureWarning: The frame.append method is deprecated and will be removed from pandas in a future version. Use pandas.concat instead.\n",
      "  df = df.append(row, ignore_index=True)\n"
     ]
    },
    {
     "name": "stdout",
     "output_type": "stream",
     "text": [
      "{'url': 'https://www.nike.com/t/air-max-97-se-big-kids-shoes-pn6x2N/DV7550-100', 'writepath': './text/www.nike.com/www.nike.com_t_air-max-97-se-big-kids-shoes-pn6x2N_DV7550-100.txt', 'title': 'Nike Air Max 97 SE', 'price': '$126.97', 'images': 'https://static.nike.com/a/images/t_default/18747c0f-ad6f-4eeb-bc0f-da2157becf12/air-max-97-se-big-kids-shoes-pn6x2N.png'}\n",
      "https://www.nike.com/t/gt-cut-2-mens-basketball-shoes-tmfmFl/DJ6015-006\n"
     ]
    },
    {
     "name": "stderr",
     "output_type": "stream",
     "text": [
      "/var/folders/rb/k9pmvtxs1wv4y7fl9s364ybw0000gn/T/ipykernel_35610/878112586.py:75: FutureWarning: The frame.append method is deprecated and will be removed from pandas in a future version. Use pandas.concat instead.\n",
      "  df = df.append(row, ignore_index=True)\n"
     ]
    },
    {
     "name": "stdout",
     "output_type": "stream",
     "text": [
      "{'url': 'https://www.nike.com/t/gt-cut-2-mens-basketball-shoes-tmfmFl/DJ6015-006', 'writepath': './text/www.nike.com/www.nike.com_t_gt-cut-2-mens-basketball-shoes-tmfmFl_DJ6015-006.txt', 'title': 'Nike G.T. Cut 2', 'price': '$170', 'images': 'https://static.nike.com/a/images/t_default/5615e577-16eb-4e44-8c60-0fc968dd711d/gt-cut-2-mens-basketball-shoes-tmfmFl.png'}\n",
      "https://www.nike.com/t/court-legacy-leopard-womens-slip-on-shoes-39kf7S/DM0591-200\n"
     ]
    },
    {
     "name": "stderr",
     "output_type": "stream",
     "text": [
      "/var/folders/rb/k9pmvtxs1wv4y7fl9s364ybw0000gn/T/ipykernel_35610/878112586.py:75: FutureWarning: The frame.append method is deprecated and will be removed from pandas in a future version. Use pandas.concat instead.\n",
      "  df = df.append(row, ignore_index=True)\n"
     ]
    },
    {
     "name": "stdout",
     "output_type": "stream",
     "text": [
      "{'url': 'https://www.nike.com/t/court-legacy-leopard-womens-slip-on-shoes-39kf7S/DM0591-200', 'writepath': './text/www.nike.com/www.nike.com_t_court-legacy-leopard-womens-slip-on-shoes-39kf7S_DM0591-200.txt', 'title': 'Nike Court Legacy Leopard', 'price': '$55.97', 'images': 'https://static.nike.com/a/images/t_default/1c26847c-d8b3-428d-8c77-74610c075a2f/court-legacy-leopard-womens-slip-on-shoes-39kf7S.png'}\n",
      "https://www.nike.com/t/jr-zoom-mercurial-superfly-9-academy-xxv-tf-big-kids-turf-soccer-shoes-X4402S/FJ2033-060\n"
     ]
    },
    {
     "name": "stderr",
     "output_type": "stream",
     "text": [
      "/var/folders/rb/k9pmvtxs1wv4y7fl9s364ybw0000gn/T/ipykernel_35610/878112586.py:75: FutureWarning: The frame.append method is deprecated and will be removed from pandas in a future version. Use pandas.concat instead.\n",
      "  df = df.append(row, ignore_index=True)\n"
     ]
    },
    {
     "name": "stdout",
     "output_type": "stream",
     "text": [
      "{'url': 'https://www.nike.com/t/jr-zoom-mercurial-superfly-9-academy-xxv-tf-big-kids-turf-soccer-shoes-X4402S/FJ2033-060', 'writepath': './text/www.nike.com/www.nike.com_t_jr-zoom-mercurial-superfly-9-academy-xxv-tf-big-kids-turf-soccer-shoes-X4402S_FJ2033-060.txt', 'title': 'Nike Jr. Zoom Mercurial Superfly 9 Academy XXV TF', 'price': '$70', 'images': 'https://static.nike.com/a/images/t_default/181419bf-2172-4aaf-b219-f5c305f32aca/jr-zoom-mercurial-superfly-9-academy-xxv-tf-big-kids-turf-soccer-shoes-X4402S.png'}\n",
      "https://www.nike.com/t/zoom-fly-5-mens-road-running-shoes-jGsdSl/DM8968-302\n"
     ]
    },
    {
     "name": "stderr",
     "output_type": "stream",
     "text": [
      "/var/folders/rb/k9pmvtxs1wv4y7fl9s364ybw0000gn/T/ipykernel_35610/878112586.py:75: FutureWarning: The frame.append method is deprecated and will be removed from pandas in a future version. Use pandas.concat instead.\n",
      "  df = df.append(row, ignore_index=True)\n"
     ]
    },
    {
     "name": "stdout",
     "output_type": "stream",
     "text": [
      "{'url': 'https://www.nike.com/t/zoom-fly-5-mens-road-running-shoes-jGsdSl/DM8968-302', 'writepath': './text/www.nike.com/www.nike.com_t_zoom-fly-5-mens-road-running-shoes-jGsdSl_DM8968-302.txt', 'title': 'Nike Zoom Fly 5', 'price': '$160', 'images': 'https://static.nike.com/a/images/t_default/ffb7f5f8-9414-46b0-9766-4a2f747ad4e2/zoom-fly-5-mens-road-running-shoes-jGsdSl.png'}\n",
      "https://www.nike.com/t/infinity-ace-next-nature-nrg-golf-shoes-p010rD/DX7435-007\n"
     ]
    },
    {
     "name": "stderr",
     "output_type": "stream",
     "text": [
      "/var/folders/rb/k9pmvtxs1wv4y7fl9s364ybw0000gn/T/ipykernel_35610/878112586.py:75: FutureWarning: The frame.append method is deprecated and will be removed from pandas in a future version. Use pandas.concat instead.\n",
      "  df = df.append(row, ignore_index=True)\n"
     ]
    },
    {
     "name": "stdout",
     "output_type": "stream",
     "text": [
      "{'url': 'https://www.nike.com/t/infinity-ace-next-nature-nrg-golf-shoes-p010rD/DX7435-007', 'writepath': './text/www.nike.com/www.nike.com_t_infinity-ace-next-nature-nrg-golf-shoes-p010rD_DX7435-007.txt', 'title': 'Nike Infinity Ace Next Nature NRG', 'price': '$120', 'images': 'https://static.nike.com/a/images/t_default/739e01eb-64da-4a03-a072-c72ef711fe12/infinity-ace-next-nature-nrg-golf-shoes-p010rD.png'}\n",
      "https://www.nike.com/t/cortez-mens-shoes-SxhPXX/DM4044-100\n"
     ]
    },
    {
     "name": "stderr",
     "output_type": "stream",
     "text": [
      "/var/folders/rb/k9pmvtxs1wv4y7fl9s364ybw0000gn/T/ipykernel_35610/878112586.py:75: FutureWarning: The frame.append method is deprecated and will be removed from pandas in a future version. Use pandas.concat instead.\n",
      "  df = df.append(row, ignore_index=True)\n"
     ]
    },
    {
     "name": "stdout",
     "output_type": "stream",
     "text": [
      "{'url': 'https://www.nike.com/t/cortez-mens-shoes-SxhPXX/DM4044-100', 'writepath': './text/www.nike.com/www.nike.com_t_cortez-mens-shoes-SxhPXX_DM4044-100.txt', 'title': 'Nike Cortez', 'price': '$85', 'images': 'https://static.nike.com/a/images/t_default/a3734282-d3ff-4df6-96bd-bbe1227ef63c/cortez-mens-shoes-SxhPXX.png'}\n",
      "https://www.nike.com/t/jr-phantom-gx-club-big-kids-indoor-court-soccer-shoes-7fq4TL/DD9566-010\n"
     ]
    },
    {
     "name": "stderr",
     "output_type": "stream",
     "text": [
      "/var/folders/rb/k9pmvtxs1wv4y7fl9s364ybw0000gn/T/ipykernel_35610/878112586.py:75: FutureWarning: The frame.append method is deprecated and will be removed from pandas in a future version. Use pandas.concat instead.\n",
      "  df = df.append(row, ignore_index=True)\n"
     ]
    },
    {
     "name": "stdout",
     "output_type": "stream",
     "text": [
      "{'url': 'https://www.nike.com/t/jr-phantom-gx-club-big-kids-indoor-court-soccer-shoes-7fq4TL/DD9566-010', 'writepath': './text/www.nike.com/www.nike.com_t_jr-phantom-gx-club-big-kids-indoor-court-soccer-shoes-7fq4TL_DD9566-010.txt', 'title': 'Nike Jr. Phantom GX Club', 'price': '$45', 'images': 'https://static.nike.com/a/images/t_default/11200b2f-78ea-4e47-92f9-5ba8b4664a1f/jr-phantom-gx-club-big-kids-indoor-court-soccer-shoes-7fq4TL.png'}\n",
      "https://www.nike.com/t/air-force-1-07-lv8-shoes-3vWcC9/FJ4004-100\n"
     ]
    },
    {
     "name": "stderr",
     "output_type": "stream",
     "text": [
      "/var/folders/rb/k9pmvtxs1wv4y7fl9s364ybw0000gn/T/ipykernel_35610/878112586.py:75: FutureWarning: The frame.append method is deprecated and will be removed from pandas in a future version. Use pandas.concat instead.\n",
      "  df = df.append(row, ignore_index=True)\n"
     ]
    },
    {
     "name": "stdout",
     "output_type": "stream",
     "text": [
      "{'url': 'https://www.nike.com/t/air-force-1-07-lv8-shoes-3vWcC9/FJ4004-100', 'writepath': './text/www.nike.com/www.nike.com_t_air-force-1-07-lv8-shoes-3vWcC9_FJ4004-100.txt', 'title': \"Nike Air Force 1 '07 LV8\", 'price': '$130', 'images': 'https://static.nike.com/a/images/t_default/300037f5-c3d4-48a8-b6e2-a058d80fb2c9/air-force-1-07-lv8-shoes-3vWcC9.png'}\n",
      "https://www.nike.com/t/chuck-taylor-all-star-lift-platform-canvas-womens-shoes-5Qk67w/560250F-001\n"
     ]
    },
    {
     "name": "stderr",
     "output_type": "stream",
     "text": [
      "/var/folders/rb/k9pmvtxs1wv4y7fl9s364ybw0000gn/T/ipykernel_35610/878112586.py:75: FutureWarning: The frame.append method is deprecated and will be removed from pandas in a future version. Use pandas.concat instead.\n",
      "  df = df.append(row, ignore_index=True)\n"
     ]
    },
    {
     "name": "stdout",
     "output_type": "stream",
     "text": [
      "{'url': 'https://www.nike.com/t/chuck-taylor-all-star-lift-platform-canvas-womens-shoes-5Qk67w/560250F-001', 'writepath': './text/www.nike.com/www.nike.com_t_chuck-taylor-all-star-lift-platform-canvas-womens-shoes-5Qk67w_560250F-001.txt', 'title': 'Chuck Taylor All Star Lift Platform Canvas', 'price': '$70', 'images': 'https://static.nike.com/a/images/t_default/eb86c533-9578-4cdf-ba6e-9a1f728fb074/chuck-taylor-all-star-lift-platform-canvas-womens-shoes-5Qk67w.png'}\n",
      "https://www.nike.com/t/giannis-immortality-2-basketball-shoes-X7xj7b/DM0825-400\n"
     ]
    },
    {
     "name": "stderr",
     "output_type": "stream",
     "text": [
      "/var/folders/rb/k9pmvtxs1wv4y7fl9s364ybw0000gn/T/ipykernel_35610/878112586.py:75: FutureWarning: The frame.append method is deprecated and will be removed from pandas in a future version. Use pandas.concat instead.\n",
      "  df = df.append(row, ignore_index=True)\n"
     ]
    },
    {
     "name": "stdout",
     "output_type": "stream",
     "text": [
      "{'url': 'https://www.nike.com/t/giannis-immortality-2-basketball-shoes-X7xj7b/DM0825-400', 'writepath': './text/www.nike.com/www.nike.com_t_giannis-immortality-2-basketball-shoes-X7xj7b_DM0825-400.txt', 'title': 'Giannis Immortality 2', 'price': '$85', 'images': 'https://static.nike.com/a/images/t_default/dd45cc30-b5f2-4044-8066-43c84d293c31/giannis-immortality-2-basketball-shoes-X7xj7b.png'}\n",
      "https://www.nike.com/t/zion-2-full-moon-mens-basketball-shoes-RRKMSv/FJ2957-200\n"
     ]
    },
    {
     "name": "stderr",
     "output_type": "stream",
     "text": [
      "/var/folders/rb/k9pmvtxs1wv4y7fl9s364ybw0000gn/T/ipykernel_35610/878112586.py:75: FutureWarning: The frame.append method is deprecated and will be removed from pandas in a future version. Use pandas.concat instead.\n",
      "  df = df.append(row, ignore_index=True)\n"
     ]
    },
    {
     "name": "stdout",
     "output_type": "stream",
     "text": [
      "{'url': 'https://www.nike.com/t/zion-2-full-moon-mens-basketball-shoes-RRKMSv/FJ2957-200', 'writepath': './text/www.nike.com/www.nike.com_t_zion-2-full-moon-mens-basketball-shoes-RRKMSv_FJ2957-200.txt', 'title': 'Zion 2 \"Full Moon\"', 'price': '$130', 'images': 'https://static.nike.com/a/images/t_default/c5b96843-da24-4a89-a362-55ae28ad39c5/zion-2-full-moon-mens-basketball-shoes-RRKMSv.png'}\n",
      "https://www.nike.com/t/air-force-1-07-lv8-mens-shoes-Sxw463/DZ4861-600\n"
     ]
    },
    {
     "name": "stderr",
     "output_type": "stream",
     "text": [
      "/var/folders/rb/k9pmvtxs1wv4y7fl9s364ybw0000gn/T/ipykernel_35610/878112586.py:75: FutureWarning: The frame.append method is deprecated and will be removed from pandas in a future version. Use pandas.concat instead.\n",
      "  df = df.append(row, ignore_index=True)\n"
     ]
    },
    {
     "name": "stdout",
     "output_type": "stream",
     "text": [
      "{'url': 'https://www.nike.com/t/air-force-1-07-lv8-mens-shoes-Sxw463/DZ4861-600', 'writepath': './text/www.nike.com/www.nike.com_t_air-force-1-07-lv8-mens-shoes-Sxw463_DZ4861-600.txt', 'title': \"Nike Air Force 1 '07 LV8\", 'price': '$103.97', 'images': 'https://static.nike.com/a/images/t_default/f14d9bc7-d7be-4582-83f3-d658f29b89f7/air-force-1-07-lv8-mens-shoes-Sxw463.png'}\n",
      "https://www.nike.com/t/tanjun-easyon-baby-toddler-shoes-Lpnk7T/DX9043-001\n"
     ]
    },
    {
     "name": "stderr",
     "output_type": "stream",
     "text": [
      "/var/folders/rb/k9pmvtxs1wv4y7fl9s364ybw0000gn/T/ipykernel_35610/878112586.py:75: FutureWarning: The frame.append method is deprecated and will be removed from pandas in a future version. Use pandas.concat instead.\n",
      "  df = df.append(row, ignore_index=True)\n"
     ]
    },
    {
     "name": "stdout",
     "output_type": "stream",
     "text": [
      "{'url': 'https://www.nike.com/t/tanjun-easyon-baby-toddler-shoes-Lpnk7T/DX9043-001', 'writepath': './text/www.nike.com/www.nike.com_t_tanjun-easyon-baby-toddler-shoes-Lpnk7T_DX9043-001.txt', 'title': 'Nike Tanjun EasyOn', 'price': '$50', 'images': 'https://static.nike.com/a/images/t_default/9657dc48-8e43-4277-8293-de8b7bb78b44/tanjun-easyon-baby-toddler-shoes-Lpnk7T.png'}\n",
      "https://www.nike.com/t/jordan-one-take-4-basketball-shoes-1kGWDg/DO7193-700\n"
     ]
    },
    {
     "name": "stderr",
     "output_type": "stream",
     "text": [
      "/var/folders/rb/k9pmvtxs1wv4y7fl9s364ybw0000gn/T/ipykernel_35610/878112586.py:75: FutureWarning: The frame.append method is deprecated and will be removed from pandas in a future version. Use pandas.concat instead.\n",
      "  df = df.append(row, ignore_index=True)\n"
     ]
    },
    {
     "name": "stdout",
     "output_type": "stream",
     "text": [
      "{'url': 'https://www.nike.com/t/jordan-one-take-4-basketball-shoes-1kGWDg/DO7193-700', 'writepath': './text/www.nike.com/www.nike.com_t_jordan-one-take-4-basketball-shoes-1kGWDg_DO7193-700.txt', 'title': 'Jordan One Take 4', 'price': '$100', 'images': 'https://static.nike.com/a/images/t_default/4cd3d3a7-d1db-40cd-8999-d6e3870454a4/jordan-one-take-4-basketball-shoes-1kGWDg.png'}\n",
      "https://www.nike.com/t/jordan-1-mid-se-baby-toddler-shoes-6rtlsz/DX4369-400\n"
     ]
    },
    {
     "name": "stderr",
     "output_type": "stream",
     "text": [
      "/var/folders/rb/k9pmvtxs1wv4y7fl9s364ybw0000gn/T/ipykernel_35610/878112586.py:75: FutureWarning: The frame.append method is deprecated and will be removed from pandas in a future version. Use pandas.concat instead.\n",
      "  df = df.append(row, ignore_index=True)\n"
     ]
    },
    {
     "name": "stdout",
     "output_type": "stream",
     "text": [
      "{'url': 'https://www.nike.com/t/jordan-1-mid-se-baby-toddler-shoes-6rtlsz/DX4369-400', 'writepath': './text/www.nike.com/www.nike.com_t_jordan-1-mid-se-baby-toddler-shoes-6rtlsz_DX4369-400.txt', 'title': 'Jordan 1 Mid SE', 'price': '$58.97', 'images': 'https://static.nike.com/a/images/t_default/9ce78628-7d58-4a0c-8260-40b4b715829d/jordan-1-mid-se-baby-toddler-shoes-6rtlsz.png'}\n",
      "https://www.nike.com/t/huarache-run-little-kids-shoes-52sRmM/704949-016\n"
     ]
    },
    {
     "name": "stderr",
     "output_type": "stream",
     "text": [
      "/var/folders/rb/k9pmvtxs1wv4y7fl9s364ybw0000gn/T/ipykernel_35610/878112586.py:75: FutureWarning: The frame.append method is deprecated and will be removed from pandas in a future version. Use pandas.concat instead.\n",
      "  df = df.append(row, ignore_index=True)\n"
     ]
    },
    {
     "name": "stdout",
     "output_type": "stream",
     "text": [
      "{'url': 'https://www.nike.com/t/huarache-run-little-kids-shoes-52sRmM/704949-016', 'writepath': './text/www.nike.com/www.nike.com_t_huarache-run-little-kids-shoes-52sRmM_704949-016.txt', 'title': 'Nike Huarache Run', 'price': '$73', 'images': 'https://static.nike.com/a/images/t_default/c4lce7fupi4qdruhsl0l/huarache-run-little-kids-shoes-52sRmM.png'}\n",
      "https://www.nike.com/t/air-jordan-1-mid-se-big-kids-shoes-ntdSDS/DQ8418-071\n"
     ]
    },
    {
     "name": "stderr",
     "output_type": "stream",
     "text": [
      "/var/folders/rb/k9pmvtxs1wv4y7fl9s364ybw0000gn/T/ipykernel_35610/878112586.py:75: FutureWarning: The frame.append method is deprecated and will be removed from pandas in a future version. Use pandas.concat instead.\n",
      "  df = df.append(row, ignore_index=True)\n"
     ]
    },
    {
     "name": "stdout",
     "output_type": "stream",
     "text": [
      "{'url': 'https://www.nike.com/t/air-jordan-1-mid-se-big-kids-shoes-ntdSDS/DQ8418-071', 'writepath': './text/www.nike.com/www.nike.com_t_air-jordan-1-mid-se-big-kids-shoes-ntdSDS_DQ8418-071.txt', 'title': 'Air Jordan 1 Mid SE', 'price': '$78.97', 'images': 'https://static.nike.com/a/images/t_default/3ad4424d-48cd-4ad1-a0f6-8471d6729654/air-jordan-1-mid-se-big-kids-shoes-ntdSDS.png'}\n",
      "https://www.nike.com/t/pegasus-39-mens-road-running-shoes-t0zqlK/DM0164-601\n"
     ]
    },
    {
     "name": "stderr",
     "output_type": "stream",
     "text": [
      "/var/folders/rb/k9pmvtxs1wv4y7fl9s364ybw0000gn/T/ipykernel_35610/878112586.py:75: FutureWarning: The frame.append method is deprecated and will be removed from pandas in a future version. Use pandas.concat instead.\n",
      "  df = df.append(row, ignore_index=True)\n"
     ]
    },
    {
     "name": "stdout",
     "output_type": "stream",
     "text": [
      "{'url': 'https://www.nike.com/t/pegasus-39-mens-road-running-shoes-t0zqlK/DM0164-601', 'writepath': './text/www.nike.com/www.nike.com_t_pegasus-39-mens-road-running-shoes-t0zqlK_DM0164-601.txt', 'title': 'Nike Pegasus 39', 'price': '$130', 'images': 'https://static.nike.com/a/images/t_default/c0c8e002-bf5b-443a-a013-1507bbd6dcc4/pegasus-39-mens-road-running-shoes-t0zqlK.png'}\n",
      "https://www.nike.com/t/jordan-retro-6-g-mens-golf-shoes-t9bR21/DV1376-106\n"
     ]
    },
    {
     "name": "stderr",
     "output_type": "stream",
     "text": [
      "/var/folders/rb/k9pmvtxs1wv4y7fl9s364ybw0000gn/T/ipykernel_35610/878112586.py:75: FutureWarning: The frame.append method is deprecated and will be removed from pandas in a future version. Use pandas.concat instead.\n",
      "  df = df.append(row, ignore_index=True)\n"
     ]
    },
    {
     "name": "stdout",
     "output_type": "stream",
     "text": [
      "{'url': 'https://www.nike.com/t/jordan-retro-6-g-mens-golf-shoes-t9bR21/DV1376-106', 'writepath': './text/www.nike.com/www.nike.com_t_jordan-retro-6-g-mens-golf-shoes-t9bR21_DV1376-106.txt', 'title': 'Jordan Retro 6 G', 'price': '$220', 'images': 'https://static.nike.com/a/images/t_default/0b4a3898-096e-4c4e-a518-88b6892777fd/jordan-retro-6-g-mens-golf-shoes-t9bR21.png'}\n",
      "https://www.nike.com/t/air-force-1-high-07-lv8-mens-shoes-lR6frj/DV0790-200\n"
     ]
    },
    {
     "name": "stderr",
     "output_type": "stream",
     "text": [
      "/var/folders/rb/k9pmvtxs1wv4y7fl9s364ybw0000gn/T/ipykernel_35610/878112586.py:75: FutureWarning: The frame.append method is deprecated and will be removed from pandas in a future version. Use pandas.concat instead.\n",
      "  df = df.append(row, ignore_index=True)\n"
     ]
    },
    {
     "name": "stdout",
     "output_type": "stream",
     "text": [
      "{'url': 'https://www.nike.com/t/air-force-1-high-07-lv8-mens-shoes-lR6frj/DV0790-200', 'writepath': './text/www.nike.com/www.nike.com_t_air-force-1-high-07-lv8-mens-shoes-lR6frj_DV0790-200.txt', 'title': \"Nike Air Force 1 High '07 LV8\", 'price': '$104.97', 'images': 'https://static.nike.com/a/images/t_default/3ee875ac-ea6d-4744-aef2-337551158f06/air-force-1-high-07-lv8-mens-shoes-lR6frj.png'}\n",
      "https://www.nike.com/t/star-runner-4-baby-toddler-shoes-7XNnfN/DX7616-001\n"
     ]
    },
    {
     "name": "stderr",
     "output_type": "stream",
     "text": [
      "/var/folders/rb/k9pmvtxs1wv4y7fl9s364ybw0000gn/T/ipykernel_35610/878112586.py:75: FutureWarning: The frame.append method is deprecated and will be removed from pandas in a future version. Use pandas.concat instead.\n",
      "  df = df.append(row, ignore_index=True)\n"
     ]
    },
    {
     "name": "stdout",
     "output_type": "stream",
     "text": [
      "{'url': 'https://www.nike.com/t/star-runner-4-baby-toddler-shoes-7XNnfN/DX7616-001', 'writepath': './text/www.nike.com/www.nike.com_t_star-runner-4-baby-toddler-shoes-7XNnfN_DX7616-001.txt', 'title': 'Nike Star Runner 4', 'price': '$45', 'images': 'https://static.nike.com/a/images/t_default/778d6012-2569-4702-ae9d-c9bd0b2c3c27/star-runner-4-baby-toddler-shoes-7XNnfN.png'}\n",
      "https://www.nike.com/t/nikecourt-zoom-pro-mens-hard-court-tennis-shoes-c5mPwW/DH0618-401\n"
     ]
    },
    {
     "name": "stderr",
     "output_type": "stream",
     "text": [
      "/var/folders/rb/k9pmvtxs1wv4y7fl9s364ybw0000gn/T/ipykernel_35610/878112586.py:75: FutureWarning: The frame.append method is deprecated and will be removed from pandas in a future version. Use pandas.concat instead.\n",
      "  df = df.append(row, ignore_index=True)\n"
     ]
    },
    {
     "name": "stdout",
     "output_type": "stream",
     "text": [
      "{'url': 'https://www.nike.com/t/nikecourt-zoom-pro-mens-hard-court-tennis-shoes-c5mPwW/DH0618-401', 'writepath': './text/www.nike.com/www.nike.com_t_nikecourt-zoom-pro-mens-hard-court-tennis-shoes-c5mPwW_DH0618-401.txt', 'title': 'NikeCourt Zoom Pro', 'price': '$77.97', 'images': 'https://static.nike.com/a/images/t_default/90ace930-2a4d-4a48-b400-cfcf78fff9bb/nikecourt-zoom-pro-mens-hard-court-tennis-shoes-c5mPwW.png'}\n",
      "https://www.nike.com/t/air-max-plus-little-kids-shoes-kX4fG4/CD0610-001\n"
     ]
    },
    {
     "name": "stderr",
     "output_type": "stream",
     "text": [
      "/var/folders/rb/k9pmvtxs1wv4y7fl9s364ybw0000gn/T/ipykernel_35610/878112586.py:75: FutureWarning: The frame.append method is deprecated and will be removed from pandas in a future version. Use pandas.concat instead.\n",
      "  df = df.append(row, ignore_index=True)\n"
     ]
    },
    {
     "name": "stdout",
     "output_type": "stream",
     "text": [
      "{'url': 'https://www.nike.com/t/air-max-plus-little-kids-shoes-kX4fG4/CD0610-001', 'writepath': './text/www.nike.com/www.nike.com_t_air-max-plus-little-kids-shoes-kX4fG4_CD0610-001.txt', 'title': 'Nike Air Max Plus', 'price': '$120', 'images': 'https://static.nike.com/a/images/t_default/r9vpy329zzpugecwjt2x/air-max-plus-little-kids-shoes-kX4fG4.png'}\n",
      "https://www.nike.com/t/air-jordan-1-elevate-low-womens-shoes-Q630Pk/DH7004-600\n"
     ]
    },
    {
     "name": "stderr",
     "output_type": "stream",
     "text": [
      "/var/folders/rb/k9pmvtxs1wv4y7fl9s364ybw0000gn/T/ipykernel_35610/878112586.py:75: FutureWarning: The frame.append method is deprecated and will be removed from pandas in a future version. Use pandas.concat instead.\n",
      "  df = df.append(row, ignore_index=True)\n"
     ]
    },
    {
     "name": "stdout",
     "output_type": "stream",
     "text": [
      "{'url': 'https://www.nike.com/t/air-jordan-1-elevate-low-womens-shoes-Q630Pk/DH7004-600', 'writepath': './text/www.nike.com/www.nike.com_t_air-jordan-1-elevate-low-womens-shoes-Q630Pk_DH7004-600.txt', 'title': 'Air Jordan 1 Elevate Low', 'price': '$135', 'images': 'https://static.nike.com/a/images/t_default/b31587b0-3d2a-4a59-b02e-720d4d0b8973/air-jordan-1-elevate-low-womens-shoes-Q630Pk.png'}\n",
      "https://www.nike.com/t/air-jordan-2-retro-womens-shoes-K69kQf/FB8871-041\n"
     ]
    },
    {
     "name": "stderr",
     "output_type": "stream",
     "text": [
      "/var/folders/rb/k9pmvtxs1wv4y7fl9s364ybw0000gn/T/ipykernel_35610/878112586.py:75: FutureWarning: The frame.append method is deprecated and will be removed from pandas in a future version. Use pandas.concat instead.\n",
      "  df = df.append(row, ignore_index=True)\n"
     ]
    },
    {
     "name": "stdout",
     "output_type": "stream",
     "text": [
      "{'url': 'https://www.nike.com/t/air-jordan-2-retro-womens-shoes-K69kQf/FB8871-041', 'writepath': './text/www.nike.com/www.nike.com_t_air-jordan-2-retro-womens-shoes-K69kQf_FB8871-041.txt', 'title': 'Air Jordan 2 Retro', 'price': '$175', 'images': 'https://static.nike.com/a/images/t_default/a60abf61-6166-42b4-a64a-4932a385c248/air-jordan-2-retro-womens-shoes-K69kQf.png'}\n",
      "https://www.nike.com/t/free-rn-nn-mens-road-running-shoes-SD9lGF/FB1276-001\n"
     ]
    },
    {
     "name": "stderr",
     "output_type": "stream",
     "text": [
      "/var/folders/rb/k9pmvtxs1wv4y7fl9s364ybw0000gn/T/ipykernel_35610/878112586.py:75: FutureWarning: The frame.append method is deprecated and will be removed from pandas in a future version. Use pandas.concat instead.\n",
      "  df = df.append(row, ignore_index=True)\n"
     ]
    },
    {
     "name": "stdout",
     "output_type": "stream",
     "text": [
      "{'url': 'https://www.nike.com/t/free-rn-nn-mens-road-running-shoes-SD9lGF/FB1276-001', 'writepath': './text/www.nike.com/www.nike.com_t_free-rn-nn-mens-road-running-shoes-SD9lGF_FB1276-001.txt', 'title': 'Nike Free RN NN', 'price': '$100', 'images': 'https://static.nike.com/a/images/t_default/373719cc-a34f-46fd-99b9-cf4d73458f6a/free-rn-nn-mens-road-running-shoes-SD9lGF.png'}\n",
      "https://www.nike.com/t/air-max-270-go-baby-toddler-easy-on-off-shoes-hPPv8Q/DV1970-002\n"
     ]
    },
    {
     "name": "stderr",
     "output_type": "stream",
     "text": [
      "/var/folders/rb/k9pmvtxs1wv4y7fl9s364ybw0000gn/T/ipykernel_35610/878112586.py:75: FutureWarning: The frame.append method is deprecated and will be removed from pandas in a future version. Use pandas.concat instead.\n",
      "  df = df.append(row, ignore_index=True)\n"
     ]
    },
    {
     "name": "stdout",
     "output_type": "stream",
     "text": [
      "{'url': 'https://www.nike.com/t/air-max-270-go-baby-toddler-easy-on-off-shoes-hPPv8Q/DV1970-002', 'writepath': './text/www.nike.com/www.nike.com_t_air-max-270-go-baby-toddler-easy-on-off-shoes-hPPv8Q_DV1970-002.txt', 'title': 'Nike Air Max 270 GO', 'price': '$80', 'images': 'https://static.nike.com/a/images/t_default/b67c98af-ad3a-4846-a8e3-5d4c00d2bf78/air-max-270-go-baby-toddler-easy-on-off-shoes-hPPv8Q.png'}\n",
      "https://www.nike.com/t/flex-runner-2-lil-little-kids-shoes-7cFrWX/DX2515-400\n"
     ]
    },
    {
     "name": "stderr",
     "output_type": "stream",
     "text": [
      "/var/folders/rb/k9pmvtxs1wv4y7fl9s364ybw0000gn/T/ipykernel_35610/878112586.py:75: FutureWarning: The frame.append method is deprecated and will be removed from pandas in a future version. Use pandas.concat instead.\n",
      "  df = df.append(row, ignore_index=True)\n"
     ]
    },
    {
     "name": "stdout",
     "output_type": "stream",
     "text": [
      "{'url': 'https://www.nike.com/t/flex-runner-2-lil-little-kids-shoes-7cFrWX/DX2515-400', 'writepath': './text/www.nike.com/www.nike.com_t_flex-runner-2-lil-little-kids-shoes-7cFrWX_DX2515-400.txt', 'title': 'Nike Flex Runner 2 Lil', 'price': '$50', 'images': 'https://static.nike.com/a/images/t_default/a1ded6c7-e82c-4fcb-9172-42015d6917ad/flex-runner-2-lil-little-kids-shoes-7cFrWX.png'}\n",
      "https://www.nike.com/t/air-jordan-1-low-se-big-kids-shoes-p8D2gd/DX6666-701\n"
     ]
    },
    {
     "name": "stderr",
     "output_type": "stream",
     "text": [
      "/var/folders/rb/k9pmvtxs1wv4y7fl9s364ybw0000gn/T/ipykernel_35610/878112586.py:75: FutureWarning: The frame.append method is deprecated and will be removed from pandas in a future version. Use pandas.concat instead.\n",
      "  df = df.append(row, ignore_index=True)\n"
     ]
    },
    {
     "name": "stdout",
     "output_type": "stream",
     "text": [
      "{'url': 'https://www.nike.com/t/air-jordan-1-low-se-big-kids-shoes-p8D2gd/DX6666-701', 'writepath': './text/www.nike.com/www.nike.com_t_air-jordan-1-low-se-big-kids-shoes-p8D2gd_DX6666-701.txt', 'title': 'Air Jordan 1 Low SE', 'price': '$95', 'images': 'https://static.nike.com/a/images/t_default/eb5a3e14-23a6-44a2-831c-2a73729026df/air-jordan-1-low-se-big-kids-shoes-p8D2gd.png'}\n",
      "https://www.nike.com/t/court-vision-low-next-nature-womens-shoes-ZkMMBG/DH3158-101\n"
     ]
    },
    {
     "name": "stderr",
     "output_type": "stream",
     "text": [
      "/var/folders/rb/k9pmvtxs1wv4y7fl9s364ybw0000gn/T/ipykernel_35610/878112586.py:75: FutureWarning: The frame.append method is deprecated and will be removed from pandas in a future version. Use pandas.concat instead.\n",
      "  df = df.append(row, ignore_index=True)\n"
     ]
    },
    {
     "name": "stdout",
     "output_type": "stream",
     "text": [
      "{'url': 'https://www.nike.com/t/court-vision-low-next-nature-womens-shoes-ZkMMBG/DH3158-101', 'writepath': './text/www.nike.com/www.nike.com_t_court-vision-low-next-nature-womens-shoes-ZkMMBG_DH3158-101.txt', 'title': 'Nike Court Vision Low Next Nature', 'price': '$75', 'images': 'https://static.nike.com/a/images/t_default/235ac5d0-14fa-4372-a821-a4c0d95e5426/court-vision-low-next-nature-womens-shoes-ZkMMBG.png'}\n",
      "https://www.nike.com/t/air-penny-2-mens-shoes-LH28Hp/FB7727-100\n"
     ]
    },
    {
     "name": "stderr",
     "output_type": "stream",
     "text": [
      "/var/folders/rb/k9pmvtxs1wv4y7fl9s364ybw0000gn/T/ipykernel_35610/878112586.py:75: FutureWarning: The frame.append method is deprecated and will be removed from pandas in a future version. Use pandas.concat instead.\n",
      "  df = df.append(row, ignore_index=True)\n"
     ]
    },
    {
     "name": "stdout",
     "output_type": "stream",
     "text": [
      "{'url': 'https://www.nike.com/t/air-penny-2-mens-shoes-LH28Hp/FB7727-100', 'writepath': './text/www.nike.com/www.nike.com_t_air-penny-2-mens-shoes-LH28Hp_FB7727-100.txt', 'title': 'Nike Air Penny 2', 'price': '$167.97', 'images': 'https://static.nike.com/a/images/t_default/1ef6c02a-b25d-4831-bad2-5fd14896606b/air-penny-2-mens-shoes-LH28Hp.png'}\n",
      "https://www.nike.com/t/force-1-mid-le-baby-toddler-shoes-KrZ0T8/DH2935-111\n"
     ]
    },
    {
     "name": "stderr",
     "output_type": "stream",
     "text": [
      "/var/folders/rb/k9pmvtxs1wv4y7fl9s364ybw0000gn/T/ipykernel_35610/878112586.py:75: FutureWarning: The frame.append method is deprecated and will be removed from pandas in a future version. Use pandas.concat instead.\n",
      "  df = df.append(row, ignore_index=True)\n"
     ]
    },
    {
     "name": "stdout",
     "output_type": "stream",
     "text": [
      "{'url': 'https://www.nike.com/t/force-1-mid-le-baby-toddler-shoes-KrZ0T8/DH2935-111', 'writepath': './text/www.nike.com/www.nike.com_t_force-1-mid-le-baby-toddler-shoes-KrZ0T8_DH2935-111.txt', 'title': 'Nike Force 1 Mid LE', 'price': '$60', 'images': 'https://static.nike.com/a/images/t_default/1ecec547-eea0-47e4-b6b4-27f1982f5051/force-1-mid-le-baby-toddler-shoes-KrZ0T8.png'}\n",
      "https://www.nike.com/t/dunk-high-1985-shoes-L05QbB/DV1143-800\n"
     ]
    },
    {
     "name": "stderr",
     "output_type": "stream",
     "text": [
      "/var/folders/rb/k9pmvtxs1wv4y7fl9s364ybw0000gn/T/ipykernel_35610/878112586.py:75: FutureWarning: The frame.append method is deprecated and will be removed from pandas in a future version. Use pandas.concat instead.\n",
      "  df = df.append(row, ignore_index=True)\n"
     ]
    },
    {
     "name": "stdout",
     "output_type": "stream",
     "text": [
      "{'url': 'https://www.nike.com/t/dunk-high-1985-shoes-L05QbB/DV1143-800', 'writepath': './text/www.nike.com/www.nike.com_t_dunk-high-1985-shoes-L05QbB_DV1143-800.txt', 'title': 'Nike Dunk High 1985', 'price': '$140', 'images': 'https://static.nike.com/a/images/t_default/019f60a9-aa10-4327-b5f6-b940b753fbdb/dunk-high-1985-shoes-L05QbB.png'}\n",
      "https://www.nike.com/t/metcon-7-womens-training-shoes-wgK0XX/CZ8280-010\n"
     ]
    },
    {
     "name": "stderr",
     "output_type": "stream",
     "text": [
      "/var/folders/rb/k9pmvtxs1wv4y7fl9s364ybw0000gn/T/ipykernel_35610/878112586.py:75: FutureWarning: The frame.append method is deprecated and will be removed from pandas in a future version. Use pandas.concat instead.\n",
      "  df = df.append(row, ignore_index=True)\n"
     ]
    },
    {
     "name": "stdout",
     "output_type": "stream",
     "text": [
      "{'url': 'https://www.nike.com/t/metcon-7-womens-training-shoes-wgK0XX/CZ8280-010', 'writepath': './text/www.nike.com/www.nike.com_t_metcon-7-womens-training-shoes-wgK0XX_CZ8280-010.txt', 'title': 'Nike Metcon 7', 'price': '$117.97', 'images': 'https://static.nike.com/a/images/t_default/aa8cd1ca-eeea-401f-a96f-b6a49a9c94bd/metcon-7-womens-training-shoes-wgK0XX.png'}\n",
      "https://www.nike.com/t/air-max-90-se-mens-shoes-fSGj72/FB4315-100\n"
     ]
    },
    {
     "name": "stderr",
     "output_type": "stream",
     "text": [
      "/var/folders/rb/k9pmvtxs1wv4y7fl9s364ybw0000gn/T/ipykernel_35610/878112586.py:75: FutureWarning: The frame.append method is deprecated and will be removed from pandas in a future version. Use pandas.concat instead.\n",
      "  df = df.append(row, ignore_index=True)\n"
     ]
    },
    {
     "name": "stdout",
     "output_type": "stream",
     "text": [
      "{'url': 'https://www.nike.com/t/air-max-90-se-mens-shoes-fSGj72/FB4315-100', 'writepath': './text/www.nike.com/www.nike.com_t_air-max-90-se-mens-shoes-fSGj72_FB4315-100.txt', 'title': 'Nike Air Max 90 SE', 'price': '$140', 'images': 'https://static.nike.com/a/images/t_default/89ff81a5-c881-4aa8-a4c0-8880583636ca/air-max-90-se-mens-shoes-fSGj72.png'}\n",
      "https://www.nike.com/t/tech-hera-mens-shoes-kd77nb/FJ9532-110\n"
     ]
    },
    {
     "name": "stderr",
     "output_type": "stream",
     "text": [
      "/var/folders/rb/k9pmvtxs1wv4y7fl9s364ybw0000gn/T/ipykernel_35610/878112586.py:75: FutureWarning: The frame.append method is deprecated and will be removed from pandas in a future version. Use pandas.concat instead.\n",
      "  df = df.append(row, ignore_index=True)\n"
     ]
    },
    {
     "name": "stdout",
     "output_type": "stream",
     "text": [
      "{'url': 'https://www.nike.com/t/tech-hera-mens-shoes-kd77nb/FJ9532-110', 'writepath': './text/www.nike.com/www.nike.com_t_tech-hera-mens-shoes-kd77nb_FJ9532-110.txt', 'title': 'Nike Tech Hera', 'price': '$110', 'images': 'https://static.nike.com/a/images/t_default/652c2259-5ee5-4458-9b6e-c51976ad83cd/tech-hera-mens-shoes-kd77nb.png'}\n",
      "https://www.nike.com/t/force-1-low-se-baby-toddler-shoes-4xvCm9/FJ4657-800\n"
     ]
    },
    {
     "name": "stderr",
     "output_type": "stream",
     "text": [
      "/var/folders/rb/k9pmvtxs1wv4y7fl9s364ybw0000gn/T/ipykernel_35610/878112586.py:75: FutureWarning: The frame.append method is deprecated and will be removed from pandas in a future version. Use pandas.concat instead.\n",
      "  df = df.append(row, ignore_index=True)\n"
     ]
    },
    {
     "name": "stdout",
     "output_type": "stream",
     "text": [
      "{'url': 'https://www.nike.com/t/force-1-low-se-baby-toddler-shoes-4xvCm9/FJ4657-800', 'writepath': './text/www.nike.com/www.nike.com_t_force-1-low-se-baby-toddler-shoes-4xvCm9_FJ4657-800.txt', 'title': 'Nike Force 1 Low SE', 'price': '$46.97', 'images': 'https://static.nike.com/a/images/t_default/f59a7d70-fb30-45ab-a308-259284925314/force-1-low-se-baby-toddler-shoes-4xvCm9.png'}\n",
      "https://www.nike.com/t/air-jordan-1-low-og-big-kids-shoes-Zkxl96/CZ0858-001\n"
     ]
    },
    {
     "name": "stderr",
     "output_type": "stream",
     "text": [
      "/var/folders/rb/k9pmvtxs1wv4y7fl9s364ybw0000gn/T/ipykernel_35610/878112586.py:75: FutureWarning: The frame.append method is deprecated and will be removed from pandas in a future version. Use pandas.concat instead.\n",
      "  df = df.append(row, ignore_index=True)\n"
     ]
    },
    {
     "name": "stdout",
     "output_type": "stream",
     "text": [
      "{'url': 'https://www.nike.com/t/air-jordan-1-low-og-big-kids-shoes-Zkxl96/CZ0858-001', 'writepath': './text/www.nike.com/www.nike.com_t_air-jordan-1-low-og-big-kids-shoes-Zkxl96_CZ0858-001.txt', 'title': 'Air Jordan 1 Low OG', 'price': '$120', 'images': 'https://static.nike.com/a/images/t_default/eccc8d18-593b-4a22-849c-1a26d28611e5/air-jordan-1-low-og-big-kids-shoes-Zkxl96.png'}\n",
      "https://www.nike.com/t/air-force-1-high-big-kids-shoes-FWPQFN/FD1019-100\n"
     ]
    },
    {
     "name": "stderr",
     "output_type": "stream",
     "text": [
      "/var/folders/rb/k9pmvtxs1wv4y7fl9s364ybw0000gn/T/ipykernel_35610/878112586.py:75: FutureWarning: The frame.append method is deprecated and will be removed from pandas in a future version. Use pandas.concat instead.\n",
      "  df = df.append(row, ignore_index=True)\n"
     ]
    },
    {
     "name": "stdout",
     "output_type": "stream",
     "text": [
      "{'url': 'https://www.nike.com/t/air-force-1-high-big-kids-shoes-FWPQFN/FD1019-100', 'writepath': './text/www.nike.com/www.nike.com_t_air-force-1-high-big-kids-shoes-FWPQFN_FD1019-100.txt', 'title': 'Nike Air Force 1 High', 'price': '$59.97', 'images': 'https://static.nike.com/a/images/t_default/b60c84ba-045f-43a3-8dc4-1fb2afd79eda/air-force-1-high-big-kids-shoes-FWPQFN.png'}\n",
      "https://www.nike.com/t/jumpman-mvp-big-kids-shoes-3NpJ0T/DZ5577-006\n"
     ]
    },
    {
     "name": "stderr",
     "output_type": "stream",
     "text": [
      "/var/folders/rb/k9pmvtxs1wv4y7fl9s364ybw0000gn/T/ipykernel_35610/878112586.py:75: FutureWarning: The frame.append method is deprecated and will be removed from pandas in a future version. Use pandas.concat instead.\n",
      "  df = df.append(row, ignore_index=True)\n"
     ]
    },
    {
     "name": "stdout",
     "output_type": "stream",
     "text": [
      "{'url': 'https://www.nike.com/t/jumpman-mvp-big-kids-shoes-3NpJ0T/DZ5577-006', 'writepath': './text/www.nike.com/www.nike.com_t_jumpman-mvp-big-kids-shoes-3NpJ0T_DZ5577-006.txt', 'title': 'Jumpman MVP', 'price': '$130', 'images': 'https://static.nike.com/a/images/t_default/5630ebe5-4d84-4b52-b1c7-3af3d329593a/jumpman-mvp-big-kids-shoes-3NpJ0T.png'}\n",
      "https://www.nike.com/t/air-jordan-1-low-se-big-kids-shoes-8BhMvT/DX4374-008\n"
     ]
    },
    {
     "name": "stderr",
     "output_type": "stream",
     "text": [
      "/var/folders/rb/k9pmvtxs1wv4y7fl9s364ybw0000gn/T/ipykernel_35610/878112586.py:75: FutureWarning: The frame.append method is deprecated and will be removed from pandas in a future version. Use pandas.concat instead.\n",
      "  df = df.append(row, ignore_index=True)\n"
     ]
    },
    {
     "name": "stdout",
     "output_type": "stream",
     "text": [
      "{'url': 'https://www.nike.com/t/air-jordan-1-low-se-big-kids-shoes-8BhMvT/DX4374-008', 'writepath': './text/www.nike.com/www.nike.com_t_air-jordan-1-low-se-big-kids-shoes-8BhMvT_DX4374-008.txt', 'title': 'Air Jordan 1 Low SE', 'price': '$95', 'images': 'https://static.nike.com/a/images/t_default/3e44d089-d158-47d8-9c48-3f4a05fbfaa6/air-jordan-1-low-se-big-kids-shoes-8BhMvT.png'}\n",
      "https://www.nike.com/t/converse-chuck-taylor-all-star-high-top-little-kids-shoes-2c8Kqp/3J231-000\n"
     ]
    },
    {
     "name": "stderr",
     "output_type": "stream",
     "text": [
      "/var/folders/rb/k9pmvtxs1wv4y7fl9s364ybw0000gn/T/ipykernel_35610/878112586.py:75: FutureWarning: The frame.append method is deprecated and will be removed from pandas in a future version. Use pandas.concat instead.\n",
      "  df = df.append(row, ignore_index=True)\n"
     ]
    },
    {
     "name": "stdout",
     "output_type": "stream",
     "text": [
      "{'url': 'https://www.nike.com/t/converse-chuck-taylor-all-star-high-top-little-kids-shoes-2c8Kqp/3J231-000', 'writepath': './text/www.nike.com/www.nike.com_t_converse-chuck-taylor-all-star-high-top-little-kids-shoes-2c8Kqp_3J231-000.txt', 'title': 'Converse Chuck Taylor All Star High Top', 'price': '$40', 'images': 'https://static.nike.com/a/images/t_default/284e21ad-e928-44d8-9e4f-ca33c900cf51/converse-chuck-taylor-all-star-high-top-little-kids-shoes-2c8Kqp.png'}\n",
      "https://www.nike.com/t/blazer-mid-77-vintage-mens-shoes-vZC23M/FD0759-133\n"
     ]
    },
    {
     "name": "stderr",
     "output_type": "stream",
     "text": [
      "/var/folders/rb/k9pmvtxs1wv4y7fl9s364ybw0000gn/T/ipykernel_35610/878112586.py:75: FutureWarning: The frame.append method is deprecated and will be removed from pandas in a future version. Use pandas.concat instead.\n",
      "  df = df.append(row, ignore_index=True)\n"
     ]
    },
    {
     "name": "stdout",
     "output_type": "stream",
     "text": [
      "{'url': 'https://www.nike.com/t/blazer-mid-77-vintage-mens-shoes-vZC23M/FD0759-133', 'writepath': './text/www.nike.com/www.nike.com_t_blazer-mid-77-vintage-mens-shoes-vZC23M_FD0759-133.txt', 'title': \"Nike Blazer Mid '77 Vintage\", 'price': '$80.97', 'images': 'https://static.nike.com/a/images/t_default/8e4d42ea-0ff1-4e4e-a373-b282ecb28450/blazer-mid-77-vintage-mens-shoes-vZC23M.png'}\n",
      "https://www.nike.com/t/air-force-1-lv8-big-kids-shoes-5D3Vm7/FD1031-600\n"
     ]
    },
    {
     "name": "stderr",
     "output_type": "stream",
     "text": [
      "/var/folders/rb/k9pmvtxs1wv4y7fl9s364ybw0000gn/T/ipykernel_35610/878112586.py:75: FutureWarning: The frame.append method is deprecated and will be removed from pandas in a future version. Use pandas.concat instead.\n",
      "  df = df.append(row, ignore_index=True)\n"
     ]
    },
    {
     "name": "stdout",
     "output_type": "stream",
     "text": [
      "{'url': 'https://www.nike.com/t/air-force-1-lv8-big-kids-shoes-5D3Vm7/FD1031-600', 'writepath': './text/www.nike.com/www.nike.com_t_air-force-1-lv8-big-kids-shoes-5D3Vm7_FD1031-600.txt', 'title': 'Nike Air Force 1 LV8', 'price': '$71.97', 'images': 'https://static.nike.com/a/images/t_default/1b0af978-86fa-49a4-90ca-f6540c1a1932/air-force-1-lv8-big-kids-shoes-5D3Vm7.png'}\n",
      "https://www.nike.com/t/air-max-pre-day-lx-mens-shoes-JBXGg7/DC5330-301\n"
     ]
    },
    {
     "name": "stderr",
     "output_type": "stream",
     "text": [
      "/var/folders/rb/k9pmvtxs1wv4y7fl9s364ybw0000gn/T/ipykernel_35610/878112586.py:75: FutureWarning: The frame.append method is deprecated and will be removed from pandas in a future version. Use pandas.concat instead.\n",
      "  df = df.append(row, ignore_index=True)\n"
     ]
    },
    {
     "name": "stdout",
     "output_type": "stream",
     "text": [
      "{'url': 'https://www.nike.com/t/air-max-pre-day-lx-mens-shoes-JBXGg7/DC5330-301', 'writepath': './text/www.nike.com/www.nike.com_t_air-max-pre-day-lx-mens-shoes-JBXGg7_DC5330-301.txt', 'title': 'Nike Air Max Pre-Day LX', 'price': '$70.97', 'images': 'https://static.nike.com/a/images/t_default/df385bfb-dd55-40d9-b546-34529fed1b27/air-max-pre-day-lx-mens-shoes-JBXGg7.png'}\n",
      "https://www.nike.com/t/jordan-granville-pro-mens-shoes-88RllS/DV1235-003\n"
     ]
    },
    {
     "name": "stderr",
     "output_type": "stream",
     "text": [
      "/var/folders/rb/k9pmvtxs1wv4y7fl9s364ybw0000gn/T/ipykernel_35610/878112586.py:75: FutureWarning: The frame.append method is deprecated and will be removed from pandas in a future version. Use pandas.concat instead.\n",
      "  df = df.append(row, ignore_index=True)\n"
     ]
    },
    {
     "name": "stdout",
     "output_type": "stream",
     "text": [
      "{'url': 'https://www.nike.com/t/jordan-granville-pro-mens-shoes-88RllS/DV1235-003', 'writepath': './text/www.nike.com/www.nike.com_t_jordan-granville-pro-mens-shoes-88RllS_DV1235-003.txt', 'title': 'Jordan Granville Pro', 'price': '$101.97', 'images': 'https://static.nike.com/a/images/t_default/62c3c8a4-ebb7-4458-9fca-3b658c89ae2a/jordan-granville-pro-mens-shoes-88RllS.png'}\n",
      "https://www.nike.com/t/jr-mercurial-vapor-15-club-little-big-kids-turf-soccer-shoes-5MJN1D/DJ5956-001\n"
     ]
    },
    {
     "name": "stderr",
     "output_type": "stream",
     "text": [
      "/var/folders/rb/k9pmvtxs1wv4y7fl9s364ybw0000gn/T/ipykernel_35610/878112586.py:75: FutureWarning: The frame.append method is deprecated and will be removed from pandas in a future version. Use pandas.concat instead.\n",
      "  df = df.append(row, ignore_index=True)\n"
     ]
    },
    {
     "name": "stdout",
     "output_type": "stream",
     "text": [
      "{'url': 'https://www.nike.com/t/jr-mercurial-vapor-15-club-little-big-kids-turf-soccer-shoes-5MJN1D/DJ5956-001', 'writepath': './text/www.nike.com/www.nike.com_t_jr-mercurial-vapor-15-club-little-big-kids-turf-soccer-shoes-5MJN1D_DJ5956-001.txt', 'title': 'Nike Jr. Mercurial Vapor 15 Club', 'price': '$45', 'images': 'https://static.nike.com/a/images/t_default/8a369129-d322-41c2-b16c-e43099fb52b6/jr-mercurial-vapor-15-club-little-big-kids-turf-soccer-shoes-5MJN1D.png'}\n",
      "https://www.nike.com/t/jordan-6-retro-baby-toddler-shoes-pbDb5W/DV3606-600\n"
     ]
    },
    {
     "name": "stderr",
     "output_type": "stream",
     "text": [
      "/var/folders/rb/k9pmvtxs1wv4y7fl9s364ybw0000gn/T/ipykernel_35610/878112586.py:75: FutureWarning: The frame.append method is deprecated and will be removed from pandas in a future version. Use pandas.concat instead.\n",
      "  df = df.append(row, ignore_index=True)\n"
     ]
    },
    {
     "name": "stdout",
     "output_type": "stream",
     "text": [
      "{'url': 'https://www.nike.com/t/jordan-6-retro-baby-toddler-shoes-pbDb5W/DV3606-600', 'writepath': './text/www.nike.com/www.nike.com_t_jordan-6-retro-baby-toddler-shoes-pbDb5W_DV3606-600.txt', 'title': 'Jordan 6 Retro', 'price': '$75', 'images': 'https://static.nike.com/a/images/t_default/c0a082e5-5583-490d-bdd5-4df48f4a4b71/jordan-6-retro-baby-toddler-shoes-pbDb5W.png'}\n",
      "https://www.nike.com/t/dunk-low-retro-mens-shoes-SSbL97/DV0831-103\n"
     ]
    },
    {
     "name": "stderr",
     "output_type": "stream",
     "text": [
      "/var/folders/rb/k9pmvtxs1wv4y7fl9s364ybw0000gn/T/ipykernel_35610/878112586.py:75: FutureWarning: The frame.append method is deprecated and will be removed from pandas in a future version. Use pandas.concat instead.\n",
      "  df = df.append(row, ignore_index=True)\n"
     ]
    },
    {
     "name": "stdout",
     "output_type": "stream",
     "text": [
      "{'url': 'https://www.nike.com/t/dunk-low-retro-mens-shoes-SSbL97/DV0831-103', 'writepath': './text/www.nike.com/www.nike.com_t_dunk-low-retro-mens-shoes-SSbL97_DV0831-103.txt', 'title': 'Nike Dunk Low Retro', 'price': '$110', 'images': 'https://static.nike.com/a/images/t_default/0dc8ed4e-799d-4466-b31c-3d45a14496de/dunk-low-retro-mens-shoes-SSbL97.png'}\n",
      "https://www.nike.com/t/jordan-nu-retro-1-low-mens-shoes-L6Xk8z/DV5141-017\n"
     ]
    },
    {
     "name": "stderr",
     "output_type": "stream",
     "text": [
      "/var/folders/rb/k9pmvtxs1wv4y7fl9s364ybw0000gn/T/ipykernel_35610/878112586.py:75: FutureWarning: The frame.append method is deprecated and will be removed from pandas in a future version. Use pandas.concat instead.\n",
      "  df = df.append(row, ignore_index=True)\n"
     ]
    },
    {
     "name": "stdout",
     "output_type": "stream",
     "text": [
      "{'url': 'https://www.nike.com/t/jordan-nu-retro-1-low-mens-shoes-L6Xk8z/DV5141-017', 'writepath': './text/www.nike.com/www.nike.com_t_jordan-nu-retro-1-low-mens-shoes-L6Xk8z_DV5141-017.txt', 'title': 'Jordan Nu Retro 1 Low', 'price': '$105', 'images': 'https://static.nike.com/a/images/t_default/11fb2c7b-68ba-4ef8-824b-c334d55fa952/jordan-nu-retro-1-low-mens-shoes-L6Xk8z.png'}\n",
      "https://www.nike.com/t/air-force-1-mid-07-mens-shoes-S1QClz/CW2289-111\n"
     ]
    },
    {
     "name": "stderr",
     "output_type": "stream",
     "text": [
      "/var/folders/rb/k9pmvtxs1wv4y7fl9s364ybw0000gn/T/ipykernel_35610/878112586.py:75: FutureWarning: The frame.append method is deprecated and will be removed from pandas in a future version. Use pandas.concat instead.\n",
      "  df = df.append(row, ignore_index=True)\n"
     ]
    },
    {
     "name": "stdout",
     "output_type": "stream",
     "text": [
      "{'url': 'https://www.nike.com/t/air-force-1-mid-07-mens-shoes-S1QClz/CW2289-111', 'writepath': './text/www.nike.com/www.nike.com_t_air-force-1-mid-07-mens-shoes-S1QClz_CW2289-111.txt', 'title': \"Nike Air Force 1 Mid '07\", 'price': '$120', 'images': 'https://static.nike.com/a/images/t_default/0447d3b3-28d3-4ba3-a6d6-deb0b21558af/air-force-1-mid-07-mens-shoes-S1QClz.png'}\n",
      "https://www.nike.com/t/omni-multi-court-big-kids-indoor-court-shoes-xbrQcw/DM9027-001\n"
     ]
    },
    {
     "name": "stderr",
     "output_type": "stream",
     "text": [
      "/var/folders/rb/k9pmvtxs1wv4y7fl9s364ybw0000gn/T/ipykernel_35610/878112586.py:75: FutureWarning: The frame.append method is deprecated and will be removed from pandas in a future version. Use pandas.concat instead.\n",
      "  df = df.append(row, ignore_index=True)\n"
     ]
    },
    {
     "name": "stdout",
     "output_type": "stream",
     "text": [
      "{'url': 'https://www.nike.com/t/omni-multi-court-big-kids-indoor-court-shoes-xbrQcw/DM9027-001', 'writepath': './text/www.nike.com/www.nike.com_t_omni-multi-court-big-kids-indoor-court-shoes-xbrQcw_DM9027-001.txt', 'title': 'Nike Omni Multi-Court', 'price': '$60', 'images': 'https://static.nike.com/a/images/t_default/ad359e8d-4e4b-4131-8ced-5fc24cd3ef5b/omni-multi-court-big-kids-indoor-court-shoes-xbrQcw.png'}\n",
      "https://www.nike.com/t/blazer-low-77-womens-shoes-01lVDq/DC4769-102\n"
     ]
    },
    {
     "name": "stderr",
     "output_type": "stream",
     "text": [
      "/var/folders/rb/k9pmvtxs1wv4y7fl9s364ybw0000gn/T/ipykernel_35610/878112586.py:75: FutureWarning: The frame.append method is deprecated and will be removed from pandas in a future version. Use pandas.concat instead.\n",
      "  df = df.append(row, ignore_index=True)\n"
     ]
    },
    {
     "name": "stdout",
     "output_type": "stream",
     "text": [
      "{'url': 'https://www.nike.com/t/blazer-low-77-womens-shoes-01lVDq/DC4769-102', 'writepath': './text/www.nike.com/www.nike.com_t_blazer-low-77-womens-shoes-01lVDq_DC4769-102.txt', 'title': \"Nike Blazer Low '77\", 'price': '$90', 'images': 'https://static.nike.com/a/images/t_default/5804adcd-94a4-41f6-b29b-509a07e86d47/blazer-low-77-womens-shoes-01lVDq.png'}\n",
      "https://www.nike.com/t/superrep-go-3-next-nature-flyknit-mens-training-shoes-9BPXdD/DH3394-009\n"
     ]
    },
    {
     "name": "stderr",
     "output_type": "stream",
     "text": [
      "/var/folders/rb/k9pmvtxs1wv4y7fl9s364ybw0000gn/T/ipykernel_35610/878112586.py:75: FutureWarning: The frame.append method is deprecated and will be removed from pandas in a future version. Use pandas.concat instead.\n",
      "  df = df.append(row, ignore_index=True)\n"
     ]
    },
    {
     "name": "stdout",
     "output_type": "stream",
     "text": [
      "{'url': 'https://www.nike.com/t/superrep-go-3-next-nature-flyknit-mens-training-shoes-9BPXdD/DH3394-009', 'writepath': './text/www.nike.com/www.nike.com_t_superrep-go-3-next-nature-flyknit-mens-training-shoes-9BPXdD_DH3394-009.txt', 'title': 'Nike SuperRep Go 3 Next Nature Flyknit', 'price': '$64.97', 'images': 'https://static.nike.com/a/images/t_default/f7ea4008-a63e-4894-b901-508b157a2bb5/superrep-go-3-next-nature-flyknit-mens-training-shoes-9BPXdD.png'}\n",
      "https://www.nike.com/t/star-runner-3-little-kids-shoes-05FFJR/DA2777-800\n"
     ]
    },
    {
     "name": "stderr",
     "output_type": "stream",
     "text": [
      "/var/folders/rb/k9pmvtxs1wv4y7fl9s364ybw0000gn/T/ipykernel_35610/878112586.py:75: FutureWarning: The frame.append method is deprecated and will be removed from pandas in a future version. Use pandas.concat instead.\n",
      "  df = df.append(row, ignore_index=True)\n"
     ]
    },
    {
     "name": "stdout",
     "output_type": "stream",
     "text": [
      "{'url': 'https://www.nike.com/t/star-runner-3-little-kids-shoes-05FFJR/DA2777-800', 'writepath': './text/www.nike.com/www.nike.com_t_star-runner-3-little-kids-shoes-05FFJR_DA2777-800.txt', 'title': 'Nike Star Runner 3', 'price': '$42.97', 'images': 'https://static.nike.com/a/images/t_default/1f59f4a2-e076-44c4-a5c5-98c4923a4805/star-runner-3-little-kids-shoes-05FFJR.png'}\n",
      "https://www.nike.com/t/zoom-rival-waffle-6-cross-country-racing-shoes-txWgQr/DX7998-700\n"
     ]
    },
    {
     "name": "stderr",
     "output_type": "stream",
     "text": [
      "/var/folders/rb/k9pmvtxs1wv4y7fl9s364ybw0000gn/T/ipykernel_35610/878112586.py:75: FutureWarning: The frame.append method is deprecated and will be removed from pandas in a future version. Use pandas.concat instead.\n",
      "  df = df.append(row, ignore_index=True)\n"
     ]
    },
    {
     "name": "stdout",
     "output_type": "stream",
     "text": [
      "{'url': 'https://www.nike.com/t/zoom-rival-waffle-6-cross-country-racing-shoes-txWgQr/DX7998-700', 'writepath': './text/www.nike.com/www.nike.com_t_zoom-rival-waffle-6-cross-country-racing-shoes-txWgQr_DX7998-700.txt', 'title': 'Nike Zoom Rival Waffle 6', 'price': '$65', 'images': 'https://static.nike.com/a/images/t_default/47963c50-1fa1-4f43-af8c-83e36a5978d7/zoom-rival-waffle-6-cross-country-racing-shoes-txWgQr.png'}\n",
      "https://www.nike.com/t/jordan-1-mid-se-baby-toddler-shoes-W79Fqc/DV1338-104\n"
     ]
    },
    {
     "name": "stderr",
     "output_type": "stream",
     "text": [
      "/var/folders/rb/k9pmvtxs1wv4y7fl9s364ybw0000gn/T/ipykernel_35610/878112586.py:75: FutureWarning: The frame.append method is deprecated and will be removed from pandas in a future version. Use pandas.concat instead.\n",
      "  df = df.append(row, ignore_index=True)\n"
     ]
    },
    {
     "name": "stdout",
     "output_type": "stream",
     "text": [
      "{'url': 'https://www.nike.com/t/jordan-1-mid-se-baby-toddler-shoes-W79Fqc/DV1338-104', 'writepath': './text/www.nike.com/www.nike.com_t_jordan-1-mid-se-baby-toddler-shoes-W79Fqc_DV1338-104.txt', 'title': 'Jordan 1 Mid SE', 'price': '$50.97', 'images': 'https://static.nike.com/a/images/t_default/79c2eb66-bed0-4f58-9f5f-51e7e0dab787/jordan-1-mid-se-baby-toddler-shoes-W79Fqc.png'}\n",
      "https://www.nike.com/t/jordan-1-low-alt-se-little-kids-shoes-fjr2ng/DX6667-701\n"
     ]
    },
    {
     "name": "stderr",
     "output_type": "stream",
     "text": [
      "/var/folders/rb/k9pmvtxs1wv4y7fl9s364ybw0000gn/T/ipykernel_35610/878112586.py:75: FutureWarning: The frame.append method is deprecated and will be removed from pandas in a future version. Use pandas.concat instead.\n",
      "  df = df.append(row, ignore_index=True)\n"
     ]
    },
    {
     "name": "stdout",
     "output_type": "stream",
     "text": [
      "{'url': 'https://www.nike.com/t/jordan-1-low-alt-se-little-kids-shoes-fjr2ng/DX6667-701', 'writepath': './text/www.nike.com/www.nike.com_t_jordan-1-low-alt-se-little-kids-shoes-fjr2ng_DX6667-701.txt', 'title': 'Jordan 1 Low Alt SE', 'price': '$70', 'images': 'https://static.nike.com/a/images/t_default/88f1247d-4599-44a5-9a62-29abe22e4289/jordan-1-low-alt-se-little-kids-shoes-fjr2ng.png'}\n",
      "https://www.nike.com/t/downshifter-12-next-nature-baby-toddler-shoes-VPjk0L/DM4191-006\n"
     ]
    },
    {
     "name": "stderr",
     "output_type": "stream",
     "text": [
      "/var/folders/rb/k9pmvtxs1wv4y7fl9s364ybw0000gn/T/ipykernel_35610/878112586.py:75: FutureWarning: The frame.append method is deprecated and will be removed from pandas in a future version. Use pandas.concat instead.\n",
      "  df = df.append(row, ignore_index=True)\n"
     ]
    },
    {
     "name": "stdout",
     "output_type": "stream",
     "text": [
      "{'url': 'https://www.nike.com/t/downshifter-12-next-nature-baby-toddler-shoes-VPjk0L/DM4191-006', 'writepath': './text/www.nike.com/www.nike.com_t_downshifter-12-next-nature-baby-toddler-shoes-VPjk0L_DM4191-006.txt', 'title': 'Nike Downshifter 12 Next Nature', 'price': '$38.97', 'images': 'https://static.nike.com/a/images/t_default/bf838bc0-e574-4303-9a1b-5e92ff0f52f2/downshifter-12-next-nature-baby-toddler-shoes-VPjk0L.png'}\n",
      "https://www.nike.com/t/tanjun-womens-shoes-lj1St1/DJ6257-001\n"
     ]
    },
    {
     "name": "stderr",
     "output_type": "stream",
     "text": [
      "/var/folders/rb/k9pmvtxs1wv4y7fl9s364ybw0000gn/T/ipykernel_35610/878112586.py:75: FutureWarning: The frame.append method is deprecated and will be removed from pandas in a future version. Use pandas.concat instead.\n",
      "  df = df.append(row, ignore_index=True)\n"
     ]
    },
    {
     "name": "stdout",
     "output_type": "stream",
     "text": [
      "{'url': 'https://www.nike.com/t/tanjun-womens-shoes-lj1St1/DJ6257-001', 'writepath': './text/www.nike.com/www.nike.com_t_tanjun-womens-shoes-lj1St1_DJ6257-001.txt', 'title': 'Nike Tanjun', 'price': '$70', 'images': 'https://static.nike.com/a/images/t_default/37fc92a8-7dc4-45ad-a01e-8616bdf0aeff/tanjun-womens-shoes-lj1St1.png'}\n",
      "https://www.nike.com/t/air-jordan-1-mid-big-kids-shoes-pGNQSG/DQ8423-106\n"
     ]
    },
    {
     "name": "stderr",
     "output_type": "stream",
     "text": [
      "/var/folders/rb/k9pmvtxs1wv4y7fl9s364ybw0000gn/T/ipykernel_35610/878112586.py:75: FutureWarning: The frame.append method is deprecated and will be removed from pandas in a future version. Use pandas.concat instead.\n",
      "  df = df.append(row, ignore_index=True)\n"
     ]
    },
    {
     "name": "stdout",
     "output_type": "stream",
     "text": [
      "{'url': 'https://www.nike.com/t/air-jordan-1-mid-big-kids-shoes-pGNQSG/DQ8423-106', 'writepath': './text/www.nike.com/www.nike.com_t_air-jordan-1-mid-big-kids-shoes-pGNQSG_DQ8423-106.txt', 'title': 'Air Jordan 1 Mid', 'price': '$110', 'images': 'https://static.nike.com/a/images/t_default/ea7872b4-41d4-420a-9c24-3469d9af9d1c/air-jordan-1-mid-big-kids-shoes-pGNQSG.png'}\n",
      "https://www.nike.com/t/sb-blzr-court-mid-skate-shoes-gh1N9T/DC8901-101\n"
     ]
    },
    {
     "name": "stderr",
     "output_type": "stream",
     "text": [
      "/var/folders/rb/k9pmvtxs1wv4y7fl9s364ybw0000gn/T/ipykernel_35610/878112586.py:75: FutureWarning: The frame.append method is deprecated and will be removed from pandas in a future version. Use pandas.concat instead.\n",
      "  df = df.append(row, ignore_index=True)\n"
     ]
    },
    {
     "name": "stdout",
     "output_type": "stream",
     "text": [
      "{'url': 'https://www.nike.com/t/sb-blzr-court-mid-skate-shoes-gh1N9T/DC8901-101', 'writepath': './text/www.nike.com/www.nike.com_t_sb-blzr-court-mid-skate-shoes-gh1N9T_DC8901-101.txt', 'title': 'Nike SB BLZR Court Mid', 'price': '$67.97', 'images': 'https://static.nike.com/a/images/t_default/72f8b490-33f1-4139-bd57-eed68c045fc7/sb-blzr-court-mid-skate-shoes-gh1N9T.png'}\n",
      "https://www.nike.com/t/react-infinity-2-mens-road-running-shoes-DttDF2/CT2357-001\n"
     ]
    },
    {
     "name": "stderr",
     "output_type": "stream",
     "text": [
      "/var/folders/rb/k9pmvtxs1wv4y7fl9s364ybw0000gn/T/ipykernel_35610/878112586.py:75: FutureWarning: The frame.append method is deprecated and will be removed from pandas in a future version. Use pandas.concat instead.\n",
      "  df = df.append(row, ignore_index=True)\n"
     ]
    },
    {
     "name": "stdout",
     "output_type": "stream",
     "text": [
      "{'url': 'https://www.nike.com/t/react-infinity-2-mens-road-running-shoes-DttDF2/CT2357-001', 'writepath': './text/www.nike.com/www.nike.com_t_react-infinity-2-mens-road-running-shoes-DttDF2_CT2357-001.txt', 'title': 'Nike React Infinity 2', 'price': '$127.97', 'images': 'https://static.nike.com/a/images/t_default/9fd7f64d-4b25-4ec6-8c10-9b1d83bd718a/react-infinity-2-mens-road-running-shoes-DttDF2.png'}\n",
      "https://www.nike.com/t/air-force-1-lv8-big-kids-shoes-1jq1pP/DO6634-100\n"
     ]
    },
    {
     "name": "stderr",
     "output_type": "stream",
     "text": [
      "/var/folders/rb/k9pmvtxs1wv4y7fl9s364ybw0000gn/T/ipykernel_35610/878112586.py:75: FutureWarning: The frame.append method is deprecated and will be removed from pandas in a future version. Use pandas.concat instead.\n",
      "  df = df.append(row, ignore_index=True)\n"
     ]
    },
    {
     "name": "stdout",
     "output_type": "stream",
     "text": [
      "{'url': 'https://www.nike.com/t/air-force-1-lv8-big-kids-shoes-1jq1pP/DO6634-100', 'writepath': './text/www.nike.com/www.nike.com_t_air-force-1-lv8-big-kids-shoes-1jq1pP_DO6634-100.txt', 'title': 'Nike Air Force 1 LV8', 'price': '$70.97', 'images': 'https://static.nike.com/a/images/t_default/a14d314c-5e95-4def-b240-06299d190f68/air-force-1-lv8-big-kids-shoes-1jq1pP.png'}\n",
      "https://www.nike.com/t/jordan-1-mid-se-craft-baby-toddler-shoes-w6wJn9/FB9140-120\n"
     ]
    },
    {
     "name": "stderr",
     "output_type": "stream",
     "text": [
      "/var/folders/rb/k9pmvtxs1wv4y7fl9s364ybw0000gn/T/ipykernel_35610/878112586.py:75: FutureWarning: The frame.append method is deprecated and will be removed from pandas in a future version. Use pandas.concat instead.\n",
      "  df = df.append(row, ignore_index=True)\n"
     ]
    },
    {
     "name": "stdout",
     "output_type": "stream",
     "text": [
      "{'url': 'https://www.nike.com/t/jordan-1-mid-se-craft-baby-toddler-shoes-w6wJn9/FB9140-120', 'writepath': './text/www.nike.com/www.nike.com_t_jordan-1-mid-se-craft-baby-toddler-shoes-w6wJn9_FB9140-120.txt', 'title': 'Jordan 1 Mid SE Craft', 'price': '$65', 'images': 'https://static.nike.com/a/images/t_default/29fdb7b9-e0d3-43a9-8195-73dfad20e61c/jordan-1-mid-se-craft-baby-toddler-shoes-w6wJn9.png'}\n",
      "https://www.nike.com/t/air-force-1-low-retro-qs-mens-shoes-XZG2zG/DX1156-100\n"
     ]
    },
    {
     "name": "stderr",
     "output_type": "stream",
     "text": [
      "/var/folders/rb/k9pmvtxs1wv4y7fl9s364ybw0000gn/T/ipykernel_35610/878112586.py:75: FutureWarning: The frame.append method is deprecated and will be removed from pandas in a future version. Use pandas.concat instead.\n",
      "  df = df.append(row, ignore_index=True)\n"
     ]
    },
    {
     "name": "stdout",
     "output_type": "stream",
     "text": [
      "{'url': 'https://www.nike.com/t/air-force-1-low-retro-qs-mens-shoes-XZG2zG/DX1156-100', 'writepath': './text/www.nike.com/www.nike.com_t_air-force-1-low-retro-qs-mens-shoes-XZG2zG_DX1156-100.txt', 'title': 'Nike Air Force 1 Low Retro QS', 'price': '$75.97', 'images': 'https://static.nike.com/a/images/t_default/eda869cc-9789-40ec-abb1-ddffff3ee22f/air-force-1-low-retro-qs-mens-shoes-XZG2zG.png'}\n",
      "https://www.nike.com/t/air-max-intrlk-se-big-kids-shoes-t5MWbH/DM1211-100\n"
     ]
    },
    {
     "name": "stderr",
     "output_type": "stream",
     "text": [
      "/var/folders/rb/k9pmvtxs1wv4y7fl9s364ybw0000gn/T/ipykernel_35610/878112586.py:75: FutureWarning: The frame.append method is deprecated and will be removed from pandas in a future version. Use pandas.concat instead.\n",
      "  df = df.append(row, ignore_index=True)\n"
     ]
    },
    {
     "name": "stdout",
     "output_type": "stream",
     "text": [
      "{'url': 'https://www.nike.com/t/air-max-intrlk-se-big-kids-shoes-t5MWbH/DM1211-100', 'writepath': './text/www.nike.com/www.nike.com_t_air-max-intrlk-se-big-kids-shoes-t5MWbH_DM1211-100.txt', 'title': 'Nike Air Max INTRLK SE', 'price': '$80.97', 'images': 'https://static.nike.com/a/images/t_default/c36e6b48-883d-42da-a2d3-8a1ad0de8bf5/air-max-intrlk-se-big-kids-shoes-t5MWbH.png'}\n",
      "https://www.nike.com/t/air-force-1-high-le-big-kids-shoes-81vt1b/DH2943-001\n"
     ]
    },
    {
     "name": "stderr",
     "output_type": "stream",
     "text": [
      "/var/folders/rb/k9pmvtxs1wv4y7fl9s364ybw0000gn/T/ipykernel_35610/878112586.py:75: FutureWarning: The frame.append method is deprecated and will be removed from pandas in a future version. Use pandas.concat instead.\n",
      "  df = df.append(row, ignore_index=True)\n"
     ]
    },
    {
     "name": "stdout",
     "output_type": "stream",
     "text": [
      "{'url': 'https://www.nike.com/t/air-force-1-high-le-big-kids-shoes-81vt1b/DH2943-001', 'writepath': './text/www.nike.com/www.nike.com_t_air-force-1-high-le-big-kids-shoes-81vt1b_DH2943-001.txt', 'title': 'Nike Air Force 1 High LE', 'price': '$78.97', 'images': 'https://static.nike.com/a/images/t_default/f885719f-1b24-4352-bef5-83394c184351/air-force-1-high-le-big-kids-shoes-81vt1b.png'}\n",
      "https://www.nike.com/t/air-max-dawn-womens-shoes-224mWf/DX5655-500\n"
     ]
    },
    {
     "name": "stderr",
     "output_type": "stream",
     "text": [
      "/var/folders/rb/k9pmvtxs1wv4y7fl9s364ybw0000gn/T/ipykernel_35610/878112586.py:75: FutureWarning: The frame.append method is deprecated and will be removed from pandas in a future version. Use pandas.concat instead.\n",
      "  df = df.append(row, ignore_index=True)\n"
     ]
    },
    {
     "name": "stdout",
     "output_type": "stream",
     "text": [
      "{'url': 'https://www.nike.com/t/air-max-dawn-womens-shoes-224mWf/DX5655-500', 'writepath': './text/www.nike.com/www.nike.com_t_air-max-dawn-womens-shoes-224mWf_DX5655-500.txt', 'title': 'Nike Air Max Dawn', 'price': '$115', 'images': 'https://static.nike.com/a/images/t_default/af4502d4-8a3a-4ec5-9519-09e7cc327558/air-max-dawn-womens-shoes-224mWf.png'}\n",
      "https://www.nike.com/t/sb-ishod-wair-skate-shoes-ztstT9/DC7232-001\n"
     ]
    },
    {
     "name": "stderr",
     "output_type": "stream",
     "text": [
      "/var/folders/rb/k9pmvtxs1wv4y7fl9s364ybw0000gn/T/ipykernel_35610/878112586.py:75: FutureWarning: The frame.append method is deprecated and will be removed from pandas in a future version. Use pandas.concat instead.\n",
      "  df = df.append(row, ignore_index=True)\n"
     ]
    },
    {
     "name": "stdout",
     "output_type": "stream",
     "text": [
      "{'url': 'https://www.nike.com/t/sb-ishod-wair-skate-shoes-ztstT9/DC7232-001', 'writepath': './text/www.nike.com/www.nike.com_t_sb-ishod-wair-skate-shoes-ztstT9_DC7232-001.txt', 'title': 'Nike SB Ishod Wair', 'price': '$94.97', 'images': 'https://static.nike.com/a/images/t_default/99e42e76-c667-4ac7-a8c8-056deea830b9/sb-ishod-wair-skate-shoes-ztstT9.png'}\n",
      "https://www.nike.com/t/jordan-why-not-6-x-honor-the-gift-mens-shoes-93fJNc/DX1692-001\n"
     ]
    },
    {
     "name": "stderr",
     "output_type": "stream",
     "text": [
      "/var/folders/rb/k9pmvtxs1wv4y7fl9s364ybw0000gn/T/ipykernel_35610/878112586.py:75: FutureWarning: The frame.append method is deprecated and will be removed from pandas in a future version. Use pandas.concat instead.\n",
      "  df = df.append(row, ignore_index=True)\n"
     ]
    },
    {
     "name": "stdout",
     "output_type": "stream",
     "text": [
      "{'url': 'https://www.nike.com/t/jordan-why-not-6-x-honor-the-gift-mens-shoes-93fJNc/DX1692-001', 'writepath': './text/www.nike.com/www.nike.com_t_jordan-why-not-6-x-honor-the-gift-mens-shoes-93fJNc_DX1692-001.txt', 'title': 'Jordan Why Not .6 x Honor The Gift®', 'price': '$127.97', 'images': 'https://static.nike.com/a/images/t_default/a69f9eb3-1d3a-4488-b993-4f4081b8f5fd/jordan-why-not-6-x-honor-the-gift-mens-shoes-93fJNc.png'}\n",
      "https://www.nike.com/t/tatum-1-zoo-baby-toddler-shoes-3VRcbk/FJ4655-001\n"
     ]
    },
    {
     "name": "stderr",
     "output_type": "stream",
     "text": [
      "/var/folders/rb/k9pmvtxs1wv4y7fl9s364ybw0000gn/T/ipykernel_35610/878112586.py:75: FutureWarning: The frame.append method is deprecated and will be removed from pandas in a future version. Use pandas.concat instead.\n",
      "  df = df.append(row, ignore_index=True)\n"
     ]
    },
    {
     "name": "stdout",
     "output_type": "stream",
     "text": [
      "{'url': 'https://www.nike.com/t/tatum-1-zoo-baby-toddler-shoes-3VRcbk/FJ4655-001', 'writepath': './text/www.nike.com/www.nike.com_t_tatum-1-zoo-baby-toddler-shoes-3VRcbk_FJ4655-001.txt', 'title': 'Tatum 1 \"Zoo\"', 'price': '$55', 'images': 'https://static.nike.com/a/images/t_default/4a1ab740-55e4-416b-8d31-d54ba3af4af5/tatum-1-zoo-baby-toddler-shoes-3VRcbk.png'}\n",
      "https://www.nike.com/t/air-max-genome-big-kids-shoes-2wK00L/CZ4652-401\n"
     ]
    },
    {
     "name": "stderr",
     "output_type": "stream",
     "text": [
      "/var/folders/rb/k9pmvtxs1wv4y7fl9s364ybw0000gn/T/ipykernel_35610/878112586.py:75: FutureWarning: The frame.append method is deprecated and will be removed from pandas in a future version. Use pandas.concat instead.\n",
      "  df = df.append(row, ignore_index=True)\n"
     ]
    },
    {
     "name": "stdout",
     "output_type": "stream",
     "text": [
      "{'url': 'https://www.nike.com/t/air-max-genome-big-kids-shoes-2wK00L/CZ4652-401', 'writepath': './text/www.nike.com/www.nike.com_t_air-max-genome-big-kids-shoes-2wK00L_CZ4652-401.txt', 'title': 'Nike Air Max Genome', 'price': '$73.97', 'images': 'https://static.nike.com/a/images/t_default/24fdac30-77a8-4648-a722-72314ccbf564/air-max-genome-big-kids-shoes-2wK00L.png'}\n",
      "https://www.nike.com/t/air-jordan-xxxvi-big-kids-basketball-shoes-MwGcp3/DA9054-004\n"
     ]
    },
    {
     "name": "stderr",
     "output_type": "stream",
     "text": [
      "/var/folders/rb/k9pmvtxs1wv4y7fl9s364ybw0000gn/T/ipykernel_35610/878112586.py:75: FutureWarning: The frame.append method is deprecated and will be removed from pandas in a future version. Use pandas.concat instead.\n",
      "  df = df.append(row, ignore_index=True)\n"
     ]
    },
    {
     "name": "stdout",
     "output_type": "stream",
     "text": [
      "{'url': 'https://www.nike.com/t/air-jordan-xxxvi-big-kids-basketball-shoes-MwGcp3/DA9054-004', 'writepath': './text/www.nike.com/www.nike.com_t_air-jordan-xxxvi-big-kids-basketball-shoes-MwGcp3_DA9054-004.txt', 'title': 'Air Jordan XXXVI', 'price': '$84.97', 'images': 'https://static.nike.com/a/images/t_default/ee35758b-6db0-49d6-9a28-4726b4c02624/air-jordan-xxxvi-big-kids-basketball-shoes-MwGcp3.png'}\n",
      "https://www.nike.com/t/lebron-witness-6-team-basketball-shoes-d6BdZB/DO9843-001\n"
     ]
    },
    {
     "name": "stderr",
     "output_type": "stream",
     "text": [
      "/var/folders/rb/k9pmvtxs1wv4y7fl9s364ybw0000gn/T/ipykernel_35610/878112586.py:75: FutureWarning: The frame.append method is deprecated and will be removed from pandas in a future version. Use pandas.concat instead.\n",
      "  df = df.append(row, ignore_index=True)\n"
     ]
    },
    {
     "name": "stdout",
     "output_type": "stream",
     "text": [
      "{'url': 'https://www.nike.com/t/lebron-witness-6-team-basketball-shoes-d6BdZB/DO9843-001', 'writepath': './text/www.nike.com/www.nike.com_t_lebron-witness-6-team-basketball-shoes-d6BdZB_DO9843-001.txt', 'title': 'LeBron Witness 6 (Team)', 'price': '$73.97', 'images': 'https://static.nike.com/a/images/t_default/e094017e-4f38-4c80-8b60-5f97e088679f/lebron-witness-6-team-basketball-shoes-d6BdZB.png'}\n",
      "https://www.nike.com/t/air-max-90-nrg-mens-shoes-mfLmz0/CZ1929-200\n"
     ]
    },
    {
     "name": "stderr",
     "output_type": "stream",
     "text": [
      "/var/folders/rb/k9pmvtxs1wv4y7fl9s364ybw0000gn/T/ipykernel_35610/878112586.py:75: FutureWarning: The frame.append method is deprecated and will be removed from pandas in a future version. Use pandas.concat instead.\n",
      "  df = df.append(row, ignore_index=True)\n"
     ]
    },
    {
     "name": "stdout",
     "output_type": "stream",
     "text": [
      "{'url': 'https://www.nike.com/t/air-max-90-nrg-mens-shoes-mfLmz0/CZ1929-200', 'writepath': './text/www.nike.com/www.nike.com_t_air-max-90-nrg-mens-shoes-mfLmz0_CZ1929-200.txt', 'title': 'Nike Air Max 90 NRG', 'price': '$150', 'images': 'https://static.nike.com/a/images/t_default/e6cb8b50-8b40-4a22-91af-cd33dd9acc98/air-max-90-nrg-mens-shoes-mfLmz0.png'}\n",
      "https://www.nike.com/t/flex-runner-2-lil-baby-toddler-shoes-z2Gmlv/DQ0575-100\n"
     ]
    },
    {
     "name": "stderr",
     "output_type": "stream",
     "text": [
      "/var/folders/rb/k9pmvtxs1wv4y7fl9s364ybw0000gn/T/ipykernel_35610/878112586.py:75: FutureWarning: The frame.append method is deprecated and will be removed from pandas in a future version. Use pandas.concat instead.\n",
      "  df = df.append(row, ignore_index=True)\n"
     ]
    },
    {
     "name": "stdout",
     "output_type": "stream",
     "text": [
      "{'url': 'https://www.nike.com/t/flex-runner-2-lil-baby-toddler-shoes-z2Gmlv/DQ0575-100', 'writepath': './text/www.nike.com/www.nike.com_t_flex-runner-2-lil-baby-toddler-shoes-z2Gmlv_DQ0575-100.txt', 'title': 'Nike Flex Runner 2 Lil', 'price': '$33.97', 'images': 'https://static.nike.com/a/images/t_default/8ac18505-30ea-48c0-b2e6-f14765ba8d81/flex-runner-2-lil-baby-toddler-shoes-z2Gmlv.png'}\n",
      "https://www.nike.com/t/air-max-90-mens-shoes-DLDWPT/DM0029-105\n"
     ]
    },
    {
     "name": "stderr",
     "output_type": "stream",
     "text": [
      "/var/folders/rb/k9pmvtxs1wv4y7fl9s364ybw0000gn/T/ipykernel_35610/878112586.py:75: FutureWarning: The frame.append method is deprecated and will be removed from pandas in a future version. Use pandas.concat instead.\n",
      "  df = df.append(row, ignore_index=True)\n"
     ]
    },
    {
     "name": "stdout",
     "output_type": "stream",
     "text": [
      "{'url': 'https://www.nike.com/t/air-max-90-mens-shoes-DLDWPT/DM0029-105', 'writepath': './text/www.nike.com/www.nike.com_t_air-max-90-mens-shoes-DLDWPT_DM0029-105.txt', 'title': 'Nike Air Max 90', 'price': '$130', 'images': 'https://static.nike.com/a/images/t_default/e9e94e99-b4d1-4e0a-a1a3-419776037b49/air-max-90-mens-shoes-DLDWPT.png'}\n",
      "https://www.nike.com/t/sb-alleyoop-skate-shoes-X4FC24/CJ0882-100\n"
     ]
    },
    {
     "name": "stderr",
     "output_type": "stream",
     "text": [
      "/var/folders/rb/k9pmvtxs1wv4y7fl9s364ybw0000gn/T/ipykernel_35610/878112586.py:75: FutureWarning: The frame.append method is deprecated and will be removed from pandas in a future version. Use pandas.concat instead.\n",
      "  df = df.append(row, ignore_index=True)\n"
     ]
    },
    {
     "name": "stdout",
     "output_type": "stream",
     "text": [
      "{'url': 'https://www.nike.com/t/sb-alleyoop-skate-shoes-X4FC24/CJ0882-100', 'writepath': './text/www.nike.com/www.nike.com_t_sb-alleyoop-skate-shoes-X4FC24_CJ0882-100.txt', 'title': 'Nike SB Alleyoop', 'price': '$63.97', 'images': 'https://static.nike.com/a/images/t_default/yvrrislr4kxlg3ndvuda/sb-alleyoop-skate-shoes-X4FC24.png'}\n",
      "https://www.nike.com/t/zegama-mens-trail-running-shoes-1t400b/DH0623-002\n"
     ]
    },
    {
     "name": "stderr",
     "output_type": "stream",
     "text": [
      "/var/folders/rb/k9pmvtxs1wv4y7fl9s364ybw0000gn/T/ipykernel_35610/878112586.py:75: FutureWarning: The frame.append method is deprecated and will be removed from pandas in a future version. Use pandas.concat instead.\n",
      "  df = df.append(row, ignore_index=True)\n"
     ]
    },
    {
     "name": "stdout",
     "output_type": "stream",
     "text": [
      "{'url': 'https://www.nike.com/t/zegama-mens-trail-running-shoes-1t400b/DH0623-002', 'writepath': './text/www.nike.com/www.nike.com_t_zegama-mens-trail-running-shoes-1t400b_DH0623-002.txt', 'title': 'Nike Zegama', 'price': '$95.97', 'images': 'https://static.nike.com/a/images/t_default/b94609b3-e292-45e6-b422-0472bbb1f916/zegama-mens-trail-running-shoes-1t400b.png'}\n",
      "https://www.nike.com/t/nikecourt-jr-vapor-pro-little-big-kids-tennis-shoes-78slVN/CV0863-024\n"
     ]
    },
    {
     "name": "stderr",
     "output_type": "stream",
     "text": [
      "/var/folders/rb/k9pmvtxs1wv4y7fl9s364ybw0000gn/T/ipykernel_35610/878112586.py:75: FutureWarning: The frame.append method is deprecated and will be removed from pandas in a future version. Use pandas.concat instead.\n",
      "  df = df.append(row, ignore_index=True)\n"
     ]
    },
    {
     "name": "stdout",
     "output_type": "stream",
     "text": [
      "{'url': 'https://www.nike.com/t/nikecourt-jr-vapor-pro-little-big-kids-tennis-shoes-78slVN/CV0863-024', 'writepath': './text/www.nike.com/www.nike.com_t_nikecourt-jr-vapor-pro-little-big-kids-tennis-shoes-78slVN_CV0863-024.txt', 'title': 'NikeCourt Jr. Vapor Pro', 'price': '$90', 'images': 'https://static.nike.com/a/images/t_default/47a9060e-eb4e-4f27-9254-bda8d8f63bde/nikecourt-jr-vapor-pro-little-big-kids-tennis-shoes-78slVN.png'}\n",
      "https://www.nike.com/t/air-force-1-mid-07-premium-mens-shoes-6HzNcj/DX3061-001\n"
     ]
    },
    {
     "name": "stderr",
     "output_type": "stream",
     "text": [
      "/var/folders/rb/k9pmvtxs1wv4y7fl9s364ybw0000gn/T/ipykernel_35610/878112586.py:75: FutureWarning: The frame.append method is deprecated and will be removed from pandas in a future version. Use pandas.concat instead.\n",
      "  df = df.append(row, ignore_index=True)\n"
     ]
    },
    {
     "name": "stdout",
     "output_type": "stream",
     "text": [
      "{'url': 'https://www.nike.com/t/air-force-1-mid-07-premium-mens-shoes-6HzNcj/DX3061-001', 'writepath': './text/www.nike.com/www.nike.com_t_air-force-1-mid-07-premium-mens-shoes-6HzNcj_DX3061-001.txt', 'title': \"Nike Air Force 1 Mid '07 Premium\", 'price': '$92.97', 'images': 'https://static.nike.com/a/images/t_default/e1b80be6-fce8-4f2f-820e-fad7dd1a1272/air-force-1-mid-07-premium-mens-shoes-6HzNcj.png'}\n",
      "https://www.nike.com/t/kwondo-1-x-peaceminusone-shoes-tNX8ZG/DH2482-101\n"
     ]
    },
    {
     "name": "stderr",
     "output_type": "stream",
     "text": [
      "/var/folders/rb/k9pmvtxs1wv4y7fl9s364ybw0000gn/T/ipykernel_35610/878112586.py:75: FutureWarning: The frame.append method is deprecated and will be removed from pandas in a future version. Use pandas.concat instead.\n",
      "  df = df.append(row, ignore_index=True)\n"
     ]
    },
    {
     "name": "stdout",
     "output_type": "stream",
     "text": [
      "{'url': 'https://www.nike.com/t/kwondo-1-x-peaceminusone-shoes-tNX8ZG/DH2482-101', 'writepath': './text/www.nike.com/www.nike.com_t_kwondo-1-x-peaceminusone-shoes-tNX8ZG_DH2482-101.txt', 'title': 'Nike Kwondo 1 x PEACEMINUSONE', 'price': '$190', 'images': 'https://static.nike.com/a/images/t_default/f42de1bd-040e-4a61-818c-45945968fe68/kwondo-1-x-peaceminusone-shoes-tNX8ZG.png'}\n",
      "https://www.nike.com/t/dunk-low-next-nature-big-kids-shoes-80f20W/FJ4668-400\n"
     ]
    },
    {
     "name": "stderr",
     "output_type": "stream",
     "text": [
      "/var/folders/rb/k9pmvtxs1wv4y7fl9s364ybw0000gn/T/ipykernel_35610/878112586.py:75: FutureWarning: The frame.append method is deprecated and will be removed from pandas in a future version. Use pandas.concat instead.\n",
      "  df = df.append(row, ignore_index=True)\n"
     ]
    },
    {
     "name": "stdout",
     "output_type": "stream",
     "text": [
      "{'url': 'https://www.nike.com/t/dunk-low-next-nature-big-kids-shoes-80f20W/FJ4668-400', 'writepath': './text/www.nike.com/www.nike.com_t_dunk-low-next-nature-big-kids-shoes-80f20W_FJ4668-400.txt', 'title': 'Nike Dunk Low Next Nature', 'price': '$90', 'images': 'https://static.nike.com/a/images/t_default/eceaff51-0d50-4911-9fb0-95b5ed5f1e9d/dunk-low-next-nature-big-kids-shoes-80f20W.png'}\n",
      "https://www.nike.com/t/air-jordan-1-mid-se-big-kids-shoes-bdgQSD/DV1316-100\n"
     ]
    },
    {
     "name": "stderr",
     "output_type": "stream",
     "text": [
      "/var/folders/rb/k9pmvtxs1wv4y7fl9s364ybw0000gn/T/ipykernel_35610/878112586.py:75: FutureWarning: The frame.append method is deprecated and will be removed from pandas in a future version. Use pandas.concat instead.\n",
      "  df = df.append(row, ignore_index=True)\n"
     ]
    },
    {
     "name": "stdout",
     "output_type": "stream",
     "text": [
      "{'url': 'https://www.nike.com/t/air-jordan-1-mid-se-big-kids-shoes-bdgQSD/DV1316-100', 'writepath': './text/www.nike.com/www.nike.com_t_air-jordan-1-mid-se-big-kids-shoes-bdgQSD_DV1316-100.txt', 'title': 'Air Jordan 1 Mid SE', 'price': '$90.97', 'images': 'https://static.nike.com/a/images/t_default/5f9bacd7-5499-42c4-9b55-a239b5dd3687/air-jordan-1-mid-se-big-kids-shoes-bdgQSD.png'}\n",
      "https://www.nike.com/t/air-max-axis-big-kids-shoes-pJf9xS/AH5222-404\n"
     ]
    },
    {
     "name": "stderr",
     "output_type": "stream",
     "text": [
      "/var/folders/rb/k9pmvtxs1wv4y7fl9s364ybw0000gn/T/ipykernel_35610/878112586.py:75: FutureWarning: The frame.append method is deprecated and will be removed from pandas in a future version. Use pandas.concat instead.\n",
      "  df = df.append(row, ignore_index=True)\n"
     ]
    },
    {
     "name": "stdout",
     "output_type": "stream",
     "text": [
      "{'url': 'https://www.nike.com/t/air-max-axis-big-kids-shoes-pJf9xS/AH5222-404', 'writepath': './text/www.nike.com/www.nike.com_t_air-max-axis-big-kids-shoes-pJf9xS_AH5222-404.txt', 'title': 'Nike Air Max Axis', 'price': '$49.97', 'images': 'https://static.nike.com/a/images/t_default/50080a9a-31e5-4a07-bd3b-61176a85ec2d/air-max-axis-big-kids-shoes-pJf9xS.png'}\n",
      "https://www.nike.com/t/wio-10-mens-road-running-shoes-extra-wide-KF4CtT/FN7992-100\n"
     ]
    },
    {
     "name": "stderr",
     "output_type": "stream",
     "text": [
      "/var/folders/rb/k9pmvtxs1wv4y7fl9s364ybw0000gn/T/ipykernel_35610/878112586.py:75: FutureWarning: The frame.append method is deprecated and will be removed from pandas in a future version. Use pandas.concat instead.\n",
      "  df = df.append(row, ignore_index=True)\n"
     ]
    },
    {
     "name": "stdout",
     "output_type": "stream",
     "text": [
      "{'url': 'https://www.nike.com/t/wio-10-mens-road-running-shoes-extra-wide-KF4CtT/FN7992-100', 'writepath': './text/www.nike.com/www.nike.com_t_wio-10-mens-road-running-shoes-extra-wide-KF4CtT_FN7992-100.txt', 'title': 'Nike Winflo 10', 'price': '$100', 'images': 'https://static.nike.com/a/images/t_default/af17ff21-3753-492a-96f3-c3a851b31384/wio-10-mens-road-running-shoes-extra-wide-KF4CtT.png'}\n",
      "https://www.nike.com/t/air-zoom-pegasus-40-pr-big-kids-road-running-shoes-btV5l8/FB8866-100\n"
     ]
    },
    {
     "name": "stderr",
     "output_type": "stream",
     "text": [
      "/var/folders/rb/k9pmvtxs1wv4y7fl9s364ybw0000gn/T/ipykernel_35610/878112586.py:75: FutureWarning: The frame.append method is deprecated and will be removed from pandas in a future version. Use pandas.concat instead.\n",
      "  df = df.append(row, ignore_index=True)\n"
     ]
    },
    {
     "name": "stdout",
     "output_type": "stream",
     "text": [
      "{'url': 'https://www.nike.com/t/air-zoom-pegasus-40-pr-big-kids-road-running-shoes-btV5l8/FB8866-100', 'writepath': './text/www.nike.com/www.nike.com_t_air-zoom-pegasus-40-pr-big-kids-road-running-shoes-btV5l8_FB8866-100.txt', 'title': 'Nike Air Zoom Pegasus 40 PR', 'price': '$115', 'images': 'https://static.nike.com/a/images/t_default/00b525ac-e0ba-49cf-88dd-4635f0dd380d/air-zoom-pegasus-40-pr-big-kids-road-running-shoes-btV5l8.png'}\n",
      "https://www.nike.com/t/little-posite-one-asw-baby-toddler-shoes-d4MZCT/DZ5191-400\n"
     ]
    },
    {
     "name": "stderr",
     "output_type": "stream",
     "text": [
      "/var/folders/rb/k9pmvtxs1wv4y7fl9s364ybw0000gn/T/ipykernel_35610/878112586.py:75: FutureWarning: The frame.append method is deprecated and will be removed from pandas in a future version. Use pandas.concat instead.\n",
      "  df = df.append(row, ignore_index=True)\n"
     ]
    },
    {
     "name": "stdout",
     "output_type": "stream",
     "text": [
      "{'url': 'https://www.nike.com/t/little-posite-one-asw-baby-toddler-shoes-d4MZCT/DZ5191-400', 'writepath': './text/www.nike.com/www.nike.com_t_little-posite-one-asw-baby-toddler-shoes-d4MZCT_DZ5191-400.txt', 'title': 'Nike Little Posite One ASW', 'price': '$54.97', 'images': 'https://static.nike.com/a/images/t_default/8492359a-11fb-445a-a627-85791a0e9c37/little-posite-one-asw-baby-toddler-shoes-d4MZCT.png'}\n",
      "https://www.nike.com/t/air-jordan-1-mid-se-craft-big-kids-shoes-44BWZx/FB9142-120\n"
     ]
    },
    {
     "name": "stderr",
     "output_type": "stream",
     "text": [
      "/var/folders/rb/k9pmvtxs1wv4y7fl9s364ybw0000gn/T/ipykernel_35610/878112586.py:75: FutureWarning: The frame.append method is deprecated and will be removed from pandas in a future version. Use pandas.concat instead.\n",
      "  df = df.append(row, ignore_index=True)\n"
     ]
    },
    {
     "name": "stdout",
     "output_type": "stream",
     "text": [
      "{'url': 'https://www.nike.com/t/air-jordan-1-mid-se-craft-big-kids-shoes-44BWZx/FB9142-120', 'writepath': './text/www.nike.com/www.nike.com_t_air-jordan-1-mid-se-craft-big-kids-shoes-44BWZx_FB9142-120.txt', 'title': 'Air Jordan 1 Mid SE Craft', 'price': '$120', 'images': 'https://static.nike.com/a/images/t_default/42a19c9e-15de-48ab-aa65-620da20e3988/air-jordan-1-mid-se-craft-big-kids-shoes-44BWZx.png'}\n",
      "https://www.nike.com/t/air-max-dawn-big-kids-shoes-C8PwMK/DH3157-104\n"
     ]
    },
    {
     "name": "stderr",
     "output_type": "stream",
     "text": [
      "/var/folders/rb/k9pmvtxs1wv4y7fl9s364ybw0000gn/T/ipykernel_35610/878112586.py:75: FutureWarning: The frame.append method is deprecated and will be removed from pandas in a future version. Use pandas.concat instead.\n",
      "  df = df.append(row, ignore_index=True)\n"
     ]
    },
    {
     "name": "stdout",
     "output_type": "stream",
     "text": [
      "{'url': 'https://www.nike.com/t/air-max-dawn-big-kids-shoes-C8PwMK/DH3157-104', 'writepath': './text/www.nike.com/www.nike.com_t_air-max-dawn-big-kids-shoes-C8PwMK_DH3157-104.txt', 'title': 'Nike Air Max Dawn', 'price': '$59.97', 'images': 'https://static.nike.com/a/images/t_default/c34f2f91-03dd-482d-b024-65f4e8b01b80/air-max-dawn-big-kids-shoes-C8PwMK.png'}\n",
      "https://www.nike.com/t/air-zoom-diamond-elite-turf-mens-baseball-shoes-jjnN7h/DZ0503-001\n"
     ]
    },
    {
     "name": "stderr",
     "output_type": "stream",
     "text": [
      "/var/folders/rb/k9pmvtxs1wv4y7fl9s364ybw0000gn/T/ipykernel_35610/878112586.py:75: FutureWarning: The frame.append method is deprecated and will be removed from pandas in a future version. Use pandas.concat instead.\n",
      "  df = df.append(row, ignore_index=True)\n"
     ]
    },
    {
     "name": "stdout",
     "output_type": "stream",
     "text": [
      "{'url': 'https://www.nike.com/t/air-zoom-diamond-elite-turf-mens-baseball-shoes-jjnN7h/DZ0503-001', 'writepath': './text/www.nike.com/www.nike.com_t_air-zoom-diamond-elite-turf-mens-baseball-shoes-jjnN7h_DZ0503-001.txt', 'title': 'Nike Air Zoom Diamond Elite Turf', 'price': '$110', 'images': 'https://static.nike.com/a/images/t_default/f8225b08-bb18-4ac1-b3b8-0caf924b59c1/air-zoom-diamond-elite-turf-mens-baseball-shoes-jjnN7h.png'}\n",
      "https://www.nike.com/t/air-max-plus-baby-toddler-shoes-g2rDKs/DR7996-001\n"
     ]
    },
    {
     "name": "stderr",
     "output_type": "stream",
     "text": [
      "/var/folders/rb/k9pmvtxs1wv4y7fl9s364ybw0000gn/T/ipykernel_35610/878112586.py:75: FutureWarning: The frame.append method is deprecated and will be removed from pandas in a future version. Use pandas.concat instead.\n",
      "  df = df.append(row, ignore_index=True)\n"
     ]
    },
    {
     "name": "stdout",
     "output_type": "stream",
     "text": [
      "{'url': 'https://www.nike.com/t/air-max-plus-baby-toddler-shoes-g2rDKs/DR7996-001', 'writepath': './text/www.nike.com/www.nike.com_t_air-max-plus-baby-toddler-shoes-g2rDKs_DR7996-001.txt', 'title': 'Nike Air Max Plus', 'price': '$90', 'images': 'https://static.nike.com/a/images/t_default/ba99052f-ae94-4f8f-a5ef-1fdacdd69da4/air-max-plus-baby-toddler-shoes-g2rDKs.png'}\n",
      "https://www.nike.com/t/air-force-1-high-07-lv8-emb-mens-shoes-g2WGZn/DX4980-001\n"
     ]
    },
    {
     "name": "stderr",
     "output_type": "stream",
     "text": [
      "/var/folders/rb/k9pmvtxs1wv4y7fl9s364ybw0000gn/T/ipykernel_35610/878112586.py:75: FutureWarning: The frame.append method is deprecated and will be removed from pandas in a future version. Use pandas.concat instead.\n",
      "  df = df.append(row, ignore_index=True)\n"
     ]
    },
    {
     "name": "stdout",
     "output_type": "stream",
     "text": [
      "{'url': 'https://www.nike.com/t/air-force-1-high-07-lv8-emb-mens-shoes-g2WGZn/DX4980-001', 'writepath': './text/www.nike.com/www.nike.com_t_air-force-1-high-07-lv8-emb-mens-shoes-g2WGZn_DX4980-001.txt', 'title': \"Nike Air Force 1 High '07 LV8 EMB\", 'price': '$89.97', 'images': 'https://static.nike.com/a/images/t_default/ca99d983-209d-4cee-9cde-d251ee32584d/air-force-1-high-07-lv8-emb-mens-shoes-g2WGZn.png'}\n",
      "https://www.nike.com/t/air-max-90-premium-mens-shoes-9sg476/FJ4003-100\n"
     ]
    },
    {
     "name": "stderr",
     "output_type": "stream",
     "text": [
      "/var/folders/rb/k9pmvtxs1wv4y7fl9s364ybw0000gn/T/ipykernel_35610/878112586.py:75: FutureWarning: The frame.append method is deprecated and will be removed from pandas in a future version. Use pandas.concat instead.\n",
      "  df = df.append(row, ignore_index=True)\n"
     ]
    },
    {
     "name": "stdout",
     "output_type": "stream",
     "text": [
      "{'url': 'https://www.nike.com/t/air-max-90-premium-mens-shoes-9sg476/FJ4003-100', 'writepath': './text/www.nike.com/www.nike.com_t_air-max-90-premium-mens-shoes-9sg476_FJ4003-100.txt', 'title': 'Nike Air Max 90 Premium', 'price': '$109.97', 'images': 'https://static.nike.com/a/images/t_default/1610ed87-c8dd-4453-b7a2-16c682441b67/air-max-90-premium-mens-shoes-9sg476.png'}\n",
      "https://www.nike.com/t/jordan-max-aura-5-mens-shoes-nTmBrg/DZ4353-061\n"
     ]
    },
    {
     "name": "stderr",
     "output_type": "stream",
     "text": [
      "/var/folders/rb/k9pmvtxs1wv4y7fl9s364ybw0000gn/T/ipykernel_35610/878112586.py:75: FutureWarning: The frame.append method is deprecated and will be removed from pandas in a future version. Use pandas.concat instead.\n",
      "  df = df.append(row, ignore_index=True)\n"
     ]
    },
    {
     "name": "stdout",
     "output_type": "stream",
     "text": [
      "{'url': 'https://www.nike.com/t/jordan-max-aura-5-mens-shoes-nTmBrg/DZ4353-061', 'writepath': './text/www.nike.com/www.nike.com_t_jordan-max-aura-5-mens-shoes-nTmBrg_DZ4353-061.txt', 'title': 'Jordan Max Aura 5', 'price': '$130', 'images': 'https://static.nike.com/a/images/t_default/10eb998b-33ba-4f4d-9613-006e7bbdf1f7/jordan-max-aura-5-mens-shoes-nTmBrg.png'}\n",
      "https://www.nike.com/t/air-jordan-1-low-flyease-mens-easy-on-off-shoes-D3wW7l/DM1206-174\n"
     ]
    },
    {
     "name": "stderr",
     "output_type": "stream",
     "text": [
      "/var/folders/rb/k9pmvtxs1wv4y7fl9s364ybw0000gn/T/ipykernel_35610/878112586.py:75: FutureWarning: The frame.append method is deprecated and will be removed from pandas in a future version. Use pandas.concat instead.\n",
      "  df = df.append(row, ignore_index=True)\n"
     ]
    },
    {
     "name": "stdout",
     "output_type": "stream",
     "text": [
      "{'url': 'https://www.nike.com/t/air-jordan-1-low-flyease-mens-easy-on-off-shoes-D3wW7l/DM1206-174', 'writepath': './text/www.nike.com/www.nike.com_t_air-jordan-1-low-flyease-mens-easy-on-off-shoes-D3wW7l_DM1206-174.txt', 'title': 'Air Jordan 1 Low FlyEase', 'price': '$130', 'images': 'https://static.nike.com/a/images/t_default/e0e000b8-288a-4a70-9b60-5bd4b5bb59e5/air-jordan-1-low-flyease-mens-easy-on-off-shoes-D3wW7l.png'}\n",
      "https://www.nike.com/t/tiempo-legend-9-club-tf-turf-soccer-shoes-8lrbXd/DA1193-001\n"
     ]
    },
    {
     "name": "stderr",
     "output_type": "stream",
     "text": [
      "/var/folders/rb/k9pmvtxs1wv4y7fl9s364ybw0000gn/T/ipykernel_35610/878112586.py:75: FutureWarning: The frame.append method is deprecated and will be removed from pandas in a future version. Use pandas.concat instead.\n",
      "  df = df.append(row, ignore_index=True)\n"
     ]
    },
    {
     "name": "stdout",
     "output_type": "stream",
     "text": [
      "{'url': 'https://www.nike.com/t/tiempo-legend-9-club-tf-turf-soccer-shoes-8lrbXd/DA1193-001', 'writepath': './text/www.nike.com/www.nike.com_t_tiempo-legend-9-club-tf-turf-soccer-shoes-8lrbXd_DA1193-001.txt', 'title': 'Nike Tiempo Legend 9 Club TF', 'price': '$50', 'images': 'https://static.nike.com/a/images/t_default/dc77dc48-6044-4bdf-8b4b-c741fa197e93/tiempo-legend-9-club-tf-turf-soccer-shoes-8lrbXd.png'}\n",
      "https://www.nike.com/t/little-posite-one-big-kids-shoes-wlJld7/DQ6210-500\n"
     ]
    },
    {
     "name": "stderr",
     "output_type": "stream",
     "text": [
      "/var/folders/rb/k9pmvtxs1wv4y7fl9s364ybw0000gn/T/ipykernel_35610/878112586.py:75: FutureWarning: The frame.append method is deprecated and will be removed from pandas in a future version. Use pandas.concat instead.\n",
      "  df = df.append(row, ignore_index=True)\n"
     ]
    },
    {
     "name": "stdout",
     "output_type": "stream",
     "text": [
      "{'url': 'https://www.nike.com/t/little-posite-one-big-kids-shoes-wlJld7/DQ6210-500', 'writepath': './text/www.nike.com/www.nike.com_t_little-posite-one-big-kids-shoes-wlJld7_DQ6210-500.txt', 'title': 'Nike Little Posite One', 'price': '$72.97', 'images': 'https://static.nike.com/a/images/t_default/faf97db2-cdb8-4f8a-aeaf-58f515f4d2be/little-posite-one-big-kids-shoes-wlJld7.png'}\n",
      "https://www.nike.com/t/air-force-1-lv8-big-kids-shoes-2TVBPx/DZ5302-001\n"
     ]
    },
    {
     "name": "stderr",
     "output_type": "stream",
     "text": [
      "/var/folders/rb/k9pmvtxs1wv4y7fl9s364ybw0000gn/T/ipykernel_35610/878112586.py:75: FutureWarning: The frame.append method is deprecated and will be removed from pandas in a future version. Use pandas.concat instead.\n",
      "  df = df.append(row, ignore_index=True)\n"
     ]
    },
    {
     "name": "stdout",
     "output_type": "stream",
     "text": [
      "{'url': 'https://www.nike.com/t/air-force-1-lv8-big-kids-shoes-2TVBPx/DZ5302-001', 'writepath': './text/www.nike.com/www.nike.com_t_air-force-1-lv8-big-kids-shoes-2TVBPx_DZ5302-001.txt', 'title': 'Nike Air Force 1 LV8', 'price': '$52.97', 'images': 'https://static.nike.com/a/images/t_default/db1701b1-249b-4aba-ab7d-c5a78c981321/air-force-1-lv8-big-kids-shoes-2TVBPx.png'}\n",
      "https://www.nike.com/t/air-jordan-1-element-shoes-NFCNts/DB2889-700\n"
     ]
    },
    {
     "name": "stderr",
     "output_type": "stream",
     "text": [
      "/var/folders/rb/k9pmvtxs1wv4y7fl9s364ybw0000gn/T/ipykernel_35610/878112586.py:75: FutureWarning: The frame.append method is deprecated and will be removed from pandas in a future version. Use pandas.concat instead.\n",
      "  df = df.append(row, ignore_index=True)\n"
     ]
    },
    {
     "name": "stdout",
     "output_type": "stream",
     "text": [
      "{'url': 'https://www.nike.com/t/air-jordan-1-element-shoes-NFCNts/DB2889-700', 'writepath': './text/www.nike.com/www.nike.com_t_air-jordan-1-element-shoes-NFCNts_DB2889-700.txt', 'title': 'Air Jordan 1 Element', 'price': '$200', 'images': 'https://static.nike.com/a/images/t_default/16daa42d-92e3-44d1-a2c4-b175431af49b/air-jordan-1-element-shoes-NFCNts.png'}\n",
      "https://www.nike.com/t/zoom-fly-5-premium-womens-road-running-shoes-ShXjdb/DV7894-600\n"
     ]
    },
    {
     "name": "stderr",
     "output_type": "stream",
     "text": [
      "/var/folders/rb/k9pmvtxs1wv4y7fl9s364ybw0000gn/T/ipykernel_35610/878112586.py:75: FutureWarning: The frame.append method is deprecated and will be removed from pandas in a future version. Use pandas.concat instead.\n",
      "  df = df.append(row, ignore_index=True)\n"
     ]
    },
    {
     "name": "stdout",
     "output_type": "stream",
     "text": [
      "{'url': 'https://www.nike.com/t/zoom-fly-5-premium-womens-road-running-shoes-ShXjdb/DV7894-600', 'writepath': './text/www.nike.com/www.nike.com_t_zoom-fly-5-premium-womens-road-running-shoes-ShXjdb_DV7894-600.txt', 'title': 'Nike Zoom Fly 5 Premium', 'price': '$170', 'images': 'https://static.nike.com/a/images/t_default/eae77163-41fd-43ac-a35c-bb5b702d4aab/zoom-fly-5-premium-womens-road-running-shoes-ShXjdb.png'}\n",
      "https://www.nike.com/t/air-jordan-2-retro-mens-shoes-F577Gc/DR8884-100\n"
     ]
    },
    {
     "name": "stderr",
     "output_type": "stream",
     "text": [
      "/var/folders/rb/k9pmvtxs1wv4y7fl9s364ybw0000gn/T/ipykernel_35610/878112586.py:75: FutureWarning: The frame.append method is deprecated and will be removed from pandas in a future version. Use pandas.concat instead.\n",
      "  df = df.append(row, ignore_index=True)\n"
     ]
    },
    {
     "name": "stdout",
     "output_type": "stream",
     "text": [
      "{'url': 'https://www.nike.com/t/air-jordan-2-retro-mens-shoes-F577Gc/DR8884-100', 'writepath': './text/www.nike.com/www.nike.com_t_air-jordan-2-retro-mens-shoes-F577Gc_DR8884-100.txt', 'title': 'Air Jordan 2 Retro', 'price': '$175', 'images': 'https://static.nike.com/a/images/t_default/d3d48726-7be1-486f-a9af-094aadb082e6/air-jordan-2-retro-mens-shoes-F577Gc.png'}\n",
      "https://www.nike.com/t/vomero-16-mens-road-running-shoes-8zSBBk/DA7245-008\n"
     ]
    },
    {
     "name": "stderr",
     "output_type": "stream",
     "text": [
      "/var/folders/rb/k9pmvtxs1wv4y7fl9s364ybw0000gn/T/ipykernel_35610/878112586.py:75: FutureWarning: The frame.append method is deprecated and will be removed from pandas in a future version. Use pandas.concat instead.\n",
      "  df = df.append(row, ignore_index=True)\n"
     ]
    },
    {
     "name": "stdout",
     "output_type": "stream",
     "text": [
      "{'url': 'https://www.nike.com/t/vomero-16-mens-road-running-shoes-8zSBBk/DA7245-008', 'writepath': './text/www.nike.com/www.nike.com_t_vomero-16-mens-road-running-shoes-8zSBBk_DA7245-008.txt', 'title': 'Nike Vomero 16', 'price': '$104.97', 'images': 'https://static.nike.com/a/images/t_default/4bfbc52c-6e06-489b-a456-5f86a042389a/vomero-16-mens-road-running-shoes-8zSBBk.png'}\n",
      "https://www.nike.com/t/air-max-alpha-trainer-4-mens-training-shoes-KDn1dc/CW3396-005\n"
     ]
    },
    {
     "name": "stderr",
     "output_type": "stream",
     "text": [
      "/var/folders/rb/k9pmvtxs1wv4y7fl9s364ybw0000gn/T/ipykernel_35610/878112586.py:75: FutureWarning: The frame.append method is deprecated and will be removed from pandas in a future version. Use pandas.concat instead.\n",
      "  df = df.append(row, ignore_index=True)\n"
     ]
    },
    {
     "name": "stdout",
     "output_type": "stream",
     "text": [
      "{'url': 'https://www.nike.com/t/air-max-alpha-trainer-4-mens-training-shoes-KDn1dc/CW3396-005', 'writepath': './text/www.nike.com/www.nike.com_t_air-max-alpha-trainer-4-mens-training-shoes-KDn1dc_CW3396-005.txt', 'title': 'Nike Air Max Alpha Trainer 4', 'price': '$79.97', 'images': 'https://static.nike.com/a/images/t_default/e3dea29c-e4d9-46a0-8246-c1ecd28a65fb/air-max-alpha-trainer-4-mens-training-shoes-KDn1dc.png'}\n",
      "https://www.nike.com/t/zoom-mercurial-superfly-9-academy-xxv-tf-turf-soccer-shoes-pJ76Rf/FB8398-060\n"
     ]
    },
    {
     "name": "stderr",
     "output_type": "stream",
     "text": [
      "/var/folders/rb/k9pmvtxs1wv4y7fl9s364ybw0000gn/T/ipykernel_35610/878112586.py:75: FutureWarning: The frame.append method is deprecated and will be removed from pandas in a future version. Use pandas.concat instead.\n",
      "  df = df.append(row, ignore_index=True)\n"
     ]
    },
    {
     "name": "stdout",
     "output_type": "stream",
     "text": [
      "{'url': 'https://www.nike.com/t/zoom-mercurial-superfly-9-academy-xxv-tf-turf-soccer-shoes-pJ76Rf/FB8398-060', 'writepath': './text/www.nike.com/www.nike.com_t_zoom-mercurial-superfly-9-academy-xxv-tf-turf-soccer-shoes-pJ76Rf_FB8398-060.txt', 'title': 'Nike Zoom Mercurial Superfly 9 Academy XXV TF', 'price': '$95', 'images': 'https://static.nike.com/a/images/t_default/0952d296-7420-4c97-9d96-5eec5b40941e/zoom-mercurial-superfly-9-academy-xxv-tf-turf-soccer-shoes-pJ76Rf.png'}\n",
      "https://www.nike.com/t/air-jordan-retro-7-big-kids-shoes-K73xrP/DQ6040-160\n"
     ]
    },
    {
     "name": "stderr",
     "output_type": "stream",
     "text": [
      "/var/folders/rb/k9pmvtxs1wv4y7fl9s364ybw0000gn/T/ipykernel_35610/878112586.py:75: FutureWarning: The frame.append method is deprecated and will be removed from pandas in a future version. Use pandas.concat instead.\n",
      "  df = df.append(row, ignore_index=True)\n"
     ]
    },
    {
     "name": "stdout",
     "output_type": "stream",
     "text": [
      "{'url': 'https://www.nike.com/t/air-jordan-retro-7-big-kids-shoes-K73xrP/DQ6040-160', 'writepath': './text/www.nike.com/www.nike.com_t_air-jordan-retro-7-big-kids-shoes-K73xrP_DQ6040-160.txt', 'title': 'Air Jordan Retro 7', 'price': '$150', 'images': 'https://static.nike.com/a/images/t_default/aa20a836-34a6-438e-9e4d-5e5a55efd3ab/air-jordan-retro-7-big-kids-shoes-K73xrP.png'}\n",
      "https://www.nike.com/t/air-max-90-se-mens-shoes-sXJXK0/DV2614-100\n"
     ]
    },
    {
     "name": "stderr",
     "output_type": "stream",
     "text": [
      "/var/folders/rb/k9pmvtxs1wv4y7fl9s364ybw0000gn/T/ipykernel_35610/878112586.py:75: FutureWarning: The frame.append method is deprecated and will be removed from pandas in a future version. Use pandas.concat instead.\n",
      "  df = df.append(row, ignore_index=True)\n"
     ]
    },
    {
     "name": "stdout",
     "output_type": "stream",
     "text": [
      "{'url': 'https://www.nike.com/t/air-max-90-se-mens-shoes-sXJXK0/DV2614-100', 'writepath': './text/www.nike.com/www.nike.com_t_air-max-90-se-mens-shoes-sXJXK0_DV2614-100.txt', 'title': 'Nike Air Max 90 SE', 'price': '$119.97', 'images': 'https://static.nike.com/a/images/t_default/86b70843-0d71-4aa1-8d18-18b94bc097b7/air-max-90-se-mens-shoes-sXJXK0.png'}\n",
      "https://www.nike.com/t/roshe-2-g-jr-little-big-kids-golf-shoes-n5C8DG/DZ6895-600\n"
     ]
    },
    {
     "name": "stderr",
     "output_type": "stream",
     "text": [
      "/var/folders/rb/k9pmvtxs1wv4y7fl9s364ybw0000gn/T/ipykernel_35610/878112586.py:75: FutureWarning: The frame.append method is deprecated and will be removed from pandas in a future version. Use pandas.concat instead.\n",
      "  df = df.append(row, ignore_index=True)\n"
     ]
    },
    {
     "name": "stdout",
     "output_type": "stream",
     "text": [
      "{'url': 'https://www.nike.com/t/roshe-2-g-jr-little-big-kids-golf-shoes-n5C8DG/DZ6895-600', 'writepath': './text/www.nike.com/www.nike.com_t_roshe-2-g-jr-little-big-kids-golf-shoes-n5C8DG_DZ6895-600.txt', 'title': 'Nike Roshe 2 G Jr.', 'price': '$65', 'images': 'https://static.nike.com/a/images/t_default/80a5bcd3-203c-4f91-b368-1895436e20e5/roshe-2-g-jr-little-big-kids-golf-shoes-n5C8DG.png'}\n",
      "https://www.nike.com/t/phantom-gx-pro-turf-soccer-shoes-RKFdJ5/DD9466-705\n"
     ]
    },
    {
     "name": "stderr",
     "output_type": "stream",
     "text": [
      "/var/folders/rb/k9pmvtxs1wv4y7fl9s364ybw0000gn/T/ipykernel_35610/878112586.py:75: FutureWarning: The frame.append method is deprecated and will be removed from pandas in a future version. Use pandas.concat instead.\n",
      "  df = df.append(row, ignore_index=True)\n"
     ]
    },
    {
     "name": "stdout",
     "output_type": "stream",
     "text": [
      "{'url': 'https://www.nike.com/t/phantom-gx-pro-turf-soccer-shoes-RKFdJ5/DD9466-705', 'writepath': './text/www.nike.com/www.nike.com_t_phantom-gx-pro-turf-soccer-shoes-RKFdJ5_DD9466-705.txt', 'title': 'Nike Phantom GX Pro', 'price': '$120', 'images': 'https://static.nike.com/a/images/t_default/0b2f0902-ac4c-4a8d-8424-e2b4ae21ff93/phantom-gx-pro-turf-soccer-shoes-RKFdJ5.png'}\n",
      "https://www.nike.com/t/force-1-lv8-2-baby-toddler-shoes-1wH8bC/DX1886-800\n"
     ]
    },
    {
     "name": "stderr",
     "output_type": "stream",
     "text": [
      "/var/folders/rb/k9pmvtxs1wv4y7fl9s364ybw0000gn/T/ipykernel_35610/878112586.py:75: FutureWarning: The frame.append method is deprecated and will be removed from pandas in a future version. Use pandas.concat instead.\n",
      "  df = df.append(row, ignore_index=True)\n"
     ]
    },
    {
     "name": "stdout",
     "output_type": "stream",
     "text": [
      "{'url': 'https://www.nike.com/t/force-1-lv8-2-baby-toddler-shoes-1wH8bC/DX1886-800', 'writepath': './text/www.nike.com/www.nike.com_t_force-1-lv8-2-baby-toddler-shoes-1wH8bC_DX1886-800.txt', 'title': 'Nike Force 1 LV8 2', 'price': '$41.97', 'images': 'https://static.nike.com/a/images/t_default/c41d06ea-b585-4853-9cec-59c4e2e147b3/force-1-lv8-2-baby-toddler-shoes-1wH8bC.png'}\n",
      "https://www.nike.com/t/flex-advance-se-little-kids-shoes-JQ5SZr/DQ0512-001\n"
     ]
    },
    {
     "name": "stderr",
     "output_type": "stream",
     "text": [
      "/var/folders/rb/k9pmvtxs1wv4y7fl9s364ybw0000gn/T/ipykernel_35610/878112586.py:75: FutureWarning: The frame.append method is deprecated and will be removed from pandas in a future version. Use pandas.concat instead.\n",
      "  df = df.append(row, ignore_index=True)\n"
     ]
    },
    {
     "name": "stdout",
     "output_type": "stream",
     "text": [
      "{'url': 'https://www.nike.com/t/flex-advance-se-little-kids-shoes-JQ5SZr/DQ0512-001', 'writepath': './text/www.nike.com/www.nike.com_t_flex-advance-se-little-kids-shoes-JQ5SZr_DQ0512-001.txt', 'title': 'Nike Flex Advance SE', 'price': '$46.97', 'images': 'https://static.nike.com/a/images/t_default/dfb4ec64-84c0-4e11-bdcc-74d63ec6a388/flex-advance-se-little-kids-shoes-JQ5SZr.png'}\n",
      "https://www.nike.com/t/nikecourt-zoom-pro-womens-hard-court-tennis-shoes-jh9bd2/DH0990-100\n"
     ]
    },
    {
     "name": "stderr",
     "output_type": "stream",
     "text": [
      "/var/folders/rb/k9pmvtxs1wv4y7fl9s364ybw0000gn/T/ipykernel_35610/878112586.py:75: FutureWarning: The frame.append method is deprecated and will be removed from pandas in a future version. Use pandas.concat instead.\n",
      "  df = df.append(row, ignore_index=True)\n"
     ]
    },
    {
     "name": "stdout",
     "output_type": "stream",
     "text": [
      "{'url': 'https://www.nike.com/t/nikecourt-zoom-pro-womens-hard-court-tennis-shoes-jh9bd2/DH0990-100', 'writepath': './text/www.nike.com/www.nike.com_t_nikecourt-zoom-pro-womens-hard-court-tennis-shoes-jh9bd2_DH0990-100.txt', 'title': 'NikeCourt Zoom Pro', 'price': '$85.97', 'images': 'https://static.nike.com/a/images/t_default/6099ee9d-b1ea-4e31-ae26-ab84689fab7a/nikecourt-zoom-pro-womens-hard-court-tennis-shoes-jh9bd2.png'}\n",
      "https://www.nike.com/t/air-max-1-sc-mens-shoes-cr1hGM/DZ4549-100\n"
     ]
    },
    {
     "name": "stderr",
     "output_type": "stream",
     "text": [
      "/var/folders/rb/k9pmvtxs1wv4y7fl9s364ybw0000gn/T/ipykernel_35610/878112586.py:75: FutureWarning: The frame.append method is deprecated and will be removed from pandas in a future version. Use pandas.concat instead.\n",
      "  df = df.append(row, ignore_index=True)\n"
     ]
    },
    {
     "name": "stdout",
     "output_type": "stream",
     "text": [
      "{'url': 'https://www.nike.com/t/air-max-1-sc-mens-shoes-cr1hGM/DZ4549-100', 'writepath': './text/www.nike.com/www.nike.com_t_air-max-1-sc-mens-shoes-cr1hGM_DZ4549-100.txt', 'title': 'Nike Air Max 1 SC', 'price': '$150', 'images': 'https://static.nike.com/a/images/t_default/8be0e5b8-793d-4a6b-ac37-66bc5cef7b80/air-max-1-sc-mens-shoes-cr1hGM.png'}\n",
      "https://www.nike.com/t/jumpman-two-trey-womens-shoes-VKM3mw/DR9631-800\n"
     ]
    },
    {
     "name": "stderr",
     "output_type": "stream",
     "text": [
      "/var/folders/rb/k9pmvtxs1wv4y7fl9s364ybw0000gn/T/ipykernel_35610/878112586.py:75: FutureWarning: The frame.append method is deprecated and will be removed from pandas in a future version. Use pandas.concat instead.\n",
      "  df = df.append(row, ignore_index=True)\n"
     ]
    },
    {
     "name": "stdout",
     "output_type": "stream",
     "text": [
      "{'url': 'https://www.nike.com/t/jumpman-two-trey-womens-shoes-VKM3mw/DR9631-800', 'writepath': './text/www.nike.com/www.nike.com_t_jumpman-two-trey-womens-shoes-VKM3mw_DR9631-800.txt', 'title': 'Jumpman Two Trey', 'price': '$155', 'images': 'https://static.nike.com/a/images/t_default/727bbefa-98b8-4837-96a3-06820476c8fe/jumpman-two-trey-womens-shoes-VKM3mw.png'}\n",
      "https://www.nike.com/t/jordan-1-mid-baby-toddler-shoes-fchgXf/DQ8425-215\n"
     ]
    },
    {
     "name": "stderr",
     "output_type": "stream",
     "text": [
      "/var/folders/rb/k9pmvtxs1wv4y7fl9s364ybw0000gn/T/ipykernel_35610/878112586.py:75: FutureWarning: The frame.append method is deprecated and will be removed from pandas in a future version. Use pandas.concat instead.\n",
      "  df = df.append(row, ignore_index=True)\n"
     ]
    },
    {
     "name": "stdout",
     "output_type": "stream",
     "text": [
      "{'url': 'https://www.nike.com/t/jordan-1-mid-baby-toddler-shoes-fchgXf/DQ8425-215', 'writepath': './text/www.nike.com/www.nike.com_t_jordan-1-mid-baby-toddler-shoes-fchgXf_DQ8425-215.txt', 'title': 'Jordan 1 Mid', 'price': '$42.97', 'images': 'https://static.nike.com/a/images/t_default/3a083fcd-1889-4ff8-83c5-c7e76f0228bf/jordan-1-mid-baby-toddler-shoes-fchgXf.png'}\n",
      "https://www.nike.com/t/react-infinity-3-mens-road-running-shoes-1bRq75/DH5392-401\n"
     ]
    },
    {
     "name": "stderr",
     "output_type": "stream",
     "text": [
      "/var/folders/rb/k9pmvtxs1wv4y7fl9s364ybw0000gn/T/ipykernel_35610/878112586.py:75: FutureWarning: The frame.append method is deprecated and will be removed from pandas in a future version. Use pandas.concat instead.\n",
      "  df = df.append(row, ignore_index=True)\n"
     ]
    },
    {
     "ename": "TimeoutException",
     "evalue": "Message: timeout: Timed out receiving message from renderer: 299.768\n  (Session info: chrome=114.0.5735.198)\nStacktrace:\n0   undetected_chromedriver             0x0000000100b256b8 undetected_chromedriver + 4937400\n1   undetected_chromedriver             0x0000000100b1cb73 undetected_chromedriver + 4901747\n2   undetected_chromedriver             0x00000001006da616 undetected_chromedriver + 435734\n3   undetected_chromedriver             0x00000001006c1ac9 undetected_chromedriver + 334537\n4   undetected_chromedriver             0x00000001006c173c undetected_chromedriver + 333628\n5   undetected_chromedriver             0x00000001006bffaa undetected_chromedriver + 327594\n6   undetected_chromedriver             0x00000001006c04fc undetected_chromedriver + 328956\n7   undetected_chromedriver             0x00000001006cfb68 undetected_chromedriver + 392040\n8   undetected_chromedriver             0x00000001006d1612 undetected_chromedriver + 398866\n9   undetected_chromedriver             0x00000001006e6784 undetected_chromedriver + 485252\n10  undetected_chromedriver             0x00000001006ec7db undetected_chromedriver + 509915\n11  undetected_chromedriver             0x00000001006c0a42 undetected_chromedriver + 330306\n12  undetected_chromedriver             0x00000001006e65d7 undetected_chromedriver + 484823\n13  undetected_chromedriver             0x000000010075d0bc undetected_chromedriver + 970940\n14  undetected_chromedriver             0x0000000100741de3 undetected_chromedriver + 859619\n15  undetected_chromedriver             0x000000010070fd7f undetected_chromedriver + 654719\n16  undetected_chromedriver             0x00000001007110de undetected_chromedriver + 659678\n17  undetected_chromedriver             0x0000000100ae12ad undetected_chromedriver + 4657837\n18  undetected_chromedriver             0x0000000100ae6130 undetected_chromedriver + 4677936\n19  undetected_chromedriver             0x0000000100aecdef undetected_chromedriver + 4705775\n20  undetected_chromedriver             0x0000000100ae705a undetected_chromedriver + 4681818\n21  undetected_chromedriver             0x0000000100ab992c undetected_chromedriver + 4495660\n22  undetected_chromedriver             0x0000000100b04838 undetected_chromedriver + 4802616\n23  undetected_chromedriver             0x0000000100b049b7 undetected_chromedriver + 4802999\n24  undetected_chromedriver             0x0000000100b1599f undetected_chromedriver + 4872607\n25  libsystem_pthread.dylib             0x00007ff815c061d3 _pthread_start + 125\n26  libsystem_pthread.dylib             0x00007ff815c01bd3 thread_start + 15\n",
     "output_type": "error",
     "traceback": [
      "\u001b[0;31m---------------------------------------------------------------------------\u001b[0m",
      "\u001b[0;31mTimeoutException\u001b[0m                          Traceback (most recent call last)",
      "Cell \u001b[0;32mIn[20], line 59\u001b[0m\n\u001b[1;32m     56\u001b[0m     f\u001b[38;5;241m.\u001b[39mwrite(text)\n\u001b[1;32m     58\u001b[0m \u001b[38;5;66;03m# Refresh the page to get out of reviews\u001b[39;00m\n\u001b[0;32m---> 59\u001b[0m \u001b[43mdriver\u001b[49m\u001b[38;5;241;43m.\u001b[39;49m\u001b[43mget\u001b[49m\u001b[43m(\u001b[49m\u001b[43murl\u001b[49m\u001b[43m)\u001b[49m\n\u001b[1;32m     60\u001b[0m driver\u001b[38;5;241m.\u001b[39mimplicitly_wait(\u001b[38;5;241m180\u001b[39m)\n\u001b[1;32m     62\u001b[0m \u001b[38;5;66;03m#Get the title and price metadata\u001b[39;00m\n",
      "File \u001b[0;32m~/anaconda3/lib/python3.10/site-packages/undetected_chromedriver/__init__.py:621\u001b[0m, in \u001b[0;36mChrome._configure_headless.<locals>.get_wrapped\u001b[0;34m(*args, **kwargs)\u001b[0m\n\u001b[1;32m    512\u001b[0m     \u001b[38;5;28mself\u001b[39m\u001b[38;5;241m.\u001b[39mexecute_cdp_cmd(\n\u001b[1;32m    513\u001b[0m         \u001b[38;5;124m\"\u001b[39m\u001b[38;5;124mNetwork.setUserAgentOverride\u001b[39m\u001b[38;5;124m\"\u001b[39m,\n\u001b[1;32m    514\u001b[0m         {\n\u001b[0;32m   (...)\u001b[0m\n\u001b[1;32m    518\u001b[0m         },\n\u001b[1;32m    519\u001b[0m     )\n\u001b[1;32m    520\u001b[0m     \u001b[38;5;28mself\u001b[39m\u001b[38;5;241m.\u001b[39mexecute_cdp_cmd(\n\u001b[1;32m    521\u001b[0m         \u001b[38;5;124m\"\u001b[39m\u001b[38;5;124mPage.addScriptToEvaluateOnNewDocument\u001b[39m\u001b[38;5;124m\"\u001b[39m,\n\u001b[1;32m    522\u001b[0m         {\n\u001b[0;32m   (...)\u001b[0m\n\u001b[1;32m    619\u001b[0m         },\n\u001b[1;32m    620\u001b[0m     )\n\u001b[0;32m--> 621\u001b[0m \u001b[38;5;28;01mreturn\u001b[39;00m \u001b[43morig_get\u001b[49m\u001b[43m(\u001b[49m\u001b[38;5;241;43m*\u001b[39;49m\u001b[43margs\u001b[49m\u001b[43m,\u001b[49m\u001b[43m \u001b[49m\u001b[38;5;241;43m*\u001b[39;49m\u001b[38;5;241;43m*\u001b[39;49m\u001b[43mkwargs\u001b[49m\u001b[43m)\u001b[49m\n",
      "File \u001b[0;32m~/anaconda3/lib/python3.10/site-packages/undetected_chromedriver/__init__.py:657\u001b[0m, in \u001b[0;36mChrome.get\u001b[0;34m(self, url)\u001b[0m\n\u001b[1;32m    654\u001b[0m \u001b[38;5;28;01mdef\u001b[39;00m \u001b[38;5;21mget\u001b[39m(\u001b[38;5;28mself\u001b[39m, url):\n\u001b[1;32m    655\u001b[0m     \u001b[38;5;66;03m# if self._get_cdc_props():\u001b[39;00m\n\u001b[1;32m    656\u001b[0m     \u001b[38;5;66;03m#     self._hook_remove_cdc_props()\u001b[39;00m\n\u001b[0;32m--> 657\u001b[0m     \u001b[38;5;28;01mreturn\u001b[39;00m \u001b[38;5;28;43msuper\u001b[39;49m\u001b[43m(\u001b[49m\u001b[43m)\u001b[49m\u001b[38;5;241;43m.\u001b[39;49m\u001b[43mget\u001b[49m\u001b[43m(\u001b[49m\u001b[43murl\u001b[49m\u001b[43m)\u001b[49m\n",
      "File \u001b[0;32m~/anaconda3/lib/python3.10/site-packages/selenium/webdriver/remote/webdriver.py:449\u001b[0m, in \u001b[0;36mWebDriver.get\u001b[0;34m(self, url)\u001b[0m\n\u001b[1;32m    447\u001b[0m \u001b[38;5;28;01mdef\u001b[39;00m \u001b[38;5;21mget\u001b[39m(\u001b[38;5;28mself\u001b[39m, url: \u001b[38;5;28mstr\u001b[39m) \u001b[38;5;241m-\u001b[39m\u001b[38;5;241m>\u001b[39m \u001b[38;5;28;01mNone\u001b[39;00m:\n\u001b[1;32m    448\u001b[0m     \u001b[38;5;124;03m\"\"\"Loads a web page in the current browser session.\"\"\"\u001b[39;00m\n\u001b[0;32m--> 449\u001b[0m     \u001b[38;5;28;43mself\u001b[39;49m\u001b[38;5;241;43m.\u001b[39;49m\u001b[43mexecute\u001b[49m\u001b[43m(\u001b[49m\u001b[43mCommand\u001b[49m\u001b[38;5;241;43m.\u001b[39;49m\u001b[43mGET\u001b[49m\u001b[43m,\u001b[49m\u001b[43m \u001b[49m\u001b[43m{\u001b[49m\u001b[38;5;124;43m\"\u001b[39;49m\u001b[38;5;124;43murl\u001b[39;49m\u001b[38;5;124;43m\"\u001b[39;49m\u001b[43m:\u001b[49m\u001b[43m \u001b[49m\u001b[43murl\u001b[49m\u001b[43m}\u001b[49m\u001b[43m)\u001b[49m\n",
      "File \u001b[0;32m~/anaconda3/lib/python3.10/site-packages/selenium/webdriver/remote/webdriver.py:440\u001b[0m, in \u001b[0;36mWebDriver.execute\u001b[0;34m(self, driver_command, params)\u001b[0m\n\u001b[1;32m    438\u001b[0m response \u001b[38;5;241m=\u001b[39m \u001b[38;5;28mself\u001b[39m\u001b[38;5;241m.\u001b[39mcommand_executor\u001b[38;5;241m.\u001b[39mexecute(driver_command, params)\n\u001b[1;32m    439\u001b[0m \u001b[38;5;28;01mif\u001b[39;00m response:\n\u001b[0;32m--> 440\u001b[0m     \u001b[38;5;28;43mself\u001b[39;49m\u001b[38;5;241;43m.\u001b[39;49m\u001b[43merror_handler\u001b[49m\u001b[38;5;241;43m.\u001b[39;49m\u001b[43mcheck_response\u001b[49m\u001b[43m(\u001b[49m\u001b[43mresponse\u001b[49m\u001b[43m)\u001b[49m\n\u001b[1;32m    441\u001b[0m     response[\u001b[38;5;124m\"\u001b[39m\u001b[38;5;124mvalue\u001b[39m\u001b[38;5;124m\"\u001b[39m] \u001b[38;5;241m=\u001b[39m \u001b[38;5;28mself\u001b[39m\u001b[38;5;241m.\u001b[39m_unwrap_value(response\u001b[38;5;241m.\u001b[39mget(\u001b[38;5;124m\"\u001b[39m\u001b[38;5;124mvalue\u001b[39m\u001b[38;5;124m\"\u001b[39m, \u001b[38;5;28;01mNone\u001b[39;00m))\n\u001b[1;32m    442\u001b[0m     \u001b[38;5;28;01mreturn\u001b[39;00m response\n",
      "File \u001b[0;32m~/anaconda3/lib/python3.10/site-packages/selenium/webdriver/remote/errorhandler.py:245\u001b[0m, in \u001b[0;36mErrorHandler.check_response\u001b[0;34m(self, response)\u001b[0m\n\u001b[1;32m    243\u001b[0m         alert_text \u001b[38;5;241m=\u001b[39m value[\u001b[38;5;124m\"\u001b[39m\u001b[38;5;124malert\u001b[39m\u001b[38;5;124m\"\u001b[39m]\u001b[38;5;241m.\u001b[39mget(\u001b[38;5;124m\"\u001b[39m\u001b[38;5;124mtext\u001b[39m\u001b[38;5;124m\"\u001b[39m)\n\u001b[1;32m    244\u001b[0m     \u001b[38;5;28;01mraise\u001b[39;00m exception_class(message, screen, stacktrace, alert_text)  \u001b[38;5;66;03m# type: ignore[call-arg]  # mypy is not smart enough here\u001b[39;00m\n\u001b[0;32m--> 245\u001b[0m \u001b[38;5;28;01mraise\u001b[39;00m exception_class(message, screen, stacktrace)\n",
      "\u001b[0;31mTimeoutException\u001b[0m: Message: timeout: Timed out receiving message from renderer: 299.768\n  (Session info: chrome=114.0.5735.198)\nStacktrace:\n0   undetected_chromedriver             0x0000000100b256b8 undetected_chromedriver + 4937400\n1   undetected_chromedriver             0x0000000100b1cb73 undetected_chromedriver + 4901747\n2   undetected_chromedriver             0x00000001006da616 undetected_chromedriver + 435734\n3   undetected_chromedriver             0x00000001006c1ac9 undetected_chromedriver + 334537\n4   undetected_chromedriver             0x00000001006c173c undetected_chromedriver + 333628\n5   undetected_chromedriver             0x00000001006bffaa undetected_chromedriver + 327594\n6   undetected_chromedriver             0x00000001006c04fc undetected_chromedriver + 328956\n7   undetected_chromedriver             0x00000001006cfb68 undetected_chromedriver + 392040\n8   undetected_chromedriver             0x00000001006d1612 undetected_chromedriver + 398866\n9   undetected_chromedriver             0x00000001006e6784 undetected_chromedriver + 485252\n10  undetected_chromedriver             0x00000001006ec7db undetected_chromedriver + 509915\n11  undetected_chromedriver             0x00000001006c0a42 undetected_chromedriver + 330306\n12  undetected_chromedriver             0x00000001006e65d7 undetected_chromedriver + 484823\n13  undetected_chromedriver             0x000000010075d0bc undetected_chromedriver + 970940\n14  undetected_chromedriver             0x0000000100741de3 undetected_chromedriver + 859619\n15  undetected_chromedriver             0x000000010070fd7f undetected_chromedriver + 654719\n16  undetected_chromedriver             0x00000001007110de undetected_chromedriver + 659678\n17  undetected_chromedriver             0x0000000100ae12ad undetected_chromedriver + 4657837\n18  undetected_chromedriver             0x0000000100ae6130 undetected_chromedriver + 4677936\n19  undetected_chromedriver             0x0000000100aecdef undetected_chromedriver + 4705775\n20  undetected_chromedriver             0x0000000100ae705a undetected_chromedriver + 4681818\n21  undetected_chromedriver             0x0000000100ab992c undetected_chromedriver + 4495660\n22  undetected_chromedriver             0x0000000100b04838 undetected_chromedriver + 4802616\n23  undetected_chromedriver             0x0000000100b049b7 undetected_chromedriver + 4802999\n24  undetected_chromedriver             0x0000000100b1599f undetected_chromedriver + 4872607\n25  libsystem_pthread.dylib             0x00007ff815c061d3 _pthread_start + 125\n26  libsystem_pthread.dylib             0x00007ff815c01bd3 thread_start + 15\n"
     ]
    }
   ],
   "source": [
    "#Define the driver instance with options\n",
    "options = webdriver.ChromeOptions()\n",
    "options.add_argument(\"start-maximized\")\n",
    "# Add headless argument so we don't see the window actually popping up on our screen\n",
    "options.add_argument('headless')\n",
    "driver = uc.Chrome(options=options)\n",
    "\n",
    "\n",
    "# Parse the URL and get the domain\n",
    "local_domain = urlparse(url).netloc\n",
    "\n",
    "# DF to associate metadata to local writepath\n",
    "df = pd.DataFrame(columns=['url', 'writepath', 'title', 'price', 'images'])\n",
    "\n",
    "# Create a directory to store the text files\n",
    "if not os.path.exists(\"./text/\"):\n",
    "    os.mkdir(\"./text/\")\n",
    "\n",
    "if not os.path.exists(\"./text/\" + local_domain + \"/\"):\n",
    "    os.mkdir(\"./text/\" + local_domain + \"/\")\n",
    "\n",
    "# Create a directory to store the csv files\n",
    "if not os.path.exists(\"./processed\"):\n",
    "    os.mkdir(\"./processed\")\n",
    "    \n",
    "\n",
    "for url in links:\n",
    "    # Print the url to see progress\n",
    "    print(url)\n",
    "    \n",
    "    # Create the path to write to for this url\n",
    "    write_path = './text/' + local_domain + '/' + url[8:].replace(\"/\", \"_\") + \".txt\"\n",
    "    driver.get(url)\n",
    "    # Set up implicit wait as a timeout for the driver, so it waits until elements are located\n",
    "    driver.implicitly_wait(180)\n",
    "    \n",
    "    # Click the product details\n",
    "    open_product_details(driver)\n",
    "    driver.implicitly_wait(180)\n",
    "    \n",
    "    # Get the text with product details\n",
    "    text = driver.find_element(By.TAG_NAME, \"html\").text\n",
    "    \n",
    "    # Reload the page so we can click reviews\n",
    "    driver.get(url)\n",
    "    driver.implicitly_wait(180)\n",
    "    \n",
    "    # Get the review text and append to text from before\n",
    "    get_reviews(driver)\n",
    "    driver.implicitly_wait(180)\n",
    "    text += driver.find_element(By.TAG_NAME, \"html\").text\n",
    "\n",
    "    # Save text from the url to a <url>.txt file\n",
    "    with open(write_path, \"w\") as f:\n",
    "        # write the text to the file in the text directory\n",
    "        f.write(text)\n",
    "\n",
    "    # Refresh the page to get out of reviews\n",
    "    driver.get(url)\n",
    "    driver.implicitly_wait(180)\n",
    "    \n",
    "    #Get the title and price metadata\n",
    "    title = get_title(driver)\n",
    "    price = get_price(driver)\n",
    "    \n",
    "    # If we can't find the title, don't try to find the image either \n",
    "    if title != \"N/A\":\n",
    "        image = get_product_images(driver, title)[0]\n",
    "    else:\n",
    "        image = \"N/A\"\n",
    "    \n",
    "    if title != \"N/A\" and image != \"N/A\":\n",
    "        row = {'url': url, 'writepath': write_path, 'title': title, 'price': price, 'images': image}\n",
    "        print(row)\n",
    "        df = df.append(row, ignore_index=True)"
   ]
  },
  {
   "cell_type": "markdown",
   "id": "6c11b27a",
   "metadata": {},
   "source": [
    "After a few hours, the driver instance had a timeout error. I can simply restart the process starting from where it left out, but for this notebook I figured 300+ example products were enough. "
   ]
  },
  {
   "cell_type": "code",
   "execution_count": 22,
   "id": "f0dfad9a",
   "metadata": {},
   "outputs": [
    {
     "name": "stdout",
     "output_type": "stream",
     "text": [
      "                                                 url  \\\n",
      "0  https://www.nike.com/t/air-max-90-toggle-baby-...   \n",
      "1  https://www.nike.com/t/lebron-witness-7-team-b...   \n",
      "2  https://www.nike.com/t/air-jordan-1-mid-se-big...   \n",
      "3  https://www.nike.com/t/jordan-delta-3-sp-mens-...   \n",
      "4  https://www.nike.com/t/court-borough-low-recra...   \n",
      "\n",
      "                                           writepath  \\\n",
      "0  ./text/www.nike.com/www.nike.com_t_air-max-90-...   \n",
      "1  ./text/www.nike.com/www.nike.com_t_lebron-witn...   \n",
      "2  ./text/www.nike.com/www.nike.com_t_air-jordan-...   \n",
      "3  ./text/www.nike.com/www.nike.com_t_jordan-delt...   \n",
      "4  ./text/www.nike.com/www.nike.com_t_court-borou...   \n",
      "\n",
      "                            title   price  \\\n",
      "0          Nike Air Max 90 Toggle  $47.97   \n",
      "1         LeBron Witness 7 (Team)    $105   \n",
      "2             Air Jordan 1 Mid SE  $78.97   \n",
      "3               Jordan Delta 3 SP  $89.97   \n",
      "4  Nike Court Borough Low Recraft     $65   \n",
      "\n",
      "                                              images  \n",
      "0  https://static.nike.com/a/images/t_default/2df...  \n",
      "1  https://static.nike.com/a/images/t_default/a36...  \n",
      "2  https://static.nike.com/a/images/t_default/057...  \n",
      "3  https://static.nike.com/a/images/t_default/62f...  \n",
      "4  https://static.nike.com/a/images/t_default/816...  \n",
      "309\n"
     ]
    }
   ],
   "source": [
    "print(df.head())\n",
    "print(len(df))\n",
    "#df.to_csv(\"scraped.csv\")"
   ]
  },
  {
   "cell_type": "markdown",
   "id": "96098597",
   "metadata": {},
   "source": [
    "Now we have a dataframe row and full page text stored for 309 products. "
   ]
  },
  {
   "cell_type": "markdown",
   "id": "fbc482dc",
   "metadata": {},
   "source": [
    "## Storing data in Pinecone\n",
    "\n",
    "Now that we have all our data, we need to tokenize and embed the text for each product page and then upsert the embedding vectors along with the metadata to Pinecone."
   ]
  },
  {
   "cell_type": "code",
   "execution_count": 7,
   "id": "36429224",
   "metadata": {},
   "outputs": [],
   "source": [
    "#Reading in the text and dataframe and combining them:\n",
    "\n",
    "df = pd.read_csv(\"scraped.csv\")\n",
    "df = df.drop(columns=[\"Unnamed: 0\"])\n",
    "texts = []\n",
    "\n",
    "for index, row in df.iterrows():\n",
    "    path = row[\"writepath\"]\n",
    "    path = path[2:]\n",
    "    with open(path, 'r') as f:\n",
    "        text = f.read()\n",
    "    texts.append(text)\n",
    "\n",
    "df[\"text\"] = texts"
   ]
  },
  {
   "cell_type": "markdown",
   "id": "9dd04670",
   "metadata": {},
   "source": [
    "### Tokenizing the text:\n",
    "Before embedding the text, we split it into chunks of tokens so that our vectors fit Pinecone's size constraints. First, we define some helper functions. I used the tokenizing and chunking functions from the openai-cookbook github repo: https://github.com/openai/openai-cookbook/blob/main/apps/web-crawl-q-and-a/web-qa.ipynb"
   ]
  },
  {
   "cell_type": "code",
   "execution_count": 8,
   "id": "576e2ef3",
   "metadata": {},
   "outputs": [],
   "source": [
    "def split_into_many(text, tokenizer, max_tokens=MAX_TOKENS):\n",
    "    # Split the text into sentences\n",
    "    sentences = text.split('. ')\n",
    "\n",
    "    # Get the number of tokens for each sentence\n",
    "    n_tokens = [len(tokenizer.encode(\" \" + sentence)) for sentence in sentences]\n",
    "\n",
    "    chunks = []\n",
    "    tokens_so_far = 0\n",
    "    chunk = []\n",
    "\n",
    "    # Loop through the sentences and tokens joined together in a tuple\n",
    "    for sentence, token in zip(sentences, n_tokens):\n",
    "\n",
    "        # If the number of tokens so far plus the number of tokens in the current sentence is greater\n",
    "        # than the max number of tokens, then add the chunk to the list of chunks and reset\n",
    "        # the chunk and tokens so far\n",
    "        if tokens_so_far + token > max_tokens:\n",
    "            chunks.append(\". \".join(chunk) + \".\")\n",
    "            chunk = []\n",
    "            tokens_so_far = 0\n",
    "\n",
    "        # If the number of tokens in the current sentence is greater than the max number of\n",
    "        # tokens, go to the next sentence\n",
    "        if token > max_tokens:\n",
    "            continue\n",
    "\n",
    "        # Otherwise, add the sentence to the chunk and add the number of tokens to the total\n",
    "        chunk.append(sentence)\n",
    "        tokens_so_far += token + 1\n",
    "\n",
    "    return chunks\n",
    "\n",
    "# Split text in dataframe into chunks of tokens\n",
    "def split_tokens_df(df, tokenizer, max_tokens=MAX_TOKENS):\n",
    "    shortened = []\n",
    "\n",
    "    # Loop through the dataframe\n",
    "    for row in df.iterrows():\n",
    "\n",
    "        # If the text is None, go to the next row\n",
    "        if row[1]['text'] is None:\n",
    "            continue\n",
    "\n",
    "        # If the number of tokens is greater than the max number of tokens, split the text into chunks\n",
    "        if row[1]['n_tokens'] > max_tokens:\n",
    "            text_chunks = split_into_many(row[1]['text'], tokenizer)\n",
    "            shortened.extend([{'title': row[1]['title'], 'price': row[1]['price'],\n",
    "                              'images': row[1]['images'], 'url': row[1]['url'],\n",
    "                               'text': chunk} for chunk in text_chunks])\n",
    "\n",
    "        # Otherwise, add the text, and metadata to the list of shortened texts\n",
    "        else:\n",
    "            shortened.append({'title': row[1]['title'], 'price': row[1]['price'],\n",
    "                              'images': row[1]['images'], 'url': row[0]['url'], 'text': row[1]['text']})\n",
    "\n",
    "    df = pd.DataFrame(shortened, columns=['title', 'price', 'images', 'url', 'text'])\n",
    "    df['n_tokens'] = df.text.apply(lambda x: len(tokenizer.encode(x)))\n",
    "    return df"
   ]
  },
  {
   "cell_type": "markdown",
   "id": "7b69659c",
   "metadata": {},
   "source": [
    "Now we can use these functions to tokenize and chunk our text:"
   ]
  },
  {
   "cell_type": "code",
   "execution_count": null,
   "id": "311bd982",
   "metadata": {},
   "outputs": [],
   "source": [
    "%pip install tiktoken\n",
    "import tiktoken"
   ]
  },
  {
   "cell_type": "code",
   "execution_count": 11,
   "id": "7189038d",
   "metadata": {},
   "outputs": [],
   "source": [
    "tokenizer = tiktoken.get_encoding(\"cl100k_base\")\n",
    "df['n_tokens'] = df.text.apply(lambda x: len(tokenizer.encode(x)))\n",
    "df = split_tokens_df(df=df, tokenizer=tokenizer)"
   ]
  },
  {
   "cell_type": "markdown",
   "id": "1debbd2a",
   "metadata": {},
   "source": [
    "### Embedding the chunked tokenized text as vectors\n",
    "Now that we have our text as chunks of tokens, we can embed them as vectors. I use OpenAI's ada embedding tool."
   ]
  },
  {
   "cell_type": "code",
   "execution_count": null,
   "id": "89e3b5cd",
   "metadata": {},
   "outputs": [],
   "source": [
    "%pip install openai\n",
    "import openai"
   ]
  },
  {
   "cell_type": "code",
   "execution_count": 16,
   "id": "0817004d",
   "metadata": {},
   "outputs": [],
   "source": [
    "openai.api_key = <MY KEY>"
   ]
  },
  {
   "cell_type": "code",
   "execution_count": 17,
   "id": "d78df24c",
   "metadata": {},
   "outputs": [
    {
     "name": "stdout",
     "output_type": "stream",
     "text": [
      "                     title   price  \\\n",
      "0   Nike Air Max 90 Toggle  $47.97   \n",
      "1   Nike Air Max 90 Toggle  $47.97   \n",
      "2  LeBron Witness 7 (Team)    $105   \n",
      "3  LeBron Witness 7 (Team)    $105   \n",
      "4      Air Jordan 1 Mid SE  $78.97   \n",
      "\n",
      "                                              images  \\\n",
      "0  https://static.nike.com/a/images/t_default/2df...   \n",
      "1  https://static.nike.com/a/images/t_default/2df...   \n",
      "2  https://static.nike.com/a/images/t_default/a36...   \n",
      "3  https://static.nike.com/a/images/t_default/a36...   \n",
      "4  https://static.nike.com/a/images/t_default/057...   \n",
      "\n",
      "                                                 url  \\\n",
      "0  https://www.nike.com/t/air-max-90-toggle-baby-...   \n",
      "1  https://www.nike.com/t/air-max-90-toggle-baby-...   \n",
      "2  https://www.nike.com/t/lebron-witness-7-team-b...   \n",
      "3  https://www.nike.com/t/lebron-witness-7-team-b...   \n",
      "4  https://www.nike.com/t/air-jordan-1-mid-se-big...   \n",
      "\n",
      "                                                text  n_tokens  \\\n",
      "0  Find a Store\\n|\\nHelp\\n|\\nJoin Us\\n|\\nSign In\\...       307   \n",
      "1  Synthetic pieces on the heel and tongue add st...       331   \n",
      "2  Find a Store\\n|\\nHelp\\n|\\nJoin Us\\n|\\nSign In\\...       441   \n",
      "3  A classic herringbone pattern adds durable tra...       426   \n",
      "4  Find a Store\\n|\\nHelp\\n|\\nJoin Us\\n|\\nSign In\\...       273   \n",
      "\n",
      "                                          embeddings  \n",
      "0  [-0.016106130555272102, -0.0064754183404147625...  \n",
      "1  [-0.0018631403800100088, -0.012792213819921017...  \n",
      "2  [-0.008434830233454704, 0.0011455637868493795,...  \n",
      "3  [-0.0024147110525518656, 0.003211177419871092,...  \n",
      "4  [-0.0038967994041740894, -0.006805399432778358...  \n"
     ]
    },
    {
     "data": {
      "text/html": [
       "<div>\n",
       "<style scoped>\n",
       "    .dataframe tbody tr th:only-of-type {\n",
       "        vertical-align: middle;\n",
       "    }\n",
       "\n",
       "    .dataframe tbody tr th {\n",
       "        vertical-align: top;\n",
       "    }\n",
       "\n",
       "    .dataframe thead th {\n",
       "        text-align: right;\n",
       "    }\n",
       "</style>\n",
       "<table border=\"1\" class=\"dataframe\">\n",
       "  <thead>\n",
       "    <tr style=\"text-align: right;\">\n",
       "      <th></th>\n",
       "      <th>title</th>\n",
       "      <th>price</th>\n",
       "      <th>images</th>\n",
       "      <th>url</th>\n",
       "      <th>text</th>\n",
       "      <th>n_tokens</th>\n",
       "      <th>embeddings</th>\n",
       "    </tr>\n",
       "  </thead>\n",
       "  <tbody>\n",
       "    <tr>\n",
       "      <th>0</th>\n",
       "      <td>Nike Air Max 90 Toggle</td>\n",
       "      <td>$47.97</td>\n",
       "      <td>https://static.nike.com/a/images/t_default/2df...</td>\n",
       "      <td>https://www.nike.com/t/air-max-90-toggle-baby-...</td>\n",
       "      <td>Find a Store\\n|\\nHelp\\n|\\nJoin Us\\n|\\nSign In\\...</td>\n",
       "      <td>307</td>\n",
       "      <td>[-0.016106130555272102, -0.0064754183404147625...</td>\n",
       "    </tr>\n",
       "    <tr>\n",
       "      <th>1</th>\n",
       "      <td>Nike Air Max 90 Toggle</td>\n",
       "      <td>$47.97</td>\n",
       "      <td>https://static.nike.com/a/images/t_default/2df...</td>\n",
       "      <td>https://www.nike.com/t/air-max-90-toggle-baby-...</td>\n",
       "      <td>Synthetic pieces on the heel and tongue add st...</td>\n",
       "      <td>331</td>\n",
       "      <td>[-0.0018631403800100088, -0.012792213819921017...</td>\n",
       "    </tr>\n",
       "    <tr>\n",
       "      <th>2</th>\n",
       "      <td>LeBron Witness 7 (Team)</td>\n",
       "      <td>$105</td>\n",
       "      <td>https://static.nike.com/a/images/t_default/a36...</td>\n",
       "      <td>https://www.nike.com/t/lebron-witness-7-team-b...</td>\n",
       "      <td>Find a Store\\n|\\nHelp\\n|\\nJoin Us\\n|\\nSign In\\...</td>\n",
       "      <td>441</td>\n",
       "      <td>[-0.008434830233454704, 0.0011455637868493795,...</td>\n",
       "    </tr>\n",
       "    <tr>\n",
       "      <th>3</th>\n",
       "      <td>LeBron Witness 7 (Team)</td>\n",
       "      <td>$105</td>\n",
       "      <td>https://static.nike.com/a/images/t_default/a36...</td>\n",
       "      <td>https://www.nike.com/t/lebron-witness-7-team-b...</td>\n",
       "      <td>A classic herringbone pattern adds durable tra...</td>\n",
       "      <td>426</td>\n",
       "      <td>[-0.0024147110525518656, 0.003211177419871092,...</td>\n",
       "    </tr>\n",
       "    <tr>\n",
       "      <th>4</th>\n",
       "      <td>Air Jordan 1 Mid SE</td>\n",
       "      <td>$78.97</td>\n",
       "      <td>https://static.nike.com/a/images/t_default/057...</td>\n",
       "      <td>https://www.nike.com/t/air-jordan-1-mid-se-big...</td>\n",
       "      <td>Find a Store\\n|\\nHelp\\n|\\nJoin Us\\n|\\nSign In\\...</td>\n",
       "      <td>273</td>\n",
       "      <td>[-0.0038967994041740894, -0.006805399432778358...</td>\n",
       "    </tr>\n",
       "  </tbody>\n",
       "</table>\n",
       "</div>"
      ],
      "text/plain": [
       "                     title   price  \\\n",
       "0   Nike Air Max 90 Toggle  $47.97   \n",
       "1   Nike Air Max 90 Toggle  $47.97   \n",
       "2  LeBron Witness 7 (Team)    $105   \n",
       "3  LeBron Witness 7 (Team)    $105   \n",
       "4      Air Jordan 1 Mid SE  $78.97   \n",
       "\n",
       "                                              images  \\\n",
       "0  https://static.nike.com/a/images/t_default/2df...   \n",
       "1  https://static.nike.com/a/images/t_default/2df...   \n",
       "2  https://static.nike.com/a/images/t_default/a36...   \n",
       "3  https://static.nike.com/a/images/t_default/a36...   \n",
       "4  https://static.nike.com/a/images/t_default/057...   \n",
       "\n",
       "                                                 url  \\\n",
       "0  https://www.nike.com/t/air-max-90-toggle-baby-...   \n",
       "1  https://www.nike.com/t/air-max-90-toggle-baby-...   \n",
       "2  https://www.nike.com/t/lebron-witness-7-team-b...   \n",
       "3  https://www.nike.com/t/lebron-witness-7-team-b...   \n",
       "4  https://www.nike.com/t/air-jordan-1-mid-se-big...   \n",
       "\n",
       "                                                text  n_tokens  \\\n",
       "0  Find a Store\\n|\\nHelp\\n|\\nJoin Us\\n|\\nSign In\\...       307   \n",
       "1  Synthetic pieces on the heel and tongue add st...       331   \n",
       "2  Find a Store\\n|\\nHelp\\n|\\nJoin Us\\n|\\nSign In\\...       441   \n",
       "3  A classic herringbone pattern adds durable tra...       426   \n",
       "4  Find a Store\\n|\\nHelp\\n|\\nJoin Us\\n|\\nSign In\\...       273   \n",
       "\n",
       "                                          embeddings  \n",
       "0  [-0.016106130555272102, -0.0064754183404147625...  \n",
       "1  [-0.0018631403800100088, -0.012792213819921017...  \n",
       "2  [-0.008434830233454704, 0.0011455637868493795,...  \n",
       "3  [-0.0024147110525518656, 0.003211177419871092,...  \n",
       "4  [-0.0038967994041740894, -0.006805399432778358...  "
      ]
     },
     "execution_count": 17,
     "metadata": {},
     "output_type": "execute_result"
    }
   ],
   "source": [
    "# Create embeddings from the text that has been broken into chunks of tokens\n",
    "def create_df_embeddings(df):\n",
    "    succeeded = False\n",
    "    for i in range(10):\n",
    "        # Sometimes OpenAI randomly throws a server error and tells us to try again\n",
    "        try:\n",
    "            df['embeddings'] = df.text.apply(\n",
    "                lambda x: openai.Embedding.create(input=x, engine='text-embedding-ada-002')['data'][0]['embedding'])\n",
    "        except Exception as e:\n",
    "            #print(e)\n",
    "            continue\n",
    "        else:\n",
    "            succeeded = True\n",
    "            break\n",
    "    if not succeeded:\n",
    "        print(\"Couldn't connect to OpenAI server. Please try again later\")\n",
    "        return df\n",
    "    df.to_csv(\"./processed/embeddings.csv\")\n",
    "    print(df.head())\n",
    "    return df\n",
    "\n",
    "df = create_df_embeddings(df)\n",
    "df.head()"
   ]
  },
  {
   "cell_type": "markdown",
   "id": "c6e0d1a9",
   "metadata": {},
   "source": [
    "### Upserting the vectors to Pinecone\n",
    "Now that we have our vectors, we can use our dataframe to upsert them along with metadata to Pinecone. I used code from this article https://www.mlq.ai/gpt-4-pinecone-website-ai-assistant/ to create the function below:"
   ]
  },
  {
   "cell_type": "code",
   "execution_count": null,
   "id": "dc13026c",
   "metadata": {},
   "outputs": [],
   "source": [
    "%pip install pinecone-client\n",
    "import pinecone\n",
    "from uuid import uuid4\n",
    "from tqdm.auto import tqdm"
   ]
  },
  {
   "cell_type": "code",
   "execution_count": 19,
   "id": "e0af050f",
   "metadata": {},
   "outputs": [],
   "source": [
    "PINECONE_API_ENV=\"us-west1-gcp-free\"\n",
    "PINECONE_API_KEY=<MY KEY>\n",
    "\n",
    "def store_embeddings_pinecone(df, index_name, namespace):\n",
    "    # Add an 'id' column to the DataFrame\n",
    "    df['id'] = [str(uuid4()) for _ in range(len(df))]\n",
    "\n",
    "    # Initialize connection to Pinecone\n",
    "    pinecone.init(api_key=PINECONE_API_KEY, environment=PINECONE_API_ENV)\n",
    "\n",
    "    # Check if index already exists, create it if it doesn't\n",
    "    if index_name not in pinecone.list_indexes():\n",
    "        pinecone.create_index(index_name, dimension=1536, metric='dotproduct')\n",
    "\n",
    "    # Connect to the index\n",
    "    index = pinecone.Index(index_name)\n",
    "\n",
    "    batch_size = 100  # how many embeddings we create and insert at once\n",
    "\n",
    "    # Convert the DataFrame to a list of dictionaries\n",
    "    chunks = df.to_dict(orient='records')\n",
    "\n",
    "    # Upsert embeddings into Pinecone in batches of 100\n",
    "    for i in tqdm(range(0, len(chunks), batch_size)):\n",
    "        i_end = min(len(chunks), i + batch_size)\n",
    "        meta_batch = chunks[i:i_end]\n",
    "        ids_batch = [x['id'] for x in meta_batch]\n",
    "        embeds = [x['embeddings'] for x in meta_batch]\n",
    "        meta_batch = [{\n",
    "            'title': x['title'],\n",
    "            'url': x['url'],\n",
    "            'text': x['text'],\n",
    "            'images': x['images'],\n",
    "            'price':x['price'],\n",
    "        } for x in meta_batch]\n",
    "        to_upsert = list(zip(ids_batch, embeds, meta_batch))\n",
    "        index.upsert(vectors=to_upsert, namespace=namespace)\n",
    "\n",
    "    return index"
   ]
  },
  {
   "cell_type": "code",
   "execution_count": 22,
   "id": "6380c02f",
   "metadata": {},
   "outputs": [
    {
     "data": {
      "application/vnd.jupyter.widget-view+json": {
       "model_id": "e062f3a271ba43d680fa1c88897f916e",
       "version_major": 2,
       "version_minor": 0
      },
      "text/plain": [
       "  0%|          | 0/11 [00:00<?, ?it/s]"
      ]
     },
     "metadata": {},
     "output_type": "display_data"
    },
    {
     "data": {
      "text/plain": [
       "<pinecone.index.Index at 0x7fe8423b5b70>"
      ]
     },
     "execution_count": 22,
     "metadata": {},
     "output_type": "execute_result"
    }
   ],
   "source": [
    "store_embeddings_pinecone(df=df, index_name=\"websites\", namespace=\"nike\")"
   ]
  },
  {
   "cell_type": "markdown",
   "id": "400a7d07",
   "metadata": {},
   "source": [
    "## Querying Pinecone\n",
    "Now that we have all our data in Pinecone, we can use vector similarity to search for the product that best matches the customer's query. To do this, we also have to embed the query.\n",
    "\n",
    "Below, I have defined a function that embeds a given query and performs similarity search to get the top matching product. Then it appends the matching text context and product title to the query and returns this along with the url, image, and price.  "
   ]
  },
  {
   "cell_type": "code",
   "execution_count": 48,
   "id": "c30e5a8c",
   "metadata": {},
   "outputs": [],
   "source": [
    "def create_query_with_pinecone_context(index_name, namespace, query):\n",
    "    embed_query = openai.Embedding.create(\n",
    "        input=query,\n",
    "        engine=EMBED_MODEL\n",
    "    )\n",
    "    query_embeds = embed_query['data'][0]['embedding']\n",
    "\n",
    "    # Initialize connection to Pinecone\n",
    "    pinecone.init(api_key=PINECONE_API_KEY, environment=PINECONE_API_ENV)\n",
    "    index = pinecone.Index(index_name)\n",
    "\n",
    "    # Get top matching result from pinecone along with the metadata (text, title, image, url, price)\n",
    "    response = index.query(query_embeds, top_k=1, include_metadata=True, namespace=namespace)\n",
    "\n",
    "    # Get all metadata\n",
    "    contexts = [item['metadata']['text'] for item in response['matches']][0]\n",
    "    title = [item['metadata']['title'] for item in response['matches']][0]\n",
    "    image = [item['metadata']['images'] for item in response['matches']][0]\n",
    "    url = [item['metadata']['url'] for item in response['matches']][0]\n",
    "    price = [item['metadata']['price'] for item in response['matches']][0]\n",
    "\n",
    "    # Combine the original query with the text context and the name of the product\n",
    "    augmented_query = f\"\"\"\n",
    "    CONTEXT: {contexts}\n",
    "    PRODUCT TITLE: {title}\n",
    "    PRICE: {price}\n",
    "\"\"\"\n",
    "    augmented_query = augmented_query + query\n",
    "\n",
    "    # Return the augmented query with the metadata we want to present to the user\n",
    "    return augmented_query, url, image, price"
   ]
  },
  {
   "cell_type": "markdown",
   "id": "2aea41d8",
   "metadata": {},
   "source": [
    "Let's out try a query a customer might ask and see what context is returned"
   ]
  },
  {
   "cell_type": "code",
   "execution_count": 28,
   "id": "8af595db",
   "metadata": {},
   "outputs": [
    {
     "name": "stdout",
     "output_type": "stream",
     "text": [
      "\n",
      "    CONTEXT: A waterproof layer paired with a higher ankle gaiter gives you extra coverage so you stay dry.\n",
      "Shown: Diffused Taupe/Dark Pony/Sail/Picante Red\n",
      "Style: DJ7929-200\n",
      "View Product Details\n",
      "Size & Fit\n",
      "Shipping & Returns\n",
      "\n",
      "Reviews (92)\n",
      "4.5 Stars\n",
      "Write a Review\n",
      "Really tight shoe\n",
      "tracyville - Jun 25, 2023\n",
      "As nice as this shoe is it really hurts my feet no matter how thin of a sock I put on and o yea lies about it being waterproof because I wore them to workout with my sauna suit and the sweat had the shoe drenched 😒foo\n",
      "...\n",
      "More\n",
      "Very Comfy.\n",
      "ScreenName829363571 - Jun 24, 2023\n",
      "Very comfy even if just for every day use.\n",
      "Truly amazing and so light!\n",
      "Giovanna155249306 - Jun 16, 2023\n",
      "This shoes are truly amazing! They keep your feet dry and comfortable after a long day.\n",
      "    PRODUCT TITLE: Nike Pegasus Trail 4 GORE-TEX\n",
      "What's a nice looking women's shoe that's versatile for multiple activites?\n"
     ]
    }
   ],
   "source": [
    "query = \"What's a nice looking women's shoe that's versatile for multiple activites?\"\n",
    "augmented_query, _, _, _ = create_query_with_pinecone_context(index_name=\"websites\", namespace=\"nike\", query=query)\n",
    "print(augmented_query)"
   ]
  },
  {
   "cell_type": "markdown",
   "id": "a6bb5fad",
   "metadata": {},
   "source": [
    "We can see that it returned some context about style (colors available), comfort, and activities. It was able to access information from both the product description and the reviews to provide a wholistic reccommendation for the product. "
   ]
  },
  {
   "cell_type": "markdown",
   "id": "1c0a3663",
   "metadata": {},
   "source": [
    "### Generating Sales Messages\n",
    "Now that we can query pinecone for the top matching product, we can pass in the context and metadata we get from pinecone to GPT to create a product reccommendation tailored to a user's needs the way a human sales representative would. I have defined a helper function for generation below using GPT3.5-turbo."
   ]
  },
  {
   "cell_type": "code",
   "execution_count": 30,
   "id": "edbddf1b",
   "metadata": {},
   "outputs": [],
   "source": [
    "def generate(augmented_query, system_msg):\n",
    "    chat = openai.ChatCompletion.create(\n",
    "        model=\"gpt-3.5-turbo\",\n",
    "        messages=[\n",
    "            {\"role\": \"system\", \"content\": system_msg},\n",
    "            {\"role\": \"user\", \"content\": augmented_query}\n",
    "        ]\n",
    "    )\n",
    "    result = chat['choices'][0]['message']['content']\n",
    "    return result"
   ]
  },
  {
   "cell_type": "markdown",
   "id": "259b85a9",
   "metadata": {},
   "source": [
    "An import aspect of using pre-trained models like GPT for generation is the system message. The system message tells the model what role to take and how to respond to a query. For use-cases like these, it is important to be concise, tell it to act as a human and to explain its reasoning."
   ]
  },
  {
   "cell_type": "code",
   "execution_count": 44,
   "id": "4ccd6195",
   "metadata": {},
   "outputs": [],
   "source": [
    "system_msg = f\"\"\"You are a Nike sales representative. \n",
    "    Given the pre-determined recommended shoe data, present it to the customer, \n",
    "    explaining why the shoe fits the customer's query.\"\"\""
   ]
  },
  {
   "cell_type": "markdown",
   "id": "849ede94",
   "metadata": {},
   "source": [
    "Now we are ready to try out some examples"
   ]
  },
  {
   "cell_type": "code",
   "execution_count": 46,
   "id": "11dc06f5",
   "metadata": {},
   "outputs": [
    {
     "name": "stdout",
     "output_type": "stream",
     "text": [
      "Based on your query, I would recommend the Air Jordan 12 Low golf shoes. These shoes are not only perfect for golfing but also provide great comfort for walking around on campus.\n",
      "\n",
      "One of the key features of the Air Jordan 12 Low is its comfort. According to the reviews, these shoes are rated as \"Very Comfortable\" by customers who have worn them. Additionally, the size of these shoes has been reported to be \"Just Right\" by 50% of the reviewers, indicating a good fit for most people.\n",
      "\n",
      "In terms of durability, the Air Jordan 12 Low is rated as \"Very Durable\" by the majority of customers. This means you can expect these shoes to hold up well even with regular use on the golf course and around campus.\n",
      "\n",
      "Not only do these shoes offer comfort and durability, but they also have a stylish retro Jordan design. So, you can be sure to make a fashion statement while wearing them.\n",
      "\n",
      "In summary, the Air Jordan 12 Low golf shoes are a perfect choice for both golfing and walking around on campus. With their excellent comfort, durability, and stylish design, they will provide you with all the features you need for your activities.\n",
      "price: $220 link: https://www.nike.com/t/air-jordan-12-low-golf-shoes-0fSmzT/DH4120-101 image: https://static.nike.com/a/images/t_default/7d757c87-87a5-4e15-a3c4-29587b526fb9/air-jordan-12-low-golf-shoes-0fSmzT.png\n"
     ]
    }
   ],
   "source": [
    "query = \"Recommend me a shoe that I can golf in and is also comfortable for walking around on campus\"\n",
    "\n",
    "augmented_query, url, image, price = create_query_with_pinecone_context(index_name=\"websites\", namespace=\"nike\", query=query)\n",
    "\n",
    "response = generate(augmented_query, system_msg)\n",
    "response += '\\n' + \"price: \" + price + \" link: \" + url + \" image: \" + image\n",
    "print(response)"
   ]
  },
  {
   "cell_type": "markdown",
   "id": "24d65ce5",
   "metadata": {},
   "source": [
    "Given the pinecone context with reviews included, the model was able to return an excellent recommendation and explain how it fits the customer's query. Customers tend to trust reviews of other customers, so the model being able to access and summarize these reviews would really help to boost sales.\n",
    "\n",
    "The next two questions also highlight the quality of model response when it has access to both product descriptions and reviews."
   ]
  },
  {
   "cell_type": "code",
   "execution_count": 47,
   "id": "111e4105",
   "metadata": {},
   "outputs": [
    {
     "name": "stdout",
     "output_type": "stream",
     "text": [
      "I recommend the Nike Pegasus Trail 4 GORE-TEX shoe for your needs. This shoe is not only stylish but also versatile for multiple activities. It features a waterproof layer and a higher ankle gaiter, providing extra coverage to keep you dry. The shoe is designed to be comfortable and lightweight, making it suitable for everyday use. Additionally, it has received positive reviews from customers, with many praising its comfort and ability to keep feet dry. With its combination of style and functionality, the Nike Pegasus Trail 4 GORE-TEX is a great choice for any activity.\n",
      "price: $160 link: https://www.nike.com/t/pegasus-trail-4-gore-tex-womens-waterproof-trail-running-shoes-9knDsQ/DJ7929-200 image: https://static.nike.com/a/images/t_default/58d8ea1d-6afe-469b-b481-235fb8b4e0a5/pegasus-trail-4-gore-tex-womens-waterproof-trail-running-shoes-9knDsQ.png\n"
     ]
    }
   ],
   "source": [
    "query = \"What's a nice looking women's shoe that's versatile for multiple activites?\"\n",
    "\n",
    "augmented_query, url, image, price = create_query_with_pinecone_context(index_name=\"websites\", namespace=\"nike\", query=query)\n",
    "\n",
    "response = generate(augmented_query, system_msg)\n",
    "response += '\\n' + \"price: \" + price + \" link: \" + url + \" image: \" + image\n",
    "print(response)"
   ]
  },
  {
   "cell_type": "code",
   "execution_count": 50,
   "id": "e76fabca",
   "metadata": {},
   "outputs": [
    {
     "name": "stdout",
     "output_type": "stream",
     "text": [
      "Based on your request for a decent men's running shoe under $150 in size 7, I would recommend the Nike Tanjun. \n",
      "\n",
      "The Nike Tanjun is a versatile and affordable running shoe that offers great value for its price. It features a lightweight design, making it comfortable to wear for long distance runs. Additionally, it has a simple and plain look that is both stylish and timeless. \n",
      "\n",
      "Priced at $70, the Nike Tanjun is well within your budget of under $150. It is a popular choice among runners and has received positive reviews for its comfort and durability. While it may not have as many color options as you may desire, it still offers a reliable and high-quality performance.\n",
      "\n",
      "I believe the Nike Tanjun would be a suitable choice for your running needs, providing you with comfort, durability, and affordability.\n",
      "price: $70 link: https://www.nike.com/t/tanjun-mens-shoes-jQ3z1W/DJ6258-100 image: https://static.nike.com/a/images/t_default/6310e9a6-9cab-46fb-834d-06b2ea2967fb/tanjun-mens-shoes-jQ3z1W.png\n"
     ]
    }
   ],
   "source": [
    "query = \"What's a decent men's running shoe under $150 that carries size 7?\"\n",
    "\n",
    "augmented_query, url, image, price = create_query_with_pinecone_context(index_name=\"websites\", namespace=\"nike\", query=query)\n",
    "\n",
    "response = generate(augmented_query, system_msg)\n",
    "response += '\\n' + \"price: \" + price + \" link: \" + url + \" image: \" + image\n",
    "print(response)"
   ]
  },
  {
   "cell_type": "code",
   "execution_count": 51,
   "id": "0859fbba",
   "metadata": {},
   "outputs": [
    {
     "name": "stdout",
     "output_type": "stream",
     "text": [
      "Thank you for reaching out! While I understand you're looking for an Adidas shoe for hiking, as a Nike sales representative, I can recommend some Nike shoes that can be suitable for your hiking needs.\n",
      "\n",
      "Based on your feedback regarding the Nike Zegama, it seems like you prioritize comfort, cushioning, and a secure fit. With that in mind, I'd recommend the Nike Air Zoom Pegasus 38 Trail shoe. This shoe is designed specifically for trail running, making it a great option for hiking as well.\n",
      "\n",
      "The Nike Air Zoom Pegasus 38 Trail offers a plush and cushioned feel, similar to what you liked about the heel of the Nike Zegama. It features Nike's renowned Zoom Air technology in the forefoot for responsive cushioning and a comfortable stride. The shoe also has a more durable and rugged outsole with multi-directional lugs, providing excellent traction on various terrains, including trails.\n",
      "\n",
      "Additionally, the Nike Air Zoom Pegasus 38 Trail incorporates an improved lacing system for better lockdown, addressing your concern about the lacing feeling sloppy. The fit is reliable, providing a secure yet comfortable feel without being too tight or loose.\n",
      "\n",
      "While Adidas offers excellent hiking shoes as well, I believe the Nike Air Zoom Pegasus 38 Trail can meet your needs based on your preferences and positive experience with Nike footwear. It's important to consider the features that are crucial for your hiking adventures, such as cushioning, stability, and grip, and the Nike Air Zoom Pegasus 38 Trail offers these qualities while being a versatile option for both running and hiking.\n",
      "\n",
      "Please let me know if you have any further questions or if there's anything else I can assist you with!\n",
      "price: $95.97 link: https://www.nike.com/t/zegama-mens-trail-running-shoes-1t400b/DH0623-002 image: https://static.nike.com/a/images/t_default/b94609b3-e292-45e6-b422-0472bbb1f916/zegama-mens-trail-running-shoes-1t400b.png\n"
     ]
    }
   ],
   "source": [
    "query = \"Can you recommend me a good adidas shoe for hiking?\"\n",
    "\n",
    "augmented_query, url, image, price = create_query_with_pinecone_context(index_name=\"websites\", namespace=\"nike\", query=query)\n",
    "\n",
    "response = generate(augmented_query, system_msg)\n",
    "response += '\\n' + \"price: \" + price + \" link: \" + url + \" image: \" + image\n",
    "print(response)"
   ]
  },
  {
   "cell_type": "markdown",
   "id": "d639a551",
   "metadata": {},
   "source": [
    "Out of confusion or wanting to test its limits, a customer might ask a chatbot about products from another company. A quality response is given for the model - instead of saying it doesn't have knowledge of Adidas products, the model instead provides a Nike recommendation."
   ]
  },
  {
   "cell_type": "markdown",
   "id": "9c6a2c2d",
   "metadata": {},
   "source": [
    "## What's next?\n",
    "1.) Short Term Memory: A great sales chatbot should also utilize conversation memory so that customers can have a back and forth conversation. When given a recommendation, the customer will naturally want to ask more questions. What colors does it come in? What are the pros and cons of the product? How does it compare to another product?\n",
    "\n",
    "2.) Multiple product recommendations: Customers generally want 2-4 recommendations at once so that they can compare and contrast to be assured their final purchase is really the best product for them. "
   ]
  },
  {
   "cell_type": "markdown",
   "id": "21aeed47",
   "metadata": {},
   "source": [
    "## References:\n",
    "1.) Open AI Cookbook Web Crawl: https://github.com/openai/openai-cookbook/blob/main/apps/web-crawl-q-and-a/web-qa.ipynb\n",
    "\n",
    "2.) MLQ GPT-4 & Pinecone: https://www.mlq.ai/gpt-4-pinecone-website-ai-assistant/\n",
    "\n",
    "3.) Pinecone Examples - Langchain Retreival: https://github.com/pinecone-io/examples/blob/master/generation/gpt4-retrieval-augmentation/gpt-4-langchain-docs.ipynb?ref=mlq.ai\n"
   ]
  },
  {
   "cell_type": "code",
   "execution_count": null,
   "id": "2537af43",
   "metadata": {},
   "outputs": [],
   "source": []
  }
 ],
 "metadata": {
  "kernelspec": {
   "display_name": "Python 3 (ipykernel)",
   "language": "python",
   "name": "python3"
  },
  "language_info": {
   "codemirror_mode": {
    "name": "ipython",
    "version": 3
   },
   "file_extension": ".py",
   "mimetype": "text/x-python",
   "name": "python",
   "nbconvert_exporter": "python",
   "pygments_lexer": "ipython3",
   "version": "3.10.11"
  }
 },
 "nbformat": 4,
 "nbformat_minor": 5
}
